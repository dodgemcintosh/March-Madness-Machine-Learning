{
 "cells": [
  {
   "cell_type": "markdown",
   "metadata": {
    "collapsed": true
   },
   "source": [
    "<h1><center> || March Madness Notebook || </center></h1>"
   ]
  },
  {
   "cell_type": "markdown",
   "metadata": {},
   "source": [
    "## Importing the necessary libraries"
   ]
  },
  {
   "cell_type": "code",
   "execution_count": 278,
   "metadata": {},
   "outputs": [],
   "source": [
    "import pandas as pd\n",
    "import numpy as np\n",
    "import matplotlib.pyplot as plt\n",
    "import seaborn as sns\n",
    "\n",
    "from sklearn.preprocessing import StandardScaler\n",
    "from sklearn.linear_model import LogisticRegression\n",
    "from sklearn.model_selection import train_test_split\n",
    "from sklearn.ensemble import RandomForestClassifier, ExtraTreesClassifier\n",
    "from sklearn.model_selection import GridSearchCV, RandomizedSearchCV\n",
    "from sklearn.utils import shuffle\n",
    "\n",
    "%matplotlib inline\n",
    "sns.set_style('darkgrid')"
   ]
  },
  {
   "cell_type": "markdown",
   "metadata": {},
   "source": [
    "## Poking around to see what we have"
   ]
  },
  {
   "cell_type": "code",
   "execution_count": 279,
   "metadata": {},
   "outputs": [
    {
     "data": {
      "text/html": [
       "<div>\n",
       "<style>\n",
       "    .dataframe thead tr:only-child th {\n",
       "        text-align: right;\n",
       "    }\n",
       "\n",
       "    .dataframe thead th {\n",
       "        text-align: left;\n",
       "    }\n",
       "\n",
       "    .dataframe tbody tr th {\n",
       "        vertical-align: top;\n",
       "    }\n",
       "</style>\n",
       "<table border=\"1\" class=\"dataframe\">\n",
       "  <thead>\n",
       "    <tr style=\"text-align: right;\">\n",
       "      <th></th>\n",
       "      <th>ID</th>\n",
       "      <th>Pred</th>\n",
       "    </tr>\n",
       "  </thead>\n",
       "  <tbody>\n",
       "    <tr>\n",
       "      <th>0</th>\n",
       "      <td>2014_1107_1110</td>\n",
       "      <td>0.5</td>\n",
       "    </tr>\n",
       "    <tr>\n",
       "      <th>1</th>\n",
       "      <td>2014_1107_1112</td>\n",
       "      <td>0.5</td>\n",
       "    </tr>\n",
       "    <tr>\n",
       "      <th>2</th>\n",
       "      <td>2014_1107_1113</td>\n",
       "      <td>0.5</td>\n",
       "    </tr>\n",
       "  </tbody>\n",
       "</table>\n",
       "</div>"
      ],
      "text/plain": [
       "               ID  Pred\n",
       "0  2014_1107_1110   0.5\n",
       "1  2014_1107_1112   0.5\n",
       "2  2014_1107_1113   0.5"
      ]
     },
     "execution_count": 279,
     "metadata": {},
     "output_type": "execute_result"
    }
   ],
   "source": [
    "sample_sub = pd.read_csv('../Datasets/SampleSubmissionStage1.csv')\n",
    "sample_sub.head(3)"
   ]
  },
  {
   "cell_type": "markdown",
   "metadata": {},
   "source": [
    "So in 2014, team 1107 has 50% chance of beating 1110"
   ]
  },
  {
   "cell_type": "code",
   "execution_count": 280,
   "metadata": {},
   "outputs": [
    {
     "data": {
      "text/html": [
       "<div>\n",
       "<style>\n",
       "    .dataframe thead tr:only-child th {\n",
       "        text-align: right;\n",
       "    }\n",
       "\n",
       "    .dataframe thead th {\n",
       "        text-align: left;\n",
       "    }\n",
       "\n",
       "    .dataframe tbody tr th {\n",
       "        vertical-align: top;\n",
       "    }\n",
       "</style>\n",
       "<table border=\"1\" class=\"dataframe\">\n",
       "  <thead>\n",
       "    <tr style=\"text-align: right;\">\n",
       "      <th></th>\n",
       "      <th>TeamID</th>\n",
       "      <th>TeamName</th>\n",
       "      <th>FirstD1Season</th>\n",
       "      <th>LastD1Season</th>\n",
       "    </tr>\n",
       "  </thead>\n",
       "  <tbody>\n",
       "    <tr>\n",
       "      <th>0</th>\n",
       "      <td>1101</td>\n",
       "      <td>Abilene Chr</td>\n",
       "      <td>2014</td>\n",
       "      <td>2018</td>\n",
       "    </tr>\n",
       "    <tr>\n",
       "      <th>1</th>\n",
       "      <td>1102</td>\n",
       "      <td>Air Force</td>\n",
       "      <td>1985</td>\n",
       "      <td>2018</td>\n",
       "    </tr>\n",
       "    <tr>\n",
       "      <th>2</th>\n",
       "      <td>1103</td>\n",
       "      <td>Akron</td>\n",
       "      <td>1985</td>\n",
       "      <td>2018</td>\n",
       "    </tr>\n",
       "    <tr>\n",
       "      <th>3</th>\n",
       "      <td>1104</td>\n",
       "      <td>Alabama</td>\n",
       "      <td>1985</td>\n",
       "      <td>2018</td>\n",
       "    </tr>\n",
       "    <tr>\n",
       "      <th>4</th>\n",
       "      <td>1105</td>\n",
       "      <td>Alabama A&amp;M</td>\n",
       "      <td>2000</td>\n",
       "      <td>2018</td>\n",
       "    </tr>\n",
       "  </tbody>\n",
       "</table>\n",
       "</div>"
      ],
      "text/plain": [
       "   TeamID     TeamName  FirstD1Season  LastD1Season\n",
       "0    1101  Abilene Chr           2014          2018\n",
       "1    1102    Air Force           1985          2018\n",
       "2    1103        Akron           1985          2018\n",
       "3    1104      Alabama           1985          2018\n",
       "4    1105  Alabama A&M           2000          2018"
      ]
     },
     "execution_count": 280,
     "metadata": {},
     "output_type": "execute_result"
    }
   ],
   "source": [
    "teams = pd.read_csv('../Datasets/DataFiles/Teams.csv')\n",
    "teams.head(5)"
   ]
  },
  {
   "cell_type": "code",
   "execution_count": 281,
   "metadata": {},
   "outputs": [
    {
     "data": {
      "text/html": [
       "<div>\n",
       "<style>\n",
       "    .dataframe thead tr:only-child th {\n",
       "        text-align: right;\n",
       "    }\n",
       "\n",
       "    .dataframe thead th {\n",
       "        text-align: left;\n",
       "    }\n",
       "\n",
       "    .dataframe tbody tr th {\n",
       "        vertical-align: top;\n",
       "    }\n",
       "</style>\n",
       "<table border=\"1\" class=\"dataframe\">\n",
       "  <thead>\n",
       "    <tr style=\"text-align: right;\">\n",
       "      <th></th>\n",
       "      <th>Season</th>\n",
       "      <th>Slot</th>\n",
       "      <th>StrongSeed</th>\n",
       "      <th>WeakSeed</th>\n",
       "    </tr>\n",
       "  </thead>\n",
       "  <tbody>\n",
       "    <tr>\n",
       "      <th>0</th>\n",
       "      <td>1985</td>\n",
       "      <td>R1W1</td>\n",
       "      <td>W01</td>\n",
       "      <td>W16</td>\n",
       "    </tr>\n",
       "    <tr>\n",
       "      <th>1</th>\n",
       "      <td>1985</td>\n",
       "      <td>R1W2</td>\n",
       "      <td>W02</td>\n",
       "      <td>W15</td>\n",
       "    </tr>\n",
       "    <tr>\n",
       "      <th>2</th>\n",
       "      <td>1985</td>\n",
       "      <td>R1W3</td>\n",
       "      <td>W03</td>\n",
       "      <td>W14</td>\n",
       "    </tr>\n",
       "  </tbody>\n",
       "</table>\n",
       "</div>"
      ],
      "text/plain": [
       "   Season  Slot StrongSeed WeakSeed\n",
       "0    1985  R1W1        W01      W16\n",
       "1    1985  R1W2        W02      W15\n",
       "2    1985  R1W3        W03      W14"
      ]
     },
     "execution_count": 281,
     "metadata": {},
     "output_type": "execute_result"
    }
   ],
   "source": [
    "slots = pd.read_csv('Stage2UpdatedDataFiles/NCAATourneySlots.csv')\n",
    "slots.head(3)"
   ]
  },
  {
   "cell_type": "markdown",
   "metadata": {},
   "source": [
    "#### **Ok, think I want to know what direction I want to take this in.**"
   ]
  },
  {
   "cell_type": "code",
   "execution_count": 282,
   "metadata": {
    "scrolled": true
   },
   "outputs": [
    {
     "data": {
      "text/html": [
       "<div>\n",
       "<style>\n",
       "    .dataframe thead tr:only-child th {\n",
       "        text-align: right;\n",
       "    }\n",
       "\n",
       "    .dataframe thead th {\n",
       "        text-align: left;\n",
       "    }\n",
       "\n",
       "    .dataframe tbody tr th {\n",
       "        vertical-align: top;\n",
       "    }\n",
       "</style>\n",
       "<table border=\"1\" class=\"dataframe\">\n",
       "  <thead>\n",
       "    <tr style=\"text-align: right;\">\n",
       "      <th></th>\n",
       "      <th>Season</th>\n",
       "      <th>DayNum</th>\n",
       "      <th>WTeamID</th>\n",
       "      <th>WScore</th>\n",
       "      <th>LTeamID</th>\n",
       "      <th>LScore</th>\n",
       "      <th>WLoc</th>\n",
       "      <th>NumOT</th>\n",
       "      <th>WFGM</th>\n",
       "      <th>WFGA</th>\n",
       "      <th>...</th>\n",
       "      <th>LFGA3</th>\n",
       "      <th>LFTM</th>\n",
       "      <th>LFTA</th>\n",
       "      <th>LOR</th>\n",
       "      <th>LDR</th>\n",
       "      <th>LAst</th>\n",
       "      <th>LTO</th>\n",
       "      <th>LStl</th>\n",
       "      <th>LBlk</th>\n",
       "      <th>LPF</th>\n",
       "    </tr>\n",
       "  </thead>\n",
       "  <tbody>\n",
       "    <tr>\n",
       "      <th>0</th>\n",
       "      <td>2003</td>\n",
       "      <td>10</td>\n",
       "      <td>1104</td>\n",
       "      <td>68</td>\n",
       "      <td>1328</td>\n",
       "      <td>62</td>\n",
       "      <td>N</td>\n",
       "      <td>0</td>\n",
       "      <td>27</td>\n",
       "      <td>58</td>\n",
       "      <td>...</td>\n",
       "      <td>10</td>\n",
       "      <td>16</td>\n",
       "      <td>22</td>\n",
       "      <td>10</td>\n",
       "      <td>22</td>\n",
       "      <td>8</td>\n",
       "      <td>18</td>\n",
       "      <td>9</td>\n",
       "      <td>2</td>\n",
       "      <td>20</td>\n",
       "    </tr>\n",
       "    <tr>\n",
       "      <th>1</th>\n",
       "      <td>2003</td>\n",
       "      <td>10</td>\n",
       "      <td>1272</td>\n",
       "      <td>70</td>\n",
       "      <td>1393</td>\n",
       "      <td>63</td>\n",
       "      <td>N</td>\n",
       "      <td>0</td>\n",
       "      <td>26</td>\n",
       "      <td>62</td>\n",
       "      <td>...</td>\n",
       "      <td>24</td>\n",
       "      <td>9</td>\n",
       "      <td>20</td>\n",
       "      <td>20</td>\n",
       "      <td>25</td>\n",
       "      <td>7</td>\n",
       "      <td>12</td>\n",
       "      <td>8</td>\n",
       "      <td>6</td>\n",
       "      <td>16</td>\n",
       "    </tr>\n",
       "    <tr>\n",
       "      <th>2</th>\n",
       "      <td>2003</td>\n",
       "      <td>11</td>\n",
       "      <td>1266</td>\n",
       "      <td>73</td>\n",
       "      <td>1437</td>\n",
       "      <td>61</td>\n",
       "      <td>N</td>\n",
       "      <td>0</td>\n",
       "      <td>24</td>\n",
       "      <td>58</td>\n",
       "      <td>...</td>\n",
       "      <td>26</td>\n",
       "      <td>14</td>\n",
       "      <td>23</td>\n",
       "      <td>31</td>\n",
       "      <td>22</td>\n",
       "      <td>9</td>\n",
       "      <td>12</td>\n",
       "      <td>2</td>\n",
       "      <td>5</td>\n",
       "      <td>23</td>\n",
       "    </tr>\n",
       "  </tbody>\n",
       "</table>\n",
       "<p>3 rows × 34 columns</p>\n",
       "</div>"
      ],
      "text/plain": [
       "   Season  DayNum  WTeamID  WScore  LTeamID  LScore WLoc  NumOT  WFGM  WFGA  \\\n",
       "0    2003      10     1104      68     1328      62    N      0    27    58   \n",
       "1    2003      10     1272      70     1393      63    N      0    26    62   \n",
       "2    2003      11     1266      73     1437      61    N      0    24    58   \n",
       "\n",
       "  ...   LFGA3  LFTM  LFTA  LOR  LDR  LAst  LTO  LStl  LBlk  LPF  \n",
       "0 ...      10    16    22   10   22     8   18     9     2   20  \n",
       "1 ...      24     9    20   20   25     7   12     8     6   16  \n",
       "2 ...      26    14    23   31   22     9   12     2     5   23  \n",
       "\n",
       "[3 rows x 34 columns]"
      ]
     },
     "execution_count": 282,
     "metadata": {},
     "output_type": "execute_result"
    }
   ],
   "source": [
    "detailed = pd.read_csv('Stage2UpdatedDataFiles/RegularSeasonDetailedResults.csv')\n",
    "detailed.head(3)"
   ]
  },
  {
   "cell_type": "code",
   "execution_count": 283,
   "metadata": {},
   "outputs": [
    {
     "data": {
      "text/plain": [
       "Index(['Season', 'DayNum', 'WTeamID', 'WScore', 'LTeamID', 'LScore', 'WLoc',\n",
       "       'NumOT', 'WFGM', 'WFGA', 'WFGM3', 'WFGA3', 'WFTM', 'WFTA', 'WOR', 'WDR',\n",
       "       'WAst', 'WTO', 'WStl', 'WBlk', 'WPF', 'LFGM', 'LFGA', 'LFGM3', 'LFGA3',\n",
       "       'LFTM', 'LFTA', 'LOR', 'LDR', 'LAst', 'LTO', 'LStl', 'LBlk', 'LPF'],\n",
       "      dtype='object')"
      ]
     },
     "execution_count": 283,
     "metadata": {},
     "output_type": "execute_result"
    }
   ],
   "source": [
    "detailed.columns"
   ]
  },
  {
   "cell_type": "markdown",
   "metadata": {},
   "source": [
    "All of the columns with 'W' correspond to the winning team's stat in that category and likewise for all columns with 'L' and the losing team.\n",
    "\n",
    "- WFGM - field goals made (by the winning team)\n",
    "- WFGA - field goals attempted (by the winning team)\n",
    "- WFGM3 - three pointers made (by the winning team)\n",
    "- WFGA3 - three pointers attempted (by the winning team)\n",
    "- WFTM - free throws made (by the winning team)\n",
    "- WFTA - free throws attempted (by the winning team)\n",
    "- WOR - offensive rebounds (pulled by the winning team)\n",
    "- WDR - defensive rebounds (pulled by the winning team)\n",
    "- WAst - assists (by the winning team)\n",
    "- WTO - turnovers committed (by the winning team)\n",
    "- WStl - steals (accomplished by the winning team)\n",
    "- WBlk - blocks (accomplished by the winning team)\n",
    "- WPF - personal fouls committed (by the winning team)"
   ]
  },
  {
   "cell_type": "markdown",
   "metadata": {},
   "source": [
    "Ultimately I'm actually going to drop all the seasons from before 2006. 2006 was when the \"one-and-done\" rule was implemented and the game changed significantly after.\n",
    "\n",
    "Plus some of the biggest upsets in tournament history have been in 2006 - current, so there may be something to learn from those seasons."
   ]
  },
  {
   "cell_type": "markdown",
   "metadata": {},
   "source": [
    "#### Strategy pivot: Going to be digging only into this season's stats since I believe that the turnover rate is high enough in NCAA basketball that each season now is basically an independent event."
   ]
  },
  {
   "cell_type": "code",
   "execution_count": 284,
   "metadata": {},
   "outputs": [
    {
     "data": {
      "text/html": [
       "<div>\n",
       "<style>\n",
       "    .dataframe thead tr:only-child th {\n",
       "        text-align: right;\n",
       "    }\n",
       "\n",
       "    .dataframe thead th {\n",
       "        text-align: left;\n",
       "    }\n",
       "\n",
       "    .dataframe tbody tr th {\n",
       "        vertical-align: top;\n",
       "    }\n",
       "</style>\n",
       "<table border=\"1\" class=\"dataframe\">\n",
       "  <thead>\n",
       "    <tr style=\"text-align: right;\">\n",
       "      <th></th>\n",
       "      <th>Season</th>\n",
       "      <th>DayNum</th>\n",
       "      <th>WTeamID</th>\n",
       "      <th>WScore</th>\n",
       "      <th>LTeamID</th>\n",
       "      <th>LScore</th>\n",
       "      <th>WLoc</th>\n",
       "      <th>NumOT</th>\n",
       "      <th>WFGM</th>\n",
       "      <th>WFGA</th>\n",
       "      <th>...</th>\n",
       "      <th>LFGA3</th>\n",
       "      <th>LFTM</th>\n",
       "      <th>LFTA</th>\n",
       "      <th>LOR</th>\n",
       "      <th>LDR</th>\n",
       "      <th>LAst</th>\n",
       "      <th>LTO</th>\n",
       "      <th>LStl</th>\n",
       "      <th>LBlk</th>\n",
       "      <th>LPF</th>\n",
       "    </tr>\n",
       "  </thead>\n",
       "  <tbody>\n",
       "    <tr>\n",
       "      <th>76636</th>\n",
       "      <td>2018</td>\n",
       "      <td>11</td>\n",
       "      <td>1104</td>\n",
       "      <td>82</td>\n",
       "      <td>1272</td>\n",
       "      <td>70</td>\n",
       "      <td>N</td>\n",
       "      <td>0</td>\n",
       "      <td>26</td>\n",
       "      <td>57</td>\n",
       "      <td>...</td>\n",
       "      <td>17</td>\n",
       "      <td>22</td>\n",
       "      <td>36</td>\n",
       "      <td>19</td>\n",
       "      <td>24</td>\n",
       "      <td>7</td>\n",
       "      <td>17</td>\n",
       "      <td>7</td>\n",
       "      <td>3</td>\n",
       "      <td>22</td>\n",
       "    </tr>\n",
       "    <tr>\n",
       "      <th>76637</th>\n",
       "      <td>2018</td>\n",
       "      <td>11</td>\n",
       "      <td>1107</td>\n",
       "      <td>69</td>\n",
       "      <td>1233</td>\n",
       "      <td>67</td>\n",
       "      <td>H</td>\n",
       "      <td>0</td>\n",
       "      <td>24</td>\n",
       "      <td>62</td>\n",
       "      <td>...</td>\n",
       "      <td>22</td>\n",
       "      <td>11</td>\n",
       "      <td>14</td>\n",
       "      <td>7</td>\n",
       "      <td>20</td>\n",
       "      <td>14</td>\n",
       "      <td>7</td>\n",
       "      <td>6</td>\n",
       "      <td>3</td>\n",
       "      <td>21</td>\n",
       "    </tr>\n",
       "    <tr>\n",
       "      <th>76638</th>\n",
       "      <td>2018</td>\n",
       "      <td>11</td>\n",
       "      <td>1112</td>\n",
       "      <td>101</td>\n",
       "      <td>1319</td>\n",
       "      <td>67</td>\n",
       "      <td>H</td>\n",
       "      <td>0</td>\n",
       "      <td>34</td>\n",
       "      <td>57</td>\n",
       "      <td>...</td>\n",
       "      <td>13</td>\n",
       "      <td>17</td>\n",
       "      <td>30</td>\n",
       "      <td>12</td>\n",
       "      <td>11</td>\n",
       "      <td>11</td>\n",
       "      <td>13</td>\n",
       "      <td>3</td>\n",
       "      <td>1</td>\n",
       "      <td>24</td>\n",
       "    </tr>\n",
       "    <tr>\n",
       "      <th>76639</th>\n",
       "      <td>2018</td>\n",
       "      <td>11</td>\n",
       "      <td>1113</td>\n",
       "      <td>94</td>\n",
       "      <td>1226</td>\n",
       "      <td>74</td>\n",
       "      <td>H</td>\n",
       "      <td>0</td>\n",
       "      <td>34</td>\n",
       "      <td>65</td>\n",
       "      <td>...</td>\n",
       "      <td>24</td>\n",
       "      <td>13</td>\n",
       "      <td>22</td>\n",
       "      <td>8</td>\n",
       "      <td>21</td>\n",
       "      <td>17</td>\n",
       "      <td>14</td>\n",
       "      <td>6</td>\n",
       "      <td>2</td>\n",
       "      <td>20</td>\n",
       "    </tr>\n",
       "    <tr>\n",
       "      <th>76640</th>\n",
       "      <td>2018</td>\n",
       "      <td>11</td>\n",
       "      <td>1116</td>\n",
       "      <td>95</td>\n",
       "      <td>1359</td>\n",
       "      <td>56</td>\n",
       "      <td>H</td>\n",
       "      <td>0</td>\n",
       "      <td>36</td>\n",
       "      <td>63</td>\n",
       "      <td>...</td>\n",
       "      <td>29</td>\n",
       "      <td>8</td>\n",
       "      <td>15</td>\n",
       "      <td>15</td>\n",
       "      <td>17</td>\n",
       "      <td>12</td>\n",
       "      <td>19</td>\n",
       "      <td>6</td>\n",
       "      <td>1</td>\n",
       "      <td>20</td>\n",
       "    </tr>\n",
       "  </tbody>\n",
       "</table>\n",
       "<p>5 rows × 34 columns</p>\n",
       "</div>"
      ],
      "text/plain": [
       "       Season  DayNum  WTeamID  WScore  LTeamID  LScore WLoc  NumOT  WFGM  \\\n",
       "76636    2018      11     1104      82     1272      70    N      0    26   \n",
       "76637    2018      11     1107      69     1233      67    H      0    24   \n",
       "76638    2018      11     1112     101     1319      67    H      0    34   \n",
       "76639    2018      11     1113      94     1226      74    H      0    34   \n",
       "76640    2018      11     1116      95     1359      56    H      0    36   \n",
       "\n",
       "       WFGA ...   LFGA3  LFTM  LFTA  LOR  LDR  LAst  LTO  LStl  LBlk  LPF  \n",
       "76636    57 ...      17    22    36   19   24     7   17     7     3   22  \n",
       "76637    62 ...      22    11    14    7   20    14    7     6     3   21  \n",
       "76638    57 ...      13    17    30   12   11    11   13     3     1   24  \n",
       "76639    65 ...      24    13    22    8   21    17   14     6     2   20  \n",
       "76640    63 ...      29     8    15   15   17    12   19     6     1   20  \n",
       "\n",
       "[5 rows x 34 columns]"
      ]
     },
     "execution_count": 284,
     "metadata": {},
     "output_type": "execute_result"
    }
   ],
   "source": [
    "detailed = detailed.loc[detailed.Season == 2018, :]\n",
    "detailed.head()"
   ]
  },
  {
   "cell_type": "markdown",
   "metadata": {},
   "source": [
    "#### Cool. So I learned from the Ames project that intelligent feature engineering is a HUGE part of model success.\n",
    " With that in mind, I'm not going to try to reinvent the wheel or anything, I want to incorporate a couple of the advanced\n",
    " team analytics that are currently being used in the game today."
   ]
  },
  {
   "cell_type": "markdown",
   "metadata": {},
   "source": [
    "# // Feature engineering //"
   ]
  },
  {
   "cell_type": "markdown",
   "metadata": {},
   "source": [
    "References for these available below.\n",
    "- Quick overview:\n",
    "    - https://stats.nba.com/help/faq/\n",
    "- Deeper dive:\n",
    "    - http://hangtime.blogs.nba.com/2013/02/15/the-new-nba-comstats-advanced-stats-all-start-with-pace-and-efficiency/\n",
    "- Actual glossary + formulas:\n",
    "    - https://stats.nba.com/help/glossary/"
   ]
  },
  {
   "cell_type": "code",
   "execution_count": 285,
   "metadata": {},
   "outputs": [],
   "source": [
    "# To make all of the calculations easier to read, let's assign some variables:\n",
    "\n",
    "W_Score = detailed.WScore\n",
    "W_FGM   = detailed.WFGM\n",
    "W_FGA   = detailed.WFGA\n",
    "W_FGM3  = detailed.WFGM3\n",
    "W_FGA3  = detailed.WFGA3\n",
    "W_FTM   = detailed.WFTM\n",
    "W_FTA   = detailed.WFTA\n",
    "W_OReb  = detailed.WOR\n",
    "W_DReb  = detailed.WDR\n",
    "W_Ast   = detailed.WAst\n",
    "W_TO    = detailed.WTO\n",
    "W_Steal = detailed.WStl\n",
    "W_Block = detailed.WBlk\n",
    "W_Fouls = detailed.WPF"
   ]
  },
  {
   "cell_type": "code",
   "execution_count": 286,
   "metadata": {},
   "outputs": [],
   "source": [
    "L_Score = detailed.LScore\n",
    "L_FGM   = detailed.LFGM\n",
    "L_FGA   = detailed.LFGA\n",
    "L_FGM3  = detailed.LFGM3\n",
    "L_FGA3  = detailed.LFGA3\n",
    "L_FTM   = detailed.LFTM\n",
    "L_FTA   = detailed.LFTA\n",
    "L_OReb  = detailed.LOR\n",
    "L_DReb  = detailed.LDR\n",
    "L_Ast   = detailed.LAst\n",
    "L_TO    = detailed.LTO\n",
    "L_Steal = detailed.LStl\n",
    "L_Block = detailed.LBlk\n",
    "L_Fouls = detailed.LPF"
   ]
  },
  {
   "cell_type": "markdown",
   "metadata": {},
   "source": [
    "### Starting with some building block efficiencies and possession stats"
   ]
  },
  {
   "cell_type": "markdown",
   "metadata": {},
   "source": [
    "**Basic Possession Formula:**\n",
    "- 0.96 x (( Field Goal Attempts ) + ( Turnovers ) + ( 0.44 x Free Throw Attempts ) - ( Offensive Rebounds )) "
   ]
  },
  {
   "cell_type": "code",
   "execution_count": 287,
   "metadata": {
    "scrolled": true
   },
   "outputs": [],
   "source": [
    "detailed['W_Pos'] = .96 * (W_FGA + W_TO + (.44 * W_FTA) - W_OReb)\n",
    "detailed['L_Pos'] = .96 * (L_FGA + L_TO + (.44 * L_FTA) - L_OReb)"
   ]
  },
  {
   "cell_type": "markdown",
   "metadata": {},
   "source": [
    "**Offensive Efficiency Rating:**\n",
    "- 100 x ( Points / Possessions )"
   ]
  },
  {
   "cell_type": "code",
   "execution_count": 288,
   "metadata": {},
   "outputs": [],
   "source": [
    "detailed['W_Off_Rtg'] = 100 * (W_Score / detailed.W_Pos)\n",
    "detailed['L_Off_Rtg'] = 100 * (L_Score / detailed.L_Pos)"
   ]
  },
  {
   "cell_type": "markdown",
   "metadata": {},
   "source": [
    "**Defensive Efficiency Rating:**\n",
    "- 100 x ( Opponent Points / Opponent Possessions )"
   ]
  },
  {
   "cell_type": "code",
   "execution_count": 289,
   "metadata": {},
   "outputs": [],
   "source": [
    "detailed['W_Def_Rtg'] = detailed.L_Off_Rtg\n",
    "detailed['L_Def_Rtg'] = detailed.W_Off_Rtg"
   ]
  },
  {
   "cell_type": "markdown",
   "metadata": {},
   "source": [
    " ### **\"Four Factors\"** are the box score derived metrics that correlate most closely with winning basketball games. "
   ]
  },
  {
   "cell_type": "markdown",
   "metadata": {},
   "source": [
    "**1. Shooting the Ball**\n",
    "- Effective Field Goal Percentage = ( Field Goals Made + ( 0.5 x 3P Field Goals Made )) / ( Field Goal Attempts )"
   ]
  },
  {
   "cell_type": "code",
   "execution_count": 290,
   "metadata": {},
   "outputs": [],
   "source": [
    "detailed['W_Eff_FG'] = (W_FGM + (.5 * W_FGM3)) / W_FGA\n",
    "detailed['L_Eff_FG'] = (L_FGM + (.5 * L_FGM3)) / L_FGA"
   ]
  },
  {
   "cell_type": "markdown",
   "metadata": {},
   "source": [
    "**2. Taking Care of the Ball**\n",
    "- Turnover Rate = Turnovers / ( Field Goal Attempts + ( 0.44 x Free Throw Attempts ) + Turnovers )"
   ]
  },
  {
   "cell_type": "code",
   "execution_count": 291,
   "metadata": {},
   "outputs": [],
   "source": [
    "detailed['W_TOR'] = W_TO / (W_FGA + (.44 * W_FTA) + W_TO)\n",
    "detailed['L_TOR'] = L_TO / (L_FGA + (.44 * L_FTA) + L_TO)"
   ]
  },
  {
   "cell_type": "code",
   "execution_count": 292,
   "metadata": {},
   "outputs": [
    {
     "data": {
      "text/plain": [
       "True"
      ]
     },
     "execution_count": 292,
     "metadata": {},
     "output_type": "execute_result"
    }
   ],
   "source": [
    "# Checking to see that intuition should still hold up\n",
    "detailed.W_TOR.mean() < detailed.L_TOR.mean()"
   ]
  },
  {
   "cell_type": "markdown",
   "metadata": {},
   "source": [
    "**3. Offensive Rebounding**\n",
    "- Offensive Rebounding Percentage = ( Offensive Rebounds ) / ( ( Offensive Rebounds ) + ( Opponent’s Defensive Rebounds ) )"
   ]
  },
  {
   "cell_type": "code",
   "execution_count": 293,
   "metadata": {},
   "outputs": [],
   "source": [
    "detailed['W_ORP'] = W_OReb / (W_OReb + L_DReb)\n",
    "detailed['L_ORP'] = L_OReb / (L_OReb + W_DReb)"
   ]
  },
  {
   "cell_type": "markdown",
   "metadata": {},
   "source": [
    "**4. Getting to the Foul Line**\n",
    "- Free Throw Rate = ( Free Throws Made ) / ( Field Goals Attempted )"
   ]
  },
  {
   "cell_type": "code",
   "execution_count": 294,
   "metadata": {},
   "outputs": [],
   "source": [
    "detailed['W_FTR'] = W_FTM / W_FGA\n",
    "detailed['L_FTR'] = L_FTM / L_FGA"
   ]
  },
  {
   "cell_type": "code",
   "execution_count": 295,
   "metadata": {},
   "outputs": [
    {
     "data": {
      "text/html": [
       "<div>\n",
       "<style>\n",
       "    .dataframe thead tr:only-child th {\n",
       "        text-align: right;\n",
       "    }\n",
       "\n",
       "    .dataframe thead th {\n",
       "        text-align: left;\n",
       "    }\n",
       "\n",
       "    .dataframe tbody tr th {\n",
       "        vertical-align: top;\n",
       "    }\n",
       "</style>\n",
       "<table border=\"1\" class=\"dataframe\">\n",
       "  <thead>\n",
       "    <tr style=\"text-align: right;\">\n",
       "      <th></th>\n",
       "      <th>Season</th>\n",
       "      <th>DayNum</th>\n",
       "      <th>WTeamID</th>\n",
       "      <th>WScore</th>\n",
       "      <th>LTeamID</th>\n",
       "      <th>LScore</th>\n",
       "      <th>WLoc</th>\n",
       "      <th>NumOT</th>\n",
       "      <th>WFGM</th>\n",
       "      <th>WFGA</th>\n",
       "      <th>...</th>\n",
       "      <th>W_Def_Rtg</th>\n",
       "      <th>L_Def_Rtg</th>\n",
       "      <th>W_Eff_FG</th>\n",
       "      <th>L_Eff_FG</th>\n",
       "      <th>W_TOR</th>\n",
       "      <th>L_TOR</th>\n",
       "      <th>W_ORP</th>\n",
       "      <th>L_ORP</th>\n",
       "      <th>W_FTR</th>\n",
       "      <th>L_FTR</th>\n",
       "    </tr>\n",
       "  </thead>\n",
       "  <tbody>\n",
       "    <tr>\n",
       "      <th>76636</th>\n",
       "      <td>2018</td>\n",
       "      <td>11</td>\n",
       "      <td>1104</td>\n",
       "      <td>82</td>\n",
       "      <td>1272</td>\n",
       "      <td>70</td>\n",
       "      <td>N</td>\n",
       "      <td>0</td>\n",
       "      <td>26</td>\n",
       "      <td>57</td>\n",
       "      <td>...</td>\n",
       "      <td>98.749549</td>\n",
       "      <td>118.109329</td>\n",
       "      <td>0.552632</td>\n",
       "      <td>0.400000</td>\n",
       "      <td>0.187529</td>\n",
       "      <td>0.183111</td>\n",
       "      <td>0.351351</td>\n",
       "      <td>0.413043</td>\n",
       "      <td>0.333333</td>\n",
       "      <td>0.366667</td>\n",
       "    </tr>\n",
       "    <tr>\n",
       "      <th>76637</th>\n",
       "      <td>2018</td>\n",
       "      <td>11</td>\n",
       "      <td>1107</td>\n",
       "      <td>69</td>\n",
       "      <td>1233</td>\n",
       "      <td>67</td>\n",
       "      <td>H</td>\n",
       "      <td>0</td>\n",
       "      <td>24</td>\n",
       "      <td>62</td>\n",
       "      <td>...</td>\n",
       "      <td>107.108144</td>\n",
       "      <td>111.676507</td>\n",
       "      <td>0.419355</td>\n",
       "      <td>0.474576</td>\n",
       "      <td>0.155950</td>\n",
       "      <td>0.097007</td>\n",
       "      <td>0.487179</td>\n",
       "      <td>0.200000</td>\n",
       "      <td>0.274194</td>\n",
       "      <td>0.186441</td>\n",
       "    </tr>\n",
       "    <tr>\n",
       "      <th>76638</th>\n",
       "      <td>2018</td>\n",
       "      <td>11</td>\n",
       "      <td>1112</td>\n",
       "      <td>101</td>\n",
       "      <td>1319</td>\n",
       "      <td>67</td>\n",
       "      <td>H</td>\n",
       "      <td>0</td>\n",
       "      <td>34</td>\n",
       "      <td>57</td>\n",
       "      <td>...</td>\n",
       "      <td>96.664358</td>\n",
       "      <td>150.126046</td>\n",
       "      <td>0.640351</td>\n",
       "      <td>0.431034</td>\n",
       "      <td>0.134016</td>\n",
       "      <td>0.154394</td>\n",
       "      <td>0.521739</td>\n",
       "      <td>0.279070</td>\n",
       "      <td>0.491228</td>\n",
       "      <td>0.293103</td>\n",
       "    </tr>\n",
       "  </tbody>\n",
       "</table>\n",
       "<p>3 rows × 48 columns</p>\n",
       "</div>"
      ],
      "text/plain": [
       "       Season  DayNum  WTeamID  WScore  LTeamID  LScore WLoc  NumOT  WFGM  \\\n",
       "76636    2018      11     1104      82     1272      70    N      0    26   \n",
       "76637    2018      11     1107      69     1233      67    H      0    24   \n",
       "76638    2018      11     1112     101     1319      67    H      0    34   \n",
       "\n",
       "       WFGA    ...      W_Def_Rtg   L_Def_Rtg  W_Eff_FG  L_Eff_FG     W_TOR  \\\n",
       "76636    57    ...      98.749549  118.109329  0.552632  0.400000  0.187529   \n",
       "76637    62    ...     107.108144  111.676507  0.419355  0.474576  0.155950   \n",
       "76638    57    ...      96.664358  150.126046  0.640351  0.431034  0.134016   \n",
       "\n",
       "          L_TOR     W_ORP     L_ORP     W_FTR     L_FTR  \n",
       "76636  0.183111  0.351351  0.413043  0.333333  0.366667  \n",
       "76637  0.097007  0.487179  0.200000  0.274194  0.186441  \n",
       "76638  0.154394  0.521739  0.279070  0.491228  0.293103  \n",
       "\n",
       "[3 rows x 48 columns]"
      ]
     },
     "execution_count": 295,
     "metadata": {},
     "output_type": "execute_result"
    }
   ],
   "source": [
    "detailed.head(3)"
   ]
  },
  {
   "cell_type": "markdown",
   "metadata": {},
   "source": [
    "### Save room for PIE"
   ]
  },
  {
   "cell_type": "markdown",
   "metadata": {},
   "source": [
    "What is **PIE**?\n",
    "\n",
    "It is a simple metric that gives an excellent indication of performance at both the team and player level. It’s a major improvement to an EFF Rating.\n",
    "\n",
    "The key here is the denominator because it acts as an \"automatic equalizer\". In its simplest terms, PIE shows what % of game events did that player or team achieve. \n",
    "\n",
    "The stats being analyzed are your traditional basketball statistics (PTS, REB, AST, TOV, etc..) _**A team that achieves more than 50% is likely to be a winning team.**_ In fact, a team’s PIE rating and a team’s winning percentage correlate at an R square of .908 which indicates a \"strong\" correlation."
   ]
  },
  {
   "cell_type": "markdown",
   "metadata": {},
   "source": [
    "( PTS + FGM + FTM - FGA - FTA + DREB + ( .5 x OREB ) + AST + STL + ( .5 x BLK ) - PF - TO ) \n",
    "\n",
    "**__DIVIDED BY__**\n",
    "\n",
    "( GmPTS + GmFGM + GmFTM - GmFGA - GmFTA + GmDREB + ( .5 x GmOREB ) + GmAST + GmSTL + ( .5 x GmBLK ) - GmPF - GmTO )"
   ]
  },
  {
   "cell_type": "code",
   "execution_count": 296,
   "metadata": {},
   "outputs": [
    {
     "name": "stdout",
     "output_type": "stream",
     "text": [
      "0.6329131306655542\n",
      "0.36708686933444373\n"
     ]
    }
   ],
   "source": [
    "W_numerator = W_Score + W_FGM + W_FTM - W_FGA - W_FTA + W_DReb + (.5 *W_OReb) + W_Ast + W_Steal + (.5 * W_Block) - W_Fouls - W_TO\n",
    "L_numerator = L_Score + L_FGM + L_FTM - L_FGA - L_FTA + L_DReb + (.5 *L_OReb) + L_Ast + L_Steal + (.5 * L_Block) - L_Fouls - L_TO\n",
    "game_totals = (W_Score + L_Score) + (W_FGM + L_FGM) + (W_FTM + L_FTM) - (W_FGA + L_FGA) - (W_FTA + L_FTA) + (W_DReb + L_DReb) + (.5 * (W_OReb + L_OReb)) + (W_Ast + L_Ast) + (W_Steal + L_Steal) + (.5 * (W_Block + L_Block)) - (W_Fouls + L_Fouls) - (W_TO + L_TO)\n",
    "\n",
    "detailed['W_PIE'] = W_numerator / game_totals\n",
    "detailed['L_PIE'] = L_numerator / game_totals\n",
    "\n",
    "print(detailed.W_PIE.mean())\n",
    "print(detailed.L_PIE.mean())"
   ]
  },
  {
   "cell_type": "code",
   "execution_count": 297,
   "metadata": {},
   "outputs": [
    {
     "data": {
      "text/html": [
       "<div>\n",
       "<style>\n",
       "    .dataframe thead tr:only-child th {\n",
       "        text-align: right;\n",
       "    }\n",
       "\n",
       "    .dataframe thead th {\n",
       "        text-align: left;\n",
       "    }\n",
       "\n",
       "    .dataframe tbody tr th {\n",
       "        vertical-align: top;\n",
       "    }\n",
       "</style>\n",
       "<table border=\"1\" class=\"dataframe\">\n",
       "  <thead>\n",
       "    <tr style=\"text-align: right;\">\n",
       "      <th></th>\n",
       "      <th>Season</th>\n",
       "      <th>DayNum</th>\n",
       "      <th>WTeamID</th>\n",
       "      <th>WScore</th>\n",
       "      <th>LTeamID</th>\n",
       "      <th>LScore</th>\n",
       "      <th>WLoc</th>\n",
       "      <th>NumOT</th>\n",
       "      <th>WFGM</th>\n",
       "      <th>WFGA</th>\n",
       "      <th>...</th>\n",
       "      <th>W_Eff_FG</th>\n",
       "      <th>L_Eff_FG</th>\n",
       "      <th>W_TOR</th>\n",
       "      <th>L_TOR</th>\n",
       "      <th>W_ORP</th>\n",
       "      <th>L_ORP</th>\n",
       "      <th>W_FTR</th>\n",
       "      <th>L_FTR</th>\n",
       "      <th>W_PIE</th>\n",
       "      <th>L_PIE</th>\n",
       "    </tr>\n",
       "  </thead>\n",
       "  <tbody>\n",
       "    <tr>\n",
       "      <th>76636</th>\n",
       "      <td>2018</td>\n",
       "      <td>11</td>\n",
       "      <td>1104</td>\n",
       "      <td>82</td>\n",
       "      <td>1272</td>\n",
       "      <td>70</td>\n",
       "      <td>N</td>\n",
       "      <td>0</td>\n",
       "      <td>26</td>\n",
       "      <td>57</td>\n",
       "      <td>...</td>\n",
       "      <td>0.552632</td>\n",
       "      <td>0.400000</td>\n",
       "      <td>0.187529</td>\n",
       "      <td>0.183111</td>\n",
       "      <td>0.351351</td>\n",
       "      <td>0.413043</td>\n",
       "      <td>0.333333</td>\n",
       "      <td>0.366667</td>\n",
       "      <td>0.662791</td>\n",
       "      <td>0.337209</td>\n",
       "    </tr>\n",
       "    <tr>\n",
       "      <th>76637</th>\n",
       "      <td>2018</td>\n",
       "      <td>11</td>\n",
       "      <td>1107</td>\n",
       "      <td>69</td>\n",
       "      <td>1233</td>\n",
       "      <td>67</td>\n",
       "      <td>H</td>\n",
       "      <td>0</td>\n",
       "      <td>24</td>\n",
       "      <td>62</td>\n",
       "      <td>...</td>\n",
       "      <td>0.419355</td>\n",
       "      <td>0.474576</td>\n",
       "      <td>0.155950</td>\n",
       "      <td>0.097007</td>\n",
       "      <td>0.487179</td>\n",
       "      <td>0.200000</td>\n",
       "      <td>0.274194</td>\n",
       "      <td>0.186441</td>\n",
       "      <td>0.481081</td>\n",
       "      <td>0.518919</td>\n",
       "    </tr>\n",
       "    <tr>\n",
       "      <th>76638</th>\n",
       "      <td>2018</td>\n",
       "      <td>11</td>\n",
       "      <td>1112</td>\n",
       "      <td>101</td>\n",
       "      <td>1319</td>\n",
       "      <td>67</td>\n",
       "      <td>H</td>\n",
       "      <td>0</td>\n",
       "      <td>34</td>\n",
       "      <td>57</td>\n",
       "      <td>...</td>\n",
       "      <td>0.640351</td>\n",
       "      <td>0.431034</td>\n",
       "      <td>0.134016</td>\n",
       "      <td>0.154394</td>\n",
       "      <td>0.521739</td>\n",
       "      <td>0.279070</td>\n",
       "      <td>0.491228</td>\n",
       "      <td>0.293103</td>\n",
       "      <td>0.887967</td>\n",
       "      <td>0.112033</td>\n",
       "    </tr>\n",
       "  </tbody>\n",
       "</table>\n",
       "<p>3 rows × 50 columns</p>\n",
       "</div>"
      ],
      "text/plain": [
       "       Season  DayNum  WTeamID  WScore  LTeamID  LScore WLoc  NumOT  WFGM  \\\n",
       "76636    2018      11     1104      82     1272      70    N      0    26   \n",
       "76637    2018      11     1107      69     1233      67    H      0    24   \n",
       "76638    2018      11     1112     101     1319      67    H      0    34   \n",
       "\n",
       "       WFGA    ...     W_Eff_FG  L_Eff_FG     W_TOR     L_TOR     W_ORP  \\\n",
       "76636    57    ...     0.552632  0.400000  0.187529  0.183111  0.351351   \n",
       "76637    62    ...     0.419355  0.474576  0.155950  0.097007  0.487179   \n",
       "76638    57    ...     0.640351  0.431034  0.134016  0.154394  0.521739   \n",
       "\n",
       "          L_ORP     W_FTR     L_FTR     W_PIE     L_PIE  \n",
       "76636  0.413043  0.333333  0.366667  0.662791  0.337209  \n",
       "76637  0.200000  0.274194  0.186441  0.481081  0.518919  \n",
       "76638  0.279070  0.491228  0.293103  0.887967  0.112033  \n",
       "\n",
       "[3 rows x 50 columns]"
      ]
     },
     "execution_count": 297,
     "metadata": {},
     "output_type": "execute_result"
    }
   ],
   "source": [
    "detailed.head(3)"
   ]
  },
  {
   "cell_type": "markdown",
   "metadata": {},
   "source": [
    "**Don't forget to come up with a consistency rating if you have time!!**\n",
    "\n",
    "**Don't forget to make a \"difficulty by seed\" feature!!!**\n",
    "\n",
    "Very interesting to think about the difficulty of the path to the final that way, though I would've probably tried to weigh it by the probability that your team will face that seed in the next round instead of just assuming you will face the higher seed.\n",
    "\n",
    "i mean use bayes - instead of saying the 5 auto plays the 4 next round say they get 12*probability 5 will win + 5* probability 12 will win\n",
    "\n",
    "_ Also put in some VIZZZZ here to show the advanced stats that we've got now _"
   ]
  },
  {
   "cell_type": "markdown",
   "metadata": {},
   "source": [
    "## Now manipulating the structure of our data so we can have something to train the model on"
   ]
  },
  {
   "cell_type": "code",
   "execution_count": 298,
   "metadata": {
    "scrolled": true
   },
   "outputs": [
    {
     "data": {
      "text/html": [
       "<div>\n",
       "<style>\n",
       "    .dataframe thead tr:only-child th {\n",
       "        text-align: right;\n",
       "    }\n",
       "\n",
       "    .dataframe thead th {\n",
       "        text-align: left;\n",
       "    }\n",
       "\n",
       "    .dataframe tbody tr th {\n",
       "        vertical-align: top;\n",
       "    }\n",
       "</style>\n",
       "<table border=\"1\" class=\"dataframe\">\n",
       "  <thead>\n",
       "    <tr style=\"text-align: right;\">\n",
       "      <th></th>\n",
       "      <th>Def_Rtg</th>\n",
       "      <th>Def_Rtg_dif</th>\n",
       "      <th>Eff_FG</th>\n",
       "      <th>Eff_FG_dif</th>\n",
       "      <th>FTR</th>\n",
       "      <th>FTR_dif</th>\n",
       "      <th>ORP</th>\n",
       "      <th>ORP_dif</th>\n",
       "      <th>Off_Rtg</th>\n",
       "      <th>Off_Rtg_dif</th>\n",
       "      <th>OpponentID</th>\n",
       "      <th>PIE</th>\n",
       "      <th>PIE_dif</th>\n",
       "      <th>Pos</th>\n",
       "      <th>Pos_dif</th>\n",
       "      <th>Season</th>\n",
       "      <th>TOR</th>\n",
       "      <th>TOR_dif</th>\n",
       "      <th>TeamID</th>\n",
       "      <th>Won</th>\n",
       "    </tr>\n",
       "  </thead>\n",
       "  <tbody>\n",
       "    <tr>\n",
       "      <th>0</th>\n",
       "      <td>98.749549</td>\n",
       "      <td>-19.359780</td>\n",
       "      <td>0.552632</td>\n",
       "      <td>0.152632</td>\n",
       "      <td>0.333333</td>\n",
       "      <td>-0.033333</td>\n",
       "      <td>0.351351</td>\n",
       "      <td>-0.061692</td>\n",
       "      <td>118.109329</td>\n",
       "      <td>19.359780</td>\n",
       "      <td>1272</td>\n",
       "      <td>0.662791</td>\n",
       "      <td>0.325581</td>\n",
       "      <td>69.4272</td>\n",
       "      <td>-1.4592</td>\n",
       "      <td>2018</td>\n",
       "      <td>0.187529</td>\n",
       "      <td>0.004419</td>\n",
       "      <td>1104</td>\n",
       "      <td>1</td>\n",
       "    </tr>\n",
       "    <tr>\n",
       "      <th>1</th>\n",
       "      <td>118.109329</td>\n",
       "      <td>19.359780</td>\n",
       "      <td>0.400000</td>\n",
       "      <td>-0.152632</td>\n",
       "      <td>0.366667</td>\n",
       "      <td>0.033333</td>\n",
       "      <td>0.413043</td>\n",
       "      <td>0.061692</td>\n",
       "      <td>98.749549</td>\n",
       "      <td>-19.359780</td>\n",
       "      <td>1104</td>\n",
       "      <td>0.337209</td>\n",
       "      <td>-0.325581</td>\n",
       "      <td>70.8864</td>\n",
       "      <td>1.4592</td>\n",
       "      <td>2018</td>\n",
       "      <td>0.183111</td>\n",
       "      <td>-0.004419</td>\n",
       "      <td>1272</td>\n",
       "      <td>0</td>\n",
       "    </tr>\n",
       "    <tr>\n",
       "      <th>2</th>\n",
       "      <td>107.108144</td>\n",
       "      <td>-4.568363</td>\n",
       "      <td>0.419355</td>\n",
       "      <td>-0.055221</td>\n",
       "      <td>0.274194</td>\n",
       "      <td>0.087753</td>\n",
       "      <td>0.487179</td>\n",
       "      <td>0.287179</td>\n",
       "      <td>111.676507</td>\n",
       "      <td>4.568363</td>\n",
       "      <td>1233</td>\n",
       "      <td>0.481081</td>\n",
       "      <td>-0.037838</td>\n",
       "      <td>61.7856</td>\n",
       "      <td>-0.7680</td>\n",
       "      <td>2018</td>\n",
       "      <td>0.155950</td>\n",
       "      <td>0.058943</td>\n",
       "      <td>1107</td>\n",
       "      <td>1</td>\n",
       "    </tr>\n",
       "    <tr>\n",
       "      <th>3</th>\n",
       "      <td>111.676507</td>\n",
       "      <td>4.568363</td>\n",
       "      <td>0.474576</td>\n",
       "      <td>0.055221</td>\n",
       "      <td>0.186441</td>\n",
       "      <td>-0.087753</td>\n",
       "      <td>0.200000</td>\n",
       "      <td>-0.287179</td>\n",
       "      <td>107.108144</td>\n",
       "      <td>-4.568363</td>\n",
       "      <td>1107</td>\n",
       "      <td>0.518919</td>\n",
       "      <td>0.037838</td>\n",
       "      <td>62.5536</td>\n",
       "      <td>0.7680</td>\n",
       "      <td>2018</td>\n",
       "      <td>0.097007</td>\n",
       "      <td>-0.058943</td>\n",
       "      <td>1233</td>\n",
       "      <td>0</td>\n",
       "    </tr>\n",
       "  </tbody>\n",
       "</table>\n",
       "</div>"
      ],
      "text/plain": [
       "      Def_Rtg  Def_Rtg_dif    Eff_FG  Eff_FG_dif       FTR   FTR_dif  \\\n",
       "0   98.749549   -19.359780  0.552632    0.152632  0.333333 -0.033333   \n",
       "1  118.109329    19.359780  0.400000   -0.152632  0.366667  0.033333   \n",
       "2  107.108144    -4.568363  0.419355   -0.055221  0.274194  0.087753   \n",
       "3  111.676507     4.568363  0.474576    0.055221  0.186441 -0.087753   \n",
       "\n",
       "        ORP   ORP_dif     Off_Rtg  Off_Rtg_dif  OpponentID       PIE  \\\n",
       "0  0.351351 -0.061692  118.109329    19.359780        1272  0.662791   \n",
       "1  0.413043  0.061692   98.749549   -19.359780        1104  0.337209   \n",
       "2  0.487179  0.287179  111.676507     4.568363        1233  0.481081   \n",
       "3  0.200000 -0.287179  107.108144    -4.568363        1107  0.518919   \n",
       "\n",
       "    PIE_dif      Pos  Pos_dif  Season       TOR   TOR_dif  TeamID  Won  \n",
       "0  0.325581  69.4272  -1.4592    2018  0.187529  0.004419    1104    1  \n",
       "1 -0.325581  70.8864   1.4592    2018  0.183111 -0.004419    1272    0  \n",
       "2 -0.037838  61.7856  -0.7680    2018  0.155950  0.058943    1107    1  \n",
       "3  0.037838  62.5536   0.7680    2018  0.097007 -0.058943    1233    0  "
      ]
     },
     "execution_count": 298,
     "metadata": {},
     "output_type": "execute_result"
    }
   ],
   "source": [
    "games = []\n",
    "for row in detailed.to_dict('records'):\n",
    "    \n",
    "    game = {}\n",
    "    game['Season']      = row['Season']\n",
    "    game['TeamID']     = row['WTeamID']\n",
    "    game['OpponentID']  = row['LTeamID']\n",
    "    game['Pos']         = row['W_Pos']\n",
    "    game['Off_Rtg']     = row['W_Off_Rtg']\n",
    "    game['Def_Rtg']     = row['W_Def_Rtg']\n",
    "    game['Eff_FG']      = row['W_Eff_FG']\n",
    "    game['TOR']         = row['W_TOR']\n",
    "    game['ORP']         = row['W_ORP']\n",
    "    game['FTR']         = row['W_FTR']\n",
    "    game['PIE']         = row['W_PIE']\n",
    "    game['Won']         = 1\n",
    "    \n",
    "    game['Pos_dif']     = row['W_Pos'] - row['L_Pos']\n",
    "    game['Off_Rtg_dif'] = row['W_Off_Rtg'] - row['L_Off_Rtg']\n",
    "    game['Def_Rtg_dif'] = row['W_Def_Rtg'] - row['L_Def_Rtg']\n",
    "    game['Eff_FG_dif']  = row['W_Eff_FG'] - row['L_Eff_FG']\n",
    "    game['TOR_dif']     = row['W_TOR'] - row['L_TOR']\n",
    "    game['ORP_dif']     = row['W_ORP'] - row['L_ORP']\n",
    "    game['FTR_dif']     = row['W_FTR'] - row['L_FTR']\n",
    "    game['PIE_dif']     = row['W_PIE'] - row['L_PIE']\n",
    "    \n",
    "    games.append(game)\n",
    "    \n",
    "    # Break\n",
    "    \n",
    "    game = {}\n",
    "    game['Season']      = row['Season']\n",
    "    game['TeamID']      = row['LTeamID']\n",
    "    game['OpponentID']  = row['WTeamID']\n",
    "    game['Pos']         = row['L_Pos']\n",
    "    game['Off_Rtg']     = row['L_Off_Rtg']\n",
    "    game['Def_Rtg']     = row['L_Def_Rtg']\n",
    "    game['Eff_FG']      = row['L_Eff_FG']\n",
    "    game['TOR']         = row['L_TOR']\n",
    "    game['ORP']         = row['L_ORP']\n",
    "    game['FTR']         = row['L_FTR']\n",
    "    game['PIE']         = row['L_PIE']\n",
    "    game['Won']         = 0\n",
    "    \n",
    "    game['Pos_dif']     = row['L_Pos'] - row['W_Pos']\n",
    "    game['Off_Rtg_dif'] = row['L_Off_Rtg'] - row['W_Off_Rtg']\n",
    "    game['Def_Rtg_dif'] = row['L_Def_Rtg'] - row['W_Def_Rtg']\n",
    "    game['Eff_FG_dif']  = row['L_Eff_FG'] - row['W_Eff_FG']\n",
    "    game['TOR_dif']     = row['L_TOR'] - row['W_TOR']\n",
    "    game['ORP_dif']     = row['L_ORP'] - row['W_ORP']\n",
    "    game['FTR_dif']     = row['L_FTR'] - row['W_FTR']\n",
    "    game['PIE_dif']     = row['L_PIE'] - row['W_PIE']\n",
    "    \n",
    "    games.append(game)\n",
    "\n",
    "games_df = pd.DataFrame(games)\n",
    "games_df.head(4)"
   ]
  },
  {
   "cell_type": "code",
   "execution_count": 299,
   "metadata": {},
   "outputs": [
    {
     "data": {
      "text/plain": [
       "True"
      ]
     },
     "execution_count": 299,
     "metadata": {},
     "output_type": "execute_result"
    }
   ],
   "source": [
    "# Just doing a quick check to make sure that we have everything duplicated aka from both perspectives.\n",
    "games_df.shape[0] == (2 * detailed.shape[0])"
   ]
  },
  {
   "cell_type": "code",
   "execution_count": 300,
   "metadata": {},
   "outputs": [
    {
     "data": {
      "text/plain": [
       "Won            1.000000\n",
       "Off_Rtg_dif    0.802438\n",
       "PIE_dif        0.789605\n",
       "PIE            0.789605\n",
       "Eff_FG_dif     0.677166\n",
       "Off_Rtg        0.581066\n",
       "Eff_FG         0.492607\n",
       "FTR_dif        0.409038\n",
       "FTR            0.278763\n",
       "ORP_dif        0.229220\n",
       "ORP            0.162071\n",
       "TeamID         0.058640\n",
       "Pos           -0.024311\n",
       "OpponentID    -0.058640\n",
       "TOR           -0.145443\n",
       "Pos_dif       -0.163480\n",
       "TOR_dif       -0.212207\n",
       "Def_Rtg       -0.581066\n",
       "Def_Rtg_dif   -0.802438\n",
       "Season              NaN\n",
       "Name: Won, dtype: float64"
      ]
     },
     "execution_count": 300,
     "metadata": {},
     "output_type": "execute_result"
    }
   ],
   "source": [
    "games_df.corr().loc['Won', :].sort_values(ascending = False)"
   ]
  },
  {
   "cell_type": "code",
   "execution_count": 301,
   "metadata": {},
   "outputs": [
    {
     "data": {
      "image/png": "[encoded data removed]",
      "text/plain": [
       "<matplotlib.figure.Figure at 0x11358e588>"
      ]
     },
     "metadata": {},
     "output_type": "display_data"
    }
   ],
   "source": [
    "plt.figure(figsize=(10,8))\n",
    "\n",
    "corr = games_df.corr()\n",
    "mask = np.zeros_like(corr)\n",
    "mask[np.triu_indices_from(mask)] = True\n",
    "with sns.axes_style(\"white\"):\n",
    "    ax = sns.heatmap(corr, mask=mask, vmax=.9, square=True, cmap='vlag')\n",
    "plt.savefig('analytics_effect.png')"
   ]
  },
  {
   "cell_type": "markdown",
   "metadata": {},
   "source": [
    "**SO. Now I want to get the season long averages and average differentials for each team. Then join those back into these regular season match-ups then train the model on those.**"
   ]
  },
  {
   "cell_type": "code",
   "execution_count": 302,
   "metadata": {},
   "outputs": [
    {
     "data": {
      "text/html": [
       "<div>\n",
       "<style>\n",
       "    .dataframe thead tr:only-child th {\n",
       "        text-align: right;\n",
       "    }\n",
       "\n",
       "    .dataframe thead th {\n",
       "        text-align: left;\n",
       "    }\n",
       "\n",
       "    .dataframe tbody tr th {\n",
       "        vertical-align: top;\n",
       "    }\n",
       "</style>\n",
       "<table border=\"1\" class=\"dataframe\">\n",
       "  <thead>\n",
       "    <tr style=\"text-align: right;\">\n",
       "      <th></th>\n",
       "      <th>TeamID</th>\n",
       "      <th>Def_Rtg_avg</th>\n",
       "      <th>Def_Rtg_dif_avg</th>\n",
       "      <th>Eff_FG_avg</th>\n",
       "      <th>Eff_FG_dif_avg</th>\n",
       "      <th>FTR_avg</th>\n",
       "      <th>FTR_dif_avg</th>\n",
       "      <th>ORP_avg</th>\n",
       "      <th>ORP_dif_avg</th>\n",
       "      <th>Off_Rtg_avg</th>\n",
       "      <th>Off_Rtg_dif_avg</th>\n",
       "      <th>PIE_avg</th>\n",
       "      <th>PIE_dif_avg</th>\n",
       "      <th>Pos_avg</th>\n",
       "      <th>Pos_dif_avg</th>\n",
       "      <th>TOR_avg</th>\n",
       "      <th>TOR_dif_avg</th>\n",
       "    </tr>\n",
       "  </thead>\n",
       "  <tbody>\n",
       "    <tr>\n",
       "      <th>0</th>\n",
       "      <td>1101</td>\n",
       "      <td>108.369964</td>\n",
       "      <td>3.027014</td>\n",
       "      <td>0.510697</td>\n",
       "      <td>-0.008713</td>\n",
       "      <td>0.240944</td>\n",
       "      <td>-0.074223</td>\n",
       "      <td>0.262368</td>\n",
       "      <td>-0.031703</td>\n",
       "      <td>105.342950</td>\n",
       "      <td>-3.027014</td>\n",
       "      <td>0.471247</td>\n",
       "      <td>-0.057506</td>\n",
       "      <td>67.262578</td>\n",
       "      <td>-0.098133</td>\n",
       "      <td>0.181402</td>\n",
       "      <td>-0.011258</td>\n",
       "    </tr>\n",
       "    <tr>\n",
       "      <th>1</th>\n",
       "      <td>1102</td>\n",
       "      <td>112.635920</td>\n",
       "      <td>9.150306</td>\n",
       "      <td>0.474561</td>\n",
       "      <td>-0.077822</td>\n",
       "      <td>0.242446</td>\n",
       "      <td>0.001532</td>\n",
       "      <td>0.271192</td>\n",
       "      <td>-0.014643</td>\n",
       "      <td>103.485615</td>\n",
       "      <td>-9.150306</td>\n",
       "      <td>0.444632</td>\n",
       "      <td>-0.110735</td>\n",
       "      <td>64.247172</td>\n",
       "      <td>-0.286014</td>\n",
       "      <td>0.165710</td>\n",
       "      <td>-0.018128</td>\n",
       "    </tr>\n",
       "    <tr>\n",
       "      <th>2</th>\n",
       "      <td>1103</td>\n",
       "      <td>114.718531</td>\n",
       "      <td>7.404159</td>\n",
       "      <td>0.515700</td>\n",
       "      <td>-0.025224</td>\n",
       "      <td>0.223778</td>\n",
       "      <td>-0.062406</td>\n",
       "      <td>0.271276</td>\n",
       "      <td>-0.011190</td>\n",
       "      <td>107.314372</td>\n",
       "      <td>-7.404159</td>\n",
       "      <td>0.436364</td>\n",
       "      <td>-0.127272</td>\n",
       "      <td>66.445626</td>\n",
       "      <td>0.068129</td>\n",
       "      <td>0.174633</td>\n",
       "      <td>0.009458</td>\n",
       "    </tr>\n",
       "  </tbody>\n",
       "</table>\n",
       "</div>"
      ],
      "text/plain": [
       "   TeamID  Def_Rtg_avg  Def_Rtg_dif_avg  Eff_FG_avg  Eff_FG_dif_avg   FTR_avg  \\\n",
       "0    1101   108.369964         3.027014    0.510697       -0.008713  0.240944   \n",
       "1    1102   112.635920         9.150306    0.474561       -0.077822  0.242446   \n",
       "2    1103   114.718531         7.404159    0.515700       -0.025224  0.223778   \n",
       "\n",
       "   FTR_dif_avg   ORP_avg  ORP_dif_avg  Off_Rtg_avg  Off_Rtg_dif_avg   PIE_avg  \\\n",
       "0    -0.074223  0.262368    -0.031703   105.342950        -3.027014  0.471247   \n",
       "1     0.001532  0.271192    -0.014643   103.485615        -9.150306  0.444632   \n",
       "2    -0.062406  0.271276    -0.011190   107.314372        -7.404159  0.436364   \n",
       "\n",
       "   PIE_dif_avg    Pos_avg  Pos_dif_avg   TOR_avg  TOR_dif_avg  \n",
       "0    -0.057506  67.262578    -0.098133  0.181402    -0.011258  \n",
       "1    -0.110735  64.247172    -0.286014  0.165710    -0.018128  \n",
       "2    -0.127272  66.445626     0.068129  0.174633     0.009458  "
      ]
     },
     "execution_count": 302,
     "metadata": {},
     "output_type": "execute_result"
    }
   ],
   "source": [
    "summary_stats = games_df.groupby('TeamID').mean()\n",
    "summary_stats = summary_stats.add_suffix('_avg')\n",
    "summary_stats.drop(['OpponentID_avg', 'Season_avg', 'Won_avg'], axis=1, inplace=True)\n",
    "summary_stats.reset_index(level=0, inplace=True)\n",
    "summary_stats.head(3)"
   ]
  },
  {
   "cell_type": "markdown",
   "metadata": {},
   "source": [
    "### Bringing those season-long summary stats back into the main dataframe."
   ]
  },
  {
   "cell_type": "code",
   "execution_count": 303,
   "metadata": {},
   "outputs": [],
   "source": [
    "df = pd.merge(games_df, summary_stats, on='TeamID')"
   ]
  },
  {
   "cell_type": "code",
   "execution_count": 304,
   "metadata": {},
   "outputs": [],
   "source": [
    "df = pd.merge(df, summary_stats, left_on='OpponentID', right_on='TeamID')"
   ]
  },
  {
   "cell_type": "code",
   "execution_count": 305,
   "metadata": {},
   "outputs": [
    {
     "data": {
      "text/plain": [
       "Def_Rtg              0\n",
       "Def_Rtg_dif          0\n",
       "Eff_FG               0\n",
       "Eff_FG_dif           0\n",
       "FTR                  0\n",
       "FTR_dif              0\n",
       "ORP                  0\n",
       "ORP_dif              0\n",
       "Off_Rtg              0\n",
       "Off_Rtg_dif          0\n",
       "OpponentID           0\n",
       "PIE                  0\n",
       "PIE_dif              0\n",
       "Pos                  0\n",
       "Pos_dif              0\n",
       "Season               0\n",
       "TOR                  0\n",
       "TOR_dif              0\n",
       "TeamID_x             0\n",
       "Won                  0\n",
       "Def_Rtg_avg_x        0\n",
       "Def_Rtg_dif_avg_x    0\n",
       "Eff_FG_avg_x         0\n",
       "Eff_FG_dif_avg_x     0\n",
       "FTR_avg_x            0\n",
       "FTR_dif_avg_x        0\n",
       "ORP_avg_x            0\n",
       "ORP_dif_avg_x        0\n",
       "Off_Rtg_avg_x        0\n",
       "Off_Rtg_dif_avg_x    0\n",
       "PIE_avg_x            0\n",
       "PIE_dif_avg_x        0\n",
       "Pos_avg_x            0\n",
       "Pos_dif_avg_x        0\n",
       "TOR_avg_x            0\n",
       "TOR_dif_avg_x        0\n",
       "TeamID_y             0\n",
       "Def_Rtg_avg_y        0\n",
       "Def_Rtg_dif_avg_y    0\n",
       "Eff_FG_avg_y         0\n",
       "Eff_FG_dif_avg_y     0\n",
       "FTR_avg_y            0\n",
       "FTR_dif_avg_y        0\n",
       "ORP_avg_y            0\n",
       "ORP_dif_avg_y        0\n",
       "Off_Rtg_avg_y        0\n",
       "Off_Rtg_dif_avg_y    0\n",
       "PIE_avg_y            0\n",
       "PIE_dif_avg_y        0\n",
       "Pos_avg_y            0\n",
       "Pos_dif_avg_y        0\n",
       "TOR_avg_y            0\n",
       "TOR_dif_avg_y        0\n",
       "dtype: int64"
      ]
     },
     "execution_count": 305,
     "metadata": {},
     "output_type": "execute_result"
    }
   ],
   "source": [
    "df.isnull().sum()"
   ]
  },
  {
   "cell_type": "markdown",
   "metadata": {},
   "source": [
    "# // Setting up and running the model"
   ]
  },
  {
   "cell_type": "code",
   "execution_count": 306,
   "metadata": {},
   "outputs": [
    {
     "name": "stdout",
     "output_type": "stream",
     "text": [
      "Index(['Def_Rtg', 'Def_Rtg_dif', 'Eff_FG', 'Eff_FG_dif', 'FTR', 'FTR_dif',\n",
      "       'ORP', 'ORP_dif', 'Off_Rtg', 'Off_Rtg_dif', 'OpponentID', 'PIE',\n",
      "       'PIE_dif', 'Pos', 'Pos_dif', 'Season', 'TOR', 'TOR_dif', 'TeamID_x',\n",
      "       'Won', 'Def_Rtg_avg_x', 'Def_Rtg_dif_avg_x', 'Eff_FG_avg_x',\n",
      "       'Eff_FG_dif_avg_x', 'FTR_avg_x', 'FTR_dif_avg_x', 'ORP_avg_x',\n",
      "       'ORP_dif_avg_x', 'Off_Rtg_avg_x', 'Off_Rtg_dif_avg_x', 'PIE_avg_x',\n",
      "       'PIE_dif_avg_x', 'Pos_avg_x', 'Pos_dif_avg_x', 'TOR_avg_x',\n",
      "       'TOR_dif_avg_x', 'TeamID_y', 'Def_Rtg_avg_y', 'Def_Rtg_dif_avg_y',\n",
      "       'Eff_FG_avg_y', 'Eff_FG_dif_avg_y', 'FTR_avg_y', 'FTR_dif_avg_y',\n",
      "       'ORP_avg_y', 'ORP_dif_avg_y', 'Off_Rtg_avg_y', 'Off_Rtg_dif_avg_y',\n",
      "       'PIE_avg_y', 'PIE_dif_avg_y', 'Pos_avg_y', 'Pos_dif_avg_y', 'TOR_avg_y',\n",
      "       'TOR_dif_avg_y'],\n",
      "      dtype='object')\n",
      "(10810, 53)\n"
     ]
    }
   ],
   "source": [
    "train = df.loc[games_df['Season'] >= 2018, :]\n",
    "print(train.columns)\n",
    "print(train.shape)"
   ]
  },
  {
   "cell_type": "code",
   "execution_count": 307,
   "metadata": {},
   "outputs": [],
   "source": [
    "new_features = [col for col in train.columns if col not in ['TeamID', 'OpponentID', 'Won', 'TeamID_x', 'TeamID_y', 'Season']]\n",
    "new_features = [x for x in new_features if 'avg' in str(x)]"
   ]
  },
  {
   "cell_type": "code",
   "execution_count": 308,
   "metadata": {},
   "outputs": [],
   "source": [
    "X = train[new_features]\n",
    "y = train['Won']\n",
    "X_train, X_val, y_train, y_val = train_test_split(X, y, random_state = 23)"
   ]
  },
  {
   "cell_type": "code",
   "execution_count": 56,
   "metadata": {},
   "outputs": [
    {
     "name": "stdout",
     "output_type": "stream",
     "text": [
      "0.708646848402615\n"
     ]
    },
    {
     "data": {
      "text/plain": [
       "{'bootstrap': False,\n",
       " 'criterion': 'gini',\n",
       " 'max_depth': 10,\n",
       " 'max_features': 'log2',\n",
       " 'min_samples_leaf': 4,\n",
       " 'min_samples_split': 2,\n",
       " 'n_estimators': 600}"
      ]
     },
     "execution_count": 56,
     "metadata": {},
     "output_type": "execute_result"
    }
   ],
   "source": [
    "rf = RandomForestClassifier(random_state=44)\n",
    "\n",
    "n_estimators = [int(x) for x in np.linspace(start = 200, stop = 2000, num = 10)]\n",
    "\n",
    "# Maximum number of levels in tree\n",
    "max_depth = [int(x) for x in np.linspace(10, 110, num = 11)]\n",
    "max_depth.append(None)\n",
    "\n",
    "# Method of selecting samples for training each tree\n",
    "bootstrap = [True, False]\n",
    "\n",
    "rf_params = {\n",
    "    'n_estimators': n_estimators,\n",
    "    'criterion': ['gini', 'entropy'],\n",
    "    'min_samples_split': [2, 5, 10],\n",
    "    'min_samples_leaf': [1, 2, 4],\n",
    "    'max_depth': max_depth,\n",
    "    'max_features': ['auto', 'log2'],\n",
    "    'bootstrap': bootstrap\n",
    "}\n",
    "rs_rf = RandomizedSearchCV(rf, rf_params)\n",
    "rs_rf.fit(X_train, y_train)\n",
    "print (rs_rf.best_score_)\n",
    "rs_rf.best_params_"
   ]
  },
  {
   "cell_type": "code",
   "execution_count": 309,
   "metadata": {},
   "outputs": [
    {
     "data": {
      "text/plain": [
       "0.6833148353681096"
      ]
     },
     "execution_count": 309,
     "metadata": {},
     "output_type": "execute_result"
    }
   ],
   "source": [
    "rs_rf.score(X_val, y_val)"
   ]
  },
  {
   "cell_type": "markdown",
   "metadata": {},
   "source": [
    "My original best params. I forgot to pickle but wanted to make sure my bracket and predictions here were the same as my Kaggle submission.\n",
    "\n",
    "'bootstrap': True,\n",
    " 'criterion': 'gini',\n",
    " 'max_depth': None,\n",
    " 'max_features': 'log2',\n",
    " 'min_samples_leaf': 4,\n",
    " 'min_samples_split': 10,\n",
    " 'n_estimators': 200"
   ]
  },
  {
   "cell_type": "code",
   "execution_count": 310,
   "metadata": {},
   "outputs": [
    {
     "data": {
      "text/plain": [
       "RandomForestClassifier(bootstrap=True, class_weight=None, criterion='gini',\n",
       "            max_depth=None, max_features='log2', max_leaf_nodes=None,\n",
       "            min_impurity_decrease=0.0, min_impurity_split=None,\n",
       "            min_samples_leaf=4, min_samples_split=10,\n",
       "            min_weight_fraction_leaf=0.0, n_estimators=200, n_jobs=1,\n",
       "            oob_score=False, random_state=44, verbose=0, warm_start=False)"
      ]
     },
     "execution_count": 310,
     "metadata": {},
     "output_type": "execute_result"
    }
   ],
   "source": [
    "rs_rf = RandomForestClassifier(random_state=44, bootstrap=True, criterion='gini', max_depth=None, max_features='log2', min_samples_leaf=4, min_samples_split=10, n_estimators=200)\n",
    "rs_rf.fit(X_train, y_train)"
   ]
  },
  {
   "cell_type": "code",
   "execution_count": 311,
   "metadata": {},
   "outputs": [
    {
     "data": {
      "text/plain": [
       "0.6833148353681096"
      ]
     },
     "execution_count": 311,
     "metadata": {},
     "output_type": "execute_result"
    }
   ],
   "source": [
    "rs_rf.score(X_val, y_val)"
   ]
  },
  {
   "cell_type": "markdown",
   "metadata": {},
   "source": [
    "# // Building out the predictions for the actual tournament!"
   ]
  },
  {
   "cell_type": "code",
   "execution_count": 312,
   "metadata": {},
   "outputs": [
    {
     "data": {
      "text/plain": [
       "(2278, 2)"
      ]
     },
     "execution_count": 312,
     "metadata": {},
     "output_type": "execute_result"
    }
   ],
   "source": [
    "sample_sub2 = pd.read_csv('Stage2UpdatedDataFiles/SampleSubmissionStage2.csv')\n",
    "sample_sub2.shape"
   ]
  },
  {
   "cell_type": "code",
   "execution_count": 313,
   "metadata": {
    "scrolled": false
   },
   "outputs": [
    {
     "data": {
      "text/html": [
       "<div>\n",
       "<style>\n",
       "    .dataframe thead tr:only-child th {\n",
       "        text-align: right;\n",
       "    }\n",
       "\n",
       "    .dataframe thead th {\n",
       "        text-align: left;\n",
       "    }\n",
       "\n",
       "    .dataframe tbody tr th {\n",
       "        vertical-align: top;\n",
       "    }\n",
       "</style>\n",
       "<table border=\"1\" class=\"dataframe\">\n",
       "  <thead>\n",
       "    <tr style=\"text-align: right;\">\n",
       "      <th></th>\n",
       "      <th>ID</th>\n",
       "      <th>Pred</th>\n",
       "    </tr>\n",
       "  </thead>\n",
       "  <tbody>\n",
       "    <tr>\n",
       "      <th>0</th>\n",
       "      <td>2018_1104_1112</td>\n",
       "      <td>0.5</td>\n",
       "    </tr>\n",
       "    <tr>\n",
       "      <th>1</th>\n",
       "      <td>2018_1104_1113</td>\n",
       "      <td>0.5</td>\n",
       "    </tr>\n",
       "    <tr>\n",
       "      <th>2</th>\n",
       "      <td>2018_1104_1116</td>\n",
       "      <td>0.5</td>\n",
       "    </tr>\n",
       "    <tr>\n",
       "      <th>3</th>\n",
       "      <td>2018_1104_1120</td>\n",
       "      <td>0.5</td>\n",
       "    </tr>\n",
       "    <tr>\n",
       "      <th>4</th>\n",
       "      <td>2018_1104_1137</td>\n",
       "      <td>0.5</td>\n",
       "    </tr>\n",
       "  </tbody>\n",
       "</table>\n",
       "</div>"
      ],
      "text/plain": [
       "               ID  Pred\n",
       "0  2018_1104_1112   0.5\n",
       "1  2018_1104_1113   0.5\n",
       "2  2018_1104_1116   0.5\n",
       "3  2018_1104_1120   0.5\n",
       "4  2018_1104_1137   0.5"
      ]
     },
     "metadata": {},
     "output_type": "display_data"
    },
    {
     "name": "stdout",
     "output_type": "stream",
     "text": [
      "(2278, 2)\n"
     ]
    }
   ],
   "source": [
    "# Starting to build out my \"true test\" to make predictions\n",
    "\n",
    "test = pd.read_csv('Stage2UpdatedDataFiles/SampleSubmissionStage2.csv')\n",
    "display(test.head())\n",
    "print(test.shape)"
   ]
  },
  {
   "cell_type": "code",
   "execution_count": 314,
   "metadata": {},
   "outputs": [
    {
     "data": {
      "text/html": [
       "<div>\n",
       "<style>\n",
       "    .dataframe thead tr:only-child th {\n",
       "        text-align: right;\n",
       "    }\n",
       "\n",
       "    .dataframe thead th {\n",
       "        text-align: left;\n",
       "    }\n",
       "\n",
       "    .dataframe tbody tr th {\n",
       "        vertical-align: top;\n",
       "    }\n",
       "</style>\n",
       "<table border=\"1\" class=\"dataframe\">\n",
       "  <thead>\n",
       "    <tr style=\"text-align: right;\">\n",
       "      <th></th>\n",
       "      <th>ID</th>\n",
       "      <th>Pred</th>\n",
       "      <th>Season</th>\n",
       "      <th>TeamID</th>\n",
       "      <th>OpponentID</th>\n",
       "    </tr>\n",
       "  </thead>\n",
       "  <tbody>\n",
       "    <tr>\n",
       "      <th>0</th>\n",
       "      <td>2018_1104_1112</td>\n",
       "      <td>0.5</td>\n",
       "      <td>2018</td>\n",
       "      <td>1104</td>\n",
       "      <td>1112</td>\n",
       "    </tr>\n",
       "    <tr>\n",
       "      <th>1</th>\n",
       "      <td>2018_1104_1113</td>\n",
       "      <td>0.5</td>\n",
       "      <td>2018</td>\n",
       "      <td>1104</td>\n",
       "      <td>1113</td>\n",
       "    </tr>\n",
       "    <tr>\n",
       "      <th>2</th>\n",
       "      <td>2018_1104_1116</td>\n",
       "      <td>0.5</td>\n",
       "      <td>2018</td>\n",
       "      <td>1104</td>\n",
       "      <td>1116</td>\n",
       "    </tr>\n",
       "  </tbody>\n",
       "</table>\n",
       "</div>"
      ],
      "text/plain": [
       "               ID  Pred  Season  TeamID  OpponentID\n",
       "0  2018_1104_1112   0.5    2018    1104        1112\n",
       "1  2018_1104_1113   0.5    2018    1104        1113\n",
       "2  2018_1104_1116   0.5    2018    1104        1116"
      ]
     },
     "execution_count": 314,
     "metadata": {},
     "output_type": "execute_result"
    }
   ],
   "source": [
    "test['Season']     = test['ID'].apply(lambda ID: int(ID.split('_')[0]))\n",
    "test['TeamID']     = test['ID'].apply(lambda ID: int(ID.split('_')[1]))\n",
    "test['OpponentID'] = test['ID'].apply(lambda ID: int(ID.split('_')[2]))\n",
    "\n",
    "test.head(3)"
   ]
  },
  {
   "cell_type": "code",
   "execution_count": 315,
   "metadata": {},
   "outputs": [
    {
     "data": {
      "text/html": [
       "<div>\n",
       "<style>\n",
       "    .dataframe thead tr:only-child th {\n",
       "        text-align: right;\n",
       "    }\n",
       "\n",
       "    .dataframe thead th {\n",
       "        text-align: left;\n",
       "    }\n",
       "\n",
       "    .dataframe tbody tr th {\n",
       "        vertical-align: top;\n",
       "    }\n",
       "</style>\n",
       "<table border=\"1\" class=\"dataframe\">\n",
       "  <thead>\n",
       "    <tr style=\"text-align: right;\">\n",
       "      <th></th>\n",
       "      <th>OpponentID</th>\n",
       "      <th>Season</th>\n",
       "      <th>TeamID</th>\n",
       "    </tr>\n",
       "  </thead>\n",
       "  <tbody>\n",
       "    <tr>\n",
       "      <th>0</th>\n",
       "      <td>1112</td>\n",
       "      <td>2018</td>\n",
       "      <td>1104</td>\n",
       "    </tr>\n",
       "    <tr>\n",
       "      <th>1</th>\n",
       "      <td>1104</td>\n",
       "      <td>2018</td>\n",
       "      <td>1112</td>\n",
       "    </tr>\n",
       "    <tr>\n",
       "      <th>2</th>\n",
       "      <td>1113</td>\n",
       "      <td>2018</td>\n",
       "      <td>1104</td>\n",
       "    </tr>\n",
       "    <tr>\n",
       "      <th>3</th>\n",
       "      <td>1104</td>\n",
       "      <td>2018</td>\n",
       "      <td>1113</td>\n",
       "    </tr>\n",
       "  </tbody>\n",
       "</table>\n",
       "</div>"
      ],
      "text/plain": [
       "   OpponentID  Season  TeamID\n",
       "0        1112    2018    1104\n",
       "1        1104    2018    1112\n",
       "2        1113    2018    1104\n",
       "3        1104    2018    1113"
      ]
     },
     "execution_count": 315,
     "metadata": {},
     "output_type": "execute_result"
    }
   ],
   "source": [
    "potential_games = []\n",
    "for row in test.to_dict('records'):\n",
    "    \n",
    "    game = {}\n",
    "    game['Season']     = row['Season']\n",
    "    game['TeamID']     = row['TeamID']\n",
    "    game['OpponentID'] = row['OpponentID']\n",
    "    \n",
    "    potential_games.append(game)\n",
    "    \n",
    "    # Break\n",
    "    \n",
    "    game = {}\n",
    "    game['Season']     = row['Season']\n",
    "    game['TeamID']     = row['OpponentID']\n",
    "    game['OpponentID'] = row['TeamID']\n",
    "    \n",
    "    potential_games.append(game)\n",
    "\n",
    "tourney = pd.DataFrame(potential_games)\n",
    "tourney.head(4)"
   ]
  },
  {
   "cell_type": "code",
   "execution_count": 316,
   "metadata": {},
   "outputs": [
    {
     "name": "stdout",
     "output_type": "stream",
     "text": [
      "True\n",
      "(4556, 3)\n"
     ]
    }
   ],
   "source": [
    "# Checking to make sure that worked...\n",
    "print(tourney.shape[0] / sample_sub2.shape[0] == 2)\n",
    "print(tourney.shape)"
   ]
  },
  {
   "cell_type": "code",
   "execution_count": 317,
   "metadata": {},
   "outputs": [
    {
     "data": {
      "text/plain": [
       "Index(['OpponentID', 'Season', 'TeamID', 'Def_Rtg_avg', 'Def_Rtg_dif_avg',\n",
       "       'Eff_FG_avg', 'Eff_FG_dif_avg', 'FTR_avg', 'FTR_dif_avg', 'ORP_avg',\n",
       "       'ORP_dif_avg', 'Off_Rtg_avg', 'Off_Rtg_dif_avg', 'PIE_avg',\n",
       "       'PIE_dif_avg', 'Pos_avg', 'Pos_dif_avg', 'TOR_avg', 'TOR_dif_avg'],\n",
       "      dtype='object')"
      ]
     },
     "execution_count": 317,
     "metadata": {},
     "output_type": "execute_result"
    }
   ],
   "source": [
    "tourney = pd.merge(tourney, summary_stats, on='TeamID')\n",
    "tourney.columns"
   ]
  },
  {
   "cell_type": "code",
   "execution_count": 318,
   "metadata": {},
   "outputs": [
    {
     "data": {
      "text/plain": [
       "Index(['OpponentID', 'Season', 'TeamID_x', 'Def_Rtg_avg_x',\n",
       "       'Def_Rtg_dif_avg_x', 'Eff_FG_avg_x', 'Eff_FG_dif_avg_x', 'FTR_avg_x',\n",
       "       'FTR_dif_avg_x', 'ORP_avg_x', 'ORP_dif_avg_x', 'Off_Rtg_avg_x',\n",
       "       'Off_Rtg_dif_avg_x', 'PIE_avg_x', 'PIE_dif_avg_x', 'Pos_avg_x',\n",
       "       'Pos_dif_avg_x', 'TOR_avg_x', 'TOR_dif_avg_x', 'TeamID_y',\n",
       "       'Def_Rtg_avg_y', 'Def_Rtg_dif_avg_y', 'Eff_FG_avg_y',\n",
       "       'Eff_FG_dif_avg_y', 'FTR_avg_y', 'FTR_dif_avg_y', 'ORP_avg_y',\n",
       "       'ORP_dif_avg_y', 'Off_Rtg_avg_y', 'Off_Rtg_dif_avg_y', 'PIE_avg_y',\n",
       "       'PIE_dif_avg_y', 'Pos_avg_y', 'Pos_dif_avg_y', 'TOR_avg_y',\n",
       "       'TOR_dif_avg_y'],\n",
       "      dtype='object')"
      ]
     },
     "execution_count": 318,
     "metadata": {},
     "output_type": "execute_result"
    }
   ],
   "source": [
    "tourney = pd.merge(tourney, summary_stats, left_on='OpponentID', right_on='TeamID')\n",
    "tourney.columns"
   ]
  },
  {
   "cell_type": "code",
   "execution_count": 319,
   "metadata": {},
   "outputs": [
    {
     "data": {
      "text/plain": [
       "4556"
      ]
     },
     "execution_count": 319,
     "metadata": {},
     "output_type": "execute_result"
    }
   ],
   "source": [
    "predictions = rs_rf.predict_proba(tourney[new_features])[:, 1]\n",
    "len(predictions)"
   ]
  },
  {
   "cell_type": "code",
   "execution_count": 320,
   "metadata": {},
   "outputs": [
    {
     "data": {
      "text/html": [
       "<div>\n",
       "<style>\n",
       "    .dataframe thead tr:only-child th {\n",
       "        text-align: right;\n",
       "    }\n",
       "\n",
       "    .dataframe thead th {\n",
       "        text-align: left;\n",
       "    }\n",
       "\n",
       "    .dataframe tbody tr th {\n",
       "        vertical-align: top;\n",
       "    }\n",
       "</style>\n",
       "<table border=\"1\" class=\"dataframe\">\n",
       "  <thead>\n",
       "    <tr style=\"text-align: right;\">\n",
       "      <th></th>\n",
       "      <th>OpponentID</th>\n",
       "      <th>Season</th>\n",
       "      <th>TeamID_x</th>\n",
       "      <th>Def_Rtg_avg_x</th>\n",
       "      <th>Def_Rtg_dif_avg_x</th>\n",
       "      <th>Eff_FG_avg_x</th>\n",
       "      <th>Eff_FG_dif_avg_x</th>\n",
       "      <th>FTR_avg_x</th>\n",
       "      <th>FTR_dif_avg_x</th>\n",
       "      <th>ORP_avg_x</th>\n",
       "      <th>...</th>\n",
       "      <th>ORP_dif_avg_y</th>\n",
       "      <th>Off_Rtg_avg_y</th>\n",
       "      <th>Off_Rtg_dif_avg_y</th>\n",
       "      <th>PIE_avg_y</th>\n",
       "      <th>PIE_dif_avg_y</th>\n",
       "      <th>Pos_avg_y</th>\n",
       "      <th>Pos_dif_avg_y</th>\n",
       "      <th>TOR_avg_y</th>\n",
       "      <th>TOR_dif_avg_y</th>\n",
       "      <th>Pred</th>\n",
       "    </tr>\n",
       "  </thead>\n",
       "  <tbody>\n",
       "    <tr>\n",
       "      <th>0</th>\n",
       "      <td>1112</td>\n",
       "      <td>2018</td>\n",
       "      <td>1104</td>\n",
       "      <td>104.855974</td>\n",
       "      <td>-3.584883</td>\n",
       "      <td>0.517057</td>\n",
       "      <td>0.038624</td>\n",
       "      <td>0.283183</td>\n",
       "      <td>0.027988</td>\n",
       "      <td>0.289189</td>\n",
       "      <td>...</td>\n",
       "      <td>0.084087</td>\n",
       "      <td>122.505612</td>\n",
       "      <td>15.718304</td>\n",
       "      <td>0.617239</td>\n",
       "      <td>0.234477</td>\n",
       "      <td>65.991529</td>\n",
       "      <td>-0.548894</td>\n",
       "      <td>0.156565</td>\n",
       "      <td>0.0076</td>\n",
       "      <td>0.080061</td>\n",
       "    </tr>\n",
       "    <tr>\n",
       "      <th>1</th>\n",
       "      <td>1112</td>\n",
       "      <td>2018</td>\n",
       "      <td>1113</td>\n",
       "      <td>108.396941</td>\n",
       "      <td>-12.139042</td>\n",
       "      <td>0.540991</td>\n",
       "      <td>0.030367</td>\n",
       "      <td>0.318393</td>\n",
       "      <td>0.075764</td>\n",
       "      <td>0.281520</td>\n",
       "      <td>...</td>\n",
       "      <td>0.084087</td>\n",
       "      <td>122.505612</td>\n",
       "      <td>15.718304</td>\n",
       "      <td>0.617239</td>\n",
       "      <td>0.234477</td>\n",
       "      <td>65.991529</td>\n",
       "      <td>-0.548894</td>\n",
       "      <td>0.156565</td>\n",
       "      <td>0.0076</td>\n",
       "      <td>0.566568</td>\n",
       "    </tr>\n",
       "    <tr>\n",
       "      <th>2</th>\n",
       "      <td>1112</td>\n",
       "      <td>2018</td>\n",
       "      <td>1116</td>\n",
       "      <td>111.079641</td>\n",
       "      <td>-6.830480</td>\n",
       "      <td>0.540016</td>\n",
       "      <td>0.036195</td>\n",
       "      <td>0.260800</td>\n",
       "      <td>-0.042764</td>\n",
       "      <td>0.294323</td>\n",
       "      <td>...</td>\n",
       "      <td>0.084087</td>\n",
       "      <td>122.505612</td>\n",
       "      <td>15.718304</td>\n",
       "      <td>0.617239</td>\n",
       "      <td>0.234477</td>\n",
       "      <td>65.991529</td>\n",
       "      <td>-0.548894</td>\n",
       "      <td>0.156565</td>\n",
       "      <td>0.0076</td>\n",
       "      <td>0.302706</td>\n",
       "    </tr>\n",
       "    <tr>\n",
       "      <th>3</th>\n",
       "      <td>1112</td>\n",
       "      <td>2018</td>\n",
       "      <td>1120</td>\n",
       "      <td>105.430996</td>\n",
       "      <td>-13.866953</td>\n",
       "      <td>0.520490</td>\n",
       "      <td>0.023600</td>\n",
       "      <td>0.316554</td>\n",
       "      <td>0.033519</td>\n",
       "      <td>0.326259</td>\n",
       "      <td>...</td>\n",
       "      <td>0.084087</td>\n",
       "      <td>122.505612</td>\n",
       "      <td>15.718304</td>\n",
       "      <td>0.617239</td>\n",
       "      <td>0.234477</td>\n",
       "      <td>65.991529</td>\n",
       "      <td>-0.548894</td>\n",
       "      <td>0.156565</td>\n",
       "      <td>0.0076</td>\n",
       "      <td>0.617529</td>\n",
       "    </tr>\n",
       "    <tr>\n",
       "      <th>4</th>\n",
       "      <td>1112</td>\n",
       "      <td>2018</td>\n",
       "      <td>1137</td>\n",
       "      <td>104.193261</td>\n",
       "      <td>-11.915957</td>\n",
       "      <td>0.543699</td>\n",
       "      <td>0.068687</td>\n",
       "      <td>0.310584</td>\n",
       "      <td>0.067222</td>\n",
       "      <td>0.271282</td>\n",
       "      <td>...</td>\n",
       "      <td>0.084087</td>\n",
       "      <td>122.505612</td>\n",
       "      <td>15.718304</td>\n",
       "      <td>0.617239</td>\n",
       "      <td>0.234477</td>\n",
       "      <td>65.991529</td>\n",
       "      <td>-0.548894</td>\n",
       "      <td>0.156565</td>\n",
       "      <td>0.0076</td>\n",
       "      <td>0.502844</td>\n",
       "    </tr>\n",
       "  </tbody>\n",
       "</table>\n",
       "<p>5 rows × 37 columns</p>\n",
       "</div>"
      ],
      "text/plain": [
       "   OpponentID  Season  TeamID_x  Def_Rtg_avg_x  Def_Rtg_dif_avg_x  \\\n",
       "0        1112    2018      1104     104.855974          -3.584883   \n",
       "1        1112    2018      1113     108.396941         -12.139042   \n",
       "2        1112    2018      1116     111.079641          -6.830480   \n",
       "3        1112    2018      1120     105.430996         -13.866953   \n",
       "4        1112    2018      1137     104.193261         -11.915957   \n",
       "\n",
       "   Eff_FG_avg_x  Eff_FG_dif_avg_x  FTR_avg_x  FTR_dif_avg_x  ORP_avg_x  \\\n",
       "0      0.517057          0.038624   0.283183       0.027988   0.289189   \n",
       "1      0.540991          0.030367   0.318393       0.075764   0.281520   \n",
       "2      0.540016          0.036195   0.260800      -0.042764   0.294323   \n",
       "3      0.520490          0.023600   0.316554       0.033519   0.326259   \n",
       "4      0.543699          0.068687   0.310584       0.067222   0.271282   \n",
       "\n",
       "     ...     ORP_dif_avg_y  Off_Rtg_avg_y  Off_Rtg_dif_avg_y  PIE_avg_y  \\\n",
       "0    ...          0.084087     122.505612          15.718304   0.617239   \n",
       "1    ...          0.084087     122.505612          15.718304   0.617239   \n",
       "2    ...          0.084087     122.505612          15.718304   0.617239   \n",
       "3    ...          0.084087     122.505612          15.718304   0.617239   \n",
       "4    ...          0.084087     122.505612          15.718304   0.617239   \n",
       "\n",
       "   PIE_dif_avg_y  Pos_avg_y  Pos_dif_avg_y  TOR_avg_y  TOR_dif_avg_y      Pred  \n",
       "0       0.234477  65.991529      -0.548894   0.156565         0.0076  0.080061  \n",
       "1       0.234477  65.991529      -0.548894   0.156565         0.0076  0.566568  \n",
       "2       0.234477  65.991529      -0.548894   0.156565         0.0076  0.302706  \n",
       "3       0.234477  65.991529      -0.548894   0.156565         0.0076  0.617529  \n",
       "4       0.234477  65.991529      -0.548894   0.156565         0.0076  0.502844  \n",
       "\n",
       "[5 rows x 37 columns]"
      ]
     },
     "execution_count": 320,
     "metadata": {},
     "output_type": "execute_result"
    }
   ],
   "source": [
    "tourney['Pred'] = predictions\n",
    "tourney.head()"
   ]
  },
  {
   "cell_type": "code",
   "execution_count": 321,
   "metadata": {},
   "outputs": [
    {
     "name": "stderr",
     "output_type": "stream",
     "text": [
      "/anaconda3/lib/python3.6/site-packages/ipykernel_launcher.py:2: SettingWithCopyWarning: \n",
      "A value is trying to be set on a copy of a slice from a DataFrame.\n",
      "Try using .loc[row_indexer,col_indexer] = value instead\n",
      "\n",
      "See the caveats in the documentation: http://pandas.pydata.org/pandas-docs/stable/indexing.html#indexing-view-versus-copy\n",
      "  \n"
     ]
    },
    {
     "data": {
      "text/html": [
       "<div>\n",
       "<style>\n",
       "    .dataframe thead tr:only-child th {\n",
       "        text-align: right;\n",
       "    }\n",
       "\n",
       "    .dataframe thead th {\n",
       "        text-align: left;\n",
       "    }\n",
       "\n",
       "    .dataframe tbody tr th {\n",
       "        vertical-align: top;\n",
       "    }\n",
       "</style>\n",
       "<table border=\"1\" class=\"dataframe\">\n",
       "  <thead>\n",
       "    <tr style=\"text-align: right;\">\n",
       "      <th></th>\n",
       "      <th>OpponentID</th>\n",
       "      <th>Season</th>\n",
       "      <th>TeamID_x</th>\n",
       "      <th>Def_Rtg_avg_x</th>\n",
       "      <th>Def_Rtg_dif_avg_x</th>\n",
       "      <th>Eff_FG_avg_x</th>\n",
       "      <th>Eff_FG_dif_avg_x</th>\n",
       "      <th>FTR_avg_x</th>\n",
       "      <th>FTR_dif_avg_x</th>\n",
       "      <th>ORP_avg_x</th>\n",
       "      <th>...</th>\n",
       "      <th>Off_Rtg_avg_y</th>\n",
       "      <th>Off_Rtg_dif_avg_y</th>\n",
       "      <th>PIE_avg_y</th>\n",
       "      <th>PIE_dif_avg_y</th>\n",
       "      <th>Pos_avg_y</th>\n",
       "      <th>Pos_dif_avg_y</th>\n",
       "      <th>TOR_avg_y</th>\n",
       "      <th>TOR_dif_avg_y</th>\n",
       "      <th>Pred</th>\n",
       "      <th>ID</th>\n",
       "    </tr>\n",
       "  </thead>\n",
       "  <tbody>\n",
       "    <tr>\n",
       "      <th>0</th>\n",
       "      <td>1112</td>\n",
       "      <td>2018</td>\n",
       "      <td>1104</td>\n",
       "      <td>104.855974</td>\n",
       "      <td>-3.584883</td>\n",
       "      <td>0.517057</td>\n",
       "      <td>0.038624</td>\n",
       "      <td>0.283183</td>\n",
       "      <td>0.027988</td>\n",
       "      <td>0.289189</td>\n",
       "      <td>...</td>\n",
       "      <td>122.505612</td>\n",
       "      <td>15.718304</td>\n",
       "      <td>0.617239</td>\n",
       "      <td>0.234477</td>\n",
       "      <td>65.991529</td>\n",
       "      <td>-0.548894</td>\n",
       "      <td>0.156565</td>\n",
       "      <td>0.007600</td>\n",
       "      <td>0.080061</td>\n",
       "      <td>2018_1104_1112</td>\n",
       "    </tr>\n",
       "    <tr>\n",
       "      <th>67</th>\n",
       "      <td>1113</td>\n",
       "      <td>2018</td>\n",
       "      <td>1104</td>\n",
       "      <td>104.855974</td>\n",
       "      <td>-3.584883</td>\n",
       "      <td>0.517057</td>\n",
       "      <td>0.038624</td>\n",
       "      <td>0.283183</td>\n",
       "      <td>0.027988</td>\n",
       "      <td>0.289189</td>\n",
       "      <td>...</td>\n",
       "      <td>120.535983</td>\n",
       "      <td>12.139042</td>\n",
       "      <td>0.569134</td>\n",
       "      <td>0.138267</td>\n",
       "      <td>69.290942</td>\n",
       "      <td>-0.423639</td>\n",
       "      <td>0.130841</td>\n",
       "      <td>-0.046328</td>\n",
       "      <td>0.597357</td>\n",
       "      <td>2018_1104_1113</td>\n",
       "    </tr>\n",
       "    <tr>\n",
       "      <th>68</th>\n",
       "      <td>1113</td>\n",
       "      <td>2018</td>\n",
       "      <td>1112</td>\n",
       "      <td>106.787308</td>\n",
       "      <td>-15.718304</td>\n",
       "      <td>0.569693</td>\n",
       "      <td>0.075634</td>\n",
       "      <td>0.294858</td>\n",
       "      <td>0.060403</td>\n",
       "      <td>0.329417</td>\n",
       "      <td>...</td>\n",
       "      <td>120.535983</td>\n",
       "      <td>12.139042</td>\n",
       "      <td>0.569134</td>\n",
       "      <td>0.138267</td>\n",
       "      <td>69.290942</td>\n",
       "      <td>-0.423639</td>\n",
       "      <td>0.130841</td>\n",
       "      <td>-0.046328</td>\n",
       "      <td>0.738149</td>\n",
       "      <td>2018_1112_1113</td>\n",
       "    </tr>\n",
       "    <tr>\n",
       "      <th>134</th>\n",
       "      <td>1116</td>\n",
       "      <td>2018</td>\n",
       "      <td>1104</td>\n",
       "      <td>104.855974</td>\n",
       "      <td>-3.584883</td>\n",
       "      <td>0.517057</td>\n",
       "      <td>0.038624</td>\n",
       "      <td>0.283183</td>\n",
       "      <td>0.027988</td>\n",
       "      <td>0.289189</td>\n",
       "      <td>...</td>\n",
       "      <td>117.910121</td>\n",
       "      <td>6.830480</td>\n",
       "      <td>0.546346</td>\n",
       "      <td>0.092693</td>\n",
       "      <td>68.606118</td>\n",
       "      <td>0.332047</td>\n",
       "      <td>0.134841</td>\n",
       "      <td>-0.034584</td>\n",
       "      <td>0.382128</td>\n",
       "      <td>2018_1104_1116</td>\n",
       "    </tr>\n",
       "    <tr>\n",
       "      <th>135</th>\n",
       "      <td>1116</td>\n",
       "      <td>2018</td>\n",
       "      <td>1112</td>\n",
       "      <td>106.787308</td>\n",
       "      <td>-15.718304</td>\n",
       "      <td>0.569693</td>\n",
       "      <td>0.075634</td>\n",
       "      <td>0.294858</td>\n",
       "      <td>0.060403</td>\n",
       "      <td>0.329417</td>\n",
       "      <td>...</td>\n",
       "      <td>117.910121</td>\n",
       "      <td>6.830480</td>\n",
       "      <td>0.546346</td>\n",
       "      <td>0.092693</td>\n",
       "      <td>68.606118</td>\n",
       "      <td>0.332047</td>\n",
       "      <td>0.134841</td>\n",
       "      <td>-0.034584</td>\n",
       "      <td>0.652082</td>\n",
       "      <td>2018_1112_1116</td>\n",
       "    </tr>\n",
       "  </tbody>\n",
       "</table>\n",
       "<p>5 rows × 38 columns</p>\n",
       "</div>"
      ],
      "text/plain": [
       "     OpponentID  Season  TeamID_x  Def_Rtg_avg_x  Def_Rtg_dif_avg_x  \\\n",
       "0          1112    2018      1104     104.855974          -3.584883   \n",
       "67         1113    2018      1104     104.855974          -3.584883   \n",
       "68         1113    2018      1112     106.787308         -15.718304   \n",
       "134        1116    2018      1104     104.855974          -3.584883   \n",
       "135        1116    2018      1112     106.787308         -15.718304   \n",
       "\n",
       "     Eff_FG_avg_x  Eff_FG_dif_avg_x  FTR_avg_x  FTR_dif_avg_x  ORP_avg_x  \\\n",
       "0        0.517057          0.038624   0.283183       0.027988   0.289189   \n",
       "67       0.517057          0.038624   0.283183       0.027988   0.289189   \n",
       "68       0.569693          0.075634   0.294858       0.060403   0.329417   \n",
       "134      0.517057          0.038624   0.283183       0.027988   0.289189   \n",
       "135      0.569693          0.075634   0.294858       0.060403   0.329417   \n",
       "\n",
       "          ...        Off_Rtg_avg_y  Off_Rtg_dif_avg_y  PIE_avg_y  \\\n",
       "0         ...           122.505612          15.718304   0.617239   \n",
       "67        ...           120.535983          12.139042   0.569134   \n",
       "68        ...           120.535983          12.139042   0.569134   \n",
       "134       ...           117.910121           6.830480   0.546346   \n",
       "135       ...           117.910121           6.830480   0.546346   \n",
       "\n",
       "     PIE_dif_avg_y  Pos_avg_y  Pos_dif_avg_y  TOR_avg_y  TOR_dif_avg_y  \\\n",
       "0         0.234477  65.991529      -0.548894   0.156565       0.007600   \n",
       "67        0.138267  69.290942      -0.423639   0.130841      -0.046328   \n",
       "68        0.138267  69.290942      -0.423639   0.130841      -0.046328   \n",
       "134       0.092693  68.606118       0.332047   0.134841      -0.034584   \n",
       "135       0.092693  68.606118       0.332047   0.134841      -0.034584   \n",
       "\n",
       "         Pred              ID  \n",
       "0    0.080061  2018_1104_1112  \n",
       "67   0.597357  2018_1104_1113  \n",
       "68   0.738149  2018_1112_1113  \n",
       "134  0.382128  2018_1104_1116  \n",
       "135  0.652082  2018_1112_1116  \n",
       "\n",
       "[5 rows x 38 columns]"
      ]
     },
     "execution_count": 321,
     "metadata": {},
     "output_type": "execute_result"
    }
   ],
   "source": [
    "tourn_corr = tourney[tourney['TeamID_x'] < tourney['OpponentID']]\n",
    "tourn_corr['ID'] = tourn_corr.apply(lambda row: '{}_{}_{}'.format(int(row['Season']), int(row['TeamID_x']), int(row['OpponentID'])), axis = 1)\n",
    "tourn_corr.head()"
   ]
  },
  {
   "cell_type": "code",
   "execution_count": 322,
   "metadata": {},
   "outputs": [
    {
     "data": {
      "text/html": [
       "<div>\n",
       "<style>\n",
       "    .dataframe thead tr:only-child th {\n",
       "        text-align: right;\n",
       "    }\n",
       "\n",
       "    .dataframe thead th {\n",
       "        text-align: left;\n",
       "    }\n",
       "\n",
       "    .dataframe tbody tr th {\n",
       "        vertical-align: top;\n",
       "    }\n",
       "</style>\n",
       "<table border=\"1\" class=\"dataframe\">\n",
       "  <thead>\n",
       "    <tr style=\"text-align: right;\">\n",
       "      <th></th>\n",
       "      <th>ID</th>\n",
       "      <th>Pred</th>\n",
       "    </tr>\n",
       "  </thead>\n",
       "  <tbody>\n",
       "    <tr>\n",
       "      <th>0</th>\n",
       "      <td>2018_1104_1112</td>\n",
       "      <td>0.080061</td>\n",
       "    </tr>\n",
       "    <tr>\n",
       "      <th>67</th>\n",
       "      <td>2018_1104_1113</td>\n",
       "      <td>0.597357</td>\n",
       "    </tr>\n",
       "    <tr>\n",
       "      <th>68</th>\n",
       "      <td>2018_1112_1113</td>\n",
       "      <td>0.738149</td>\n",
       "    </tr>\n",
       "    <tr>\n",
       "      <th>134</th>\n",
       "      <td>2018_1104_1116</td>\n",
       "      <td>0.382128</td>\n",
       "    </tr>\n",
       "    <tr>\n",
       "      <th>135</th>\n",
       "      <td>2018_1112_1116</td>\n",
       "      <td>0.652082</td>\n",
       "    </tr>\n",
       "  </tbody>\n",
       "</table>\n",
       "</div>"
      ],
      "text/plain": [
       "                 ID      Pred\n",
       "0    2018_1104_1112  0.080061\n",
       "67   2018_1104_1113  0.597357\n",
       "68   2018_1112_1113  0.738149\n",
       "134  2018_1104_1116  0.382128\n",
       "135  2018_1112_1116  0.652082"
      ]
     },
     "execution_count": 322,
     "metadata": {},
     "output_type": "execute_result"
    }
   ],
   "source": [
    "submissions = pd.DataFrame()\n",
    "submissions['ID'] = tourn_corr['ID']\n",
    "submissions['Pred'] = tourn_corr['Pred']\n",
    "\n",
    "submissions.head()"
   ]
  },
  {
   "cell_type": "code",
   "execution_count": 323,
   "metadata": {},
   "outputs": [
    {
     "data": {
      "text/plain": [
       "0.9420872311168363"
      ]
     },
     "execution_count": 323,
     "metadata": {},
     "output_type": "execute_result"
    }
   ],
   "source": [
    "submissions.to_csv('MM_submissions_2.csv', index=False)\n",
    "submissions.Pred.max()"
   ]
  },
  {
   "cell_type": "code",
   "execution_count": 324,
   "metadata": {},
   "outputs": [
    {
     "data": {
      "image/png": "[encoded data removed]",
      "text/plain": [
       "<matplotlib.figure.Figure at 0x111ff0fd0>"
      ]
     },
     "metadata": {},
     "output_type": "display_data"
    }
   ],
   "source": [
    "plt.figure(figsize=(12, 8))\n",
    "plt.title('Prediction Distributions', fontsize = 20, fontweight = 'bold')\n",
    "plt.xlabel('Predicted Probabilities', fontsize = 15, fontweight = 'bold')\n",
    "plt.ylabel('Prediction Occurences', fontsize = 15, fontweight = 'bold')\n",
    "plt.hist(submissions.Pred, bins=10, color='maroon', alpha = .85, edgecolor='k');\n",
    "plt.savefig('PredictionDistributions.png')"
   ]
  },
  {
   "cell_type": "markdown",
   "metadata": {},
   "source": [
    "# // Hindsight is 20/20"
   ]
  },
  {
   "cell_type": "markdown",
   "metadata": {},
   "source": [
    "First I'll adjust for the results of the one play-in game my model incorrectly predicted between ASU and Syracuse."
   ]
  },
  {
   "cell_type": "code",
   "execution_count": 325,
   "metadata": {},
   "outputs": [
    {
     "data": {
      "text/html": [
       "<div>\n",
       "<style>\n",
       "    .dataframe thead tr:only-child th {\n",
       "        text-align: right;\n",
       "    }\n",
       "\n",
       "    .dataframe thead th {\n",
       "        text-align: left;\n",
       "    }\n",
       "\n",
       "    .dataframe tbody tr th {\n",
       "        vertical-align: top;\n",
       "    }\n",
       "</style>\n",
       "<table border=\"1\" class=\"dataframe\">\n",
       "  <thead>\n",
       "    <tr style=\"text-align: right;\">\n",
       "      <th></th>\n",
       "      <th>TeamID</th>\n",
       "      <th>TeamName</th>\n",
       "      <th>FirstD1Season</th>\n",
       "      <th>LastD1Season</th>\n",
       "    </tr>\n",
       "  </thead>\n",
       "  <tbody>\n",
       "    <tr>\n",
       "      <th>12</th>\n",
       "      <td>1113</td>\n",
       "      <td>Arizona St</td>\n",
       "      <td>1985</td>\n",
       "      <td>2018</td>\n",
       "    </tr>\n",
       "  </tbody>\n",
       "</table>\n",
       "</div>"
      ],
      "text/plain": [
       "    TeamID    TeamName  FirstD1Season  LastD1Season\n",
       "12    1113  Arizona St           1985          2018"
      ]
     },
     "execution_count": 325,
     "metadata": {},
     "output_type": "execute_result"
    }
   ],
   "source": [
    "teams.loc[teams.TeamName == 'Arizona St', :]"
   ]
  },
  {
   "cell_type": "code",
   "execution_count": 326,
   "metadata": {},
   "outputs": [
    {
     "data": {
      "text/html": [
       "<div>\n",
       "<style>\n",
       "    .dataframe thead tr:only-child th {\n",
       "        text-align: right;\n",
       "    }\n",
       "\n",
       "    .dataframe thead th {\n",
       "        text-align: left;\n",
       "    }\n",
       "\n",
       "    .dataframe tbody tr th {\n",
       "        vertical-align: top;\n",
       "    }\n",
       "</style>\n",
       "<table border=\"1\" class=\"dataframe\">\n",
       "  <thead>\n",
       "    <tr style=\"text-align: right;\">\n",
       "      <th></th>\n",
       "      <th>TeamID</th>\n",
       "      <th>TeamName</th>\n",
       "      <th>FirstD1Season</th>\n",
       "      <th>LastD1Season</th>\n",
       "    </tr>\n",
       "  </thead>\n",
       "  <tbody>\n",
       "    <tr>\n",
       "      <th>292</th>\n",
       "      <td>1393</td>\n",
       "      <td>Syracuse</td>\n",
       "      <td>1985</td>\n",
       "      <td>2018</td>\n",
       "    </tr>\n",
       "  </tbody>\n",
       "</table>\n",
       "</div>"
      ],
      "text/plain": [
       "     TeamID  TeamName  FirstD1Season  LastD1Season\n",
       "292    1393  Syracuse           1985          2018"
      ]
     },
     "execution_count": 326,
     "metadata": {},
     "output_type": "execute_result"
    }
   ],
   "source": [
    "teams.loc[teams.TeamName == 'Syracuse', :]"
   ]
  },
  {
   "cell_type": "code",
   "execution_count": 327,
   "metadata": {},
   "outputs": [
    {
     "data": {
      "text/html": [
       "<div>\n",
       "<style>\n",
       "    .dataframe thead tr:only-child th {\n",
       "        text-align: right;\n",
       "    }\n",
       "\n",
       "    .dataframe thead th {\n",
       "        text-align: left;\n",
       "    }\n",
       "\n",
       "    .dataframe tbody tr th {\n",
       "        vertical-align: top;\n",
       "    }\n",
       "</style>\n",
       "<table border=\"1\" class=\"dataframe\">\n",
       "  <thead>\n",
       "    <tr style=\"text-align: right;\">\n",
       "      <th></th>\n",
       "      <th>ID</th>\n",
       "      <th>Pred</th>\n",
       "    </tr>\n",
       "  </thead>\n",
       "  <tbody>\n",
       "    <tr>\n",
       "      <th>3352</th>\n",
       "      <td>2018_1113_1393</td>\n",
       "      <td>0.653982</td>\n",
       "    </tr>\n",
       "  </tbody>\n",
       "</table>\n",
       "</div>"
      ],
      "text/plain": [
       "                  ID      Pred\n",
       "3352  2018_1113_1393  0.653982"
      ]
     },
     "execution_count": 327,
     "metadata": {},
     "output_type": "execute_result"
    }
   ],
   "source": [
    "submissions.loc[submissions.ID == '2018_1113_1393', :]"
   ]
  },
  {
   "cell_type": "code",
   "execution_count": 328,
   "metadata": {},
   "outputs": [
    {
     "data": {
      "text/html": [
       "<div>\n",
       "<style>\n",
       "    .dataframe thead tr:only-child th {\n",
       "        text-align: right;\n",
       "    }\n",
       "\n",
       "    .dataframe thead th {\n",
       "        text-align: left;\n",
       "    }\n",
       "\n",
       "    .dataframe tbody tr th {\n",
       "        vertical-align: top;\n",
       "    }\n",
       "</style>\n",
       "<table border=\"1\" class=\"dataframe\">\n",
       "  <thead>\n",
       "    <tr style=\"text-align: right;\">\n",
       "      <th></th>\n",
       "      <th>ID</th>\n",
       "      <th>Pred</th>\n",
       "    </tr>\n",
       "  </thead>\n",
       "  <tbody>\n",
       "    <tr>\n",
       "      <th>0</th>\n",
       "      <td>2018_1104_1112</td>\n",
       "      <td>0.080061</td>\n",
       "    </tr>\n",
       "    <tr>\n",
       "      <th>67</th>\n",
       "      <td>2018_1104_1113</td>\n",
       "      <td>0.597357</td>\n",
       "    </tr>\n",
       "    <tr>\n",
       "      <th>68</th>\n",
       "      <td>2018_1112_1113</td>\n",
       "      <td>0.738149</td>\n",
       "    </tr>\n",
       "    <tr>\n",
       "      <th>134</th>\n",
       "      <td>2018_1104_1116</td>\n",
       "      <td>0.382128</td>\n",
       "    </tr>\n",
       "    <tr>\n",
       "      <th>135</th>\n",
       "      <td>2018_1112_1116</td>\n",
       "      <td>0.652082</td>\n",
       "    </tr>\n",
       "    <tr>\n",
       "      <th>136</th>\n",
       "      <td>2018_1113_1116</td>\n",
       "      <td>0.587313</td>\n",
       "    </tr>\n",
       "    <tr>\n",
       "      <th>201</th>\n",
       "      <td>2018_1104_1120</td>\n",
       "      <td>0.461294</td>\n",
       "    </tr>\n",
       "    <tr>\n",
       "      <th>202</th>\n",
       "      <td>2018_1112_1120</td>\n",
       "      <td>0.476311</td>\n",
       "    </tr>\n",
       "    <tr>\n",
       "      <th>203</th>\n",
       "      <td>2018_1113_1120</td>\n",
       "      <td>0.596957</td>\n",
       "    </tr>\n",
       "    <tr>\n",
       "      <th>204</th>\n",
       "      <td>2018_1116_1120</td>\n",
       "      <td>0.445451</td>\n",
       "    </tr>\n",
       "    <tr>\n",
       "      <th>268</th>\n",
       "      <td>2018_1104_1137</td>\n",
       "      <td>0.501749</td>\n",
       "    </tr>\n",
       "    <tr>\n",
       "      <th>269</th>\n",
       "      <td>2018_1112_1137</td>\n",
       "      <td>0.734882</td>\n",
       "    </tr>\n",
       "    <tr>\n",
       "      <th>270</th>\n",
       "      <td>2018_1113_1137</td>\n",
       "      <td>0.730968</td>\n",
       "    </tr>\n",
       "    <tr>\n",
       "      <th>271</th>\n",
       "      <td>2018_1116_1137</td>\n",
       "      <td>0.667162</td>\n",
       "    </tr>\n",
       "    <tr>\n",
       "      <th>272</th>\n",
       "      <td>2018_1120_1137</td>\n",
       "      <td>0.745681</td>\n",
       "    </tr>\n",
       "    <tr>\n",
       "      <th>335</th>\n",
       "      <td>2018_1104_1138</td>\n",
       "      <td>0.322486</td>\n",
       "    </tr>\n",
       "    <tr>\n",
       "      <th>336</th>\n",
       "      <td>2018_1112_1138</td>\n",
       "      <td>0.702688</td>\n",
       "    </tr>\n",
       "    <tr>\n",
       "      <th>337</th>\n",
       "      <td>2018_1113_1138</td>\n",
       "      <td>0.652952</td>\n",
       "    </tr>\n",
       "    <tr>\n",
       "      <th>338</th>\n",
       "      <td>2018_1116_1138</td>\n",
       "      <td>0.344917</td>\n",
       "    </tr>\n",
       "    <tr>\n",
       "      <th>339</th>\n",
       "      <td>2018_1120_1138</td>\n",
       "      <td>0.715069</td>\n",
       "    </tr>\n",
       "    <tr>\n",
       "      <th>340</th>\n",
       "      <td>2018_1137_1138</td>\n",
       "      <td>0.537283</td>\n",
       "    </tr>\n",
       "    <tr>\n",
       "      <th>402</th>\n",
       "      <td>2018_1104_1139</td>\n",
       "      <td>0.490644</td>\n",
       "    </tr>\n",
       "    <tr>\n",
       "      <th>403</th>\n",
       "      <td>2018_1112_1139</td>\n",
       "      <td>0.642478</td>\n",
       "    </tr>\n",
       "    <tr>\n",
       "      <th>404</th>\n",
       "      <td>2018_1113_1139</td>\n",
       "      <td>0.532949</td>\n",
       "    </tr>\n",
       "    <tr>\n",
       "      <th>405</th>\n",
       "      <td>2018_1116_1139</td>\n",
       "      <td>0.509045</td>\n",
       "    </tr>\n",
       "    <tr>\n",
       "      <th>406</th>\n",
       "      <td>2018_1120_1139</td>\n",
       "      <td>0.616148</td>\n",
       "    </tr>\n",
       "    <tr>\n",
       "      <th>407</th>\n",
       "      <td>2018_1137_1139</td>\n",
       "      <td>0.463829</td>\n",
       "    </tr>\n",
       "    <tr>\n",
       "      <th>408</th>\n",
       "      <td>2018_1138_1139</td>\n",
       "      <td>0.562763</td>\n",
       "    </tr>\n",
       "    <tr>\n",
       "      <th>469</th>\n",
       "      <td>2018_1104_1153</td>\n",
       "      <td>0.077543</td>\n",
       "    </tr>\n",
       "    <tr>\n",
       "      <th>470</th>\n",
       "      <td>2018_1112_1153</td>\n",
       "      <td>0.434434</td>\n",
       "    </tr>\n",
       "    <tr>\n",
       "      <th>...</th>\n",
       "      <td>...</td>\n",
       "      <td>...</td>\n",
       "    </tr>\n",
       "    <tr>\n",
       "      <th>4459</th>\n",
       "      <td>2018_1308_1462</td>\n",
       "      <td>0.519272</td>\n",
       "    </tr>\n",
       "    <tr>\n",
       "      <th>4460</th>\n",
       "      <td>2018_1314_1462</td>\n",
       "      <td>0.566657</td>\n",
       "    </tr>\n",
       "    <tr>\n",
       "      <th>4461</th>\n",
       "      <td>2018_1326_1462</td>\n",
       "      <td>0.491905</td>\n",
       "    </tr>\n",
       "    <tr>\n",
       "      <th>4462</th>\n",
       "      <td>2018_1328_1462</td>\n",
       "      <td>0.328625</td>\n",
       "    </tr>\n",
       "    <tr>\n",
       "      <th>4463</th>\n",
       "      <td>2018_1335_1462</td>\n",
       "      <td>0.289775</td>\n",
       "    </tr>\n",
       "    <tr>\n",
       "      <th>4464</th>\n",
       "      <td>2018_1344_1462</td>\n",
       "      <td>0.480558</td>\n",
       "    </tr>\n",
       "    <tr>\n",
       "      <th>4465</th>\n",
       "      <td>2018_1345_1462</td>\n",
       "      <td>0.576891</td>\n",
       "    </tr>\n",
       "    <tr>\n",
       "      <th>4466</th>\n",
       "      <td>2018_1347_1462</td>\n",
       "      <td>0.216808</td>\n",
       "    </tr>\n",
       "    <tr>\n",
       "      <th>4467</th>\n",
       "      <td>2018_1348_1462</td>\n",
       "      <td>0.408801</td>\n",
       "    </tr>\n",
       "    <tr>\n",
       "      <th>4468</th>\n",
       "      <td>2018_1355_1462</td>\n",
       "      <td>0.515641</td>\n",
       "    </tr>\n",
       "    <tr>\n",
       "      <th>4469</th>\n",
       "      <td>2018_1361_1462</td>\n",
       "      <td>0.598082</td>\n",
       "    </tr>\n",
       "    <tr>\n",
       "      <th>4470</th>\n",
       "      <td>2018_1371_1462</td>\n",
       "      <td>0.230081</td>\n",
       "    </tr>\n",
       "    <tr>\n",
       "      <th>4471</th>\n",
       "      <td>2018_1372_1462</td>\n",
       "      <td>0.475628</td>\n",
       "    </tr>\n",
       "    <tr>\n",
       "      <th>4472</th>\n",
       "      <td>2018_1382_1462</td>\n",
       "      <td>0.591410</td>\n",
       "    </tr>\n",
       "    <tr>\n",
       "      <th>4473</th>\n",
       "      <td>2018_1393_1462</td>\n",
       "      <td>0.349267</td>\n",
       "    </tr>\n",
       "    <tr>\n",
       "      <th>4474</th>\n",
       "      <td>2018_1395_1462</td>\n",
       "      <td>0.409271</td>\n",
       "    </tr>\n",
       "    <tr>\n",
       "      <th>4475</th>\n",
       "      <td>2018_1397_1462</td>\n",
       "      <td>0.447597</td>\n",
       "    </tr>\n",
       "    <tr>\n",
       "      <th>4476</th>\n",
       "      <td>2018_1400_1462</td>\n",
       "      <td>0.196665</td>\n",
       "    </tr>\n",
       "    <tr>\n",
       "      <th>4477</th>\n",
       "      <td>2018_1401_1462</td>\n",
       "      <td>0.241987</td>\n",
       "    </tr>\n",
       "    <tr>\n",
       "      <th>4478</th>\n",
       "      <td>2018_1403_1462</td>\n",
       "      <td>0.547621</td>\n",
       "    </tr>\n",
       "    <tr>\n",
       "      <th>4479</th>\n",
       "      <td>2018_1411_1462</td>\n",
       "      <td>0.150839</td>\n",
       "    </tr>\n",
       "    <tr>\n",
       "      <th>4480</th>\n",
       "      <td>2018_1417_1462</td>\n",
       "      <td>0.257779</td>\n",
       "    </tr>\n",
       "    <tr>\n",
       "      <th>4481</th>\n",
       "      <td>2018_1420_1462</td>\n",
       "      <td>0.245597</td>\n",
       "    </tr>\n",
       "    <tr>\n",
       "      <th>4482</th>\n",
       "      <td>2018_1422_1462</td>\n",
       "      <td>0.513098</td>\n",
       "    </tr>\n",
       "    <tr>\n",
       "      <th>4483</th>\n",
       "      <td>2018_1437_1462</td>\n",
       "      <td>0.723350</td>\n",
       "    </tr>\n",
       "    <tr>\n",
       "      <th>4484</th>\n",
       "      <td>2018_1438_1462</td>\n",
       "      <td>0.586890</td>\n",
       "    </tr>\n",
       "    <tr>\n",
       "      <th>4485</th>\n",
       "      <td>2018_1439_1462</td>\n",
       "      <td>0.329123</td>\n",
       "    </tr>\n",
       "    <tr>\n",
       "      <th>4486</th>\n",
       "      <td>2018_1452_1462</td>\n",
       "      <td>0.418430</td>\n",
       "    </tr>\n",
       "    <tr>\n",
       "      <th>4487</th>\n",
       "      <td>2018_1455_1462</td>\n",
       "      <td>0.554926</td>\n",
       "    </tr>\n",
       "    <tr>\n",
       "      <th>4488</th>\n",
       "      <td>2018_1460_1462</td>\n",
       "      <td>0.276227</td>\n",
       "    </tr>\n",
       "  </tbody>\n",
       "</table>\n",
       "<p>2278 rows × 2 columns</p>\n",
       "</div>"
      ],
      "text/plain": [
       "                  ID      Pred\n",
       "0     2018_1104_1112  0.080061\n",
       "67    2018_1104_1113  0.597357\n",
       "68    2018_1112_1113  0.738149\n",
       "134   2018_1104_1116  0.382128\n",
       "135   2018_1112_1116  0.652082\n",
       "136   2018_1113_1116  0.587313\n",
       "201   2018_1104_1120  0.461294\n",
       "202   2018_1112_1120  0.476311\n",
       "203   2018_1113_1120  0.596957\n",
       "204   2018_1116_1120  0.445451\n",
       "268   2018_1104_1137  0.501749\n",
       "269   2018_1112_1137  0.734882\n",
       "270   2018_1113_1137  0.730968\n",
       "271   2018_1116_1137  0.667162\n",
       "272   2018_1120_1137  0.745681\n",
       "335   2018_1104_1138  0.322486\n",
       "336   2018_1112_1138  0.702688\n",
       "337   2018_1113_1138  0.652952\n",
       "338   2018_1116_1138  0.344917\n",
       "339   2018_1120_1138  0.715069\n",
       "340   2018_1137_1138  0.537283\n",
       "402   2018_1104_1139  0.490644\n",
       "403   2018_1112_1139  0.642478\n",
       "404   2018_1113_1139  0.532949\n",
       "405   2018_1116_1139  0.509045\n",
       "406   2018_1120_1139  0.616148\n",
       "407   2018_1137_1139  0.463829\n",
       "408   2018_1138_1139  0.562763\n",
       "469   2018_1104_1153  0.077543\n",
       "470   2018_1112_1153  0.434434\n",
       "...              ...       ...\n",
       "4459  2018_1308_1462  0.519272\n",
       "4460  2018_1314_1462  0.566657\n",
       "4461  2018_1326_1462  0.491905\n",
       "4462  2018_1328_1462  0.328625\n",
       "4463  2018_1335_1462  0.289775\n",
       "4464  2018_1344_1462  0.480558\n",
       "4465  2018_1345_1462  0.576891\n",
       "4466  2018_1347_1462  0.216808\n",
       "4467  2018_1348_1462  0.408801\n",
       "4468  2018_1355_1462  0.515641\n",
       "4469  2018_1361_1462  0.598082\n",
       "4470  2018_1371_1462  0.230081\n",
       "4471  2018_1372_1462  0.475628\n",
       "4472  2018_1382_1462  0.591410\n",
       "4473  2018_1393_1462  0.349267\n",
       "4474  2018_1395_1462  0.409271\n",
       "4475  2018_1397_1462  0.447597\n",
       "4476  2018_1400_1462  0.196665\n",
       "4477  2018_1401_1462  0.241987\n",
       "4478  2018_1403_1462  0.547621\n",
       "4479  2018_1411_1462  0.150839\n",
       "4480  2018_1417_1462  0.257779\n",
       "4481  2018_1420_1462  0.245597\n",
       "4482  2018_1422_1462  0.513098\n",
       "4483  2018_1437_1462  0.723350\n",
       "4484  2018_1438_1462  0.586890\n",
       "4485  2018_1439_1462  0.329123\n",
       "4486  2018_1452_1462  0.418430\n",
       "4487  2018_1455_1462  0.554926\n",
       "4488  2018_1460_1462  0.276227\n",
       "\n",
       "[2278 rows x 2 columns]"
      ]
     },
     "execution_count": 328,
     "metadata": {},
     "output_type": "execute_result"
    }
   ],
   "source": [
    "submissions.set_value(3352, 'Pred', 0.4999)"
   ]
  },
  {
   "cell_type": "code",
   "execution_count": 329,
   "metadata": {},
   "outputs": [],
   "source": [
    "submissions.to_csv('MM_submissions_2.csv', index=False)"
   ]
  },
  {
   "cell_type": "markdown",
   "metadata": {},
   "source": [
    "### // Tom Cruise and Bracketology"
   ]
  },
  {
   "cell_type": "code",
   "execution_count": 330,
   "metadata": {},
   "outputs": [
    {
     "data": {
      "image/png": "[encoded data removed]",
      "text/plain": [
       "<IPython.core.display.Image object>"
      ]
     },
     "execution_count": 330,
     "metadata": {},
     "output_type": "execute_result"
    }
   ],
   "source": [
    "from bracketeer import build_bracket\n",
    "b = build_bracket(\n",
    "        outputPath='output.png',\n",
    "        teamsPath='../Datasets/DataFiles/Teams.csv',\n",
    "        seedsPath='Stage2UpdatedDataFiles/NCAATourneySeeds.csv',\n",
    "        submissionPath='MM_submissions_2.csv',\n",
    "        slotsPath='Stage2UpdatedDataFiles/NCAATourneySlots.csv',\n",
    "        year=2018\n",
    ")\n",
    "\n",
    "from IPython.display import Image\n",
    "Image(\"output.png\")"
   ]
  },
  {
   "cell_type": "markdown",
   "metadata": {},
   "source": [
    "### // So everything looks reasonable enough except for that Bucknell upset. Let's investigate."
   ]
  },
  {
   "cell_type": "code",
   "execution_count": 331,
   "metadata": {
    "scrolled": true
   },
   "outputs": [
    {
     "data": {
      "text/plain": [
       "array([0.03079953, 0.05540037, 0.01994204, 0.03155341, 0.01849015,\n",
       "       0.01858212, 0.01883329, 0.01940497, 0.03392523, 0.06678641,\n",
       "       0.0561224 , 0.05092772, 0.01898301, 0.01814855, 0.01984896,\n",
       "       0.01898022, 0.02669659, 0.06522537, 0.02218822, 0.03419866,\n",
       "       0.01875569, 0.01816576, 0.01753096, 0.01890053, 0.0339886 ,\n",
       "       0.05680317, 0.05393907, 0.05910929, 0.01830432, 0.01839134,\n",
       "       0.02116435, 0.01990972])"
      ]
     },
     "execution_count": 331,
     "metadata": {},
     "output_type": "execute_result"
    }
   ],
   "source": [
    "rs_rf.feature_importances_"
   ]
  },
  {
   "cell_type": "code",
   "execution_count": 332,
   "metadata": {
    "scrolled": true
   },
   "outputs": [
    {
     "data": {
      "text/html": [
       "<div>\n",
       "<style>\n",
       "    .dataframe thead tr:only-child th {\n",
       "        text-align: right;\n",
       "    }\n",
       "\n",
       "    .dataframe thead th {\n",
       "        text-align: left;\n",
       "    }\n",
       "\n",
       "    .dataframe tbody tr th {\n",
       "        vertical-align: top;\n",
       "    }\n",
       "</style>\n",
       "<table border=\"1\" class=\"dataframe\">\n",
       "  <thead>\n",
       "    <tr style=\"text-align: right;\">\n",
       "      <th></th>\n",
       "      <th>feature</th>\n",
       "      <th>importance</th>\n",
       "    </tr>\n",
       "  </thead>\n",
       "  <tbody>\n",
       "    <tr>\n",
       "      <th>9</th>\n",
       "      <td>Off_Rtg_dif_avg_x</td>\n",
       "      <td>0.066786</td>\n",
       "    </tr>\n",
       "    <tr>\n",
       "      <th>17</th>\n",
       "      <td>Def_Rtg_dif_avg_y</td>\n",
       "      <td>0.065225</td>\n",
       "    </tr>\n",
       "    <tr>\n",
       "      <th>27</th>\n",
       "      <td>PIE_dif_avg_y</td>\n",
       "      <td>0.059109</td>\n",
       "    </tr>\n",
       "    <tr>\n",
       "      <th>25</th>\n",
       "      <td>Off_Rtg_dif_avg_y</td>\n",
       "      <td>0.056803</td>\n",
       "    </tr>\n",
       "    <tr>\n",
       "      <th>10</th>\n",
       "      <td>PIE_avg_x</td>\n",
       "      <td>0.056122</td>\n",
       "    </tr>\n",
       "  </tbody>\n",
       "</table>\n",
       "</div>"
      ],
      "text/plain": [
       "              feature  importance\n",
       "9   Off_Rtg_dif_avg_x    0.066786\n",
       "17  Def_Rtg_dif_avg_y    0.065225\n",
       "27      PIE_dif_avg_y    0.059109\n",
       "25  Off_Rtg_dif_avg_y    0.056803\n",
       "10          PIE_avg_x    0.056122"
      ]
     },
     "execution_count": 332,
     "metadata": {},
     "output_type": "execute_result"
    }
   ],
   "source": [
    "fi = pd.DataFrame({\n",
    "        'feature':train[new_features].columns,\n",
    "        'importance':rs_rf.feature_importances_\n",
    "    })\n",
    "\n",
    "fi.sort_values('importance', ascending=False, inplace=True)\n",
    "fi.iloc[0:5, :]"
   ]
  },
  {
   "cell_type": "code",
   "execution_count": 333,
   "metadata": {},
   "outputs": [],
   "source": [
    "interest_cols = list(fi.iloc[0:5,:]['feature'].values)\n",
    "interest_cols_2 = ['Off_Rtg_dif_avg','Def_Rtg_dif_avg','PIE_dif_avg','Off_Rtg_dif_avg','PIE_avg']"
   ]
  },
  {
   "cell_type": "code",
   "execution_count": 334,
   "metadata": {},
   "outputs": [
    {
     "data": {
      "text/html": [
       "<div>\n",
       "<style>\n",
       "    .dataframe thead tr:only-child th {\n",
       "        text-align: right;\n",
       "    }\n",
       "\n",
       "    .dataframe thead th {\n",
       "        text-align: left;\n",
       "    }\n",
       "\n",
       "    .dataframe tbody tr th {\n",
       "        vertical-align: top;\n",
       "    }\n",
       "</style>\n",
       "<table border=\"1\" class=\"dataframe\">\n",
       "  <thead>\n",
       "    <tr style=\"text-align: right;\">\n",
       "      <th></th>\n",
       "      <th>Off_Rtg_dif_avg</th>\n",
       "      <th>Def_Rtg_dif_avg</th>\n",
       "      <th>PIE_dif_avg</th>\n",
       "      <th>Off_Rtg_dif_avg</th>\n",
       "      <th>PIE_avg</th>\n",
       "    </tr>\n",
       "  </thead>\n",
       "  <tbody>\n",
       "    <tr>\n",
       "      <th>31</th>\n",
       "      <td>11.915957</td>\n",
       "      <td>-11.915957</td>\n",
       "      <td>0.16886</td>\n",
       "      <td>11.915957</td>\n",
       "      <td>0.58443</td>\n",
       "    </tr>\n",
       "  </tbody>\n",
       "</table>\n",
       "</div>"
      ],
      "text/plain": [
       "    Off_Rtg_dif_avg  Def_Rtg_dif_avg  PIE_dif_avg  Off_Rtg_dif_avg  PIE_avg\n",
       "31        11.915957       -11.915957      0.16886        11.915957  0.58443"
      ]
     },
     "execution_count": 334,
     "metadata": {},
     "output_type": "execute_result"
    }
   ],
   "source": [
    "# Bucknell Stats\n",
    "summary_stats.loc[summary_stats.TeamID == 1137, interest_cols_2]"
   ]
  },
  {
   "cell_type": "code",
   "execution_count": 335,
   "metadata": {},
   "outputs": [
    {
     "data": {
      "text/html": [
       "<div>\n",
       "<style>\n",
       "    .dataframe thead tr:only-child th {\n",
       "        text-align: right;\n",
       "    }\n",
       "\n",
       "    .dataframe thead th {\n",
       "        text-align: left;\n",
       "    }\n",
       "\n",
       "    .dataframe tbody tr th {\n",
       "        vertical-align: top;\n",
       "    }\n",
       "</style>\n",
       "<table border=\"1\" class=\"dataframe\">\n",
       "  <thead>\n",
       "    <tr style=\"text-align: right;\">\n",
       "      <th></th>\n",
       "      <th>Off_Rtg_dif_avg</th>\n",
       "      <th>Def_Rtg_dif_avg</th>\n",
       "      <th>PIE_dif_avg</th>\n",
       "      <th>Off_Rtg_dif_avg</th>\n",
       "      <th>PIE_avg</th>\n",
       "    </tr>\n",
       "  </thead>\n",
       "  <tbody>\n",
       "    <tr>\n",
       "      <th>169</th>\n",
       "      <td>24.142286</td>\n",
       "      <td>-24.142286</td>\n",
       "      <td>0.373193</td>\n",
       "      <td>24.142286</td>\n",
       "      <td>0.686596</td>\n",
       "    </tr>\n",
       "  </tbody>\n",
       "</table>\n",
       "</div>"
      ],
      "text/plain": [
       "     Off_Rtg_dif_avg  Def_Rtg_dif_avg  PIE_dif_avg  Off_Rtg_dif_avg   PIE_avg\n",
       "169        24.142286       -24.142286     0.373193        24.142286  0.686596"
      ]
     },
     "execution_count": 335,
     "metadata": {},
     "output_type": "execute_result"
    }
   ],
   "source": [
    " # Michigan St stats\n",
    "summary_stats.loc[summary_stats.TeamID == 1277, interest_cols_2]"
   ]
  },
  {
   "cell_type": "code",
   "execution_count": 336,
   "metadata": {},
   "outputs": [
    {
     "data": {
      "text/html": [
       "<div>\n",
       "<style>\n",
       "    .dataframe thead tr:only-child th {\n",
       "        text-align: right;\n",
       "    }\n",
       "\n",
       "    .dataframe thead th {\n",
       "        text-align: left;\n",
       "    }\n",
       "\n",
       "    .dataframe tbody tr th {\n",
       "        vertical-align: top;\n",
       "    }\n",
       "</style>\n",
       "<table border=\"1\" class=\"dataframe\">\n",
       "  <thead>\n",
       "    <tr style=\"text-align: right;\">\n",
       "      <th></th>\n",
       "      <th>Off_Rtg_dif_avg_x</th>\n",
       "      <th>Def_Rtg_dif_avg_y</th>\n",
       "      <th>PIE_dif_avg_y</th>\n",
       "      <th>Off_Rtg_dif_avg_y</th>\n",
       "      <th>PIE_avg_x</th>\n",
       "    </tr>\n",
       "  </thead>\n",
       "  <tbody>\n",
       "    <tr>\n",
       "      <th>1948</th>\n",
       "      <td>11.915957</td>\n",
       "      <td>-24.142286</td>\n",
       "      <td>0.373193</td>\n",
       "      <td>24.142286</td>\n",
       "      <td>0.58443</td>\n",
       "    </tr>\n",
       "  </tbody>\n",
       "</table>\n",
       "</div>"
      ],
      "text/plain": [
       "      Off_Rtg_dif_avg_x  Def_Rtg_dif_avg_y  PIE_dif_avg_y  Off_Rtg_dif_avg_y  \\\n",
       "1948          11.915957         -24.142286       0.373193          24.142286   \n",
       "\n",
       "      PIE_avg_x  \n",
       "1948    0.58443  "
      ]
     },
     "execution_count": 336,
     "metadata": {},
     "output_type": "execute_result"
    }
   ],
   "source": [
    "# Specific matchup\n",
    "tourney.loc[(tourney.TeamID_x == 1137) & (tourney.TeamID_y == 1277), interest_cols]"
   ]
  },
  {
   "cell_type": "markdown",
   "metadata": {},
   "source": [
    "# Unfinished bidness:"
   ]
  },
  {
   "cell_type": "markdown",
   "metadata": {},
   "source": [
    "### The plan:\n",
    "\n",
    "- I want to build a scraper to pull in all the team season-long average stats.\n",
    "- Then put those with each regular season game so that way the model can learn from the labels (W/L).\n",
    "    - This should also include location to learn who is playing better on the road / neutral.\n",
    "- Also (time permitting) I want to include the mascots by weight feature to make it a little different and fun."
   ]
  },
  {
   "cell_type": "code",
   "execution_count": 337,
   "metadata": {},
   "outputs": [
    {
     "ename": "KeyboardInterrupt",
     "evalue": "",
     "output_type": "error",
     "traceback": [
      "\u001b[0;31m---------------------------------------------------------------------------\u001b[0m",
      "\u001b[0;31mKeyboardInterrupt\u001b[0m                         Traceback (most recent call last)",
      "\u001b[0;32m<ipython-input-337-7444f51aed3f>\u001b[0m in \u001b[0;36m<module>\u001b[0;34m()\u001b[0m\n\u001b[1;32m      1\u001b[0m \u001b[0;32mimport\u001b[0m \u001b[0mpandas\u001b[0m \u001b[0;32mas\u001b[0m \u001b[0mpd\u001b[0m\u001b[0;34m\u001b[0m\u001b[0m\n\u001b[1;32m      2\u001b[0m \u001b[0;32mimport\u001b[0m \u001b[0mrequests\u001b[0m\u001b[0;34m\u001b[0m\u001b[0m\n\u001b[0;32m----> 3\u001b[0;31m \u001b[0;32mfrom\u001b[0m \u001b[0mbs4\u001b[0m \u001b[0;32mimport\u001b[0m \u001b[0mBeautifulSoup\u001b[0m\u001b[0;34m\u001b[0m\u001b[0m\n\u001b[0m\u001b[1;32m      4\u001b[0m \u001b[0;32mfrom\u001b[0m \u001b[0mselenium\u001b[0m \u001b[0;32mimport\u001b[0m \u001b[0mwebdriver\u001b[0m\u001b[0;34m\u001b[0m\u001b[0m\n\u001b[1;32m      5\u001b[0m \u001b[0;32mfrom\u001b[0m \u001b[0mtime\u001b[0m \u001b[0;32mimport\u001b[0m \u001b[0msleep\u001b[0m\u001b[0;34m\u001b[0m\u001b[0m\n",
      "\u001b[0;32m/anaconda3/lib/python3.6/site-packages/bs4/__init__.py\u001b[0m in \u001b[0;36m<module>\u001b[0;34m()\u001b[0m\n\u001b[1;32m     33\u001b[0m \u001b[0;32mimport\u001b[0m \u001b[0mwarnings\u001b[0m\u001b[0;34m\u001b[0m\u001b[0m\n\u001b[1;32m     34\u001b[0m \u001b[0;34m\u001b[0m\u001b[0m\n\u001b[0;32m---> 35\u001b[0;31m \u001b[0;32mfrom\u001b[0m \u001b[0;34m.\u001b[0m\u001b[0mbuilder\u001b[0m \u001b[0;32mimport\u001b[0m \u001b[0mbuilder_registry\u001b[0m\u001b[0;34m,\u001b[0m \u001b[0mParserRejectedMarkup\u001b[0m\u001b[0;34m\u001b[0m\u001b[0m\n\u001b[0m\u001b[1;32m     36\u001b[0m \u001b[0;32mfrom\u001b[0m \u001b[0;34m.\u001b[0m\u001b[0mdammit\u001b[0m \u001b[0;32mimport\u001b[0m \u001b[0mUnicodeDammit\u001b[0m\u001b[0;34m\u001b[0m\u001b[0m\n\u001b[1;32m     37\u001b[0m from .element import (\n",
      "\u001b[0;32m/anaconda3/lib/python3.6/site-packages/bs4/builder/__init__.py\u001b[0m in \u001b[0;36m<module>\u001b[0;34m()\u001b[0m\n\u001b[1;32m    327\u001b[0m     \u001b[0;32mpass\u001b[0m\u001b[0;34m\u001b[0m\u001b[0m\n\u001b[1;32m    328\u001b[0m \u001b[0;32mtry\u001b[0m\u001b[0;34m:\u001b[0m\u001b[0;34m\u001b[0m\u001b[0m\n\u001b[0;32m--> 329\u001b[0;31m     \u001b[0;32mfrom\u001b[0m \u001b[0;34m.\u001b[0m \u001b[0;32mimport\u001b[0m \u001b[0m_lxml\u001b[0m\u001b[0;34m\u001b[0m\u001b[0m\n\u001b[0m\u001b[1;32m    330\u001b[0m     \u001b[0mregister_treebuilders_from\u001b[0m\u001b[0;34m(\u001b[0m\u001b[0m_lxml\u001b[0m\u001b[0;34m)\u001b[0m\u001b[0;34m\u001b[0m\u001b[0m\n\u001b[1;32m    331\u001b[0m \u001b[0;32mexcept\u001b[0m \u001b[0mImportError\u001b[0m\u001b[0;34m:\u001b[0m\u001b[0;34m\u001b[0m\u001b[0m\n",
      "\u001b[0;32m/anaconda3/lib/python3.6/site-packages/bs4/builder/_lxml.py\u001b[0m in \u001b[0;36m<module>\u001b[0;34m()\u001b[0m\n\u001b[1;32m      9\u001b[0m \u001b[0;32mfrom\u001b[0m \u001b[0mio\u001b[0m \u001b[0;32mimport\u001b[0m \u001b[0mStringIO\u001b[0m\u001b[0;34m\u001b[0m\u001b[0m\n\u001b[1;32m     10\u001b[0m \u001b[0;32mimport\u001b[0m \u001b[0mcollections\u001b[0m\u001b[0;34m\u001b[0m\u001b[0m\n\u001b[0;32m---> 11\u001b[0;31m \u001b[0;32mfrom\u001b[0m \u001b[0mlxml\u001b[0m \u001b[0;32mimport\u001b[0m \u001b[0metree\u001b[0m\u001b[0;34m\u001b[0m\u001b[0m\n\u001b[0m\u001b[1;32m     12\u001b[0m from bs4.element import (\n\u001b[1;32m     13\u001b[0m     \u001b[0mComment\u001b[0m\u001b[0;34m,\u001b[0m\u001b[0;34m\u001b[0m\u001b[0m\n",
      "\u001b[0;32msrc/lxml/xmlerror.pxi\u001b[0m in \u001b[0;36minit lxml.etree\u001b[0;34m()\u001b[0m\n",
      "\u001b[0;32msrc/lxml/xmlerror.pxi\u001b[0m in \u001b[0;36mlxml.etree.__initErrorConstants (src/lxml/etree.c:47076)\u001b[0;34m()\u001b[0m\n",
      "\u001b[0;32m/anaconda3/lib/python3.6/re.py\u001b[0m in \u001b[0;36mcompile\u001b[0;34m(pattern, flags)\u001b[0m\n\u001b[1;32m    229\u001b[0m     \u001b[0;32mreturn\u001b[0m \u001b[0m_compile\u001b[0m\u001b[0;34m(\u001b[0m\u001b[0mpattern\u001b[0m\u001b[0;34m,\u001b[0m \u001b[0mflags\u001b[0m\u001b[0;34m)\u001b[0m\u001b[0;34m.\u001b[0m\u001b[0mfinditer\u001b[0m\u001b[0;34m(\u001b[0m\u001b[0mstring\u001b[0m\u001b[0;34m)\u001b[0m\u001b[0;34m\u001b[0m\u001b[0m\n\u001b[1;32m    230\u001b[0m \u001b[0;34m\u001b[0m\u001b[0m\n\u001b[0;32m--> 231\u001b[0;31m \u001b[0;32mdef\u001b[0m \u001b[0mcompile\u001b[0m\u001b[0;34m(\u001b[0m\u001b[0mpattern\u001b[0m\u001b[0;34m,\u001b[0m \u001b[0mflags\u001b[0m\u001b[0;34m=\u001b[0m\u001b[0;36m0\u001b[0m\u001b[0;34m)\u001b[0m\u001b[0;34m:\u001b[0m\u001b[0;34m\u001b[0m\u001b[0m\n\u001b[0m\u001b[1;32m    232\u001b[0m     \u001b[0;34m\"Compile a regular expression pattern, returning a pattern object.\"\u001b[0m\u001b[0;34m\u001b[0m\u001b[0m\n\u001b[1;32m    233\u001b[0m     \u001b[0;32mreturn\u001b[0m \u001b[0m_compile\u001b[0m\u001b[0;34m(\u001b[0m\u001b[0mpattern\u001b[0m\u001b[0;34m,\u001b[0m \u001b[0mflags\u001b[0m\u001b[0;34m)\u001b[0m\u001b[0;34m\u001b[0m\u001b[0m\n",
      "\u001b[0;31mKeyboardInterrupt\u001b[0m: "
     ]
    }
   ],
   "source": [
    "import pandas as pd\n",
    "import requests\n",
    "from bs4 import BeautifulSoup\n",
    "from selenium import webdriver\n",
    "from time import sleep\n",
    "import re"
   ]
  },
  {
   "cell_type": "markdown",
   "metadata": {},
   "source": [
    "**Getting a list of the team names and their corresponding URLs:**"
   ]
  },
  {
   "cell_type": "code",
   "execution_count": null,
   "metadata": {},
   "outputs": [],
   "source": [
    "res = requests.get('http://stats.ncaa.org/team/inst_team_list?academic_year=2017&conf_id=-1&division=1&sport_code=MBB')\n",
    "soup = BeautifulSoup(res.content, 'lxml')"
   ]
  },
  {
   "cell_type": "code",
   "execution_count": null,
   "metadata": {},
   "outputs": [],
   "source": [
    "giant_table = soup.find('div', {'class': 'css-panes'}).find('table')"
   ]
  },
  {
   "cell_type": "code",
   "execution_count": null,
   "metadata": {},
   "outputs": [],
   "source": [
    "team_names = []\n",
    "team_urls = []"
   ]
  },
  {
   "cell_type": "code",
   "execution_count": null,
   "metadata": {},
   "outputs": [],
   "source": [
    "for column in giant_table.find_all('table'):\n",
    "    for link in column.find_all('a'):\n",
    "        team_names.append(link.text)\n",
    "        team_urls.append('http://stats.ncaa.org/team' + str(link.attrs.get('href')))"
   ]
  },
  {
   "cell_type": "markdown",
   "metadata": {},
   "source": [
    "**Trying to get a single team's stats:**"
   ]
  },
  {
   "cell_type": "code",
   "execution_count": null,
   "metadata": {},
   "outputs": [],
   "source": [
    "res = requests.get('http://stats.ncaa.org/teams/42595')\n",
    "soup = BeautifulSoup(res.content, 'lxml')\n",
    "res.status_code"
   ]
  },
  {
   "cell_type": "code",
   "execution_count": null,
   "metadata": {},
   "outputs": [],
   "source": [
    "stat_names = []\n",
    "stat_values = []\n",
    "\n",
    "for stat_name in soup.find_all('a', {'target': 'Rankings'}):\n",
    "    stat_names.append(stat_name.text)\n",
    "    \n",
    "for i, x in enumerate(soup.find_all('td', {'align': 'right'})):\n",
    "    if i % 2 != 0:\n",
    "        stat_values.append(x.text)\n",
    "        stat_values = [num.replace(\" \", \"\") for num in stat_values]\n",
    "        stat_values = [num.replace('\\n', '') for num in stat_values]"
   ]
  },
  {
   "cell_type": "markdown",
   "metadata": {},
   "source": [
    "**Now putting it all together into a scraper that will go into each team's URL**"
   ]
  },
  {
   "cell_type": "code",
   "execution_count": null,
   "metadata": {},
   "outputs": [],
   "source": [
    "team_stats = []\n",
    "\n",
    "# starting_url = 'http://stats.ncaa.org/team/inst_team_list?academic_year=2017&conf_id=-1&division=1&sport_code=MBB'\n",
    "\n",
    "def scrape_team_stats(url_list):\n",
    "    missed_url_list = []\n",
    "    for team in url_list:\n",
    "        \n",
    "        stat_values = []\n",
    "\n",
    "        soup = BeautifulSoup(requests.get(team).content, 'html.parser')\n",
    "\n",
    "        for i, x in enumerate(soup.find_all('td', {'align': 'right'})):\n",
    "            if i % 2 != 0:\n",
    "                stat_values.append(x.text)\n",
    "                stat_values = [num.replace(\" \", \"\") for num in stat_values]\n",
    "                stat_values = [num.replace('\\n', '') for num in stat_values]\n",
    "\n",
    "        if stat_values != []:\n",
    "            stat_values.append(team)\n",
    "            team_stats.append(stat_values)\n",
    "        else:\n",
    "            missed_url_list.append(team)\n",
    "                \n",
    "    if len(missed_url_list) == 0:\n",
    "        return team_stats\n",
    "    else:\n",
    "        return scrape_team_stats(missed_url_list)\n",
    "            \n",
    "scrape_team_stats(team_urls)"
   ]
  },
  {
   "cell_type": "markdown",
   "metadata": {},
   "source": [
    "**Don't forget to make a \"difficulty by seed\" feature!!!**\n",
    "\n",
    "Very interesting to think about the difficulty of the path to the final that way, though I would've probably tried to weigh it by the probability that your team will face that seed in the next round instead of just assuming you will face the higher seed.\n",
    "\n",
    "i mean use bayes - instead of saying the 5 auto plays the 4 next round say they get 12*probability 5 will win + 5* probability 12 will win"
   ]
  },
  {
   "cell_type": "code",
   "execution_count": null,
   "metadata": {},
   "outputs": [],
   "source": []
  }
 ],
 "metadata": {
  "kernelspec": {
   "display_name": "Python 3",
   "language": "python",
   "name": "python3"
  },
  "language_info": {
   "codemirror_mode": {
    "name": "ipython",
    "version": 3
   },
   "file_extension": ".py",
   "mimetype": "text/x-python",
   "name": "python",
   "nbconvert_exporter": "python",
   "pygments_lexer": "ipython3",
   "version": "3.6.3"
  }
 },
 "nbformat": 4,
 "nbformat_minor": 2
}
