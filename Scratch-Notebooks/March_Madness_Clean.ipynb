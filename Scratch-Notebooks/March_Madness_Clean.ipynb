{
 "cells": [
  {
   "cell_type": "markdown",
   "metadata": {
    "collapsed": true
   },
   "source": [
    "<h1><center> || March Madness Notebook || </center></h1>"
   ]
  },
  {
   "cell_type": "markdown",
   "metadata": {},
   "source": [
    "## Importing the necessary libraries"
   ]
  },
  {
   "cell_type": "code",
   "execution_count": 86,
   "metadata": {},
   "outputs": [],
   "source": [
    "import pandas as pd\n",
    "import numpy as np\n",
    "import matplotlib.pyplot as plt\n",
    "import seaborn as sns\n",
    "\n",
    "from sklearn.preprocessing import StandardScaler\n",
    "from sklearn.linear_model import LogisticRegression\n",
    "from sklearn.model_selection import train_test_split\n",
    "from sklearn.ensemble import RandomForestClassifier, ExtraTreesClassifier\n",
    "from sklearn.model_selection import GridSearchCV, RandomizedSearchCV\n",
    "from sklearn.utils import shuffle\n",
    "\n",
    "%matplotlib inline\n",
    "sns.set_style('darkgrid')"
   ]
  },
  {
   "cell_type": "markdown",
   "metadata": {},
   "source": [
    "## Poking around to see what we have"
   ]
  },
  {
   "cell_type": "code",
   "execution_count": 87,
   "metadata": {},
   "outputs": [
    {
     "data": {
      "text/html": [
       "<div>\n",
       "<style>\n",
       "    .dataframe thead tr:only-child th {\n",
       "        text-align: right;\n",
       "    }\n",
       "\n",
       "    .dataframe thead th {\n",
       "        text-align: left;\n",
       "    }\n",
       "\n",
       "    .dataframe tbody tr th {\n",
       "        vertical-align: top;\n",
       "    }\n",
       "</style>\n",
       "<table border=\"1\" class=\"dataframe\">\n",
       "  <thead>\n",
       "    <tr style=\"text-align: right;\">\n",
       "      <th></th>\n",
       "      <th>ID</th>\n",
       "      <th>Pred</th>\n",
       "    </tr>\n",
       "  </thead>\n",
       "  <tbody>\n",
       "    <tr>\n",
       "      <th>0</th>\n",
       "      <td>2014_1107_1110</td>\n",
       "      <td>0.5</td>\n",
       "    </tr>\n",
       "    <tr>\n",
       "      <th>1</th>\n",
       "      <td>2014_1107_1112</td>\n",
       "      <td>0.5</td>\n",
       "    </tr>\n",
       "    <tr>\n",
       "      <th>2</th>\n",
       "      <td>2014_1107_1113</td>\n",
       "      <td>0.5</td>\n",
       "    </tr>\n",
       "  </tbody>\n",
       "</table>\n",
       "</div>"
      ],
      "text/plain": [
       "               ID  Pred\n",
       "0  2014_1107_1110   0.5\n",
       "1  2014_1107_1112   0.5\n",
       "2  2014_1107_1113   0.5"
      ]
     },
     "execution_count": 87,
     "metadata": {},
     "output_type": "execute_result"
    }
   ],
   "source": [
    "sample_sub = pd.read_csv('../Datasets/SampleSubmissionStage1.csv')\n",
    "sample_sub.head(3)"
   ]
  },
  {
   "cell_type": "markdown",
   "metadata": {},
   "source": [
    "So in 2014, team 1107 has 50% chance of beating 1110"
   ]
  },
  {
   "cell_type": "code",
   "execution_count": 88,
   "metadata": {},
   "outputs": [
    {
     "data": {
      "text/html": [
       "<div>\n",
       "<style>\n",
       "    .dataframe thead tr:only-child th {\n",
       "        text-align: right;\n",
       "    }\n",
       "\n",
       "    .dataframe thead th {\n",
       "        text-align: left;\n",
       "    }\n",
       "\n",
       "    .dataframe tbody tr th {\n",
       "        vertical-align: top;\n",
       "    }\n",
       "</style>\n",
       "<table border=\"1\" class=\"dataframe\">\n",
       "  <thead>\n",
       "    <tr style=\"text-align: right;\">\n",
       "      <th></th>\n",
       "      <th>TeamID</th>\n",
       "      <th>TeamName</th>\n",
       "      <th>FirstD1Season</th>\n",
       "      <th>LastD1Season</th>\n",
       "    </tr>\n",
       "  </thead>\n",
       "  <tbody>\n",
       "    <tr>\n",
       "      <th>0</th>\n",
       "      <td>1101</td>\n",
       "      <td>Abilene Chr</td>\n",
       "      <td>2014</td>\n",
       "      <td>2018</td>\n",
       "    </tr>\n",
       "    <tr>\n",
       "      <th>1</th>\n",
       "      <td>1102</td>\n",
       "      <td>Air Force</td>\n",
       "      <td>1985</td>\n",
       "      <td>2018</td>\n",
       "    </tr>\n",
       "    <tr>\n",
       "      <th>2</th>\n",
       "      <td>1103</td>\n",
       "      <td>Akron</td>\n",
       "      <td>1985</td>\n",
       "      <td>2018</td>\n",
       "    </tr>\n",
       "    <tr>\n",
       "      <th>3</th>\n",
       "      <td>1104</td>\n",
       "      <td>Alabama</td>\n",
       "      <td>1985</td>\n",
       "      <td>2018</td>\n",
       "    </tr>\n",
       "    <tr>\n",
       "      <th>4</th>\n",
       "      <td>1105</td>\n",
       "      <td>Alabama A&amp;M</td>\n",
       "      <td>2000</td>\n",
       "      <td>2018</td>\n",
       "    </tr>\n",
       "  </tbody>\n",
       "</table>\n",
       "</div>"
      ],
      "text/plain": [
       "   TeamID     TeamName  FirstD1Season  LastD1Season\n",
       "0    1101  Abilene Chr           2014          2018\n",
       "1    1102    Air Force           1985          2018\n",
       "2    1103        Akron           1985          2018\n",
       "3    1104      Alabama           1985          2018\n",
       "4    1105  Alabama A&M           2000          2018"
      ]
     },
     "execution_count": 88,
     "metadata": {},
     "output_type": "execute_result"
    }
   ],
   "source": [
    "teams = pd.read_csv('../Datasets/DataFiles/Teams.csv')\n",
    "teams.head(5)"
   ]
  },
  {
   "cell_type": "code",
   "execution_count": 89,
   "metadata": {},
   "outputs": [
    {
     "data": {
      "text/html": [
       "<div>\n",
       "<style>\n",
       "    .dataframe thead tr:only-child th {\n",
       "        text-align: right;\n",
       "    }\n",
       "\n",
       "    .dataframe thead th {\n",
       "        text-align: left;\n",
       "    }\n",
       "\n",
       "    .dataframe tbody tr th {\n",
       "        vertical-align: top;\n",
       "    }\n",
       "</style>\n",
       "<table border=\"1\" class=\"dataframe\">\n",
       "  <thead>\n",
       "    <tr style=\"text-align: right;\">\n",
       "      <th></th>\n",
       "      <th>Season</th>\n",
       "      <th>Slot</th>\n",
       "      <th>StrongSeed</th>\n",
       "      <th>WeakSeed</th>\n",
       "    </tr>\n",
       "  </thead>\n",
       "  <tbody>\n",
       "    <tr>\n",
       "      <th>0</th>\n",
       "      <td>1985</td>\n",
       "      <td>R1W1</td>\n",
       "      <td>W01</td>\n",
       "      <td>W16</td>\n",
       "    </tr>\n",
       "    <tr>\n",
       "      <th>1</th>\n",
       "      <td>1985</td>\n",
       "      <td>R1W2</td>\n",
       "      <td>W02</td>\n",
       "      <td>W15</td>\n",
       "    </tr>\n",
       "    <tr>\n",
       "      <th>2</th>\n",
       "      <td>1985</td>\n",
       "      <td>R1W3</td>\n",
       "      <td>W03</td>\n",
       "      <td>W14</td>\n",
       "    </tr>\n",
       "  </tbody>\n",
       "</table>\n",
       "</div>"
      ],
      "text/plain": [
       "   Season  Slot StrongSeed WeakSeed\n",
       "0    1985  R1W1        W01      W16\n",
       "1    1985  R1W2        W02      W15\n",
       "2    1985  R1W3        W03      W14"
      ]
     },
     "execution_count": 89,
     "metadata": {},
     "output_type": "execute_result"
    }
   ],
   "source": [
    "slots = pd.read_csv('Stage2UpdatedDataFiles/NCAATourneySlots.csv')\n",
    "slots.head(3)"
   ]
  },
  {
   "cell_type": "markdown",
   "metadata": {},
   "source": [
    "Ok, cool, I think I know what direction I want to take."
   ]
  },
  {
   "cell_type": "code",
   "execution_count": 90,
   "metadata": {
    "scrolled": true
   },
   "outputs": [
    {
     "data": {
      "text/html": [
       "<div>\n",
       "<style>\n",
       "    .dataframe thead tr:only-child th {\n",
       "        text-align: right;\n",
       "    }\n",
       "\n",
       "    .dataframe thead th {\n",
       "        text-align: left;\n",
       "    }\n",
       "\n",
       "    .dataframe tbody tr th {\n",
       "        vertical-align: top;\n",
       "    }\n",
       "</style>\n",
       "<table border=\"1\" class=\"dataframe\">\n",
       "  <thead>\n",
       "    <tr style=\"text-align: right;\">\n",
       "      <th></th>\n",
       "      <th>Season</th>\n",
       "      <th>DayNum</th>\n",
       "      <th>WTeamID</th>\n",
       "      <th>WScore</th>\n",
       "      <th>LTeamID</th>\n",
       "      <th>LScore</th>\n",
       "      <th>WLoc</th>\n",
       "      <th>NumOT</th>\n",
       "      <th>WFGM</th>\n",
       "      <th>WFGA</th>\n",
       "      <th>...</th>\n",
       "      <th>LFGA3</th>\n",
       "      <th>LFTM</th>\n",
       "      <th>LFTA</th>\n",
       "      <th>LOR</th>\n",
       "      <th>LDR</th>\n",
       "      <th>LAst</th>\n",
       "      <th>LTO</th>\n",
       "      <th>LStl</th>\n",
       "      <th>LBlk</th>\n",
       "      <th>LPF</th>\n",
       "    </tr>\n",
       "  </thead>\n",
       "  <tbody>\n",
       "    <tr>\n",
       "      <th>0</th>\n",
       "      <td>2003</td>\n",
       "      <td>10</td>\n",
       "      <td>1104</td>\n",
       "      <td>68</td>\n",
       "      <td>1328</td>\n",
       "      <td>62</td>\n",
       "      <td>N</td>\n",
       "      <td>0</td>\n",
       "      <td>27</td>\n",
       "      <td>58</td>\n",
       "      <td>...</td>\n",
       "      <td>10</td>\n",
       "      <td>16</td>\n",
       "      <td>22</td>\n",
       "      <td>10</td>\n",
       "      <td>22</td>\n",
       "      <td>8</td>\n",
       "      <td>18</td>\n",
       "      <td>9</td>\n",
       "      <td>2</td>\n",
       "      <td>20</td>\n",
       "    </tr>\n",
       "    <tr>\n",
       "      <th>1</th>\n",
       "      <td>2003</td>\n",
       "      <td>10</td>\n",
       "      <td>1272</td>\n",
       "      <td>70</td>\n",
       "      <td>1393</td>\n",
       "      <td>63</td>\n",
       "      <td>N</td>\n",
       "      <td>0</td>\n",
       "      <td>26</td>\n",
       "      <td>62</td>\n",
       "      <td>...</td>\n",
       "      <td>24</td>\n",
       "      <td>9</td>\n",
       "      <td>20</td>\n",
       "      <td>20</td>\n",
       "      <td>25</td>\n",
       "      <td>7</td>\n",
       "      <td>12</td>\n",
       "      <td>8</td>\n",
       "      <td>6</td>\n",
       "      <td>16</td>\n",
       "    </tr>\n",
       "    <tr>\n",
       "      <th>2</th>\n",
       "      <td>2003</td>\n",
       "      <td>11</td>\n",
       "      <td>1266</td>\n",
       "      <td>73</td>\n",
       "      <td>1437</td>\n",
       "      <td>61</td>\n",
       "      <td>N</td>\n",
       "      <td>0</td>\n",
       "      <td>24</td>\n",
       "      <td>58</td>\n",
       "      <td>...</td>\n",
       "      <td>26</td>\n",
       "      <td>14</td>\n",
       "      <td>23</td>\n",
       "      <td>31</td>\n",
       "      <td>22</td>\n",
       "      <td>9</td>\n",
       "      <td>12</td>\n",
       "      <td>2</td>\n",
       "      <td>5</td>\n",
       "      <td>23</td>\n",
       "    </tr>\n",
       "  </tbody>\n",
       "</table>\n",
       "<p>3 rows × 34 columns</p>\n",
       "</div>"
      ],
      "text/plain": [
       "   Season  DayNum  WTeamID  WScore  LTeamID  LScore WLoc  NumOT  WFGM  WFGA  \\\n",
       "0    2003      10     1104      68     1328      62    N      0    27    58   \n",
       "1    2003      10     1272      70     1393      63    N      0    26    62   \n",
       "2    2003      11     1266      73     1437      61    N      0    24    58   \n",
       "\n",
       "  ...   LFGA3  LFTM  LFTA  LOR  LDR  LAst  LTO  LStl  LBlk  LPF  \n",
       "0 ...      10    16    22   10   22     8   18     9     2   20  \n",
       "1 ...      24     9    20   20   25     7   12     8     6   16  \n",
       "2 ...      26    14    23   31   22     9   12     2     5   23  \n",
       "\n",
       "[3 rows x 34 columns]"
      ]
     },
     "execution_count": 90,
     "metadata": {},
     "output_type": "execute_result"
    }
   ],
   "source": [
    "detailed = pd.read_csv('Stage2UpdatedDataFiles/RegularSeasonDetailedResults.csv')\n",
    "detailed.head(3)"
   ]
  },
  {
   "cell_type": "code",
   "execution_count": 91,
   "metadata": {},
   "outputs": [
    {
     "data": {
      "text/plain": [
       "Index(['Season', 'DayNum', 'WTeamID', 'WScore', 'LTeamID', 'LScore', 'WLoc',\n",
       "       'NumOT', 'WFGM', 'WFGA', 'WFGM3', 'WFGA3', 'WFTM', 'WFTA', 'WOR', 'WDR',\n",
       "       'WAst', 'WTO', 'WStl', 'WBlk', 'WPF', 'LFGM', 'LFGA', 'LFGM3', 'LFGA3',\n",
       "       'LFTM', 'LFTA', 'LOR', 'LDR', 'LAst', 'LTO', 'LStl', 'LBlk', 'LPF'],\n",
       "      dtype='object')"
      ]
     },
     "execution_count": 91,
     "metadata": {},
     "output_type": "execute_result"
    }
   ],
   "source": [
    "detailed.columns"
   ]
  },
  {
   "cell_type": "markdown",
   "metadata": {},
   "source": [
    "All of the columns with 'W' correspond to the winning team's stat in that category and likewise for all columns with 'L' and the losing team.\n",
    "\n",
    "- WFGM - field goals made (by the winning team)\n",
    "- WFGA - field goals attempted (by the winning team)\n",
    "- WFGM3 - three pointers made (by the winning team)\n",
    "- WFGA3 - three pointers attempted (by the winning team)\n",
    "- WFTM - free throws made (by the winning team)\n",
    "- WFTA - free throws attempted (by the winning team)\n",
    "- WOR - offensive rebounds (pulled by the winning team)\n",
    "- WDR - defensive rebounds (pulled by the winning team)\n",
    "- WAst - assists (by the winning team)\n",
    "- WTO - turnovers committed (by the winning team)\n",
    "- WStl - steals (accomplished by the winning team)\n",
    "- WBlk - blocks (accomplished by the winning team)\n",
    "- WPF - personal fouls committed (by the winning team)"
   ]
  },
  {
   "cell_type": "markdown",
   "metadata": {},
   "source": [
    "Ultimately I'm actually going to drop all the seasons from before 2006. 2006 was when the \"one-and-done\" rule was implemented and the game changed significantly after.\n",
    "\n",
    "Plus some of the biggest upsets in tournament history have been in 2006 - current, so there may be something to learn from those seasons."
   ]
  },
  {
   "cell_type": "markdown",
   "metadata": {},
   "source": [
    "#### Strategy pivot: Going to be digging only into this season's stats since I believe that the turnover rate is high enough in NCAA basketball that each season now is basically an independent event."
   ]
  },
  {
   "cell_type": "code",
   "execution_count": 92,
   "metadata": {},
   "outputs": [
    {
     "data": {
      "text/html": [
       "<div>\n",
       "<style>\n",
       "    .dataframe thead tr:only-child th {\n",
       "        text-align: right;\n",
       "    }\n",
       "\n",
       "    .dataframe thead th {\n",
       "        text-align: left;\n",
       "    }\n",
       "\n",
       "    .dataframe tbody tr th {\n",
       "        vertical-align: top;\n",
       "    }\n",
       "</style>\n",
       "<table border=\"1\" class=\"dataframe\">\n",
       "  <thead>\n",
       "    <tr style=\"text-align: right;\">\n",
       "      <th></th>\n",
       "      <th>Season</th>\n",
       "      <th>DayNum</th>\n",
       "      <th>WTeamID</th>\n",
       "      <th>WScore</th>\n",
       "      <th>LTeamID</th>\n",
       "      <th>LScore</th>\n",
       "      <th>WLoc</th>\n",
       "      <th>NumOT</th>\n",
       "      <th>WFGM</th>\n",
       "      <th>WFGA</th>\n",
       "      <th>...</th>\n",
       "      <th>LFGA3</th>\n",
       "      <th>LFTM</th>\n",
       "      <th>LFTA</th>\n",
       "      <th>LOR</th>\n",
       "      <th>LDR</th>\n",
       "      <th>LAst</th>\n",
       "      <th>LTO</th>\n",
       "      <th>LStl</th>\n",
       "      <th>LBlk</th>\n",
       "      <th>LPF</th>\n",
       "    </tr>\n",
       "  </thead>\n",
       "  <tbody>\n",
       "    <tr>\n",
       "      <th>76636</th>\n",
       "      <td>2018</td>\n",
       "      <td>11</td>\n",
       "      <td>1104</td>\n",
       "      <td>82</td>\n",
       "      <td>1272</td>\n",
       "      <td>70</td>\n",
       "      <td>N</td>\n",
       "      <td>0</td>\n",
       "      <td>26</td>\n",
       "      <td>57</td>\n",
       "      <td>...</td>\n",
       "      <td>17</td>\n",
       "      <td>22</td>\n",
       "      <td>36</td>\n",
       "      <td>19</td>\n",
       "      <td>24</td>\n",
       "      <td>7</td>\n",
       "      <td>17</td>\n",
       "      <td>7</td>\n",
       "      <td>3</td>\n",
       "      <td>22</td>\n",
       "    </tr>\n",
       "    <tr>\n",
       "      <th>76637</th>\n",
       "      <td>2018</td>\n",
       "      <td>11</td>\n",
       "      <td>1107</td>\n",
       "      <td>69</td>\n",
       "      <td>1233</td>\n",
       "      <td>67</td>\n",
       "      <td>H</td>\n",
       "      <td>0</td>\n",
       "      <td>24</td>\n",
       "      <td>62</td>\n",
       "      <td>...</td>\n",
       "      <td>22</td>\n",
       "      <td>11</td>\n",
       "      <td>14</td>\n",
       "      <td>7</td>\n",
       "      <td>20</td>\n",
       "      <td>14</td>\n",
       "      <td>7</td>\n",
       "      <td>6</td>\n",
       "      <td>3</td>\n",
       "      <td>21</td>\n",
       "    </tr>\n",
       "    <tr>\n",
       "      <th>76638</th>\n",
       "      <td>2018</td>\n",
       "      <td>11</td>\n",
       "      <td>1112</td>\n",
       "      <td>101</td>\n",
       "      <td>1319</td>\n",
       "      <td>67</td>\n",
       "      <td>H</td>\n",
       "      <td>0</td>\n",
       "      <td>34</td>\n",
       "      <td>57</td>\n",
       "      <td>...</td>\n",
       "      <td>13</td>\n",
       "      <td>17</td>\n",
       "      <td>30</td>\n",
       "      <td>12</td>\n",
       "      <td>11</td>\n",
       "      <td>11</td>\n",
       "      <td>13</td>\n",
       "      <td>3</td>\n",
       "      <td>1</td>\n",
       "      <td>24</td>\n",
       "    </tr>\n",
       "    <tr>\n",
       "      <th>76639</th>\n",
       "      <td>2018</td>\n",
       "      <td>11</td>\n",
       "      <td>1113</td>\n",
       "      <td>94</td>\n",
       "      <td>1226</td>\n",
       "      <td>74</td>\n",
       "      <td>H</td>\n",
       "      <td>0</td>\n",
       "      <td>34</td>\n",
       "      <td>65</td>\n",
       "      <td>...</td>\n",
       "      <td>24</td>\n",
       "      <td>13</td>\n",
       "      <td>22</td>\n",
       "      <td>8</td>\n",
       "      <td>21</td>\n",
       "      <td>17</td>\n",
       "      <td>14</td>\n",
       "      <td>6</td>\n",
       "      <td>2</td>\n",
       "      <td>20</td>\n",
       "    </tr>\n",
       "    <tr>\n",
       "      <th>76640</th>\n",
       "      <td>2018</td>\n",
       "      <td>11</td>\n",
       "      <td>1116</td>\n",
       "      <td>95</td>\n",
       "      <td>1359</td>\n",
       "      <td>56</td>\n",
       "      <td>H</td>\n",
       "      <td>0</td>\n",
       "      <td>36</td>\n",
       "      <td>63</td>\n",
       "      <td>...</td>\n",
       "      <td>29</td>\n",
       "      <td>8</td>\n",
       "      <td>15</td>\n",
       "      <td>15</td>\n",
       "      <td>17</td>\n",
       "      <td>12</td>\n",
       "      <td>19</td>\n",
       "      <td>6</td>\n",
       "      <td>1</td>\n",
       "      <td>20</td>\n",
       "    </tr>\n",
       "  </tbody>\n",
       "</table>\n",
       "<p>5 rows × 34 columns</p>\n",
       "</div>"
      ],
      "text/plain": [
       "       Season  DayNum  WTeamID  WScore  LTeamID  LScore WLoc  NumOT  WFGM  \\\n",
       "76636    2018      11     1104      82     1272      70    N      0    26   \n",
       "76637    2018      11     1107      69     1233      67    H      0    24   \n",
       "76638    2018      11     1112     101     1319      67    H      0    34   \n",
       "76639    2018      11     1113      94     1226      74    H      0    34   \n",
       "76640    2018      11     1116      95     1359      56    H      0    36   \n",
       "\n",
       "       WFGA ...   LFGA3  LFTM  LFTA  LOR  LDR  LAst  LTO  LStl  LBlk  LPF  \n",
       "76636    57 ...      17    22    36   19   24     7   17     7     3   22  \n",
       "76637    62 ...      22    11    14    7   20    14    7     6     3   21  \n",
       "76638    57 ...      13    17    30   12   11    11   13     3     1   24  \n",
       "76639    65 ...      24    13    22    8   21    17   14     6     2   20  \n",
       "76640    63 ...      29     8    15   15   17    12   19     6     1   20  \n",
       "\n",
       "[5 rows x 34 columns]"
      ]
     },
     "execution_count": 92,
     "metadata": {},
     "output_type": "execute_result"
    }
   ],
   "source": [
    "detailed = detailed.loc[detailed.Season == 2018, :]\n",
    "detailed.head()"
   ]
  },
  {
   "cell_type": "markdown",
   "metadata": {},
   "source": [
    "#### Cool. So I learned from the Ames project that intelligent feature engineering is a HUGE part of model success.\n",
    " With that in mind, I'm not going to try to reinvent the wheel or anything, I want to incorporate a couple of the advanced\n",
    " team analytics that are currently being used in the game today."
   ]
  },
  {
   "cell_type": "markdown",
   "metadata": {},
   "source": [
    "# // Feature Engineering //"
   ]
  },
  {
   "cell_type": "markdown",
   "metadata": {},
   "source": [
    "References for these available below.\n",
    "- Quick overview:\n",
    "    - https://stats.nba.com/help/faq/\n",
    "- Deeper dive:\n",
    "    - http://hangtime.blogs.nba.com/2013/02/15/the-new-nba-comstats-advanced-stats-all-start-with-pace-and-efficiency/\n",
    "- Actual glossary + formulas:\n",
    "    - https://stats.nba.com/help/glossary/"
   ]
  },
  {
   "cell_type": "code",
   "execution_count": 93,
   "metadata": {},
   "outputs": [],
   "source": [
    "# To make all of the calculations easier to read, let's assign some variables:\n",
    "\n",
    "W_Score = detailed.WScore\n",
    "W_FGM   = detailed.WFGM\n",
    "W_FGA   = detailed.WFGA\n",
    "W_FGM3  = detailed.WFGM3\n",
    "W_FGA3  = detailed.WFGA3\n",
    "W_FTM   = detailed.WFTM\n",
    "W_FTA   = detailed.WFTA\n",
    "W_OReb  = detailed.WOR\n",
    "W_DReb  = detailed.WDR\n",
    "W_Ast   = detailed.WAst\n",
    "W_TO    = detailed.WTO\n",
    "W_Steal = detailed.WStl\n",
    "W_Block = detailed.WBlk\n",
    "W_Fouls = detailed.WPF"
   ]
  },
  {
   "cell_type": "code",
   "execution_count": 94,
   "metadata": {},
   "outputs": [],
   "source": [
    "L_Score = detailed.LScore\n",
    "L_FGM   = detailed.LFGM\n",
    "L_FGA   = detailed.LFGA\n",
    "L_FGM3  = detailed.LFGM3\n",
    "L_FGA3  = detailed.LFGA3\n",
    "L_FTM   = detailed.LFTM\n",
    "L_FTA   = detailed.LFTA\n",
    "L_OReb  = detailed.LOR\n",
    "L_DReb  = detailed.LDR\n",
    "L_Ast   = detailed.LAst\n",
    "L_TO    = detailed.LTO\n",
    "L_Steal = detailed.LStl\n",
    "L_Block = detailed.LBlk\n",
    "L_Fouls = detailed.LPF"
   ]
  },
  {
   "cell_type": "markdown",
   "metadata": {},
   "source": [
    "### Starting with some building block efficiencies and possession stats"
   ]
  },
  {
   "cell_type": "markdown",
   "metadata": {},
   "source": [
    "**Basic Possession Formula:**\n",
    "- 0.96 x (( Field Goal Attempts ) + ( Turnovers ) + ( 0.44 x Free Throw Attempts ) - ( Offensive Rebounds )) "
   ]
  },
  {
   "cell_type": "code",
   "execution_count": 95,
   "metadata": {},
   "outputs": [],
   "source": [
    "detailed['W_Pos'] = .96 * (W_FGA + W_TO + (.44 * W_FTA) - W_OReb)\n",
    "detailed['L_Pos'] = .96 * (L_FGA + L_TO + (.44 * L_FTA) - L_OReb)"
   ]
  },
  {
   "cell_type": "markdown",
   "metadata": {},
   "source": [
    "**Offensive Efficiency Rating:**\n",
    "- 100 x ( Points / Possessions )"
   ]
  },
  {
   "cell_type": "code",
   "execution_count": 96,
   "metadata": {},
   "outputs": [],
   "source": [
    "detailed['W_Off_Rtg'] = 100 * (W_Score / detailed.W_Pos)\n",
    "detailed['L_Off_Rtg'] = 100 * (L_Score / detailed.L_Pos)"
   ]
  },
  {
   "cell_type": "markdown",
   "metadata": {},
   "source": [
    "**Defensive Efficiency Rating:**\n",
    "- 100 x ( Opponent Points / Opponent Possessions )"
   ]
  },
  {
   "cell_type": "code",
   "execution_count": 97,
   "metadata": {},
   "outputs": [],
   "source": [
    "detailed['W_Def_Rtg'] = detailed.L_Off_Rtg\n",
    "detailed['L_Def_Rtg'] = detailed.W_Off_Rtg"
   ]
  },
  {
   "cell_type": "markdown",
   "metadata": {},
   "source": [
    " ### **\"Four Factors\"** are the box score derived metrics that correlate most closely with winning basketball games. "
   ]
  },
  {
   "cell_type": "markdown",
   "metadata": {},
   "source": [
    "**1. Shooting the Ball**\n",
    "- Effective Field Goal Percentage = ( Field Goals Made + ( 0.5 x 3P Field Goals Made )) / ( Field Goal Attempts )"
   ]
  },
  {
   "cell_type": "code",
   "execution_count": 98,
   "metadata": {},
   "outputs": [],
   "source": [
    "detailed['W_Eff_FG'] = (W_FGM + (.5 * W_FGM3)) / W_FGA\n",
    "detailed['L_Eff_FG'] = (L_FGM + (.5 * L_FGM3)) / L_FGA"
   ]
  },
  {
   "cell_type": "markdown",
   "metadata": {},
   "source": [
    "**2. Taking Care of the Ball**\n",
    "- Turnover Rate = Turnovers / ( Field Goal Attempts + ( 0.44 x Free Throw Attempts ) + Turnovers )"
   ]
  },
  {
   "cell_type": "code",
   "execution_count": 99,
   "metadata": {},
   "outputs": [],
   "source": [
    "detailed['W_TOR'] = W_TO / (W_FGA + (.44 * W_FTA) + W_TO)\n",
    "detailed['L_TOR'] = L_TO / (L_FGA + (.44 * L_FTA) + L_TO)"
   ]
  },
  {
   "cell_type": "code",
   "execution_count": 100,
   "metadata": {},
   "outputs": [
    {
     "data": {
      "text/plain": [
       "True"
      ]
     },
     "execution_count": 100,
     "metadata": {},
     "output_type": "execute_result"
    }
   ],
   "source": [
    "# Checking to see that intuition should still hold up\n",
    "detailed.W_TOR.mean() < detailed.L_TOR.mean()"
   ]
  },
  {
   "cell_type": "markdown",
   "metadata": {},
   "source": [
    "**3. Offensive Rebounding**\n",
    "- Offensive Rebounding Percentage = ( Offensive Rebounds ) / ( ( Offensive Rebounds ) + ( Opponent’s Defensive Rebounds ) )"
   ]
  },
  {
   "cell_type": "code",
   "execution_count": 101,
   "metadata": {},
   "outputs": [],
   "source": [
    "detailed['W_ORP'] = W_OReb / (W_OReb + L_DReb)\n",
    "detailed['L_ORP'] = L_OReb / (L_OReb + W_DReb)"
   ]
  },
  {
   "cell_type": "markdown",
   "metadata": {},
   "source": [
    "**4. Getting to the Foul Line**\n",
    "- Free Throw Rate = ( Free Throws Made ) / ( Field Goals Attempted )"
   ]
  },
  {
   "cell_type": "code",
   "execution_count": 102,
   "metadata": {},
   "outputs": [],
   "source": [
    "detailed['W_FTR'] = W_FTM / W_FGA\n",
    "detailed['L_FTR'] = L_FTM / L_FGA"
   ]
  },
  {
   "cell_type": "code",
   "execution_count": 103,
   "metadata": {},
   "outputs": [
    {
     "data": {
      "text/html": [
       "<div>\n",
       "<style>\n",
       "    .dataframe thead tr:only-child th {\n",
       "        text-align: right;\n",
       "    }\n",
       "\n",
       "    .dataframe thead th {\n",
       "        text-align: left;\n",
       "    }\n",
       "\n",
       "    .dataframe tbody tr th {\n",
       "        vertical-align: top;\n",
       "    }\n",
       "</style>\n",
       "<table border=\"1\" class=\"dataframe\">\n",
       "  <thead>\n",
       "    <tr style=\"text-align: right;\">\n",
       "      <th></th>\n",
       "      <th>Season</th>\n",
       "      <th>DayNum</th>\n",
       "      <th>WTeamID</th>\n",
       "      <th>WScore</th>\n",
       "      <th>LTeamID</th>\n",
       "      <th>LScore</th>\n",
       "      <th>WLoc</th>\n",
       "      <th>NumOT</th>\n",
       "      <th>WFGM</th>\n",
       "      <th>WFGA</th>\n",
       "      <th>...</th>\n",
       "      <th>W_Def_Rtg</th>\n",
       "      <th>L_Def_Rtg</th>\n",
       "      <th>W_Eff_FG</th>\n",
       "      <th>L_Eff_FG</th>\n",
       "      <th>W_TOR</th>\n",
       "      <th>L_TOR</th>\n",
       "      <th>W_ORP</th>\n",
       "      <th>L_ORP</th>\n",
       "      <th>W_FTR</th>\n",
       "      <th>L_FTR</th>\n",
       "    </tr>\n",
       "  </thead>\n",
       "  <tbody>\n",
       "    <tr>\n",
       "      <th>76636</th>\n",
       "      <td>2018</td>\n",
       "      <td>11</td>\n",
       "      <td>1104</td>\n",
       "      <td>82</td>\n",
       "      <td>1272</td>\n",
       "      <td>70</td>\n",
       "      <td>N</td>\n",
       "      <td>0</td>\n",
       "      <td>26</td>\n",
       "      <td>57</td>\n",
       "      <td>...</td>\n",
       "      <td>98.749549</td>\n",
       "      <td>118.109329</td>\n",
       "      <td>0.552632</td>\n",
       "      <td>0.400000</td>\n",
       "      <td>0.187529</td>\n",
       "      <td>0.183111</td>\n",
       "      <td>0.351351</td>\n",
       "      <td>0.413043</td>\n",
       "      <td>0.333333</td>\n",
       "      <td>0.366667</td>\n",
       "    </tr>\n",
       "    <tr>\n",
       "      <th>76637</th>\n",
       "      <td>2018</td>\n",
       "      <td>11</td>\n",
       "      <td>1107</td>\n",
       "      <td>69</td>\n",
       "      <td>1233</td>\n",
       "      <td>67</td>\n",
       "      <td>H</td>\n",
       "      <td>0</td>\n",
       "      <td>24</td>\n",
       "      <td>62</td>\n",
       "      <td>...</td>\n",
       "      <td>107.108144</td>\n",
       "      <td>111.676507</td>\n",
       "      <td>0.419355</td>\n",
       "      <td>0.474576</td>\n",
       "      <td>0.155950</td>\n",
       "      <td>0.097007</td>\n",
       "      <td>0.487179</td>\n",
       "      <td>0.200000</td>\n",
       "      <td>0.274194</td>\n",
       "      <td>0.186441</td>\n",
       "    </tr>\n",
       "    <tr>\n",
       "      <th>76638</th>\n",
       "      <td>2018</td>\n",
       "      <td>11</td>\n",
       "      <td>1112</td>\n",
       "      <td>101</td>\n",
       "      <td>1319</td>\n",
       "      <td>67</td>\n",
       "      <td>H</td>\n",
       "      <td>0</td>\n",
       "      <td>34</td>\n",
       "      <td>57</td>\n",
       "      <td>...</td>\n",
       "      <td>96.664358</td>\n",
       "      <td>150.126046</td>\n",
       "      <td>0.640351</td>\n",
       "      <td>0.431034</td>\n",
       "      <td>0.134016</td>\n",
       "      <td>0.154394</td>\n",
       "      <td>0.521739</td>\n",
       "      <td>0.279070</td>\n",
       "      <td>0.491228</td>\n",
       "      <td>0.293103</td>\n",
       "    </tr>\n",
       "  </tbody>\n",
       "</table>\n",
       "<p>3 rows × 48 columns</p>\n",
       "</div>"
      ],
      "text/plain": [
       "       Season  DayNum  WTeamID  WScore  LTeamID  LScore WLoc  NumOT  WFGM  \\\n",
       "76636    2018      11     1104      82     1272      70    N      0    26   \n",
       "76637    2018      11     1107      69     1233      67    H      0    24   \n",
       "76638    2018      11     1112     101     1319      67    H      0    34   \n",
       "\n",
       "       WFGA    ...      W_Def_Rtg   L_Def_Rtg  W_Eff_FG  L_Eff_FG     W_TOR  \\\n",
       "76636    57    ...      98.749549  118.109329  0.552632  0.400000  0.187529   \n",
       "76637    62    ...     107.108144  111.676507  0.419355  0.474576  0.155950   \n",
       "76638    57    ...      96.664358  150.126046  0.640351  0.431034  0.134016   \n",
       "\n",
       "          L_TOR     W_ORP     L_ORP     W_FTR     L_FTR  \n",
       "76636  0.183111  0.351351  0.413043  0.333333  0.366667  \n",
       "76637  0.097007  0.487179  0.200000  0.274194  0.186441  \n",
       "76638  0.154394  0.521739  0.279070  0.491228  0.293103  \n",
       "\n",
       "[3 rows x 48 columns]"
      ]
     },
     "execution_count": 103,
     "metadata": {},
     "output_type": "execute_result"
    }
   ],
   "source": [
    "detailed.head(3)"
   ]
  },
  {
   "cell_type": "markdown",
   "metadata": {},
   "source": [
    "### Save room for PIE"
   ]
  },
  {
   "cell_type": "markdown",
   "metadata": {},
   "source": [
    "What is **PIE**?\n",
    "\n",
    "It is a simple metric that gives an excellent indication of performance at both the team and player level. It’s a major improvement to our EFF Rating. Notably 2 things changed: \n",
    "- (1) We included Personal Fouls, \n",
    "- (2) We added a denominator. \n",
    "\n",
    "We feel the key here is the denominator because it acts as an \"automatic equalizer\". Using the denominator, we find there is no need to consider the \"PACE\" of the statistics that are being analyzed. In its simplest terms, PIE shows what % of game events did that player or team achieve. The stats being analyzed are your traditional basketball statistics (PTS, REB, AST, TOV, etc..) _**A team that achieves more than 50% is likely to be a winning team.**_ In fact, a team’s PIE rating and a team’s winning percentage correlate at an R square of .908 which indicates a \"strong\" correlation."
   ]
  },
  {
   "cell_type": "markdown",
   "metadata": {},
   "source": [
    "( PTS + FGM + FTM - FGA - FTA + DREB + ( .5 x OREB ) + AST + STL + ( .5 x BLK ) - PF - TO ) \n",
    "\n",
    "**__DIVIDED BY__**\n",
    "\n",
    "( GmPTS + GmFGM + GmFTM - GmFGA - GmFTA + GmDREB + ( .5 x GmOREB ) + GmAST + GmSTL + ( .5 x GmBLK ) - GmPF - GmTO )"
   ]
  },
  {
   "cell_type": "code",
   "execution_count": 104,
   "metadata": {},
   "outputs": [],
   "source": [
    "W_numerator = W_Score + W_FGM + W_FTM - W_FGA - W_FTA + W_DReb + (.5 *W_OReb) + W_Ast + W_Steal + (.5 * W_Block) - W_Fouls - W_TO\n",
    "    \n",
    "L_numerator = L_Score + L_FGM + L_FTM - L_FGA - L_FTA + L_DReb + (.5 *L_OReb) + L_Ast + L_Steal + (.5 * L_Block) - L_Fouls - L_TO\n",
    "\n",
    "game_totals = (W_Score + L_Score) + (W_FGM + L_FGM) + (W_FTM + L_FTM) - (W_FGA + L_FGA) - (W_FTA + L_FTA) + (W_DReb + L_DReb) + (.5 * (W_OReb + L_OReb)) + (W_Ast + L_Ast) + (W_Steal + L_Steal) + (.5 * (W_Block + L_Block)) - (W_Fouls + L_Fouls) - (W_TO + L_TO)"
   ]
  },
  {
   "cell_type": "code",
   "execution_count": 105,
   "metadata": {},
   "outputs": [],
   "source": [
    "detailed['W_PIE'] = W_numerator / game_totals\n",
    "detailed['L_PIE'] = L_numerator / game_totals"
   ]
  },
  {
   "cell_type": "code",
   "execution_count": 106,
   "metadata": {
    "scrolled": true
   },
   "outputs": [
    {
     "name": "stdout",
     "output_type": "stream",
     "text": [
      "0.6329131306655542\n",
      "0.36708686933444373\n"
     ]
    }
   ],
   "source": [
    "print(detailed.W_PIE.mean())\n",
    "print(detailed.L_PIE.mean())"
   ]
  },
  {
   "cell_type": "code",
   "execution_count": 107,
   "metadata": {},
   "outputs": [
    {
     "data": {
      "text/html": [
       "<div>\n",
       "<style>\n",
       "    .dataframe thead tr:only-child th {\n",
       "        text-align: right;\n",
       "    }\n",
       "\n",
       "    .dataframe thead th {\n",
       "        text-align: left;\n",
       "    }\n",
       "\n",
       "    .dataframe tbody tr th {\n",
       "        vertical-align: top;\n",
       "    }\n",
       "</style>\n",
       "<table border=\"1\" class=\"dataframe\">\n",
       "  <thead>\n",
       "    <tr style=\"text-align: right;\">\n",
       "      <th></th>\n",
       "      <th>Season</th>\n",
       "      <th>DayNum</th>\n",
       "      <th>WTeamID</th>\n",
       "      <th>WScore</th>\n",
       "      <th>LTeamID</th>\n",
       "      <th>LScore</th>\n",
       "      <th>WLoc</th>\n",
       "      <th>NumOT</th>\n",
       "      <th>WFGM</th>\n",
       "      <th>WFGA</th>\n",
       "      <th>...</th>\n",
       "      <th>W_Eff_FG</th>\n",
       "      <th>L_Eff_FG</th>\n",
       "      <th>W_TOR</th>\n",
       "      <th>L_TOR</th>\n",
       "      <th>W_ORP</th>\n",
       "      <th>L_ORP</th>\n",
       "      <th>W_FTR</th>\n",
       "      <th>L_FTR</th>\n",
       "      <th>W_PIE</th>\n",
       "      <th>L_PIE</th>\n",
       "    </tr>\n",
       "  </thead>\n",
       "  <tbody>\n",
       "    <tr>\n",
       "      <th>76636</th>\n",
       "      <td>2018</td>\n",
       "      <td>11</td>\n",
       "      <td>1104</td>\n",
       "      <td>82</td>\n",
       "      <td>1272</td>\n",
       "      <td>70</td>\n",
       "      <td>N</td>\n",
       "      <td>0</td>\n",
       "      <td>26</td>\n",
       "      <td>57</td>\n",
       "      <td>...</td>\n",
       "      <td>0.552632</td>\n",
       "      <td>0.400000</td>\n",
       "      <td>0.187529</td>\n",
       "      <td>0.183111</td>\n",
       "      <td>0.351351</td>\n",
       "      <td>0.413043</td>\n",
       "      <td>0.333333</td>\n",
       "      <td>0.366667</td>\n",
       "      <td>0.662791</td>\n",
       "      <td>0.337209</td>\n",
       "    </tr>\n",
       "    <tr>\n",
       "      <th>76637</th>\n",
       "      <td>2018</td>\n",
       "      <td>11</td>\n",
       "      <td>1107</td>\n",
       "      <td>69</td>\n",
       "      <td>1233</td>\n",
       "      <td>67</td>\n",
       "      <td>H</td>\n",
       "      <td>0</td>\n",
       "      <td>24</td>\n",
       "      <td>62</td>\n",
       "      <td>...</td>\n",
       "      <td>0.419355</td>\n",
       "      <td>0.474576</td>\n",
       "      <td>0.155950</td>\n",
       "      <td>0.097007</td>\n",
       "      <td>0.487179</td>\n",
       "      <td>0.200000</td>\n",
       "      <td>0.274194</td>\n",
       "      <td>0.186441</td>\n",
       "      <td>0.481081</td>\n",
       "      <td>0.518919</td>\n",
       "    </tr>\n",
       "    <tr>\n",
       "      <th>76638</th>\n",
       "      <td>2018</td>\n",
       "      <td>11</td>\n",
       "      <td>1112</td>\n",
       "      <td>101</td>\n",
       "      <td>1319</td>\n",
       "      <td>67</td>\n",
       "      <td>H</td>\n",
       "      <td>0</td>\n",
       "      <td>34</td>\n",
       "      <td>57</td>\n",
       "      <td>...</td>\n",
       "      <td>0.640351</td>\n",
       "      <td>0.431034</td>\n",
       "      <td>0.134016</td>\n",
       "      <td>0.154394</td>\n",
       "      <td>0.521739</td>\n",
       "      <td>0.279070</td>\n",
       "      <td>0.491228</td>\n",
       "      <td>0.293103</td>\n",
       "      <td>0.887967</td>\n",
       "      <td>0.112033</td>\n",
       "    </tr>\n",
       "  </tbody>\n",
       "</table>\n",
       "<p>3 rows × 50 columns</p>\n",
       "</div>"
      ],
      "text/plain": [
       "       Season  DayNum  WTeamID  WScore  LTeamID  LScore WLoc  NumOT  WFGM  \\\n",
       "76636    2018      11     1104      82     1272      70    N      0    26   \n",
       "76637    2018      11     1107      69     1233      67    H      0    24   \n",
       "76638    2018      11     1112     101     1319      67    H      0    34   \n",
       "\n",
       "       WFGA    ...     W_Eff_FG  L_Eff_FG     W_TOR     L_TOR     W_ORP  \\\n",
       "76636    57    ...     0.552632  0.400000  0.187529  0.183111  0.351351   \n",
       "76637    62    ...     0.419355  0.474576  0.155950  0.097007  0.487179   \n",
       "76638    57    ...     0.640351  0.431034  0.134016  0.154394  0.521739   \n",
       "\n",
       "          L_ORP     W_FTR     L_FTR     W_PIE     L_PIE  \n",
       "76636  0.413043  0.333333  0.366667  0.662791  0.337209  \n",
       "76637  0.200000  0.274194  0.186441  0.481081  0.518919  \n",
       "76638  0.279070  0.491228  0.293103  0.887967  0.112033  \n",
       "\n",
       "[3 rows x 50 columns]"
      ]
     },
     "execution_count": 107,
     "metadata": {},
     "output_type": "execute_result"
    }
   ],
   "source": [
    "detailed.head(3)"
   ]
  },
  {
   "cell_type": "code",
   "execution_count": 108,
   "metadata": {},
   "outputs": [
    {
     "data": {
      "image/png": "[encoded data removed]",
      "text/plain": [
       "<matplotlib.figure.Figure at 0x108983748>"
      ]
     },
     "metadata": {},
     "output_type": "display_data"
    }
   ],
   "source": [
    "sns.lmplot('WScore', 'W_PIE', detailed);"
   ]
  },
  {
   "cell_type": "markdown",
   "metadata": {},
   "source": [
    "**Don't forget to come up with a consistency rating if you have time!!**\n",
    "\n",
    "_ Also put in some VIZZZZ here to show the advanced stats that we've got now _\n",
    "_ Should have also included the location as a feature"
   ]
  },
  {
   "cell_type": "markdown",
   "metadata": {},
   "source": [
    "## Manipulating the structure of our data"
   ]
  },
  {
   "cell_type": "code",
   "execution_count": 109,
   "metadata": {
    "scrolled": true
   },
   "outputs": [
    {
     "data": {
      "text/html": [
       "<div>\n",
       "<style>\n",
       "    .dataframe thead tr:only-child th {\n",
       "        text-align: right;\n",
       "    }\n",
       "\n",
       "    .dataframe thead th {\n",
       "        text-align: left;\n",
       "    }\n",
       "\n",
       "    .dataframe tbody tr th {\n",
       "        vertical-align: top;\n",
       "    }\n",
       "</style>\n",
       "<table border=\"1\" class=\"dataframe\">\n",
       "  <thead>\n",
       "    <tr style=\"text-align: right;\">\n",
       "      <th></th>\n",
       "      <th>Def_Rtg</th>\n",
       "      <th>Def_Rtg_dif</th>\n",
       "      <th>Eff_FG</th>\n",
       "      <th>Eff_FG_dif</th>\n",
       "      <th>FTR</th>\n",
       "      <th>FTR_dif</th>\n",
       "      <th>ORP</th>\n",
       "      <th>ORP_dif</th>\n",
       "      <th>Off_Rtg</th>\n",
       "      <th>Off_Rtg_dif</th>\n",
       "      <th>OpponentID</th>\n",
       "      <th>PIE</th>\n",
       "      <th>PIE_dif</th>\n",
       "      <th>Pos</th>\n",
       "      <th>Pos_dif</th>\n",
       "      <th>Season</th>\n",
       "      <th>TOR</th>\n",
       "      <th>TOR_dif</th>\n",
       "      <th>TeamID</th>\n",
       "      <th>Won</th>\n",
       "    </tr>\n",
       "  </thead>\n",
       "  <tbody>\n",
       "    <tr>\n",
       "      <th>0</th>\n",
       "      <td>98.749549</td>\n",
       "      <td>-19.359780</td>\n",
       "      <td>0.552632</td>\n",
       "      <td>0.152632</td>\n",
       "      <td>0.333333</td>\n",
       "      <td>-0.033333</td>\n",
       "      <td>0.351351</td>\n",
       "      <td>-0.061692</td>\n",
       "      <td>118.109329</td>\n",
       "      <td>19.359780</td>\n",
       "      <td>1272</td>\n",
       "      <td>0.662791</td>\n",
       "      <td>0.325581</td>\n",
       "      <td>69.4272</td>\n",
       "      <td>-1.4592</td>\n",
       "      <td>2018</td>\n",
       "      <td>0.187529</td>\n",
       "      <td>0.004419</td>\n",
       "      <td>1104</td>\n",
       "      <td>1</td>\n",
       "    </tr>\n",
       "    <tr>\n",
       "      <th>1</th>\n",
       "      <td>118.109329</td>\n",
       "      <td>19.359780</td>\n",
       "      <td>0.400000</td>\n",
       "      <td>-0.152632</td>\n",
       "      <td>0.366667</td>\n",
       "      <td>0.033333</td>\n",
       "      <td>0.413043</td>\n",
       "      <td>0.061692</td>\n",
       "      <td>98.749549</td>\n",
       "      <td>-19.359780</td>\n",
       "      <td>1104</td>\n",
       "      <td>0.337209</td>\n",
       "      <td>-0.325581</td>\n",
       "      <td>70.8864</td>\n",
       "      <td>1.4592</td>\n",
       "      <td>2018</td>\n",
       "      <td>0.183111</td>\n",
       "      <td>-0.004419</td>\n",
       "      <td>1272</td>\n",
       "      <td>0</td>\n",
       "    </tr>\n",
       "    <tr>\n",
       "      <th>2</th>\n",
       "      <td>107.108144</td>\n",
       "      <td>-4.568363</td>\n",
       "      <td>0.419355</td>\n",
       "      <td>-0.055221</td>\n",
       "      <td>0.274194</td>\n",
       "      <td>0.087753</td>\n",
       "      <td>0.487179</td>\n",
       "      <td>0.287179</td>\n",
       "      <td>111.676507</td>\n",
       "      <td>4.568363</td>\n",
       "      <td>1233</td>\n",
       "      <td>0.481081</td>\n",
       "      <td>-0.037838</td>\n",
       "      <td>61.7856</td>\n",
       "      <td>-0.7680</td>\n",
       "      <td>2018</td>\n",
       "      <td>0.155950</td>\n",
       "      <td>0.058943</td>\n",
       "      <td>1107</td>\n",
       "      <td>1</td>\n",
       "    </tr>\n",
       "    <tr>\n",
       "      <th>3</th>\n",
       "      <td>111.676507</td>\n",
       "      <td>4.568363</td>\n",
       "      <td>0.474576</td>\n",
       "      <td>0.055221</td>\n",
       "      <td>0.186441</td>\n",
       "      <td>-0.087753</td>\n",
       "      <td>0.200000</td>\n",
       "      <td>-0.287179</td>\n",
       "      <td>107.108144</td>\n",
       "      <td>-4.568363</td>\n",
       "      <td>1107</td>\n",
       "      <td>0.518919</td>\n",
       "      <td>0.037838</td>\n",
       "      <td>62.5536</td>\n",
       "      <td>0.7680</td>\n",
       "      <td>2018</td>\n",
       "      <td>0.097007</td>\n",
       "      <td>-0.058943</td>\n",
       "      <td>1233</td>\n",
       "      <td>0</td>\n",
       "    </tr>\n",
       "  </tbody>\n",
       "</table>\n",
       "</div>"
      ],
      "text/plain": [
       "      Def_Rtg  Def_Rtg_dif    Eff_FG  Eff_FG_dif       FTR   FTR_dif  \\\n",
       "0   98.749549   -19.359780  0.552632    0.152632  0.333333 -0.033333   \n",
       "1  118.109329    19.359780  0.400000   -0.152632  0.366667  0.033333   \n",
       "2  107.108144    -4.568363  0.419355   -0.055221  0.274194  0.087753   \n",
       "3  111.676507     4.568363  0.474576    0.055221  0.186441 -0.087753   \n",
       "\n",
       "        ORP   ORP_dif     Off_Rtg  Off_Rtg_dif  OpponentID       PIE  \\\n",
       "0  0.351351 -0.061692  118.109329    19.359780        1272  0.662791   \n",
       "1  0.413043  0.061692   98.749549   -19.359780        1104  0.337209   \n",
       "2  0.487179  0.287179  111.676507     4.568363        1233  0.481081   \n",
       "3  0.200000 -0.287179  107.108144    -4.568363        1107  0.518919   \n",
       "\n",
       "    PIE_dif      Pos  Pos_dif  Season       TOR   TOR_dif  TeamID  Won  \n",
       "0  0.325581  69.4272  -1.4592    2018  0.187529  0.004419    1104    1  \n",
       "1 -0.325581  70.8864   1.4592    2018  0.183111 -0.004419    1272    0  \n",
       "2 -0.037838  61.7856  -0.7680    2018  0.155950  0.058943    1107    1  \n",
       "3  0.037838  62.5536   0.7680    2018  0.097007 -0.058943    1233    0  "
      ]
     },
     "execution_count": 109,
     "metadata": {},
     "output_type": "execute_result"
    }
   ],
   "source": [
    "games = []\n",
    "for row in detailed.to_dict('records'):\n",
    "    \n",
    "    game = {}\n",
    "    game['Season']      = row['Season']\n",
    "    game['TeamID']     = row['WTeamID']\n",
    "    game['OpponentID']  = row['LTeamID']\n",
    "    game['Pos']         = row['W_Pos']\n",
    "    game['Off_Rtg']     = row['W_Off_Rtg']\n",
    "    game['Def_Rtg']     = row['W_Def_Rtg']\n",
    "    game['Eff_FG']      = row['W_Eff_FG']\n",
    "    game['TOR']         = row['W_TOR']\n",
    "    game['ORP']         = row['W_ORP']\n",
    "    game['FTR']         = row['W_FTR']\n",
    "    game['PIE']         = row['W_PIE']\n",
    "    game['Won']         = 1\n",
    "    \n",
    "    game['Pos_dif']     = row['W_Pos'] - row['L_Pos']\n",
    "    game['Off_Rtg_dif'] = row['W_Off_Rtg'] - row['L_Off_Rtg']\n",
    "    game['Def_Rtg_dif'] = row['W_Def_Rtg'] - row['L_Def_Rtg']\n",
    "    game['Eff_FG_dif']  = row['W_Eff_FG'] - row['L_Eff_FG']\n",
    "    game['TOR_dif']     = row['W_TOR'] - row['L_TOR']\n",
    "    game['ORP_dif']     = row['W_ORP'] - row['L_ORP']\n",
    "    game['FTR_dif']     = row['W_FTR'] - row['L_FTR']\n",
    "    game['PIE_dif']     = row['W_PIE'] - row['L_PIE']\n",
    "    \n",
    "    games.append(game)\n",
    "    \n",
    "    # Break\n",
    "    \n",
    "    game = {}\n",
    "    game['Season']      = row['Season']\n",
    "    game['TeamID']      = row['LTeamID']\n",
    "    game['OpponentID']  = row['WTeamID']\n",
    "    game['Pos']         = row['L_Pos']\n",
    "    game['Off_Rtg']     = row['L_Off_Rtg']\n",
    "    game['Def_Rtg']     = row['L_Def_Rtg']\n",
    "    game['Eff_FG']      = row['L_Eff_FG']\n",
    "    game['TOR']         = row['L_TOR']\n",
    "    game['ORP']         = row['L_ORP']\n",
    "    game['FTR']         = row['L_FTR']\n",
    "    game['PIE']         = row['L_PIE']\n",
    "    game['Won']         = 0\n",
    "    \n",
    "    game['Pos_dif']     = row['L_Pos'] - row['W_Pos']\n",
    "    game['Off_Rtg_dif'] = row['L_Off_Rtg'] - row['W_Off_Rtg']\n",
    "    game['Def_Rtg_dif'] = row['L_Def_Rtg'] - row['W_Def_Rtg']\n",
    "    game['Eff_FG_dif']  = row['L_Eff_FG'] - row['W_Eff_FG']\n",
    "    game['TOR_dif']     = row['L_TOR'] - row['W_TOR']\n",
    "    game['ORP_dif']     = row['L_ORP'] - row['W_ORP']\n",
    "    game['FTR_dif']     = row['L_FTR'] - row['W_FTR']\n",
    "    game['PIE_dif']     = row['L_PIE'] - row['W_PIE']\n",
    "    \n",
    "    games.append(game)\n",
    "\n",
    "games_df = pd.DataFrame(games)\n",
    "games_df.head(4)"
   ]
  },
  {
   "cell_type": "code",
   "execution_count": 110,
   "metadata": {},
   "outputs": [
    {
     "data": {
      "text/plain": [
       "True"
      ]
     },
     "execution_count": 110,
     "metadata": {},
     "output_type": "execute_result"
    }
   ],
   "source": [
    "# Just doing a quick check to make sure that we have everything duplicated aka from both perspectives.\n",
    "games_df.shape[0] == (2 * detailed.shape[0])"
   ]
  },
  {
   "cell_type": "markdown",
   "metadata": {},
   "source": [
    "### Let's take a look and see at how these new features may have changed things"
   ]
  },
  {
   "cell_type": "code",
   "execution_count": 111,
   "metadata": {},
   "outputs": [
    {
     "data": {
      "text/plain": [
       "Won            1.000000\n",
       "Off_Rtg_dif    0.802438\n",
       "PIE_dif        0.789605\n",
       "PIE            0.789605\n",
       "Eff_FG_dif     0.677166\n",
       "Off_Rtg        0.581066\n",
       "Eff_FG         0.492607\n",
       "FTR_dif        0.409038\n",
       "FTR            0.278763\n",
       "ORP_dif        0.229220\n",
       "ORP            0.162071\n",
       "TeamID         0.058640\n",
       "Pos           -0.024311\n",
       "OpponentID    -0.058640\n",
       "TOR           -0.145443\n",
       "Pos_dif       -0.163480\n",
       "TOR_dif       -0.212207\n",
       "Def_Rtg       -0.581066\n",
       "Def_Rtg_dif   -0.802438\n",
       "Season              NaN\n",
       "Name: Won, dtype: float64"
      ]
     },
     "execution_count": 111,
     "metadata": {},
     "output_type": "execute_result"
    }
   ],
   "source": [
    "games_df.corr().loc['Won', :].sort_values(ascending = False)"
   ]
  },
  {
   "cell_type": "code",
   "execution_count": 112,
   "metadata": {},
   "outputs": [
    {
     "data": {
      "image/png": "[encoded data removed]",
      "text/plain": [
       "<matplotlib.figure.Figure at 0x110aa4438>"
      ]
     },
     "metadata": {},
     "output_type": "display_data"
    }
   ],
   "source": [
    "plt.figure(figsize=(10,8))\n",
    "\n",
    "corr = games_df.corr()\n",
    "mask = np.zeros_like(corr)\n",
    "mask[np.triu_indices_from(mask)] = True\n",
    "with sns.axes_style(\"white\"):\n",
    "    ax = sns.heatmap(corr, mask=mask, vmax=.9, square=True, cmap='vlag')"
   ]
  },
  {
   "cell_type": "markdown",
   "metadata": {},
   "source": [
    "### Now I want to get the season long averages and average differentials for each team. Then join those back into these regular season match-ups then train the model on those."
   ]
  },
  {
   "cell_type": "code",
   "execution_count": 113,
   "metadata": {},
   "outputs": [
    {
     "data": {
      "text/html": [
       "<div>\n",
       "<style>\n",
       "    .dataframe thead tr:only-child th {\n",
       "        text-align: right;\n",
       "    }\n",
       "\n",
       "    .dataframe thead th {\n",
       "        text-align: left;\n",
       "    }\n",
       "\n",
       "    .dataframe tbody tr th {\n",
       "        vertical-align: top;\n",
       "    }\n",
       "</style>\n",
       "<table border=\"1\" class=\"dataframe\">\n",
       "  <thead>\n",
       "    <tr style=\"text-align: right;\">\n",
       "      <th></th>\n",
       "      <th>TeamID</th>\n",
       "      <th>Def_Rtg_avg</th>\n",
       "      <th>Def_Rtg_dif_avg</th>\n",
       "      <th>Eff_FG_avg</th>\n",
       "      <th>Eff_FG_dif_avg</th>\n",
       "      <th>FTR_avg</th>\n",
       "      <th>FTR_dif_avg</th>\n",
       "      <th>ORP_avg</th>\n",
       "      <th>ORP_dif_avg</th>\n",
       "      <th>Off_Rtg_avg</th>\n",
       "      <th>Off_Rtg_dif_avg</th>\n",
       "      <th>PIE_avg</th>\n",
       "      <th>PIE_dif_avg</th>\n",
       "      <th>Pos_avg</th>\n",
       "      <th>Pos_dif_avg</th>\n",
       "      <th>TOR_avg</th>\n",
       "      <th>TOR_dif_avg</th>\n",
       "    </tr>\n",
       "  </thead>\n",
       "  <tbody>\n",
       "    <tr>\n",
       "      <th>0</th>\n",
       "      <td>1101</td>\n",
       "      <td>108.369964</td>\n",
       "      <td>3.027014</td>\n",
       "      <td>0.510697</td>\n",
       "      <td>-0.008713</td>\n",
       "      <td>0.240944</td>\n",
       "      <td>-0.074223</td>\n",
       "      <td>0.262368</td>\n",
       "      <td>-0.031703</td>\n",
       "      <td>105.342950</td>\n",
       "      <td>-3.027014</td>\n",
       "      <td>0.471247</td>\n",
       "      <td>-0.057506</td>\n",
       "      <td>67.262578</td>\n",
       "      <td>-0.098133</td>\n",
       "      <td>0.181402</td>\n",
       "      <td>-0.011258</td>\n",
       "    </tr>\n",
       "    <tr>\n",
       "      <th>1</th>\n",
       "      <td>1102</td>\n",
       "      <td>112.635920</td>\n",
       "      <td>9.150306</td>\n",
       "      <td>0.474561</td>\n",
       "      <td>-0.077822</td>\n",
       "      <td>0.242446</td>\n",
       "      <td>0.001532</td>\n",
       "      <td>0.271192</td>\n",
       "      <td>-0.014643</td>\n",
       "      <td>103.485615</td>\n",
       "      <td>-9.150306</td>\n",
       "      <td>0.444632</td>\n",
       "      <td>-0.110735</td>\n",
       "      <td>64.247172</td>\n",
       "      <td>-0.286014</td>\n",
       "      <td>0.165710</td>\n",
       "      <td>-0.018128</td>\n",
       "    </tr>\n",
       "    <tr>\n",
       "      <th>2</th>\n",
       "      <td>1103</td>\n",
       "      <td>114.718531</td>\n",
       "      <td>7.404159</td>\n",
       "      <td>0.515700</td>\n",
       "      <td>-0.025224</td>\n",
       "      <td>0.223778</td>\n",
       "      <td>-0.062406</td>\n",
       "      <td>0.271276</td>\n",
       "      <td>-0.011190</td>\n",
       "      <td>107.314372</td>\n",
       "      <td>-7.404159</td>\n",
       "      <td>0.436364</td>\n",
       "      <td>-0.127272</td>\n",
       "      <td>66.445626</td>\n",
       "      <td>0.068129</td>\n",
       "      <td>0.174633</td>\n",
       "      <td>0.009458</td>\n",
       "    </tr>\n",
       "  </tbody>\n",
       "</table>\n",
       "</div>"
      ],
      "text/plain": [
       "   TeamID  Def_Rtg_avg  Def_Rtg_dif_avg  Eff_FG_avg  Eff_FG_dif_avg   FTR_avg  \\\n",
       "0    1101   108.369964         3.027014    0.510697       -0.008713  0.240944   \n",
       "1    1102   112.635920         9.150306    0.474561       -0.077822  0.242446   \n",
       "2    1103   114.718531         7.404159    0.515700       -0.025224  0.223778   \n",
       "\n",
       "   FTR_dif_avg   ORP_avg  ORP_dif_avg  Off_Rtg_avg  Off_Rtg_dif_avg   PIE_avg  \\\n",
       "0    -0.074223  0.262368    -0.031703   105.342950        -3.027014  0.471247   \n",
       "1     0.001532  0.271192    -0.014643   103.485615        -9.150306  0.444632   \n",
       "2    -0.062406  0.271276    -0.011190   107.314372        -7.404159  0.436364   \n",
       "\n",
       "   PIE_dif_avg    Pos_avg  Pos_dif_avg   TOR_avg  TOR_dif_avg  \n",
       "0    -0.057506  67.262578    -0.098133  0.181402    -0.011258  \n",
       "1    -0.110735  64.247172    -0.286014  0.165710    -0.018128  \n",
       "2    -0.127272  66.445626     0.068129  0.174633     0.009458  "
      ]
     },
     "execution_count": 113,
     "metadata": {},
     "output_type": "execute_result"
    }
   ],
   "source": [
    "summary_stats = games_df.groupby('TeamID').mean()\n",
    "summary_stats = summary_stats.add_suffix('_avg')\n",
    "summary_stats.drop(['OpponentID_avg', 'Season_avg', 'Won_avg'], axis=1, inplace=True)\n",
    "summary_stats.reset_index(level=0, inplace=True)\n",
    "summary_stats.head(3)"
   ]
  },
  {
   "cell_type": "code",
   "execution_count": null,
   "metadata": {},
   "outputs": [],
   "source": []
  },
  {
   "cell_type": "markdown",
   "metadata": {},
   "source": [
    "### Bringing those season-long summary stats back into the main dataframe."
   ]
  },
  {
   "cell_type": "code",
   "execution_count": 114,
   "metadata": {},
   "outputs": [
    {
     "data": {
      "text/plain": [
       "(10810, 36)"
      ]
     },
     "execution_count": 114,
     "metadata": {},
     "output_type": "execute_result"
    }
   ],
   "source": [
    "pd.merge(games_df, summary_stats, on='TeamID').shape"
   ]
  },
  {
   "cell_type": "code",
   "execution_count": 115,
   "metadata": {},
   "outputs": [],
   "source": [
    "df = pd.merge(games_df, summary_stats, on='TeamID')"
   ]
  },
  {
   "cell_type": "code",
   "execution_count": 116,
   "metadata": {},
   "outputs": [],
   "source": [
    "df = pd.merge(df, summary_stats, left_on='OpponentID', right_on='TeamID')"
   ]
  },
  {
   "cell_type": "code",
   "execution_count": 117,
   "metadata": {},
   "outputs": [
    {
     "data": {
      "text/plain": [
       "Def_Rtg              0\n",
       "Def_Rtg_dif          0\n",
       "Eff_FG               0\n",
       "Eff_FG_dif           0\n",
       "FTR                  0\n",
       "FTR_dif              0\n",
       "ORP                  0\n",
       "ORP_dif              0\n",
       "Off_Rtg              0\n",
       "Off_Rtg_dif          0\n",
       "OpponentID           0\n",
       "PIE                  0\n",
       "PIE_dif              0\n",
       "Pos                  0\n",
       "Pos_dif              0\n",
       "Season               0\n",
       "TOR                  0\n",
       "TOR_dif              0\n",
       "TeamID_x             0\n",
       "Won                  0\n",
       "Def_Rtg_avg_x        0\n",
       "Def_Rtg_dif_avg_x    0\n",
       "Eff_FG_avg_x         0\n",
       "Eff_FG_dif_avg_x     0\n",
       "FTR_avg_x            0\n",
       "FTR_dif_avg_x        0\n",
       "ORP_avg_x            0\n",
       "ORP_dif_avg_x        0\n",
       "Off_Rtg_avg_x        0\n",
       "Off_Rtg_dif_avg_x    0\n",
       "PIE_avg_x            0\n",
       "PIE_dif_avg_x        0\n",
       "Pos_avg_x            0\n",
       "Pos_dif_avg_x        0\n",
       "TOR_avg_x            0\n",
       "TOR_dif_avg_x        0\n",
       "TeamID_y             0\n",
       "Def_Rtg_avg_y        0\n",
       "Def_Rtg_dif_avg_y    0\n",
       "Eff_FG_avg_y         0\n",
       "Eff_FG_dif_avg_y     0\n",
       "FTR_avg_y            0\n",
       "FTR_dif_avg_y        0\n",
       "ORP_avg_y            0\n",
       "ORP_dif_avg_y        0\n",
       "Off_Rtg_avg_y        0\n",
       "Off_Rtg_dif_avg_y    0\n",
       "PIE_avg_y            0\n",
       "PIE_dif_avg_y        0\n",
       "Pos_avg_y            0\n",
       "Pos_dif_avg_y        0\n",
       "TOR_avg_y            0\n",
       "TOR_dif_avg_y        0\n",
       "dtype: int64"
      ]
     },
     "execution_count": 117,
     "metadata": {},
     "output_type": "execute_result"
    }
   ],
   "source": [
    "df.isnull().sum()"
   ]
  },
  {
   "cell_type": "markdown",
   "metadata": {},
   "source": [
    "# // Setting up and running the model"
   ]
  },
  {
   "cell_type": "code",
   "execution_count": 118,
   "metadata": {},
   "outputs": [],
   "source": [
    "train = df.loc[games_df['Season'] >= 2018, :]"
   ]
  },
  {
   "cell_type": "code",
   "execution_count": 119,
   "metadata": {},
   "outputs": [],
   "source": [
    "new_features = [col for col in train.columns if col not in ['TeamID', 'OpponentID', 'Won', 'TeamID_x', 'TeamID_y', 'Season']]"
   ]
  },
  {
   "cell_type": "code",
   "execution_count": 120,
   "metadata": {},
   "outputs": [],
   "source": [
    "new_features = [x for x in new_features if 'avg' in str(x)]"
   ]
  },
  {
   "cell_type": "code",
   "execution_count": 121,
   "metadata": {},
   "outputs": [],
   "source": [
    "X = train[new_features]\n",
    "y = train['Won']\n",
    "\n",
    "X_train, X_val, y_train, y_val = train_test_split(X, y, random_state = 23)"
   ]
  },
  {
   "cell_type": "code",
   "execution_count": 122,
   "metadata": {},
   "outputs": [
    {
     "name": "stdout",
     "output_type": "stream",
     "text": [
      "0.7014925373134329\n"
     ]
    },
    {
     "data": {
      "text/plain": [
       "{'bootstrap': True,\n",
       " 'criterion': 'entropy',\n",
       " 'max_depth': 100,\n",
       " 'max_features': 'auto',\n",
       " 'min_samples_leaf': 4,\n",
       " 'min_samples_split': 5,\n",
       " 'n_estimators': 2000}"
      ]
     },
     "execution_count": 122,
     "metadata": {},
     "output_type": "execute_result"
    }
   ],
   "source": [
    "rf = RandomForestClassifier(random_state=44)\n",
    "\n",
    "n_estimators = [int(x) for x in np.linspace(start = 200, stop = 2000, num = 10)]\n",
    "\n",
    "# Maximum number of levels in tree\n",
    "max_depth = [int(x) for x in np.linspace(10, 110, num = 11)]\n",
    "max_depth.append(None)\n",
    "\n",
    "# Method of selecting samples for training each tree\n",
    "bootstrap = [True, False]\n",
    "\n",
    "rf_params = {\n",
    "    'n_estimators': n_estimators,\n",
    "    'criterion': ['gini', 'entropy'],\n",
    "    'min_samples_split': [2, 5, 10],\n",
    "    'min_samples_leaf': [1, 2, 4],\n",
    "    'max_depth': max_depth,\n",
    "    'max_features': ['auto', 'log2'],\n",
    "    'bootstrap': bootstrap\n",
    "}\n",
    "rs_rf = RandomizedSearchCV(rf, rf_params)\n",
    "rs_rf.fit(X_train, y_train)\n",
    "print (rs_rf.best_score_)\n",
    "rs_rf.best_params_"
   ]
  },
  {
   "cell_type": "code",
   "execution_count": 123,
   "metadata": {},
   "outputs": [
    {
     "data": {
      "text/plain": [
       "0.682944876063633"
      ]
     },
     "execution_count": 123,
     "metadata": {},
     "output_type": "execute_result"
    }
   ],
   "source": [
    "rs_rf.score(X_val, y_val)"
   ]
  },
  {
   "cell_type": "markdown",
   "metadata": {},
   "source": [
    "# // Building out the predictions for the actual tournament! //"
   ]
  },
  {
   "cell_type": "code",
   "execution_count": 124,
   "metadata": {},
   "outputs": [
    {
     "data": {
      "text/plain": [
       "(2278, 2)"
      ]
     },
     "execution_count": 124,
     "metadata": {},
     "output_type": "execute_result"
    }
   ],
   "source": [
    "sample_sub2 = pd.read_csv('Stage2UpdatedDataFiles/SampleSubmissionStage2.csv')\n",
    "sample_sub2.shape"
   ]
  },
  {
   "cell_type": "markdown",
   "metadata": {},
   "source": [
    "Starting to build out my \"true\" test predictions:"
   ]
  },
  {
   "cell_type": "code",
   "execution_count": 125,
   "metadata": {
    "scrolled": false
   },
   "outputs": [
    {
     "data": {
      "text/html": [
       "<div>\n",
       "<style>\n",
       "    .dataframe thead tr:only-child th {\n",
       "        text-align: right;\n",
       "    }\n",
       "\n",
       "    .dataframe thead th {\n",
       "        text-align: left;\n",
       "    }\n",
       "\n",
       "    .dataframe tbody tr th {\n",
       "        vertical-align: top;\n",
       "    }\n",
       "</style>\n",
       "<table border=\"1\" class=\"dataframe\">\n",
       "  <thead>\n",
       "    <tr style=\"text-align: right;\">\n",
       "      <th></th>\n",
       "      <th>ID</th>\n",
       "      <th>Pred</th>\n",
       "    </tr>\n",
       "  </thead>\n",
       "  <tbody>\n",
       "    <tr>\n",
       "      <th>0</th>\n",
       "      <td>2018_1104_1112</td>\n",
       "      <td>0.5</td>\n",
       "    </tr>\n",
       "    <tr>\n",
       "      <th>1</th>\n",
       "      <td>2018_1104_1113</td>\n",
       "      <td>0.5</td>\n",
       "    </tr>\n",
       "    <tr>\n",
       "      <th>2</th>\n",
       "      <td>2018_1104_1116</td>\n",
       "      <td>0.5</td>\n",
       "    </tr>\n",
       "    <tr>\n",
       "      <th>3</th>\n",
       "      <td>2018_1104_1120</td>\n",
       "      <td>0.5</td>\n",
       "    </tr>\n",
       "    <tr>\n",
       "      <th>4</th>\n",
       "      <td>2018_1104_1137</td>\n",
       "      <td>0.5</td>\n",
       "    </tr>\n",
       "  </tbody>\n",
       "</table>\n",
       "</div>"
      ],
      "text/plain": [
       "               ID  Pred\n",
       "0  2018_1104_1112   0.5\n",
       "1  2018_1104_1113   0.5\n",
       "2  2018_1104_1116   0.5\n",
       "3  2018_1104_1120   0.5\n",
       "4  2018_1104_1137   0.5"
      ]
     },
     "metadata": {},
     "output_type": "display_data"
    },
    {
     "name": "stdout",
     "output_type": "stream",
     "text": [
      "(2278, 2)\n"
     ]
    }
   ],
   "source": [
    "test = pd.read_csv('Stage2UpdatedDataFiles/SampleSubmissionStage2.csv')\n",
    "display(test.head())\n",
    "print(test.shape)"
   ]
  },
  {
   "cell_type": "code",
   "execution_count": 126,
   "metadata": {},
   "outputs": [
    {
     "data": {
      "text/html": [
       "<div>\n",
       "<style>\n",
       "    .dataframe thead tr:only-child th {\n",
       "        text-align: right;\n",
       "    }\n",
       "\n",
       "    .dataframe thead th {\n",
       "        text-align: left;\n",
       "    }\n",
       "\n",
       "    .dataframe tbody tr th {\n",
       "        vertical-align: top;\n",
       "    }\n",
       "</style>\n",
       "<table border=\"1\" class=\"dataframe\">\n",
       "  <thead>\n",
       "    <tr style=\"text-align: right;\">\n",
       "      <th></th>\n",
       "      <th>ID</th>\n",
       "      <th>Pred</th>\n",
       "      <th>Season</th>\n",
       "      <th>TeamID</th>\n",
       "      <th>OpponentID</th>\n",
       "    </tr>\n",
       "  </thead>\n",
       "  <tbody>\n",
       "    <tr>\n",
       "      <th>0</th>\n",
       "      <td>2018_1104_1112</td>\n",
       "      <td>0.5</td>\n",
       "      <td>2018</td>\n",
       "      <td>1104</td>\n",
       "      <td>1112</td>\n",
       "    </tr>\n",
       "    <tr>\n",
       "      <th>1</th>\n",
       "      <td>2018_1104_1113</td>\n",
       "      <td>0.5</td>\n",
       "      <td>2018</td>\n",
       "      <td>1104</td>\n",
       "      <td>1113</td>\n",
       "    </tr>\n",
       "    <tr>\n",
       "      <th>2</th>\n",
       "      <td>2018_1104_1116</td>\n",
       "      <td>0.5</td>\n",
       "      <td>2018</td>\n",
       "      <td>1104</td>\n",
       "      <td>1116</td>\n",
       "    </tr>\n",
       "  </tbody>\n",
       "</table>\n",
       "</div>"
      ],
      "text/plain": [
       "               ID  Pred  Season  TeamID  OpponentID\n",
       "0  2018_1104_1112   0.5    2018    1104        1112\n",
       "1  2018_1104_1113   0.5    2018    1104        1113\n",
       "2  2018_1104_1116   0.5    2018    1104        1116"
      ]
     },
     "execution_count": 126,
     "metadata": {},
     "output_type": "execute_result"
    }
   ],
   "source": [
    "test['Season']     = test['ID'].apply(lambda ID: int(ID.split('_')[0]))\n",
    "test['TeamID']     = test['ID'].apply(lambda ID: int(ID.split('_')[1]))\n",
    "test['OpponentID'] = test['ID'].apply(lambda ID: int(ID.split('_')[2]))\n",
    "\n",
    "test.head(3)"
   ]
  },
  {
   "cell_type": "code",
   "execution_count": 127,
   "metadata": {},
   "outputs": [
    {
     "data": {
      "text/html": [
       "<div>\n",
       "<style>\n",
       "    .dataframe thead tr:only-child th {\n",
       "        text-align: right;\n",
       "    }\n",
       "\n",
       "    .dataframe thead th {\n",
       "        text-align: left;\n",
       "    }\n",
       "\n",
       "    .dataframe tbody tr th {\n",
       "        vertical-align: top;\n",
       "    }\n",
       "</style>\n",
       "<table border=\"1\" class=\"dataframe\">\n",
       "  <thead>\n",
       "    <tr style=\"text-align: right;\">\n",
       "      <th></th>\n",
       "      <th>OpponentID</th>\n",
       "      <th>Season</th>\n",
       "      <th>TeamID</th>\n",
       "    </tr>\n",
       "  </thead>\n",
       "  <tbody>\n",
       "    <tr>\n",
       "      <th>0</th>\n",
       "      <td>1112</td>\n",
       "      <td>2018</td>\n",
       "      <td>1104</td>\n",
       "    </tr>\n",
       "    <tr>\n",
       "      <th>1</th>\n",
       "      <td>1104</td>\n",
       "      <td>2018</td>\n",
       "      <td>1112</td>\n",
       "    </tr>\n",
       "    <tr>\n",
       "      <th>2</th>\n",
       "      <td>1113</td>\n",
       "      <td>2018</td>\n",
       "      <td>1104</td>\n",
       "    </tr>\n",
       "    <tr>\n",
       "      <th>3</th>\n",
       "      <td>1104</td>\n",
       "      <td>2018</td>\n",
       "      <td>1113</td>\n",
       "    </tr>\n",
       "  </tbody>\n",
       "</table>\n",
       "</div>"
      ],
      "text/plain": [
       "   OpponentID  Season  TeamID\n",
       "0        1112    2018    1104\n",
       "1        1104    2018    1112\n",
       "2        1113    2018    1104\n",
       "3        1104    2018    1113"
      ]
     },
     "execution_count": 127,
     "metadata": {},
     "output_type": "execute_result"
    }
   ],
   "source": [
    "potential_games = []\n",
    "for row in test.to_dict('records'):\n",
    "    \n",
    "    game = {}\n",
    "    game['Season']     = row['Season']\n",
    "    game['TeamID']     = row['TeamID']\n",
    "    game['OpponentID'] = row['OpponentID']\n",
    "    \n",
    "    potential_games.append(game)\n",
    "    \n",
    "    # Break\n",
    "    \n",
    "    game = {}\n",
    "    game['Season']     = row['Season']\n",
    "    game['TeamID']     = row['OpponentID']\n",
    "    game['OpponentID'] = row['TeamID']\n",
    "    \n",
    "    potential_games.append(game)\n",
    "\n",
    "tourney = pd.DataFrame(potential_games)\n",
    "tourney.head(4)"
   ]
  },
  {
   "cell_type": "code",
   "execution_count": 128,
   "metadata": {},
   "outputs": [
    {
     "data": {
      "text/plain": [
       "True"
      ]
     },
     "execution_count": 128,
     "metadata": {},
     "output_type": "execute_result"
    }
   ],
   "source": [
    "# Checking to make sure that worked...\n",
    "tourney.shape[0] / sample_sub2.shape[0] == 2"
   ]
  },
  {
   "cell_type": "code",
   "execution_count": 129,
   "metadata": {},
   "outputs": [],
   "source": [
    "tourney = pd.merge(tourney, summary_stats, on='TeamID')"
   ]
  },
  {
   "cell_type": "code",
   "execution_count": 130,
   "metadata": {},
   "outputs": [],
   "source": [
    "tourney = pd.merge(tourney, summary_stats, left_on='OpponentID', right_on='TeamID')"
   ]
  },
  {
   "cell_type": "code",
   "execution_count": 131,
   "metadata": {
    "scrolled": true
   },
   "outputs": [
    {
     "data": {
      "text/plain": [
       "Index(['OpponentID', 'Season', 'TeamID_x', 'Def_Rtg_avg_x',\n",
       "       'Def_Rtg_dif_avg_x', 'Eff_FG_avg_x', 'Eff_FG_dif_avg_x', 'FTR_avg_x',\n",
       "       'FTR_dif_avg_x', 'ORP_avg_x', 'ORP_dif_avg_x', 'Off_Rtg_avg_x',\n",
       "       'Off_Rtg_dif_avg_x', 'PIE_avg_x', 'PIE_dif_avg_x', 'Pos_avg_x',\n",
       "       'Pos_dif_avg_x', 'TOR_avg_x', 'TOR_dif_avg_x', 'TeamID_y',\n",
       "       'Def_Rtg_avg_y', 'Def_Rtg_dif_avg_y', 'Eff_FG_avg_y',\n",
       "       'Eff_FG_dif_avg_y', 'FTR_avg_y', 'FTR_dif_avg_y', 'ORP_avg_y',\n",
       "       'ORP_dif_avg_y', 'Off_Rtg_avg_y', 'Off_Rtg_dif_avg_y', 'PIE_avg_y',\n",
       "       'PIE_dif_avg_y', 'Pos_avg_y', 'Pos_dif_avg_y', 'TOR_avg_y',\n",
       "       'TOR_dif_avg_y'],\n",
       "      dtype='object')"
      ]
     },
     "execution_count": 131,
     "metadata": {},
     "output_type": "execute_result"
    }
   ],
   "source": [
    "tourney.columns"
   ]
  },
  {
   "cell_type": "code",
   "execution_count": 132,
   "metadata": {},
   "outputs": [],
   "source": [
    "predictions = rs_rf.predict_proba(tourney[new_features])[:, 1]"
   ]
  },
  {
   "cell_type": "code",
   "execution_count": 133,
   "metadata": {},
   "outputs": [
    {
     "data": {
      "text/plain": [
       "4556"
      ]
     },
     "execution_count": 133,
     "metadata": {},
     "output_type": "execute_result"
    }
   ],
   "source": [
    "len(predictions)"
   ]
  },
  {
   "cell_type": "code",
   "execution_count": 134,
   "metadata": {},
   "outputs": [],
   "source": [
    "tourney['Pred'] = predictions"
   ]
  },
  {
   "cell_type": "code",
   "execution_count": 135,
   "metadata": {},
   "outputs": [
    {
     "data": {
      "text/html": [
       "<div>\n",
       "<style>\n",
       "    .dataframe thead tr:only-child th {\n",
       "        text-align: right;\n",
       "    }\n",
       "\n",
       "    .dataframe thead th {\n",
       "        text-align: left;\n",
       "    }\n",
       "\n",
       "    .dataframe tbody tr th {\n",
       "        vertical-align: top;\n",
       "    }\n",
       "</style>\n",
       "<table border=\"1\" class=\"dataframe\">\n",
       "  <thead>\n",
       "    <tr style=\"text-align: right;\">\n",
       "      <th></th>\n",
       "      <th>OpponentID</th>\n",
       "      <th>Season</th>\n",
       "      <th>TeamID_x</th>\n",
       "      <th>Def_Rtg_avg_x</th>\n",
       "      <th>Def_Rtg_dif_avg_x</th>\n",
       "      <th>Eff_FG_avg_x</th>\n",
       "      <th>Eff_FG_dif_avg_x</th>\n",
       "      <th>FTR_avg_x</th>\n",
       "      <th>FTR_dif_avg_x</th>\n",
       "      <th>ORP_avg_x</th>\n",
       "      <th>...</th>\n",
       "      <th>ORP_dif_avg_y</th>\n",
       "      <th>Off_Rtg_avg_y</th>\n",
       "      <th>Off_Rtg_dif_avg_y</th>\n",
       "      <th>PIE_avg_y</th>\n",
       "      <th>PIE_dif_avg_y</th>\n",
       "      <th>Pos_avg_y</th>\n",
       "      <th>Pos_dif_avg_y</th>\n",
       "      <th>TOR_avg_y</th>\n",
       "      <th>TOR_dif_avg_y</th>\n",
       "      <th>Pred</th>\n",
       "    </tr>\n",
       "  </thead>\n",
       "  <tbody>\n",
       "    <tr>\n",
       "      <th>0</th>\n",
       "      <td>1112</td>\n",
       "      <td>2018</td>\n",
       "      <td>1104</td>\n",
       "      <td>104.855974</td>\n",
       "      <td>-3.584883</td>\n",
       "      <td>0.517057</td>\n",
       "      <td>0.038624</td>\n",
       "      <td>0.283183</td>\n",
       "      <td>0.027988</td>\n",
       "      <td>0.289189</td>\n",
       "      <td>...</td>\n",
       "      <td>0.084087</td>\n",
       "      <td>122.505612</td>\n",
       "      <td>15.718304</td>\n",
       "      <td>0.617239</td>\n",
       "      <td>0.234477</td>\n",
       "      <td>65.991529</td>\n",
       "      <td>-0.548894</td>\n",
       "      <td>0.156565</td>\n",
       "      <td>0.0076</td>\n",
       "      <td>0.109697</td>\n",
       "    </tr>\n",
       "    <tr>\n",
       "      <th>1</th>\n",
       "      <td>1112</td>\n",
       "      <td>2018</td>\n",
       "      <td>1113</td>\n",
       "      <td>108.396941</td>\n",
       "      <td>-12.139042</td>\n",
       "      <td>0.540991</td>\n",
       "      <td>0.030367</td>\n",
       "      <td>0.318393</td>\n",
       "      <td>0.075764</td>\n",
       "      <td>0.281520</td>\n",
       "      <td>...</td>\n",
       "      <td>0.084087</td>\n",
       "      <td>122.505612</td>\n",
       "      <td>15.718304</td>\n",
       "      <td>0.617239</td>\n",
       "      <td>0.234477</td>\n",
       "      <td>65.991529</td>\n",
       "      <td>-0.548894</td>\n",
       "      <td>0.156565</td>\n",
       "      <td>0.0076</td>\n",
       "      <td>0.579595</td>\n",
       "    </tr>\n",
       "    <tr>\n",
       "      <th>2</th>\n",
       "      <td>1112</td>\n",
       "      <td>2018</td>\n",
       "      <td>1116</td>\n",
       "      <td>111.079641</td>\n",
       "      <td>-6.830480</td>\n",
       "      <td>0.540016</td>\n",
       "      <td>0.036195</td>\n",
       "      <td>0.260800</td>\n",
       "      <td>-0.042764</td>\n",
       "      <td>0.294323</td>\n",
       "      <td>...</td>\n",
       "      <td>0.084087</td>\n",
       "      <td>122.505612</td>\n",
       "      <td>15.718304</td>\n",
       "      <td>0.617239</td>\n",
       "      <td>0.234477</td>\n",
       "      <td>65.991529</td>\n",
       "      <td>-0.548894</td>\n",
       "      <td>0.156565</td>\n",
       "      <td>0.0076</td>\n",
       "      <td>0.310420</td>\n",
       "    </tr>\n",
       "    <tr>\n",
       "      <th>3</th>\n",
       "      <td>1112</td>\n",
       "      <td>2018</td>\n",
       "      <td>1120</td>\n",
       "      <td>105.430996</td>\n",
       "      <td>-13.866953</td>\n",
       "      <td>0.520490</td>\n",
       "      <td>0.023600</td>\n",
       "      <td>0.316554</td>\n",
       "      <td>0.033519</td>\n",
       "      <td>0.326259</td>\n",
       "      <td>...</td>\n",
       "      <td>0.084087</td>\n",
       "      <td>122.505612</td>\n",
       "      <td>15.718304</td>\n",
       "      <td>0.617239</td>\n",
       "      <td>0.234477</td>\n",
       "      <td>65.991529</td>\n",
       "      <td>-0.548894</td>\n",
       "      <td>0.156565</td>\n",
       "      <td>0.0076</td>\n",
       "      <td>0.630482</td>\n",
       "    </tr>\n",
       "    <tr>\n",
       "      <th>4</th>\n",
       "      <td>1112</td>\n",
       "      <td>2018</td>\n",
       "      <td>1137</td>\n",
       "      <td>104.193261</td>\n",
       "      <td>-11.915957</td>\n",
       "      <td>0.543699</td>\n",
       "      <td>0.068687</td>\n",
       "      <td>0.310584</td>\n",
       "      <td>0.067222</td>\n",
       "      <td>0.271282</td>\n",
       "      <td>...</td>\n",
       "      <td>0.084087</td>\n",
       "      <td>122.505612</td>\n",
       "      <td>15.718304</td>\n",
       "      <td>0.617239</td>\n",
       "      <td>0.234477</td>\n",
       "      <td>65.991529</td>\n",
       "      <td>-0.548894</td>\n",
       "      <td>0.156565</td>\n",
       "      <td>0.0076</td>\n",
       "      <td>0.499738</td>\n",
       "    </tr>\n",
       "  </tbody>\n",
       "</table>\n",
       "<p>5 rows × 37 columns</p>\n",
       "</div>"
      ],
      "text/plain": [
       "   OpponentID  Season  TeamID_x  Def_Rtg_avg_x  Def_Rtg_dif_avg_x  \\\n",
       "0        1112    2018      1104     104.855974          -3.584883   \n",
       "1        1112    2018      1113     108.396941         -12.139042   \n",
       "2        1112    2018      1116     111.079641          -6.830480   \n",
       "3        1112    2018      1120     105.430996         -13.866953   \n",
       "4        1112    2018      1137     104.193261         -11.915957   \n",
       "\n",
       "   Eff_FG_avg_x  Eff_FG_dif_avg_x  FTR_avg_x  FTR_dif_avg_x  ORP_avg_x  \\\n",
       "0      0.517057          0.038624   0.283183       0.027988   0.289189   \n",
       "1      0.540991          0.030367   0.318393       0.075764   0.281520   \n",
       "2      0.540016          0.036195   0.260800      -0.042764   0.294323   \n",
       "3      0.520490          0.023600   0.316554       0.033519   0.326259   \n",
       "4      0.543699          0.068687   0.310584       0.067222   0.271282   \n",
       "\n",
       "     ...     ORP_dif_avg_y  Off_Rtg_avg_y  Off_Rtg_dif_avg_y  PIE_avg_y  \\\n",
       "0    ...          0.084087     122.505612          15.718304   0.617239   \n",
       "1    ...          0.084087     122.505612          15.718304   0.617239   \n",
       "2    ...          0.084087     122.505612          15.718304   0.617239   \n",
       "3    ...          0.084087     122.505612          15.718304   0.617239   \n",
       "4    ...          0.084087     122.505612          15.718304   0.617239   \n",
       "\n",
       "   PIE_dif_avg_y  Pos_avg_y  Pos_dif_avg_y  TOR_avg_y  TOR_dif_avg_y      Pred  \n",
       "0       0.234477  65.991529      -0.548894   0.156565         0.0076  0.109697  \n",
       "1       0.234477  65.991529      -0.548894   0.156565         0.0076  0.579595  \n",
       "2       0.234477  65.991529      -0.548894   0.156565         0.0076  0.310420  \n",
       "3       0.234477  65.991529      -0.548894   0.156565         0.0076  0.630482  \n",
       "4       0.234477  65.991529      -0.548894   0.156565         0.0076  0.499738  \n",
       "\n",
       "[5 rows x 37 columns]"
      ]
     },
     "execution_count": 135,
     "metadata": {},
     "output_type": "execute_result"
    }
   ],
   "source": [
    "tourney.head()"
   ]
  },
  {
   "cell_type": "code",
   "execution_count": 136,
   "metadata": {},
   "outputs": [],
   "source": [
    "tourn_corr = tourney[tourney['TeamID_x'] < tourney['OpponentID']]"
   ]
  },
  {
   "cell_type": "code",
   "execution_count": 137,
   "metadata": {},
   "outputs": [
    {
     "name": "stderr",
     "output_type": "stream",
     "text": [
      "/anaconda3/lib/python3.6/site-packages/ipykernel_launcher.py:1: SettingWithCopyWarning: \n",
      "A value is trying to be set on a copy of a slice from a DataFrame.\n",
      "Try using .loc[row_indexer,col_indexer] = value instead\n",
      "\n",
      "See the caveats in the documentation: http://pandas.pydata.org/pandas-docs/stable/indexing.html#indexing-view-versus-copy\n",
      "  \"\"\"Entry point for launching an IPython kernel.\n"
     ]
    }
   ],
   "source": [
    "tourn_corr['ID'] = tourn_corr.apply(lambda row: '{}_{}_{}'.format(int(row['Season']), int(row['TeamID_x']), int(row['OpponentID'])), axis = 1)"
   ]
  },
  {
   "cell_type": "code",
   "execution_count": 138,
   "metadata": {},
   "outputs": [
    {
     "data": {
      "text/html": [
       "<div>\n",
       "<style>\n",
       "    .dataframe thead tr:only-child th {\n",
       "        text-align: right;\n",
       "    }\n",
       "\n",
       "    .dataframe thead th {\n",
       "        text-align: left;\n",
       "    }\n",
       "\n",
       "    .dataframe tbody tr th {\n",
       "        vertical-align: top;\n",
       "    }\n",
       "</style>\n",
       "<table border=\"1\" class=\"dataframe\">\n",
       "  <thead>\n",
       "    <tr style=\"text-align: right;\">\n",
       "      <th></th>\n",
       "      <th>OpponentID</th>\n",
       "      <th>Season</th>\n",
       "      <th>TeamID_x</th>\n",
       "      <th>Def_Rtg_avg_x</th>\n",
       "      <th>Def_Rtg_dif_avg_x</th>\n",
       "      <th>Eff_FG_avg_x</th>\n",
       "      <th>Eff_FG_dif_avg_x</th>\n",
       "      <th>FTR_avg_x</th>\n",
       "      <th>FTR_dif_avg_x</th>\n",
       "      <th>ORP_avg_x</th>\n",
       "      <th>...</th>\n",
       "      <th>Off_Rtg_avg_y</th>\n",
       "      <th>Off_Rtg_dif_avg_y</th>\n",
       "      <th>PIE_avg_y</th>\n",
       "      <th>PIE_dif_avg_y</th>\n",
       "      <th>Pos_avg_y</th>\n",
       "      <th>Pos_dif_avg_y</th>\n",
       "      <th>TOR_avg_y</th>\n",
       "      <th>TOR_dif_avg_y</th>\n",
       "      <th>Pred</th>\n",
       "      <th>ID</th>\n",
       "    </tr>\n",
       "  </thead>\n",
       "  <tbody>\n",
       "    <tr>\n",
       "      <th>0</th>\n",
       "      <td>1112</td>\n",
       "      <td>2018</td>\n",
       "      <td>1104</td>\n",
       "      <td>104.855974</td>\n",
       "      <td>-3.584883</td>\n",
       "      <td>0.517057</td>\n",
       "      <td>0.038624</td>\n",
       "      <td>0.283183</td>\n",
       "      <td>0.027988</td>\n",
       "      <td>0.289189</td>\n",
       "      <td>...</td>\n",
       "      <td>122.505612</td>\n",
       "      <td>15.718304</td>\n",
       "      <td>0.617239</td>\n",
       "      <td>0.234477</td>\n",
       "      <td>65.991529</td>\n",
       "      <td>-0.548894</td>\n",
       "      <td>0.156565</td>\n",
       "      <td>0.007600</td>\n",
       "      <td>0.109697</td>\n",
       "      <td>2018_1104_1112</td>\n",
       "    </tr>\n",
       "    <tr>\n",
       "      <th>67</th>\n",
       "      <td>1113</td>\n",
       "      <td>2018</td>\n",
       "      <td>1104</td>\n",
       "      <td>104.855974</td>\n",
       "      <td>-3.584883</td>\n",
       "      <td>0.517057</td>\n",
       "      <td>0.038624</td>\n",
       "      <td>0.283183</td>\n",
       "      <td>0.027988</td>\n",
       "      <td>0.289189</td>\n",
       "      <td>...</td>\n",
       "      <td>120.535983</td>\n",
       "      <td>12.139042</td>\n",
       "      <td>0.569134</td>\n",
       "      <td>0.138267</td>\n",
       "      <td>69.290942</td>\n",
       "      <td>-0.423639</td>\n",
       "      <td>0.130841</td>\n",
       "      <td>-0.046328</td>\n",
       "      <td>0.618931</td>\n",
       "      <td>2018_1104_1113</td>\n",
       "    </tr>\n",
       "    <tr>\n",
       "      <th>68</th>\n",
       "      <td>1113</td>\n",
       "      <td>2018</td>\n",
       "      <td>1112</td>\n",
       "      <td>106.787308</td>\n",
       "      <td>-15.718304</td>\n",
       "      <td>0.569693</td>\n",
       "      <td>0.075634</td>\n",
       "      <td>0.294858</td>\n",
       "      <td>0.060403</td>\n",
       "      <td>0.329417</td>\n",
       "      <td>...</td>\n",
       "      <td>120.535983</td>\n",
       "      <td>12.139042</td>\n",
       "      <td>0.569134</td>\n",
       "      <td>0.138267</td>\n",
       "      <td>69.290942</td>\n",
       "      <td>-0.423639</td>\n",
       "      <td>0.130841</td>\n",
       "      <td>-0.046328</td>\n",
       "      <td>0.730285</td>\n",
       "      <td>2018_1112_1113</td>\n",
       "    </tr>\n",
       "    <tr>\n",
       "      <th>134</th>\n",
       "      <td>1116</td>\n",
       "      <td>2018</td>\n",
       "      <td>1104</td>\n",
       "      <td>104.855974</td>\n",
       "      <td>-3.584883</td>\n",
       "      <td>0.517057</td>\n",
       "      <td>0.038624</td>\n",
       "      <td>0.283183</td>\n",
       "      <td>0.027988</td>\n",
       "      <td>0.289189</td>\n",
       "      <td>...</td>\n",
       "      <td>117.910121</td>\n",
       "      <td>6.830480</td>\n",
       "      <td>0.546346</td>\n",
       "      <td>0.092693</td>\n",
       "      <td>68.606118</td>\n",
       "      <td>0.332047</td>\n",
       "      <td>0.134841</td>\n",
       "      <td>-0.034584</td>\n",
       "      <td>0.375547</td>\n",
       "      <td>2018_1104_1116</td>\n",
       "    </tr>\n",
       "    <tr>\n",
       "      <th>135</th>\n",
       "      <td>1116</td>\n",
       "      <td>2018</td>\n",
       "      <td>1112</td>\n",
       "      <td>106.787308</td>\n",
       "      <td>-15.718304</td>\n",
       "      <td>0.569693</td>\n",
       "      <td>0.075634</td>\n",
       "      <td>0.294858</td>\n",
       "      <td>0.060403</td>\n",
       "      <td>0.329417</td>\n",
       "      <td>...</td>\n",
       "      <td>117.910121</td>\n",
       "      <td>6.830480</td>\n",
       "      <td>0.546346</td>\n",
       "      <td>0.092693</td>\n",
       "      <td>68.606118</td>\n",
       "      <td>0.332047</td>\n",
       "      <td>0.134841</td>\n",
       "      <td>-0.034584</td>\n",
       "      <td>0.671425</td>\n",
       "      <td>2018_1112_1116</td>\n",
       "    </tr>\n",
       "  </tbody>\n",
       "</table>\n",
       "<p>5 rows × 38 columns</p>\n",
       "</div>"
      ],
      "text/plain": [
       "     OpponentID  Season  TeamID_x  Def_Rtg_avg_x  Def_Rtg_dif_avg_x  \\\n",
       "0          1112    2018      1104     104.855974          -3.584883   \n",
       "67         1113    2018      1104     104.855974          -3.584883   \n",
       "68         1113    2018      1112     106.787308         -15.718304   \n",
       "134        1116    2018      1104     104.855974          -3.584883   \n",
       "135        1116    2018      1112     106.787308         -15.718304   \n",
       "\n",
       "     Eff_FG_avg_x  Eff_FG_dif_avg_x  FTR_avg_x  FTR_dif_avg_x  ORP_avg_x  \\\n",
       "0        0.517057          0.038624   0.283183       0.027988   0.289189   \n",
       "67       0.517057          0.038624   0.283183       0.027988   0.289189   \n",
       "68       0.569693          0.075634   0.294858       0.060403   0.329417   \n",
       "134      0.517057          0.038624   0.283183       0.027988   0.289189   \n",
       "135      0.569693          0.075634   0.294858       0.060403   0.329417   \n",
       "\n",
       "          ...        Off_Rtg_avg_y  Off_Rtg_dif_avg_y  PIE_avg_y  \\\n",
       "0         ...           122.505612          15.718304   0.617239   \n",
       "67        ...           120.535983          12.139042   0.569134   \n",
       "68        ...           120.535983          12.139042   0.569134   \n",
       "134       ...           117.910121           6.830480   0.546346   \n",
       "135       ...           117.910121           6.830480   0.546346   \n",
       "\n",
       "     PIE_dif_avg_y  Pos_avg_y  Pos_dif_avg_y  TOR_avg_y  TOR_dif_avg_y  \\\n",
       "0         0.234477  65.991529      -0.548894   0.156565       0.007600   \n",
       "67        0.138267  69.290942      -0.423639   0.130841      -0.046328   \n",
       "68        0.138267  69.290942      -0.423639   0.130841      -0.046328   \n",
       "134       0.092693  68.606118       0.332047   0.134841      -0.034584   \n",
       "135       0.092693  68.606118       0.332047   0.134841      -0.034584   \n",
       "\n",
       "         Pred              ID  \n",
       "0    0.109697  2018_1104_1112  \n",
       "67   0.618931  2018_1104_1113  \n",
       "68   0.730285  2018_1112_1113  \n",
       "134  0.375547  2018_1104_1116  \n",
       "135  0.671425  2018_1112_1116  \n",
       "\n",
       "[5 rows x 38 columns]"
      ]
     },
     "execution_count": 138,
     "metadata": {},
     "output_type": "execute_result"
    }
   ],
   "source": [
    "tourn_corr.head()"
   ]
  },
  {
   "cell_type": "code",
   "execution_count": 139,
   "metadata": {},
   "outputs": [
    {
     "data": {
      "text/html": [
       "<div>\n",
       "<style>\n",
       "    .dataframe thead tr:only-child th {\n",
       "        text-align: right;\n",
       "    }\n",
       "\n",
       "    .dataframe thead th {\n",
       "        text-align: left;\n",
       "    }\n",
       "\n",
       "    .dataframe tbody tr th {\n",
       "        vertical-align: top;\n",
       "    }\n",
       "</style>\n",
       "<table border=\"1\" class=\"dataframe\">\n",
       "  <thead>\n",
       "    <tr style=\"text-align: right;\">\n",
       "      <th></th>\n",
       "      <th>ID</th>\n",
       "      <th>Pred</th>\n",
       "    </tr>\n",
       "  </thead>\n",
       "  <tbody>\n",
       "    <tr>\n",
       "      <th>0</th>\n",
       "      <td>2018_1104_1112</td>\n",
       "      <td>0.109697</td>\n",
       "    </tr>\n",
       "    <tr>\n",
       "      <th>67</th>\n",
       "      <td>2018_1104_1113</td>\n",
       "      <td>0.618931</td>\n",
       "    </tr>\n",
       "    <tr>\n",
       "      <th>68</th>\n",
       "      <td>2018_1112_1113</td>\n",
       "      <td>0.730285</td>\n",
       "    </tr>\n",
       "    <tr>\n",
       "      <th>134</th>\n",
       "      <td>2018_1104_1116</td>\n",
       "      <td>0.375547</td>\n",
       "    </tr>\n",
       "    <tr>\n",
       "      <th>135</th>\n",
       "      <td>2018_1112_1116</td>\n",
       "      <td>0.671425</td>\n",
       "    </tr>\n",
       "  </tbody>\n",
       "</table>\n",
       "</div>"
      ],
      "text/plain": [
       "                 ID      Pred\n",
       "0    2018_1104_1112  0.109697\n",
       "67   2018_1104_1113  0.618931\n",
       "68   2018_1112_1113  0.730285\n",
       "134  2018_1104_1116  0.375547\n",
       "135  2018_1112_1116  0.671425"
      ]
     },
     "execution_count": 139,
     "metadata": {},
     "output_type": "execute_result"
    }
   ],
   "source": [
    "submissions = pd.DataFrame()\n",
    "submissions['ID'] = tourn_corr['ID']\n",
    "submissions['Pred'] = tourn_corr['Pred']\n",
    "\n",
    "submissions.head()"
   ]
  },
  {
   "cell_type": "code",
   "execution_count": 140,
   "metadata": {},
   "outputs": [],
   "source": [
    "submissions.to_csv('MM_submissions_3.csv', index=False)"
   ]
  },
  {
   "cell_type": "code",
   "execution_count": 141,
   "metadata": {},
   "outputs": [
    {
     "data": {
      "text/plain": [
       "0.966387025474525"
      ]
     },
     "execution_count": 141,
     "metadata": {},
     "output_type": "execute_result"
    }
   ],
   "source": [
    "submissions.Pred.max()"
   ]
  },
  {
   "cell_type": "code",
   "execution_count": 142,
   "metadata": {},
   "outputs": [
    {
     "data": {
      "image/png": "[encoded data removed]",
      "text/plain": [
       "<matplotlib.figure.Figure at 0x110a52470>"
      ]
     },
     "metadata": {},
     "output_type": "display_data"
    }
   ],
   "source": [
    "submissions.hist(column='Pred', bins = 10);"
   ]
  },
  {
   "cell_type": "markdown",
   "metadata": {},
   "source": [
    "# // Post-model analysis and visualizations //"
   ]
  },
  {
   "cell_type": "markdown",
   "metadata": {},
   "source": [
    "### Visualizing a bracket based on my predictions"
   ]
  },
  {
   "cell_type": "code",
   "execution_count": 143,
   "metadata": {},
   "outputs": [
    {
     "data": {
      "text/html": [
       "<div>\n",
       "<style>\n",
       "    .dataframe thead tr:only-child th {\n",
       "        text-align: right;\n",
       "    }\n",
       "\n",
       "    .dataframe thead th {\n",
       "        text-align: left;\n",
       "    }\n",
       "\n",
       "    .dataframe tbody tr th {\n",
       "        vertical-align: top;\n",
       "    }\n",
       "</style>\n",
       "<table border=\"1\" class=\"dataframe\">\n",
       "  <thead>\n",
       "    <tr style=\"text-align: right;\">\n",
       "      <th></th>\n",
       "      <th>TeamID</th>\n",
       "      <th>TeamName</th>\n",
       "      <th>FirstD1Season</th>\n",
       "      <th>LastD1Season</th>\n",
       "    </tr>\n",
       "  </thead>\n",
       "  <tbody>\n",
       "    <tr>\n",
       "      <th>12</th>\n",
       "      <td>1113</td>\n",
       "      <td>Arizona St</td>\n",
       "      <td>1985</td>\n",
       "      <td>2018</td>\n",
       "    </tr>\n",
       "  </tbody>\n",
       "</table>\n",
       "</div>"
      ],
      "text/plain": [
       "    TeamID    TeamName  FirstD1Season  LastD1Season\n",
       "12    1113  Arizona St           1985          2018"
      ]
     },
     "execution_count": 143,
     "metadata": {},
     "output_type": "execute_result"
    }
   ],
   "source": [
    "teams.loc[teams.TeamName == 'Arizona St', :]"
   ]
  },
  {
   "cell_type": "code",
   "execution_count": 144,
   "metadata": {},
   "outputs": [
    {
     "data": {
      "text/html": [
       "<div>\n",
       "<style>\n",
       "    .dataframe thead tr:only-child th {\n",
       "        text-align: right;\n",
       "    }\n",
       "\n",
       "    .dataframe thead th {\n",
       "        text-align: left;\n",
       "    }\n",
       "\n",
       "    .dataframe tbody tr th {\n",
       "        vertical-align: top;\n",
       "    }\n",
       "</style>\n",
       "<table border=\"1\" class=\"dataframe\">\n",
       "  <thead>\n",
       "    <tr style=\"text-align: right;\">\n",
       "      <th></th>\n",
       "      <th>TeamID</th>\n",
       "      <th>TeamName</th>\n",
       "      <th>FirstD1Season</th>\n",
       "      <th>LastD1Season</th>\n",
       "    </tr>\n",
       "  </thead>\n",
       "  <tbody>\n",
       "    <tr>\n",
       "      <th>292</th>\n",
       "      <td>1393</td>\n",
       "      <td>Syracuse</td>\n",
       "      <td>1985</td>\n",
       "      <td>2018</td>\n",
       "    </tr>\n",
       "  </tbody>\n",
       "</table>\n",
       "</div>"
      ],
      "text/plain": [
       "     TeamID  TeamName  FirstD1Season  LastD1Season\n",
       "292    1393  Syracuse           1985          2018"
      ]
     },
     "execution_count": 144,
     "metadata": {},
     "output_type": "execute_result"
    }
   ],
   "source": [
    "teams.loc[teams.TeamName == 'Syracuse', :]"
   ]
  },
  {
   "cell_type": "code",
   "execution_count": 145,
   "metadata": {},
   "outputs": [
    {
     "data": {
      "text/html": [
       "<div>\n",
       "<style>\n",
       "    .dataframe thead tr:only-child th {\n",
       "        text-align: right;\n",
       "    }\n",
       "\n",
       "    .dataframe thead th {\n",
       "        text-align: left;\n",
       "    }\n",
       "\n",
       "    .dataframe tbody tr th {\n",
       "        vertical-align: top;\n",
       "    }\n",
       "</style>\n",
       "<table border=\"1\" class=\"dataframe\">\n",
       "  <thead>\n",
       "    <tr style=\"text-align: right;\">\n",
       "      <th></th>\n",
       "      <th>TeamID</th>\n",
       "      <th>TeamName</th>\n",
       "      <th>FirstD1Season</th>\n",
       "      <th>LastD1Season</th>\n",
       "    </tr>\n",
       "  </thead>\n",
       "  <tbody>\n",
       "    <tr>\n",
       "      <th>36</th>\n",
       "      <td>1137</td>\n",
       "      <td>Bucknell</td>\n",
       "      <td>1985</td>\n",
       "      <td>2018</td>\n",
       "    </tr>\n",
       "  </tbody>\n",
       "</table>\n",
       "</div>"
      ],
      "text/plain": [
       "    TeamID  TeamName  FirstD1Season  LastD1Season\n",
       "36    1137  Bucknell           1985          2018"
      ]
     },
     "execution_count": 145,
     "metadata": {},
     "output_type": "execute_result"
    }
   ],
   "source": [
    "teams.loc[teams.TeamName == 'Bucknell', :]"
   ]
  },
  {
   "cell_type": "code",
   "execution_count": 146,
   "metadata": {},
   "outputs": [
    {
     "data": {
      "text/html": [
       "<div>\n",
       "<style>\n",
       "    .dataframe thead tr:only-child th {\n",
       "        text-align: right;\n",
       "    }\n",
       "\n",
       "    .dataframe thead th {\n",
       "        text-align: left;\n",
       "    }\n",
       "\n",
       "    .dataframe tbody tr th {\n",
       "        vertical-align: top;\n",
       "    }\n",
       "</style>\n",
       "<table border=\"1\" class=\"dataframe\">\n",
       "  <thead>\n",
       "    <tr style=\"text-align: right;\">\n",
       "      <th></th>\n",
       "      <th>TeamID</th>\n",
       "      <th>TeamName</th>\n",
       "      <th>FirstD1Season</th>\n",
       "      <th>LastD1Season</th>\n",
       "    </tr>\n",
       "  </thead>\n",
       "  <tbody>\n",
       "    <tr>\n",
       "      <th>176</th>\n",
       "      <td>1277</td>\n",
       "      <td>Michigan St</td>\n",
       "      <td>1985</td>\n",
       "      <td>2018</td>\n",
       "    </tr>\n",
       "  </tbody>\n",
       "</table>\n",
       "</div>"
      ],
      "text/plain": [
       "     TeamID     TeamName  FirstD1Season  LastD1Season\n",
       "176    1277  Michigan St           1985          2018"
      ]
     },
     "execution_count": 146,
     "metadata": {},
     "output_type": "execute_result"
    }
   ],
   "source": [
    "teams.loc[teams.TeamName == 'Michigan St', :]"
   ]
  },
  {
   "cell_type": "code",
   "execution_count": 147,
   "metadata": {},
   "outputs": [
    {
     "data": {
      "text/html": [
       "<div>\n",
       "<style>\n",
       "    .dataframe thead tr:only-child th {\n",
       "        text-align: right;\n",
       "    }\n",
       "\n",
       "    .dataframe thead th {\n",
       "        text-align: left;\n",
       "    }\n",
       "\n",
       "    .dataframe tbody tr th {\n",
       "        vertical-align: top;\n",
       "    }\n",
       "</style>\n",
       "<table border=\"1\" class=\"dataframe\">\n",
       "  <thead>\n",
       "    <tr style=\"text-align: right;\">\n",
       "      <th></th>\n",
       "      <th>ID</th>\n",
       "      <th>Pred</th>\n",
       "    </tr>\n",
       "  </thead>\n",
       "  <tbody>\n",
       "    <tr>\n",
       "      <th>3352</th>\n",
       "      <td>2018_1113_1393</td>\n",
       "      <td>0.663031</td>\n",
       "    </tr>\n",
       "  </tbody>\n",
       "</table>\n",
       "</div>"
      ],
      "text/plain": [
       "                  ID      Pred\n",
       "3352  2018_1113_1393  0.663031"
      ]
     },
     "execution_count": 147,
     "metadata": {},
     "output_type": "execute_result"
    }
   ],
   "source": [
    "submissions.loc[submissions.ID == '2018_1113_1393', :]"
   ]
  },
  {
   "cell_type": "code",
   "execution_count": 148,
   "metadata": {},
   "outputs": [
    {
     "data": {
      "text/html": [
       "<div>\n",
       "<style>\n",
       "    .dataframe thead tr:only-child th {\n",
       "        text-align: right;\n",
       "    }\n",
       "\n",
       "    .dataframe thead th {\n",
       "        text-align: left;\n",
       "    }\n",
       "\n",
       "    .dataframe tbody tr th {\n",
       "        vertical-align: top;\n",
       "    }\n",
       "</style>\n",
       "<table border=\"1\" class=\"dataframe\">\n",
       "  <thead>\n",
       "    <tr style=\"text-align: right;\">\n",
       "      <th></th>\n",
       "      <th>ID</th>\n",
       "      <th>Pred</th>\n",
       "    </tr>\n",
       "  </thead>\n",
       "  <tbody>\n",
       "    <tr>\n",
       "      <th>0</th>\n",
       "      <td>2018_1104_1112</td>\n",
       "      <td>0.109697</td>\n",
       "    </tr>\n",
       "    <tr>\n",
       "      <th>67</th>\n",
       "      <td>2018_1104_1113</td>\n",
       "      <td>0.618931</td>\n",
       "    </tr>\n",
       "    <tr>\n",
       "      <th>68</th>\n",
       "      <td>2018_1112_1113</td>\n",
       "      <td>0.730285</td>\n",
       "    </tr>\n",
       "    <tr>\n",
       "      <th>134</th>\n",
       "      <td>2018_1104_1116</td>\n",
       "      <td>0.375547</td>\n",
       "    </tr>\n",
       "    <tr>\n",
       "      <th>135</th>\n",
       "      <td>2018_1112_1116</td>\n",
       "      <td>0.671425</td>\n",
       "    </tr>\n",
       "    <tr>\n",
       "      <th>136</th>\n",
       "      <td>2018_1113_1116</td>\n",
       "      <td>0.558281</td>\n",
       "    </tr>\n",
       "    <tr>\n",
       "      <th>201</th>\n",
       "      <td>2018_1104_1120</td>\n",
       "      <td>0.518970</td>\n",
       "    </tr>\n",
       "    <tr>\n",
       "      <th>202</th>\n",
       "      <td>2018_1112_1120</td>\n",
       "      <td>0.460785</td>\n",
       "    </tr>\n",
       "    <tr>\n",
       "      <th>203</th>\n",
       "      <td>2018_1113_1120</td>\n",
       "      <td>0.572792</td>\n",
       "    </tr>\n",
       "    <tr>\n",
       "      <th>204</th>\n",
       "      <td>2018_1116_1120</td>\n",
       "      <td>0.427885</td>\n",
       "    </tr>\n",
       "    <tr>\n",
       "      <th>268</th>\n",
       "      <td>2018_1104_1137</td>\n",
       "      <td>0.517577</td>\n",
       "    </tr>\n",
       "    <tr>\n",
       "      <th>269</th>\n",
       "      <td>2018_1112_1137</td>\n",
       "      <td>0.681041</td>\n",
       "    </tr>\n",
       "    <tr>\n",
       "      <th>270</th>\n",
       "      <td>2018_1113_1137</td>\n",
       "      <td>0.705729</td>\n",
       "    </tr>\n",
       "    <tr>\n",
       "      <th>271</th>\n",
       "      <td>2018_1116_1137</td>\n",
       "      <td>0.659929</td>\n",
       "    </tr>\n",
       "    <tr>\n",
       "      <th>272</th>\n",
       "      <td>2018_1120_1137</td>\n",
       "      <td>0.730756</td>\n",
       "    </tr>\n",
       "    <tr>\n",
       "      <th>335</th>\n",
       "      <td>2018_1104_1138</td>\n",
       "      <td>0.350086</td>\n",
       "    </tr>\n",
       "    <tr>\n",
       "      <th>336</th>\n",
       "      <td>2018_1112_1138</td>\n",
       "      <td>0.679339</td>\n",
       "    </tr>\n",
       "    <tr>\n",
       "      <th>337</th>\n",
       "      <td>2018_1113_1138</td>\n",
       "      <td>0.659599</td>\n",
       "    </tr>\n",
       "    <tr>\n",
       "      <th>338</th>\n",
       "      <td>2018_1116_1138</td>\n",
       "      <td>0.368467</td>\n",
       "    </tr>\n",
       "    <tr>\n",
       "      <th>339</th>\n",
       "      <td>2018_1120_1138</td>\n",
       "      <td>0.692962</td>\n",
       "    </tr>\n",
       "    <tr>\n",
       "      <th>340</th>\n",
       "      <td>2018_1137_1138</td>\n",
       "      <td>0.513243</td>\n",
       "    </tr>\n",
       "    <tr>\n",
       "      <th>402</th>\n",
       "      <td>2018_1104_1139</td>\n",
       "      <td>0.515719</td>\n",
       "    </tr>\n",
       "    <tr>\n",
       "      <th>403</th>\n",
       "      <td>2018_1112_1139</td>\n",
       "      <td>0.611810</td>\n",
       "    </tr>\n",
       "    <tr>\n",
       "      <th>404</th>\n",
       "      <td>2018_1113_1139</td>\n",
       "      <td>0.501316</td>\n",
       "    </tr>\n",
       "    <tr>\n",
       "      <th>405</th>\n",
       "      <td>2018_1116_1139</td>\n",
       "      <td>0.516183</td>\n",
       "    </tr>\n",
       "    <tr>\n",
       "      <th>406</th>\n",
       "      <td>2018_1120_1139</td>\n",
       "      <td>0.597919</td>\n",
       "    </tr>\n",
       "    <tr>\n",
       "      <th>407</th>\n",
       "      <td>2018_1137_1139</td>\n",
       "      <td>0.404126</td>\n",
       "    </tr>\n",
       "    <tr>\n",
       "      <th>408</th>\n",
       "      <td>2018_1138_1139</td>\n",
       "      <td>0.571516</td>\n",
       "    </tr>\n",
       "    <tr>\n",
       "      <th>469</th>\n",
       "      <td>2018_1104_1153</td>\n",
       "      <td>0.086308</td>\n",
       "    </tr>\n",
       "    <tr>\n",
       "      <th>470</th>\n",
       "      <td>2018_1112_1153</td>\n",
       "      <td>0.435964</td>\n",
       "    </tr>\n",
       "    <tr>\n",
       "      <th>...</th>\n",
       "      <td>...</td>\n",
       "      <td>...</td>\n",
       "    </tr>\n",
       "    <tr>\n",
       "      <th>4459</th>\n",
       "      <td>2018_1308_1462</td>\n",
       "      <td>0.552995</td>\n",
       "    </tr>\n",
       "    <tr>\n",
       "      <th>4460</th>\n",
       "      <td>2018_1314_1462</td>\n",
       "      <td>0.651939</td>\n",
       "    </tr>\n",
       "    <tr>\n",
       "      <th>4461</th>\n",
       "      <td>2018_1326_1462</td>\n",
       "      <td>0.516487</td>\n",
       "    </tr>\n",
       "    <tr>\n",
       "      <th>4462</th>\n",
       "      <td>2018_1328_1462</td>\n",
       "      <td>0.336933</td>\n",
       "    </tr>\n",
       "    <tr>\n",
       "      <th>4463</th>\n",
       "      <td>2018_1335_1462</td>\n",
       "      <td>0.339004</td>\n",
       "    </tr>\n",
       "    <tr>\n",
       "      <th>4464</th>\n",
       "      <td>2018_1344_1462</td>\n",
       "      <td>0.524866</td>\n",
       "    </tr>\n",
       "    <tr>\n",
       "      <th>4465</th>\n",
       "      <td>2018_1345_1462</td>\n",
       "      <td>0.572422</td>\n",
       "    </tr>\n",
       "    <tr>\n",
       "      <th>4466</th>\n",
       "      <td>2018_1347_1462</td>\n",
       "      <td>0.226180</td>\n",
       "    </tr>\n",
       "    <tr>\n",
       "      <th>4467</th>\n",
       "      <td>2018_1348_1462</td>\n",
       "      <td>0.424430</td>\n",
       "    </tr>\n",
       "    <tr>\n",
       "      <th>4468</th>\n",
       "      <td>2018_1355_1462</td>\n",
       "      <td>0.566194</td>\n",
       "    </tr>\n",
       "    <tr>\n",
       "      <th>4469</th>\n",
       "      <td>2018_1361_1462</td>\n",
       "      <td>0.620950</td>\n",
       "    </tr>\n",
       "    <tr>\n",
       "      <th>4470</th>\n",
       "      <td>2018_1371_1462</td>\n",
       "      <td>0.242073</td>\n",
       "    </tr>\n",
       "    <tr>\n",
       "      <th>4471</th>\n",
       "      <td>2018_1372_1462</td>\n",
       "      <td>0.437717</td>\n",
       "    </tr>\n",
       "    <tr>\n",
       "      <th>4472</th>\n",
       "      <td>2018_1382_1462</td>\n",
       "      <td>0.613316</td>\n",
       "    </tr>\n",
       "    <tr>\n",
       "      <th>4473</th>\n",
       "      <td>2018_1393_1462</td>\n",
       "      <td>0.290172</td>\n",
       "    </tr>\n",
       "    <tr>\n",
       "      <th>4474</th>\n",
       "      <td>2018_1395_1462</td>\n",
       "      <td>0.433419</td>\n",
       "    </tr>\n",
       "    <tr>\n",
       "      <th>4475</th>\n",
       "      <td>2018_1397_1462</td>\n",
       "      <td>0.488081</td>\n",
       "    </tr>\n",
       "    <tr>\n",
       "      <th>4476</th>\n",
       "      <td>2018_1400_1462</td>\n",
       "      <td>0.221829</td>\n",
       "    </tr>\n",
       "    <tr>\n",
       "      <th>4477</th>\n",
       "      <td>2018_1401_1462</td>\n",
       "      <td>0.254335</td>\n",
       "    </tr>\n",
       "    <tr>\n",
       "      <th>4478</th>\n",
       "      <td>2018_1403_1462</td>\n",
       "      <td>0.528405</td>\n",
       "    </tr>\n",
       "    <tr>\n",
       "      <th>4479</th>\n",
       "      <td>2018_1411_1462</td>\n",
       "      <td>0.111177</td>\n",
       "    </tr>\n",
       "    <tr>\n",
       "      <th>4480</th>\n",
       "      <td>2018_1417_1462</td>\n",
       "      <td>0.282320</td>\n",
       "    </tr>\n",
       "    <tr>\n",
       "      <th>4481</th>\n",
       "      <td>2018_1420_1462</td>\n",
       "      <td>0.260858</td>\n",
       "    </tr>\n",
       "    <tr>\n",
       "      <th>4482</th>\n",
       "      <td>2018_1422_1462</td>\n",
       "      <td>0.534100</td>\n",
       "    </tr>\n",
       "    <tr>\n",
       "      <th>4483</th>\n",
       "      <td>2018_1437_1462</td>\n",
       "      <td>0.762559</td>\n",
       "    </tr>\n",
       "    <tr>\n",
       "      <th>4484</th>\n",
       "      <td>2018_1438_1462</td>\n",
       "      <td>0.623850</td>\n",
       "    </tr>\n",
       "    <tr>\n",
       "      <th>4485</th>\n",
       "      <td>2018_1439_1462</td>\n",
       "      <td>0.318183</td>\n",
       "    </tr>\n",
       "    <tr>\n",
       "      <th>4486</th>\n",
       "      <td>2018_1452_1462</td>\n",
       "      <td>0.436821</td>\n",
       "    </tr>\n",
       "    <tr>\n",
       "      <th>4487</th>\n",
       "      <td>2018_1455_1462</td>\n",
       "      <td>0.604182</td>\n",
       "    </tr>\n",
       "    <tr>\n",
       "      <th>4488</th>\n",
       "      <td>2018_1460_1462</td>\n",
       "      <td>0.281978</td>\n",
       "    </tr>\n",
       "  </tbody>\n",
       "</table>\n",
       "<p>2278 rows × 2 columns</p>\n",
       "</div>"
      ],
      "text/plain": [
       "                  ID      Pred\n",
       "0     2018_1104_1112  0.109697\n",
       "67    2018_1104_1113  0.618931\n",
       "68    2018_1112_1113  0.730285\n",
       "134   2018_1104_1116  0.375547\n",
       "135   2018_1112_1116  0.671425\n",
       "136   2018_1113_1116  0.558281\n",
       "201   2018_1104_1120  0.518970\n",
       "202   2018_1112_1120  0.460785\n",
       "203   2018_1113_1120  0.572792\n",
       "204   2018_1116_1120  0.427885\n",
       "268   2018_1104_1137  0.517577\n",
       "269   2018_1112_1137  0.681041\n",
       "270   2018_1113_1137  0.705729\n",
       "271   2018_1116_1137  0.659929\n",
       "272   2018_1120_1137  0.730756\n",
       "335   2018_1104_1138  0.350086\n",
       "336   2018_1112_1138  0.679339\n",
       "337   2018_1113_1138  0.659599\n",
       "338   2018_1116_1138  0.368467\n",
       "339   2018_1120_1138  0.692962\n",
       "340   2018_1137_1138  0.513243\n",
       "402   2018_1104_1139  0.515719\n",
       "403   2018_1112_1139  0.611810\n",
       "404   2018_1113_1139  0.501316\n",
       "405   2018_1116_1139  0.516183\n",
       "406   2018_1120_1139  0.597919\n",
       "407   2018_1137_1139  0.404126\n",
       "408   2018_1138_1139  0.571516\n",
       "469   2018_1104_1153  0.086308\n",
       "470   2018_1112_1153  0.435964\n",
       "...              ...       ...\n",
       "4459  2018_1308_1462  0.552995\n",
       "4460  2018_1314_1462  0.651939\n",
       "4461  2018_1326_1462  0.516487\n",
       "4462  2018_1328_1462  0.336933\n",
       "4463  2018_1335_1462  0.339004\n",
       "4464  2018_1344_1462  0.524866\n",
       "4465  2018_1345_1462  0.572422\n",
       "4466  2018_1347_1462  0.226180\n",
       "4467  2018_1348_1462  0.424430\n",
       "4468  2018_1355_1462  0.566194\n",
       "4469  2018_1361_1462  0.620950\n",
       "4470  2018_1371_1462  0.242073\n",
       "4471  2018_1372_1462  0.437717\n",
       "4472  2018_1382_1462  0.613316\n",
       "4473  2018_1393_1462  0.290172\n",
       "4474  2018_1395_1462  0.433419\n",
       "4475  2018_1397_1462  0.488081\n",
       "4476  2018_1400_1462  0.221829\n",
       "4477  2018_1401_1462  0.254335\n",
       "4478  2018_1403_1462  0.528405\n",
       "4479  2018_1411_1462  0.111177\n",
       "4480  2018_1417_1462  0.282320\n",
       "4481  2018_1420_1462  0.260858\n",
       "4482  2018_1422_1462  0.534100\n",
       "4483  2018_1437_1462  0.762559\n",
       "4484  2018_1438_1462  0.623850\n",
       "4485  2018_1439_1462  0.318183\n",
       "4486  2018_1452_1462  0.436821\n",
       "4487  2018_1455_1462  0.604182\n",
       "4488  2018_1460_1462  0.281978\n",
       "\n",
       "[2278 rows x 2 columns]"
      ]
     },
     "execution_count": 148,
     "metadata": {},
     "output_type": "execute_result"
    }
   ],
   "source": [
    "submissions.set_value(3352, 'Pred', 0.4999)"
   ]
  },
  {
   "cell_type": "code",
   "execution_count": 150,
   "metadata": {},
   "outputs": [],
   "source": [
    "submissions.to_csv('MM_submissions_3.csv', index=False)"
   ]
  },
  {
   "cell_type": "code",
   "execution_count": null,
   "metadata": {},
   "outputs": [],
   "source": []
  },
  {
   "cell_type": "code",
   "execution_count": null,
   "metadata": {},
   "outputs": [],
   "source": []
  },
  {
   "cell_type": "code",
   "execution_count": 153,
   "metadata": {},
   "outputs": [
    {
     "data": {
      "image/png": "[encoded data removed]",
      "text/plain": [
       "<IPython.core.display.Image object>"
      ]
     },
     "execution_count": 153,
     "metadata": {},
     "output_type": "execute_result"
    }
   ],
   "source": [
    "from bracketeer import build_bracket\n",
    "b = build_bracket(\n",
    "        outputPath='output2.png',\n",
    "        teamsPath='../Datasets/DataFiles/Teams.csv',\n",
    "        seedsPath='Stage2UpdatedDataFiles/NCAATourneySeeds.csv',\n",
    "        submissionPath='MM_submissions_3.csv',\n",
    "        slotsPath='Stage2UpdatedDataFiles/NCAATourneySlots.csv',\n",
    "        year=2018\n",
    ")\n",
    "\n",
    "from IPython.display import Image\n",
    "Image(\"output2.png\")"
   ]
  },
  {
   "cell_type": "code",
   "execution_count": 154,
   "metadata": {},
   "outputs": [
    {
     "data": {
      "text/plain": [
       "array([0.02843321, 0.05520559, 0.02446617, 0.03301418, 0.0205662 ,\n",
       "       0.02151284, 0.02069394, 0.02128651, 0.03219447, 0.05600218,\n",
       "       0.0482859 , 0.04945152, 0.02081075, 0.02042806, 0.0231106 ,\n",
       "       0.02163419, 0.02888127, 0.0568055 , 0.02394731, 0.0329924 ,\n",
       "       0.02084774, 0.02115597, 0.02059013, 0.02132135, 0.03132678,\n",
       "       0.05755487, 0.04999166, 0.04868351, 0.02114727, 0.02127652,\n",
       "       0.02385997, 0.02252144])"
      ]
     },
     "execution_count": 154,
     "metadata": {},
     "output_type": "execute_result"
    }
   ],
   "source": [
    "rs_rf.best_estimator_.feature_importances_"
   ]
  },
  {
   "cell_type": "code",
   "execution_count": 155,
   "metadata": {},
   "outputs": [
    {
     "data": {
      "text/html": [
       "<div>\n",
       "<style>\n",
       "    .dataframe thead tr:only-child th {\n",
       "        text-align: right;\n",
       "    }\n",
       "\n",
       "    .dataframe thead th {\n",
       "        text-align: left;\n",
       "    }\n",
       "\n",
       "    .dataframe tbody tr th {\n",
       "        vertical-align: top;\n",
       "    }\n",
       "</style>\n",
       "<table border=\"1\" class=\"dataframe\">\n",
       "  <thead>\n",
       "    <tr style=\"text-align: right;\">\n",
       "      <th></th>\n",
       "      <th>feature</th>\n",
       "      <th>importance</th>\n",
       "    </tr>\n",
       "  </thead>\n",
       "  <tbody>\n",
       "    <tr>\n",
       "      <th>25</th>\n",
       "      <td>Off_Rtg_dif_avg_y</td>\n",
       "      <td>0.057555</td>\n",
       "    </tr>\n",
       "    <tr>\n",
       "      <th>17</th>\n",
       "      <td>Def_Rtg_dif_avg_y</td>\n",
       "      <td>0.056805</td>\n",
       "    </tr>\n",
       "    <tr>\n",
       "      <th>9</th>\n",
       "      <td>Off_Rtg_dif_avg_x</td>\n",
       "      <td>0.056002</td>\n",
       "    </tr>\n",
       "    <tr>\n",
       "      <th>1</th>\n",
       "      <td>Def_Rtg_dif_avg_x</td>\n",
       "      <td>0.055206</td>\n",
       "    </tr>\n",
       "    <tr>\n",
       "      <th>26</th>\n",
       "      <td>PIE_avg_y</td>\n",
       "      <td>0.049992</td>\n",
       "    </tr>\n",
       "    <tr>\n",
       "      <th>11</th>\n",
       "      <td>PIE_dif_avg_x</td>\n",
       "      <td>0.049452</td>\n",
       "    </tr>\n",
       "    <tr>\n",
       "      <th>27</th>\n",
       "      <td>PIE_dif_avg_y</td>\n",
       "      <td>0.048684</td>\n",
       "    </tr>\n",
       "    <tr>\n",
       "      <th>10</th>\n",
       "      <td>PIE_avg_x</td>\n",
       "      <td>0.048286</td>\n",
       "    </tr>\n",
       "    <tr>\n",
       "      <th>3</th>\n",
       "      <td>Eff_FG_dif_avg_x</td>\n",
       "      <td>0.033014</td>\n",
       "    </tr>\n",
       "    <tr>\n",
       "      <th>19</th>\n",
       "      <td>Eff_FG_dif_avg_y</td>\n",
       "      <td>0.032992</td>\n",
       "    </tr>\n",
       "  </tbody>\n",
       "</table>\n",
       "</div>"
      ],
      "text/plain": [
       "              feature  importance\n",
       "25  Off_Rtg_dif_avg_y    0.057555\n",
       "17  Def_Rtg_dif_avg_y    0.056805\n",
       "9   Off_Rtg_dif_avg_x    0.056002\n",
       "1   Def_Rtg_dif_avg_x    0.055206\n",
       "26          PIE_avg_y    0.049992\n",
       "11      PIE_dif_avg_x    0.049452\n",
       "27      PIE_dif_avg_y    0.048684\n",
       "10          PIE_avg_x    0.048286\n",
       "3    Eff_FG_dif_avg_x    0.033014\n",
       "19   Eff_FG_dif_avg_y    0.032992"
      ]
     },
     "execution_count": 155,
     "metadata": {},
     "output_type": "execute_result"
    }
   ],
   "source": [
    "fi = pd.DataFrame({\n",
    "        'feature':train[new_features].columns,\n",
    "        'importance':rs_rf.best_estimator_.feature_importances_\n",
    "    })\n",
    "\n",
    "fi.sort_values('importance', ascending=False, inplace=True)\n",
    "fi.iloc[0:10, :]"
   ]
  },
  {
   "cell_type": "code",
   "execution_count": 156,
   "metadata": {},
   "outputs": [
    {
     "data": {
      "text/plain": [
       "25    Off_Rtg_dif_avg_y\n",
       "17    Def_Rtg_dif_avg_y\n",
       "9     Off_Rtg_dif_avg_x\n",
       "1     Def_Rtg_dif_avg_x\n",
       "26            PIE_avg_y\n",
       "11        PIE_dif_avg_x\n",
       "27        PIE_dif_avg_y\n",
       "10            PIE_avg_x\n",
       "3      Eff_FG_dif_avg_x\n",
       "19     Eff_FG_dif_avg_y\n",
       "Name: feature, dtype: object"
      ]
     },
     "execution_count": 156,
     "metadata": {},
     "output_type": "execute_result"
    }
   ],
   "source": [
    "fi.iloc[0:10,:]['feature']"
   ]
  },
  {
   "cell_type": "code",
   "execution_count": 158,
   "metadata": {},
   "outputs": [
    {
     "data": {
      "text/html": [
       "<div>\n",
       "<style>\n",
       "    .dataframe thead tr:only-child th {\n",
       "        text-align: right;\n",
       "    }\n",
       "\n",
       "    .dataframe thead th {\n",
       "        text-align: left;\n",
       "    }\n",
       "\n",
       "    .dataframe tbody tr th {\n",
       "        vertical-align: top;\n",
       "    }\n",
       "</style>\n",
       "<table border=\"1\" class=\"dataframe\">\n",
       "  <thead>\n",
       "    <tr style=\"text-align: right;\">\n",
       "      <th></th>\n",
       "      <th>TeamID</th>\n",
       "      <th>Def_Rtg_avg</th>\n",
       "      <th>Def_Rtg_dif_avg</th>\n",
       "      <th>Eff_FG_avg</th>\n",
       "      <th>Eff_FG_dif_avg</th>\n",
       "      <th>FTR_avg</th>\n",
       "      <th>FTR_dif_avg</th>\n",
       "      <th>ORP_avg</th>\n",
       "      <th>ORP_dif_avg</th>\n",
       "      <th>Off_Rtg_avg</th>\n",
       "      <th>Off_Rtg_dif_avg</th>\n",
       "      <th>PIE_avg</th>\n",
       "      <th>PIE_dif_avg</th>\n",
       "      <th>Pos_avg</th>\n",
       "      <th>Pos_dif_avg</th>\n",
       "      <th>TOR_avg</th>\n",
       "      <th>TOR_dif_avg</th>\n",
       "    </tr>\n",
       "  </thead>\n",
       "  <tbody>\n",
       "    <tr>\n",
       "      <th>31</th>\n",
       "      <td>1137</td>\n",
       "      <td>104.193261</td>\n",
       "      <td>-11.915957</td>\n",
       "      <td>0.543699</td>\n",
       "      <td>0.068687</td>\n",
       "      <td>0.310584</td>\n",
       "      <td>0.067222</td>\n",
       "      <td>0.271282</td>\n",
       "      <td>-0.004211</td>\n",
       "      <td>116.109218</td>\n",
       "      <td>11.915957</td>\n",
       "      <td>0.58443</td>\n",
       "      <td>0.16886</td>\n",
       "      <td>69.948988</td>\n",
       "      <td>0.178447</td>\n",
       "      <td>0.152845</td>\n",
       "      <td>0.00102</td>\n",
       "    </tr>\n",
       "  </tbody>\n",
       "</table>\n",
       "</div>"
      ],
      "text/plain": [
       "    TeamID  Def_Rtg_avg  Def_Rtg_dif_avg  Eff_FG_avg  Eff_FG_dif_avg  \\\n",
       "31    1137   104.193261       -11.915957    0.543699        0.068687   \n",
       "\n",
       "     FTR_avg  FTR_dif_avg   ORP_avg  ORP_dif_avg  Off_Rtg_avg  \\\n",
       "31  0.310584     0.067222  0.271282    -0.004211   116.109218   \n",
       "\n",
       "    Off_Rtg_dif_avg  PIE_avg  PIE_dif_avg    Pos_avg  Pos_dif_avg   TOR_avg  \\\n",
       "31        11.915957  0.58443      0.16886  69.948988     0.178447  0.152845   \n",
       "\n",
       "    TOR_dif_avg  \n",
       "31      0.00102  "
      ]
     },
     "execution_count": 158,
     "metadata": {},
     "output_type": "execute_result"
    }
   ],
   "source": [
    "summary_stats.loc[summary_stats.TeamID == 1137, :]"
   ]
  },
  {
   "cell_type": "code",
   "execution_count": 159,
   "metadata": {},
   "outputs": [
    {
     "data": {
      "text/html": [
       "<div>\n",
       "<style>\n",
       "    .dataframe thead tr:only-child th {\n",
       "        text-align: right;\n",
       "    }\n",
       "\n",
       "    .dataframe thead th {\n",
       "        text-align: left;\n",
       "    }\n",
       "\n",
       "    .dataframe tbody tr th {\n",
       "        vertical-align: top;\n",
       "    }\n",
       "</style>\n",
       "<table border=\"1\" class=\"dataframe\">\n",
       "  <thead>\n",
       "    <tr style=\"text-align: right;\">\n",
       "      <th></th>\n",
       "      <th>TeamID</th>\n",
       "      <th>Def_Rtg_avg</th>\n",
       "      <th>Def_Rtg_dif_avg</th>\n",
       "      <th>Eff_FG_avg</th>\n",
       "      <th>Eff_FG_dif_avg</th>\n",
       "      <th>FTR_avg</th>\n",
       "      <th>FTR_dif_avg</th>\n",
       "      <th>ORP_avg</th>\n",
       "      <th>ORP_dif_avg</th>\n",
       "      <th>Off_Rtg_avg</th>\n",
       "      <th>Off_Rtg_dif_avg</th>\n",
       "      <th>PIE_avg</th>\n",
       "      <th>PIE_dif_avg</th>\n",
       "      <th>Pos_avg</th>\n",
       "      <th>Pos_dif_avg</th>\n",
       "      <th>TOR_avg</th>\n",
       "      <th>TOR_dif_avg</th>\n",
       "    </tr>\n",
       "  </thead>\n",
       "  <tbody>\n",
       "    <tr>\n",
       "      <th>169</th>\n",
       "      <td>1277</td>\n",
       "      <td>99.899545</td>\n",
       "      <td>-24.142286</td>\n",
       "      <td>0.576735</td>\n",
       "      <td>0.149343</td>\n",
       "      <td>0.280398</td>\n",
       "      <td>0.063813</td>\n",
       "      <td>0.367622</td>\n",
       "      <td>0.106548</td>\n",
       "      <td>124.041831</td>\n",
       "      <td>24.142286</td>\n",
       "      <td>0.686596</td>\n",
       "      <td>0.373193</td>\n",
       "      <td>65.172945</td>\n",
       "      <td>0.046545</td>\n",
       "      <td>0.165566</td>\n",
       "      <td>0.040671</td>\n",
       "    </tr>\n",
       "  </tbody>\n",
       "</table>\n",
       "</div>"
      ],
      "text/plain": [
       "     TeamID  Def_Rtg_avg  Def_Rtg_dif_avg  Eff_FG_avg  Eff_FG_dif_avg  \\\n",
       "169    1277    99.899545       -24.142286    0.576735        0.149343   \n",
       "\n",
       "      FTR_avg  FTR_dif_avg   ORP_avg  ORP_dif_avg  Off_Rtg_avg  \\\n",
       "169  0.280398     0.063813  0.367622     0.106548   124.041831   \n",
       "\n",
       "     Off_Rtg_dif_avg   PIE_avg  PIE_dif_avg    Pos_avg  Pos_dif_avg   TOR_avg  \\\n",
       "169        24.142286  0.686596     0.373193  65.172945     0.046545  0.165566   \n",
       "\n",
       "     TOR_dif_avg  \n",
       "169     0.040671  "
      ]
     },
     "execution_count": 159,
     "metadata": {},
     "output_type": "execute_result"
    }
   ],
   "source": [
    "summary_stats.loc[summary_stats.TeamID == 1277, :]"
   ]
  },
  {
   "cell_type": "code",
   "execution_count": 296,
   "metadata": {},
   "outputs": [],
   "source": [
    "seed_predictions = pd.merge(sample_sub2.drop('Pred', axis = 1), test[['ID', 'Pred']], how='left', on=['ID'])"
   ]
  },
  {
   "cell_type": "code",
   "execution_count": 297,
   "metadata": {},
   "outputs": [
    {
     "data": {
      "text/html": [
       "<div>\n",
       "<style>\n",
       "    .dataframe thead tr:only-child th {\n",
       "        text-align: right;\n",
       "    }\n",
       "\n",
       "    .dataframe thead th {\n",
       "        text-align: left;\n",
       "    }\n",
       "\n",
       "    .dataframe tbody tr th {\n",
       "        vertical-align: top;\n",
       "    }\n",
       "</style>\n",
       "<table border=\"1\" class=\"dataframe\">\n",
       "  <thead>\n",
       "    <tr style=\"text-align: right;\">\n",
       "      <th></th>\n",
       "      <th>ID</th>\n",
       "      <th>Pred</th>\n",
       "    </tr>\n",
       "  </thead>\n",
       "  <tbody>\n",
       "    <tr>\n",
       "      <th>0</th>\n",
       "      <td>2018_1104_1112</td>\n",
       "      <td>0.5</td>\n",
       "    </tr>\n",
       "    <tr>\n",
       "      <th>1</th>\n",
       "      <td>2018_1104_1113</td>\n",
       "      <td>0.5</td>\n",
       "    </tr>\n",
       "    <tr>\n",
       "      <th>2</th>\n",
       "      <td>2018_1104_1116</td>\n",
       "      <td>0.5</td>\n",
       "    </tr>\n",
       "    <tr>\n",
       "      <th>3</th>\n",
       "      <td>2018_1104_1120</td>\n",
       "      <td>0.5</td>\n",
       "    </tr>\n",
       "    <tr>\n",
       "      <th>4</th>\n",
       "      <td>2018_1104_1137</td>\n",
       "      <td>0.5</td>\n",
       "    </tr>\n",
       "  </tbody>\n",
       "</table>\n",
       "</div>"
      ],
      "text/plain": [
       "               ID  Pred\n",
       "0  2018_1104_1112   0.5\n",
       "1  2018_1104_1113   0.5\n",
       "2  2018_1104_1116   0.5\n",
       "3  2018_1104_1120   0.5\n",
       "4  2018_1104_1137   0.5"
      ]
     },
     "execution_count": 297,
     "metadata": {},
     "output_type": "execute_result"
    }
   ],
   "source": [
    "seed_predictions.head()"
   ]
  },
  {
   "cell_type": "code",
   "execution_count": null,
   "metadata": {},
   "outputs": [],
   "source": []
  },
  {
   "cell_type": "code",
   "execution_count": null,
   "metadata": {},
   "outputs": [],
   "source": []
  },
  {
   "cell_type": "code",
   "execution_count": 45,
   "metadata": {},
   "outputs": [],
   "source": [
    "tourney = pd.read_csv('../Datasets/DataFiles/NCAATourneyCompactResults.csv')\n",
    "tourney.drop(['DayNum', 'WScore', 'LScore', 'WLoc', 'NumOT'], axis = 1, inplace=True)"
   ]
  },
  {
   "cell_type": "code",
   "execution_count": 47,
   "metadata": {},
   "outputs": [
    {
     "data": {
      "text/html": [
       "<div>\n",
       "<style>\n",
       "    .dataframe thead tr:only-child th {\n",
       "        text-align: right;\n",
       "    }\n",
       "\n",
       "    .dataframe thead th {\n",
       "        text-align: left;\n",
       "    }\n",
       "\n",
       "    .dataframe tbody tr th {\n",
       "        vertical-align: top;\n",
       "    }\n",
       "</style>\n",
       "<table border=\"1\" class=\"dataframe\">\n",
       "  <thead>\n",
       "    <tr style=\"text-align: right;\">\n",
       "      <th></th>\n",
       "      <th>OpponentID</th>\n",
       "      <th>Season</th>\n",
       "      <th>TeamID</th>\n",
       "      <th>Won</th>\n",
       "    </tr>\n",
       "  </thead>\n",
       "  <tbody>\n",
       "    <tr>\n",
       "      <th>0</th>\n",
       "      <td>1234</td>\n",
       "      <td>1985</td>\n",
       "      <td>1116</td>\n",
       "      <td>1</td>\n",
       "    </tr>\n",
       "    <tr>\n",
       "      <th>1</th>\n",
       "      <td>1116</td>\n",
       "      <td>1985</td>\n",
       "      <td>1234</td>\n",
       "      <td>0</td>\n",
       "    </tr>\n",
       "    <tr>\n",
       "      <th>2</th>\n",
       "      <td>1345</td>\n",
       "      <td>1985</td>\n",
       "      <td>1120</td>\n",
       "      <td>1</td>\n",
       "    </tr>\n",
       "    <tr>\n",
       "      <th>3</th>\n",
       "      <td>1120</td>\n",
       "      <td>1985</td>\n",
       "      <td>1345</td>\n",
       "      <td>0</td>\n",
       "    </tr>\n",
       "    <tr>\n",
       "      <th>4</th>\n",
       "      <td>1250</td>\n",
       "      <td>1985</td>\n",
       "      <td>1207</td>\n",
       "      <td>1</td>\n",
       "    </tr>\n",
       "  </tbody>\n",
       "</table>\n",
       "</div>"
      ],
      "text/plain": [
       "   OpponentID  Season  TeamID  Won\n",
       "0        1234    1985    1116    1\n",
       "1        1116    1985    1234    0\n",
       "2        1345    1985    1120    1\n",
       "3        1120    1985    1345    0\n",
       "4        1250    1985    1207    1"
      ]
     },
     "execution_count": 47,
     "metadata": {},
     "output_type": "execute_result"
    }
   ],
   "source": [
    "games = []\n",
    "for row in tourney.to_dict('records'):\n",
    "    \n",
    "    game = {}\n",
    "    game['Season'] = row['Season']\n",
    "    game['TeamID'] = row['WTeamID']\n",
    "    game['OpponentID'] = row['LTeamID']\n",
    "    game['Won'] = 1\n",
    "    games.append(game)\n",
    "    \n",
    "    game = {}\n",
    "    game['Season'] = row['Season']\n",
    "    game['TeamID'] = row['LTeamID']\n",
    "    game['OpponentID'] = row['WTeamID']\n",
    "    game['Won'] = 0\n",
    "    games.append(game)\n",
    "\n",
    "games_df = pd.DataFrame(games)\n",
    "games_df.head()"
   ]
  },
  {
   "cell_type": "code",
   "execution_count": 50,
   "metadata": {},
   "outputs": [
    {
     "data": {
      "text/html": [
       "<div>\n",
       "<style>\n",
       "    .dataframe thead tr:only-child th {\n",
       "        text-align: right;\n",
       "    }\n",
       "\n",
       "    .dataframe thead th {\n",
       "        text-align: left;\n",
       "    }\n",
       "\n",
       "    .dataframe tbody tr th {\n",
       "        vertical-align: top;\n",
       "    }\n",
       "</style>\n",
       "<table border=\"1\" class=\"dataframe\">\n",
       "  <thead>\n",
       "    <tr style=\"text-align: right;\">\n",
       "      <th></th>\n",
       "      <th>OpponentID</th>\n",
       "      <th>Season</th>\n",
       "      <th>TeamID</th>\n",
       "      <th>Won</th>\n",
       "      <th>TeamSeed</th>\n",
       "    </tr>\n",
       "  </thead>\n",
       "  <tbody>\n",
       "    <tr>\n",
       "      <th>0</th>\n",
       "      <td>1234</td>\n",
       "      <td>1985</td>\n",
       "      <td>1116</td>\n",
       "      <td>1</td>\n",
       "      <td>9</td>\n",
       "    </tr>\n",
       "    <tr>\n",
       "      <th>1</th>\n",
       "      <td>1385</td>\n",
       "      <td>1985</td>\n",
       "      <td>1116</td>\n",
       "      <td>0</td>\n",
       "      <td>9</td>\n",
       "    </tr>\n",
       "    <tr>\n",
       "      <th>2</th>\n",
       "      <td>1116</td>\n",
       "      <td>1985</td>\n",
       "      <td>1234</td>\n",
       "      <td>0</td>\n",
       "      <td>8</td>\n",
       "    </tr>\n",
       "    <tr>\n",
       "      <th>3</th>\n",
       "      <td>1345</td>\n",
       "      <td>1985</td>\n",
       "      <td>1120</td>\n",
       "      <td>1</td>\n",
       "      <td>11</td>\n",
       "    </tr>\n",
       "    <tr>\n",
       "      <th>4</th>\n",
       "      <td>1242</td>\n",
       "      <td>1985</td>\n",
       "      <td>1120</td>\n",
       "      <td>1</td>\n",
       "      <td>11</td>\n",
       "    </tr>\n",
       "  </tbody>\n",
       "</table>\n",
       "</div>"
      ],
      "text/plain": [
       "   OpponentID  Season  TeamID  Won  TeamSeed\n",
       "0        1234    1985    1116    1         9\n",
       "1        1385    1985    1116    0         9\n",
       "2        1116    1985    1234    0         8\n",
       "3        1345    1985    1120    1        11\n",
       "4        1242    1985    1120    1        11"
      ]
     },
     "execution_count": 50,
     "metadata": {},
     "output_type": "execute_result"
    }
   ],
   "source": [
    "with_team_seed = pd.merge(games_df, seeds, on=['Season', 'TeamID'])\n",
    "with_team_seed.rename(columns = {'Seed': 'TeamSeed'}, inplace=True)\n",
    "with_team_seed.head()"
   ]
  },
  {
   "cell_type": "code",
   "execution_count": 52,
   "metadata": {},
   "outputs": [
    {
     "data": {
      "text/html": [
       "<div>\n",
       "<style>\n",
       "    .dataframe thead tr:only-child th {\n",
       "        text-align: right;\n",
       "    }\n",
       "\n",
       "    .dataframe thead th {\n",
       "        text-align: left;\n",
       "    }\n",
       "\n",
       "    .dataframe tbody tr th {\n",
       "        vertical-align: top;\n",
       "    }\n",
       "</style>\n",
       "<table border=\"1\" class=\"dataframe\">\n",
       "  <thead>\n",
       "    <tr style=\"text-align: right;\">\n",
       "      <th></th>\n",
       "      <th>OpponentID</th>\n",
       "      <th>Season</th>\n",
       "      <th>TeamID</th>\n",
       "      <th>Won</th>\n",
       "      <th>TeamSeed</th>\n",
       "      <th>OpponentSeed</th>\n",
       "    </tr>\n",
       "  </thead>\n",
       "  <tbody>\n",
       "    <tr>\n",
       "      <th>0</th>\n",
       "      <td>1234</td>\n",
       "      <td>1985</td>\n",
       "      <td>1116</td>\n",
       "      <td>1</td>\n",
       "      <td>9</td>\n",
       "      <td>8</td>\n",
       "    </tr>\n",
       "    <tr>\n",
       "      <th>1</th>\n",
       "      <td>1385</td>\n",
       "      <td>1985</td>\n",
       "      <td>1116</td>\n",
       "      <td>0</td>\n",
       "      <td>9</td>\n",
       "      <td>1</td>\n",
       "    </tr>\n",
       "    <tr>\n",
       "      <th>2</th>\n",
       "      <td>1385</td>\n",
       "      <td>1985</td>\n",
       "      <td>1207</td>\n",
       "      <td>1</td>\n",
       "      <td>1</td>\n",
       "      <td>1</td>\n",
       "    </tr>\n",
       "    <tr>\n",
       "      <th>3</th>\n",
       "      <td>1385</td>\n",
       "      <td>1985</td>\n",
       "      <td>1246</td>\n",
       "      <td>0</td>\n",
       "      <td>12</td>\n",
       "      <td>1</td>\n",
       "    </tr>\n",
       "    <tr>\n",
       "      <th>4</th>\n",
       "      <td>1385</td>\n",
       "      <td>1985</td>\n",
       "      <td>1380</td>\n",
       "      <td>0</td>\n",
       "      <td>16</td>\n",
       "      <td>1</td>\n",
       "    </tr>\n",
       "  </tbody>\n",
       "</table>\n",
       "</div>"
      ],
      "text/plain": [
       "   OpponentID  Season  TeamID  Won  TeamSeed  OpponentSeed\n",
       "0        1234    1985    1116    1         9             8\n",
       "1        1385    1985    1116    0         9             1\n",
       "2        1385    1985    1207    1         1             1\n",
       "3        1385    1985    1246    0        12             1\n",
       "4        1385    1985    1380    0        16             1"
      ]
     },
     "execution_count": 52,
     "metadata": {},
     "output_type": "execute_result"
    }
   ],
   "source": [
    "with_seeds = pd.merge(with_team_seed, seeds.rename(columns= {'TeamID': 'OpponentID'}), on=['Season','OpponentID'])\n",
    "with_seeds.rename(columns = {'Seed': 'OpponentSeed'}, inplace=True)\n",
    "with_seeds.head()"
   ]
  },
  {
   "cell_type": "code",
   "execution_count": 62,
   "metadata": {},
   "outputs": [],
   "source": [
    "train = with_seeds.loc[with_seeds['Season'] < 2014, :]\n",
    "test = with_seeds.loc[with_seeds['Season'] >= 2014, :].copy"
   ]
  },
  {
   "cell_type": "code",
   "execution_count": 63,
   "metadata": {},
   "outputs": [],
   "source": [
    "features = ['TeamSeed', 'OpponentSeed']\n",
    "\n",
    "lr = LogisticRegression()\n",
    "lr.fit(train[features], train['Won'])"
   ]
  },
  {
   "cell_type": "code",
   "execution_count": 65,
   "metadata": {},
   "outputs": [],
   "source": [
    "pred = lr.predict_proba(test[features])[:, 1]\n",
    "\n",
    "test['Pred'] = pred\n",
    "test.head()"
   ]
  },
  {
   "cell_type": "code",
   "execution_count": 72,
   "metadata": {},
   "outputs": [],
   "source": [
    "test['ID'] = test.apply(lambda row: '{}_{}_{}'.format(int(row['Season']), int(row['TeamID']), int(row['OpponentID'])), axis = 1)"
   ]
  },
  {
   "cell_type": "code",
   "execution_count": 81,
   "metadata": {},
   "outputs": [],
   "source": [
    "seed_predictions = pd.merge(sample_sub.drop('Pred', axis = 1), test[['ID', 'Pred']], how='left', on=['ID']).fillna(.5)"
   ]
  },
  {
   "cell_type": "code",
   "execution_count": 82,
   "metadata": {},
   "outputs": [
    {
     "data": {
      "text/plain": [
       "(9112, 2)"
      ]
     },
     "execution_count": 82,
     "metadata": {},
     "output_type": "execute_result"
    }
   ],
   "source": [
    "seed_predictions.shape"
   ]
  },
  {
   "cell_type": "code",
   "execution_count": 67,
   "metadata": {},
   "outputs": [
    {
     "data": {
      "text/html": [
       "<div>\n",
       "<style>\n",
       "    .dataframe thead tr:only-child th {\n",
       "        text-align: right;\n",
       "    }\n",
       "\n",
       "    .dataframe thead th {\n",
       "        text-align: left;\n",
       "    }\n",
       "\n",
       "    .dataframe tbody tr th {\n",
       "        vertical-align: top;\n",
       "    }\n",
       "</style>\n",
       "<table border=\"1\" class=\"dataframe\">\n",
       "  <thead>\n",
       "    <tr style=\"text-align: right;\">\n",
       "      <th></th>\n",
       "      <th>ID</th>\n",
       "      <th>Pred</th>\n",
       "    </tr>\n",
       "  </thead>\n",
       "  <tbody>\n",
       "    <tr>\n",
       "      <th>0</th>\n",
       "      <td>2014_1107_1110</td>\n",
       "      <td>0.5</td>\n",
       "    </tr>\n",
       "    <tr>\n",
       "      <th>1</th>\n",
       "      <td>2014_1107_1112</td>\n",
       "      <td>0.5</td>\n",
       "    </tr>\n",
       "    <tr>\n",
       "      <th>2</th>\n",
       "      <td>2014_1107_1113</td>\n",
       "      <td>0.5</td>\n",
       "    </tr>\n",
       "  </tbody>\n",
       "</table>\n",
       "</div>"
      ],
      "text/plain": [
       "               ID  Pred\n",
       "0  2014_1107_1110   0.5\n",
       "1  2014_1107_1112   0.5\n",
       "2  2014_1107_1113   0.5"
      ]
     },
     "execution_count": 67,
     "metadata": {},
     "output_type": "execute_result"
    }
   ],
   "source": [
    "sample_sub.head(3)"
   ]
  },
  {
   "cell_type": "code",
   "execution_count": 87,
   "metadata": {},
   "outputs": [],
   "source": [
    "# For the 2018 data...\n",
    "\n",
    "sample_sub['Season'] = sample_sub['ID'].apply(lambda ID: int(ID.split('_')[0]))\n",
    "sample_sub['TeamID'] = sample_sub['ID'].apply(lambda ID: int(ID.split('_')[1]))\n",
    "sample_sub['OpponentID'] = sample_sub['ID'].apply(lambda ID: int(ID.split('_')[2]))"
   ]
  },
  {
   "cell_type": "code",
   "execution_count": 88,
   "metadata": {},
   "outputs": [
    {
     "data": {
      "text/html": [
       "<div>\n",
       "<style>\n",
       "    .dataframe thead tr:only-child th {\n",
       "        text-align: right;\n",
       "    }\n",
       "\n",
       "    .dataframe thead th {\n",
       "        text-align: left;\n",
       "    }\n",
       "\n",
       "    .dataframe tbody tr th {\n",
       "        vertical-align: top;\n",
       "    }\n",
       "</style>\n",
       "<table border=\"1\" class=\"dataframe\">\n",
       "  <thead>\n",
       "    <tr style=\"text-align: right;\">\n",
       "      <th></th>\n",
       "      <th>ID</th>\n",
       "      <th>Pred</th>\n",
       "      <th>Season</th>\n",
       "      <th>TeamID</th>\n",
       "      <th>OpponentID</th>\n",
       "    </tr>\n",
       "  </thead>\n",
       "  <tbody>\n",
       "    <tr>\n",
       "      <th>0</th>\n",
       "      <td>2014_1107_1110</td>\n",
       "      <td>0.5</td>\n",
       "      <td>2014</td>\n",
       "      <td>1107</td>\n",
       "      <td>1110</td>\n",
       "    </tr>\n",
       "    <tr>\n",
       "      <th>1</th>\n",
       "      <td>2014_1107_1112</td>\n",
       "      <td>0.5</td>\n",
       "      <td>2014</td>\n",
       "      <td>1107</td>\n",
       "      <td>1112</td>\n",
       "    </tr>\n",
       "    <tr>\n",
       "      <th>2</th>\n",
       "      <td>2014_1107_1113</td>\n",
       "      <td>0.5</td>\n",
       "      <td>2014</td>\n",
       "      <td>1107</td>\n",
       "      <td>1113</td>\n",
       "    </tr>\n",
       "  </tbody>\n",
       "</table>\n",
       "</div>"
      ],
      "text/plain": [
       "               ID  Pred  Season  TeamID  OpponentID\n",
       "0  2014_1107_1110   0.5    2014    1107        1110\n",
       "1  2014_1107_1112   0.5    2014    1107        1112\n",
       "2  2014_1107_1113   0.5    2014    1107        1113"
      ]
     },
     "execution_count": 88,
     "metadata": {},
     "output_type": "execute_result"
    }
   ],
   "source": [
    "sample_sub.head(3)"
   ]
  },
  {
   "cell_type": "markdown",
   "metadata": {},
   "source": [
    "## Starter kernel"
   ]
  },
  {
   "cell_type": "code",
   "execution_count": 13,
   "metadata": {},
   "outputs": [],
   "source": [
    "df_seeds = pd.read_csv('../Datasets/DataFiles/NCAATourneySeeds.csv')\n",
    "df_tour = pd.read_csv('../Datasets/DataFiles/NCAATourneyCompactResults.csv')"
   ]
  },
  {
   "cell_type": "code",
   "execution_count": 14,
   "metadata": {},
   "outputs": [
    {
     "data": {
      "text/html": [
       "<div>\n",
       "<style>\n",
       "    .dataframe thead tr:only-child th {\n",
       "        text-align: right;\n",
       "    }\n",
       "\n",
       "    .dataframe thead th {\n",
       "        text-align: left;\n",
       "    }\n",
       "\n",
       "    .dataframe tbody tr th {\n",
       "        vertical-align: top;\n",
       "    }\n",
       "</style>\n",
       "<table border=\"1\" class=\"dataframe\">\n",
       "  <thead>\n",
       "    <tr style=\"text-align: right;\">\n",
       "      <th></th>\n",
       "      <th>Season</th>\n",
       "      <th>Seed</th>\n",
       "      <th>TeamID</th>\n",
       "    </tr>\n",
       "  </thead>\n",
       "  <tbody>\n",
       "    <tr>\n",
       "      <th>0</th>\n",
       "      <td>1985</td>\n",
       "      <td>W01</td>\n",
       "      <td>1207</td>\n",
       "    </tr>\n",
       "    <tr>\n",
       "      <th>1</th>\n",
       "      <td>1985</td>\n",
       "      <td>W02</td>\n",
       "      <td>1210</td>\n",
       "    </tr>\n",
       "    <tr>\n",
       "      <th>2</th>\n",
       "      <td>1985</td>\n",
       "      <td>W03</td>\n",
       "      <td>1228</td>\n",
       "    </tr>\n",
       "    <tr>\n",
       "      <th>3</th>\n",
       "      <td>1985</td>\n",
       "      <td>W04</td>\n",
       "      <td>1260</td>\n",
       "    </tr>\n",
       "    <tr>\n",
       "      <th>4</th>\n",
       "      <td>1985</td>\n",
       "      <td>W05</td>\n",
       "      <td>1374</td>\n",
       "    </tr>\n",
       "  </tbody>\n",
       "</table>\n",
       "</div>"
      ],
      "text/plain": [
       "   Season Seed  TeamID\n",
       "0    1985  W01    1207\n",
       "1    1985  W02    1210\n",
       "2    1985  W03    1228\n",
       "3    1985  W04    1260\n",
       "4    1985  W05    1374"
      ]
     },
     "execution_count": 14,
     "metadata": {},
     "output_type": "execute_result"
    }
   ],
   "source": [
    "df_seeds.head()"
   ]
  },
  {
   "cell_type": "code",
   "execution_count": 15,
   "metadata": {},
   "outputs": [
    {
     "data": {
      "text/html": [
       "<div>\n",
       "<style>\n",
       "    .dataframe thead tr:only-child th {\n",
       "        text-align: right;\n",
       "    }\n",
       "\n",
       "    .dataframe thead th {\n",
       "        text-align: left;\n",
       "    }\n",
       "\n",
       "    .dataframe tbody tr th {\n",
       "        vertical-align: top;\n",
       "    }\n",
       "</style>\n",
       "<table border=\"1\" class=\"dataframe\">\n",
       "  <thead>\n",
       "    <tr style=\"text-align: right;\">\n",
       "      <th></th>\n",
       "      <th>Season</th>\n",
       "      <th>DayNum</th>\n",
       "      <th>WTeamID</th>\n",
       "      <th>WScore</th>\n",
       "      <th>LTeamID</th>\n",
       "      <th>LScore</th>\n",
       "      <th>WLoc</th>\n",
       "      <th>NumOT</th>\n",
       "    </tr>\n",
       "  </thead>\n",
       "  <tbody>\n",
       "    <tr>\n",
       "      <th>0</th>\n",
       "      <td>1985</td>\n",
       "      <td>136</td>\n",
       "      <td>1116</td>\n",
       "      <td>63</td>\n",
       "      <td>1234</td>\n",
       "      <td>54</td>\n",
       "      <td>N</td>\n",
       "      <td>0</td>\n",
       "    </tr>\n",
       "    <tr>\n",
       "      <th>1</th>\n",
       "      <td>1985</td>\n",
       "      <td>136</td>\n",
       "      <td>1120</td>\n",
       "      <td>59</td>\n",
       "      <td>1345</td>\n",
       "      <td>58</td>\n",
       "      <td>N</td>\n",
       "      <td>0</td>\n",
       "    </tr>\n",
       "    <tr>\n",
       "      <th>2</th>\n",
       "      <td>1985</td>\n",
       "      <td>136</td>\n",
       "      <td>1207</td>\n",
       "      <td>68</td>\n",
       "      <td>1250</td>\n",
       "      <td>43</td>\n",
       "      <td>N</td>\n",
       "      <td>0</td>\n",
       "    </tr>\n",
       "    <tr>\n",
       "      <th>3</th>\n",
       "      <td>1985</td>\n",
       "      <td>136</td>\n",
       "      <td>1229</td>\n",
       "      <td>58</td>\n",
       "      <td>1425</td>\n",
       "      <td>55</td>\n",
       "      <td>N</td>\n",
       "      <td>0</td>\n",
       "    </tr>\n",
       "    <tr>\n",
       "      <th>4</th>\n",
       "      <td>1985</td>\n",
       "      <td>136</td>\n",
       "      <td>1242</td>\n",
       "      <td>49</td>\n",
       "      <td>1325</td>\n",
       "      <td>38</td>\n",
       "      <td>N</td>\n",
       "      <td>0</td>\n",
       "    </tr>\n",
       "  </tbody>\n",
       "</table>\n",
       "</div>"
      ],
      "text/plain": [
       "   Season  DayNum  WTeamID  WScore  LTeamID  LScore WLoc  NumOT\n",
       "0    1985     136     1116      63     1234      54    N      0\n",
       "1    1985     136     1120      59     1345      58    N      0\n",
       "2    1985     136     1207      68     1250      43    N      0\n",
       "3    1985     136     1229      58     1425      55    N      0\n",
       "4    1985     136     1242      49     1325      38    N      0"
      ]
     },
     "execution_count": 15,
     "metadata": {},
     "output_type": "execute_result"
    }
   ],
   "source": [
    "df_tour.head()"
   ]
  },
  {
   "cell_type": "code",
   "execution_count": 16,
   "metadata": {},
   "outputs": [
    {
     "data": {
      "text/html": [
       "<div>\n",
       "<style>\n",
       "    .dataframe thead tr:only-child th {\n",
       "        text-align: right;\n",
       "    }\n",
       "\n",
       "    .dataframe thead th {\n",
       "        text-align: left;\n",
       "    }\n",
       "\n",
       "    .dataframe tbody tr th {\n",
       "        vertical-align: top;\n",
       "    }\n",
       "</style>\n",
       "<table border=\"1\" class=\"dataframe\">\n",
       "  <thead>\n",
       "    <tr style=\"text-align: right;\">\n",
       "      <th></th>\n",
       "      <th>Season</th>\n",
       "      <th>TeamID</th>\n",
       "      <th>seed_int</th>\n",
       "    </tr>\n",
       "  </thead>\n",
       "  <tbody>\n",
       "    <tr>\n",
       "      <th>0</th>\n",
       "      <td>1985</td>\n",
       "      <td>1207</td>\n",
       "      <td>1</td>\n",
       "    </tr>\n",
       "    <tr>\n",
       "      <th>1</th>\n",
       "      <td>1985</td>\n",
       "      <td>1210</td>\n",
       "      <td>2</td>\n",
       "    </tr>\n",
       "    <tr>\n",
       "      <th>2</th>\n",
       "      <td>1985</td>\n",
       "      <td>1228</td>\n",
       "      <td>3</td>\n",
       "    </tr>\n",
       "    <tr>\n",
       "      <th>3</th>\n",
       "      <td>1985</td>\n",
       "      <td>1260</td>\n",
       "      <td>4</td>\n",
       "    </tr>\n",
       "    <tr>\n",
       "      <th>4</th>\n",
       "      <td>1985</td>\n",
       "      <td>1374</td>\n",
       "      <td>5</td>\n",
       "    </tr>\n",
       "  </tbody>\n",
       "</table>\n",
       "</div>"
      ],
      "text/plain": [
       "   Season  TeamID  seed_int\n",
       "0    1985    1207         1\n",
       "1    1985    1210         2\n",
       "2    1985    1228         3\n",
       "3    1985    1260         4\n",
       "4    1985    1374         5"
      ]
     },
     "execution_count": 16,
     "metadata": {},
     "output_type": "execute_result"
    }
   ],
   "source": [
    "def seed_to_int(seed):\n",
    "    #Get just the digits from the seeding. Return as int\n",
    "    s_int = int(seed[1:3])\n",
    "    return s_int\n",
    "df_seeds['seed_int'] = df_seeds.Seed.apply(seed_to_int)\n",
    "df_seeds.drop(labels=['Seed'], inplace=True, axis=1) # This is the string label\n",
    "df_seeds.head()"
   ]
  },
  {
   "cell_type": "code",
   "execution_count": 17,
   "metadata": {},
   "outputs": [
    {
     "data": {
      "text/html": [
       "<div>\n",
       "<style>\n",
       "    .dataframe thead tr:only-child th {\n",
       "        text-align: right;\n",
       "    }\n",
       "\n",
       "    .dataframe thead th {\n",
       "        text-align: left;\n",
       "    }\n",
       "\n",
       "    .dataframe tbody tr th {\n",
       "        vertical-align: top;\n",
       "    }\n",
       "</style>\n",
       "<table border=\"1\" class=\"dataframe\">\n",
       "  <thead>\n",
       "    <tr style=\"text-align: right;\">\n",
       "      <th></th>\n",
       "      <th>Season</th>\n",
       "      <th>WTeamID</th>\n",
       "      <th>LTeamID</th>\n",
       "    </tr>\n",
       "  </thead>\n",
       "  <tbody>\n",
       "    <tr>\n",
       "      <th>0</th>\n",
       "      <td>1985</td>\n",
       "      <td>1116</td>\n",
       "      <td>1234</td>\n",
       "    </tr>\n",
       "    <tr>\n",
       "      <th>1</th>\n",
       "      <td>1985</td>\n",
       "      <td>1120</td>\n",
       "      <td>1345</td>\n",
       "    </tr>\n",
       "    <tr>\n",
       "      <th>2</th>\n",
       "      <td>1985</td>\n",
       "      <td>1207</td>\n",
       "      <td>1250</td>\n",
       "    </tr>\n",
       "    <tr>\n",
       "      <th>3</th>\n",
       "      <td>1985</td>\n",
       "      <td>1229</td>\n",
       "      <td>1425</td>\n",
       "    </tr>\n",
       "    <tr>\n",
       "      <th>4</th>\n",
       "      <td>1985</td>\n",
       "      <td>1242</td>\n",
       "      <td>1325</td>\n",
       "    </tr>\n",
       "  </tbody>\n",
       "</table>\n",
       "</div>"
      ],
      "text/plain": [
       "   Season  WTeamID  LTeamID\n",
       "0    1985     1116     1234\n",
       "1    1985     1120     1345\n",
       "2    1985     1207     1250\n",
       "3    1985     1229     1425\n",
       "4    1985     1242     1325"
      ]
     },
     "execution_count": 17,
     "metadata": {},
     "output_type": "execute_result"
    }
   ],
   "source": [
    "df_tour.drop(labels=['DayNum', 'WScore', 'LScore', 'WLoc', 'NumOT'], inplace=True, axis=1)\n",
    "df_tour.head()"
   ]
  },
  {
   "cell_type": "code",
   "execution_count": 18,
   "metadata": {},
   "outputs": [
    {
     "data": {
      "text/html": [
       "<div>\n",
       "<style>\n",
       "    .dataframe thead tr:only-child th {\n",
       "        text-align: right;\n",
       "    }\n",
       "\n",
       "    .dataframe thead th {\n",
       "        text-align: left;\n",
       "    }\n",
       "\n",
       "    .dataframe tbody tr th {\n",
       "        vertical-align: top;\n",
       "    }\n",
       "</style>\n",
       "<table border=\"1\" class=\"dataframe\">\n",
       "  <thead>\n",
       "    <tr style=\"text-align: right;\">\n",
       "      <th></th>\n",
       "      <th>Season</th>\n",
       "      <th>WTeamID</th>\n",
       "      <th>LTeamID</th>\n",
       "      <th>WSeed</th>\n",
       "      <th>LSeed</th>\n",
       "      <th>SeedDiff</th>\n",
       "    </tr>\n",
       "  </thead>\n",
       "  <tbody>\n",
       "    <tr>\n",
       "      <th>0</th>\n",
       "      <td>1985</td>\n",
       "      <td>1116</td>\n",
       "      <td>1234</td>\n",
       "      <td>9</td>\n",
       "      <td>8</td>\n",
       "      <td>1</td>\n",
       "    </tr>\n",
       "    <tr>\n",
       "      <th>1</th>\n",
       "      <td>1985</td>\n",
       "      <td>1120</td>\n",
       "      <td>1345</td>\n",
       "      <td>11</td>\n",
       "      <td>6</td>\n",
       "      <td>5</td>\n",
       "    </tr>\n",
       "    <tr>\n",
       "      <th>2</th>\n",
       "      <td>1985</td>\n",
       "      <td>1207</td>\n",
       "      <td>1250</td>\n",
       "      <td>1</td>\n",
       "      <td>16</td>\n",
       "      <td>-15</td>\n",
       "    </tr>\n",
       "    <tr>\n",
       "      <th>3</th>\n",
       "      <td>1985</td>\n",
       "      <td>1229</td>\n",
       "      <td>1425</td>\n",
       "      <td>9</td>\n",
       "      <td>8</td>\n",
       "      <td>1</td>\n",
       "    </tr>\n",
       "    <tr>\n",
       "      <th>4</th>\n",
       "      <td>1985</td>\n",
       "      <td>1242</td>\n",
       "      <td>1325</td>\n",
       "      <td>3</td>\n",
       "      <td>14</td>\n",
       "      <td>-11</td>\n",
       "    </tr>\n",
       "  </tbody>\n",
       "</table>\n",
       "</div>"
      ],
      "text/plain": [
       "   Season  WTeamID  LTeamID  WSeed  LSeed  SeedDiff\n",
       "0    1985     1116     1234      9      8         1\n",
       "1    1985     1120     1345     11      6         5\n",
       "2    1985     1207     1250      1     16       -15\n",
       "3    1985     1229     1425      9      8         1\n",
       "4    1985     1242     1325      3     14       -11"
      ]
     },
     "execution_count": 18,
     "metadata": {},
     "output_type": "execute_result"
    }
   ],
   "source": [
    "df_winseeds = df_seeds.rename(columns={'TeamID':'WTeamID', 'seed_int':'WSeed'})\n",
    "df_lossseeds = df_seeds.rename(columns={'TeamID':'LTeamID', 'seed_int':'LSeed'})\n",
    "df_dummy = pd.merge(left=df_tour, right=df_winseeds, how='left', on=['Season', 'WTeamID'])\n",
    "df_concat = pd.merge(left=df_dummy, right=df_lossseeds, on=['Season', 'LTeamID'])\n",
    "df_concat['SeedDiff'] = df_concat.WSeed - df_concat.LSeed\n",
    "df_concat.head()"
   ]
  },
  {
   "cell_type": "code",
   "execution_count": 27,
   "metadata": {},
   "outputs": [
    {
     "data": {
      "text/html": [
       "<div>\n",
       "<style>\n",
       "    .dataframe thead tr:only-child th {\n",
       "        text-align: right;\n",
       "    }\n",
       "\n",
       "    .dataframe thead th {\n",
       "        text-align: left;\n",
       "    }\n",
       "\n",
       "    .dataframe tbody tr th {\n",
       "        vertical-align: top;\n",
       "    }\n",
       "</style>\n",
       "<table border=\"1\" class=\"dataframe\">\n",
       "  <thead>\n",
       "    <tr style=\"text-align: right;\">\n",
       "      <th></th>\n",
       "      <th>SeedDiff</th>\n",
       "      <th>Result</th>\n",
       "    </tr>\n",
       "  </thead>\n",
       "  <tbody>\n",
       "    <tr>\n",
       "      <th>0</th>\n",
       "      <td>1</td>\n",
       "      <td>1</td>\n",
       "    </tr>\n",
       "    <tr>\n",
       "      <th>1</th>\n",
       "      <td>5</td>\n",
       "      <td>1</td>\n",
       "    </tr>\n",
       "    <tr>\n",
       "      <th>2</th>\n",
       "      <td>-15</td>\n",
       "      <td>1</td>\n",
       "    </tr>\n",
       "    <tr>\n",
       "      <th>3</th>\n",
       "      <td>1</td>\n",
       "      <td>1</td>\n",
       "    </tr>\n",
       "    <tr>\n",
       "      <th>4</th>\n",
       "      <td>-11</td>\n",
       "      <td>1</td>\n",
       "    </tr>\n",
       "  </tbody>\n",
       "</table>\n",
       "</div>"
      ],
      "text/plain": [
       "   SeedDiff  Result\n",
       "0         1       1\n",
       "1         5       1\n",
       "2       -15       1\n",
       "3         1       1\n",
       "4       -11       1"
      ]
     },
     "execution_count": 27,
     "metadata": {},
     "output_type": "execute_result"
    }
   ],
   "source": [
    "df_wins = pd.DataFrame()\n",
    "df_wins['SeedDiff'] = df_concat['SeedDiff']\n",
    "df_wins['Result'] = 1\n",
    "\n",
    "df_losses = pd.DataFrame()\n",
    "df_losses['SeedDiff'] = -df_concat['SeedDiff']\n",
    "df_losses['Result'] = 0\n",
    "\n",
    "df_predictions = pd.concat((df_wins, df_losses))\n",
    "df_predictions.head()"
   ]
  },
  {
   "cell_type": "code",
   "execution_count": 20,
   "metadata": {},
   "outputs": [],
   "source": [
    "X_train = df_predictions.SeedDiff.values.reshape(-1,1)\n",
    "y_train = df_predictions.Result.values\n",
    "X_train, y_train = shuffle(X_train, y_train)"
   ]
  },
  {
   "cell_type": "code",
   "execution_count": 21,
   "metadata": {},
   "outputs": [
    {
     "name": "stdout",
     "output_type": "stream",
     "text": [
      "Best log_loss: -0.5529, with best C: 0.01\n"
     ]
    }
   ],
   "source": [
    "logreg = LogisticRegression()\n",
    "params = {'C': np.logspace(start=-5, stop=3, num=9)}\n",
    "clf = GridSearchCV(logreg, params, scoring='neg_log_loss', refit=True)\n",
    "clf.fit(X_train, y_train)\n",
    "print('Best log_loss: {:.4}, with best C: {}'.format(clf.best_score_, clf.best_params_['C']))"
   ]
  },
  {
   "cell_type": "code",
   "execution_count": 22,
   "metadata": {},
   "outputs": [
    {
     "data": {
      "text/plain": [
       "Text(0,0.5,'P(Team1 will win)')"
      ]
     },
     "execution_count": 22,
     "metadata": {},
     "output_type": "execute_result"
    },
    {
     "data": {
      "image/png": "[encoded data removed]",
      "text/plain": [
       "<matplotlib.figure.Figure at 0x1221dcb38>"
      ]
     },
     "metadata": {},
     "output_type": "display_data"
    }
   ],
   "source": [
    "X = np.arange(-10, 10).reshape(-1, 1)\n",
    "preds = clf.predict_proba(X)[:,1]\n",
    "\n",
    "plt.plot(X, preds)\n",
    "plt.xlabel('Team1 seed - Team2 seed')\n",
    "plt.ylabel('P(Team1 will win)')"
   ]
  },
  {
   "cell_type": "code",
   "execution_count": 23,
   "metadata": {},
   "outputs": [],
   "source": [
    "df_sample_sub = pd.read_csv('../Datasets/SampleSubmissionStage1.csv')\n",
    "n_test_games = len(df_sample_sub)\n",
    "\n",
    "def get_year_t1_t2(ID):\n",
    "    \"\"\"Return a tuple with ints `year`, `team1` and `team2`.\"\"\"\n",
    "    return (int(x) for x in ID.split('_'))"
   ]
  },
  {
   "cell_type": "code",
   "execution_count": 24,
   "metadata": {},
   "outputs": [],
   "source": [
    "X_test = np.zeros(shape=(n_test_games, 1))\n",
    "for ii, row in df_sample_sub.iterrows():\n",
    "    year, t1, t2 = get_year_t1_t2(row.ID)\n",
    "    t1_seed = df_seeds[(df_seeds.TeamID == t1) & (df_seeds.Season == year)].seed_int.values[0]\n",
    "    t2_seed = df_seeds[(df_seeds.TeamID == t2) & (df_seeds.Season == year)].seed_int.values[0]\n",
    "    diff_seed = t1_seed - t2_seed\n",
    "    X_test[ii, 0] = diff_seed"
   ]
  },
  {
   "cell_type": "code",
   "execution_count": 25,
   "metadata": {},
   "outputs": [
    {
     "data": {
      "text/html": [
       "<div>\n",
       "<style>\n",
       "    .dataframe thead tr:only-child th {\n",
       "        text-align: right;\n",
       "    }\n",
       "\n",
       "    .dataframe thead th {\n",
       "        text-align: left;\n",
       "    }\n",
       "\n",
       "    .dataframe tbody tr th {\n",
       "        vertical-align: top;\n",
       "    }\n",
       "</style>\n",
       "<table border=\"1\" class=\"dataframe\">\n",
       "  <thead>\n",
       "    <tr style=\"text-align: right;\">\n",
       "      <th></th>\n",
       "      <th>ID</th>\n",
       "      <th>Pred</th>\n",
       "    </tr>\n",
       "  </thead>\n",
       "  <tbody>\n",
       "    <tr>\n",
       "      <th>0</th>\n",
       "      <td>2014_1107_1110</td>\n",
       "      <td>0.458264</td>\n",
       "    </tr>\n",
       "    <tr>\n",
       "      <th>1</th>\n",
       "      <td>2014_1107_1112</td>\n",
       "      <td>0.075159</td>\n",
       "    </tr>\n",
       "    <tr>\n",
       "      <th>2</th>\n",
       "      <td>2014_1107_1113</td>\n",
       "      <td>0.268154</td>\n",
       "    </tr>\n",
       "    <tr>\n",
       "      <th>3</th>\n",
       "      <td>2014_1107_1124</td>\n",
       "      <td>0.157979</td>\n",
       "    </tr>\n",
       "    <tr>\n",
       "      <th>4</th>\n",
       "      <td>2014_1107_1140</td>\n",
       "      <td>0.268154</td>\n",
       "    </tr>\n",
       "  </tbody>\n",
       "</table>\n",
       "</div>"
      ],
      "text/plain": [
       "               ID      Pred\n",
       "0  2014_1107_1110  0.458264\n",
       "1  2014_1107_1112  0.075159\n",
       "2  2014_1107_1113  0.268154\n",
       "3  2014_1107_1124  0.157979\n",
       "4  2014_1107_1140  0.268154"
      ]
     },
     "execution_count": 25,
     "metadata": {},
     "output_type": "execute_result"
    }
   ],
   "source": [
    "preds = clf.predict_proba(X_test)[:,1]\n",
    "\n",
    "clipped_preds = np.clip(preds, 0.05, 0.95)\n",
    "df_sample_sub.Pred = clipped_preds\n",
    "df_sample_sub.head()"
   ]
  },
  {
   "cell_type": "markdown",
   "metadata": {},
   "source": [
    "# D Time Boogie."
   ]
  },
  {
   "cell_type": "markdown",
   "metadata": {},
   "source": [
    "### The plan:\n",
    "\n",
    "- I want to build a scraper to pull in all the team season-long average stats.\n",
    "- Then put those with each regular season game so that way the model can learn from the labels (W/L).\n",
    "    - This should also include location to learn who is playing better on the road / neutral.\n",
    "- Also (time permitting) I want to include the mascots by weight feature to make it a little different and fun."
   ]
  },
  {
   "cell_type": "code",
   "execution_count": 91,
   "metadata": {},
   "outputs": [],
   "source": [
    "import pandas as pd\n",
    "import requests\n",
    "from bs4 import BeautifulSoup\n",
    "from selenium import webdriver\n",
    "from time import sleep\n",
    "import re"
   ]
  },
  {
   "cell_type": "markdown",
   "metadata": {},
   "source": [
    "**Getting a list of the team names and their corresponding URLs:**"
   ]
  },
  {
   "cell_type": "code",
   "execution_count": null,
   "metadata": {},
   "outputs": [],
   "source": [
    "res = requests.get('http://stats.ncaa.org/team/inst_team_list?academic_year=2017&conf_id=-1&division=1&sport_code=MBB')\n",
    "soup = BeautifulSoup(res.content, 'lxml')"
   ]
  },
  {
   "cell_type": "code",
   "execution_count": null,
   "metadata": {},
   "outputs": [],
   "source": [
    "giant_table = soup.find('div', {'class': 'css-panes'}).find('table')"
   ]
  },
  {
   "cell_type": "code",
   "execution_count": null,
   "metadata": {},
   "outputs": [],
   "source": [
    "team_names = []\n",
    "team_urls = []"
   ]
  },
  {
   "cell_type": "code",
   "execution_count": null,
   "metadata": {},
   "outputs": [],
   "source": [
    "for column in giant_table.find_all('table'):\n",
    "    for link in column.find_all('a'):\n",
    "        team_names.append(link.text)\n",
    "        team_urls.append('http://stats.ncaa.org/team' + str(link.attrs.get('href')))"
   ]
  },
  {
   "cell_type": "markdown",
   "metadata": {},
   "source": [
    "**Trying to get a single team's stats:**"
   ]
  },
  {
   "cell_type": "code",
   "execution_count": 159,
   "metadata": {},
   "outputs": [
    {
     "data": {
      "text/plain": [
       "200"
      ]
     },
     "execution_count": 159,
     "metadata": {},
     "output_type": "execute_result"
    }
   ],
   "source": [
    "res = requests.get('http://stats.ncaa.org/teams/42595')\n",
    "soup = BeautifulSoup(res.content, 'lxml')\n",
    "res.status_code"
   ]
  },
  {
   "cell_type": "code",
   "execution_count": 231,
   "metadata": {},
   "outputs": [],
   "source": [
    "stat_names = []\n",
    "stat_values = []\n",
    "\n",
    "for stat_name in soup.find_all('a', {'target': 'Rankings'}):\n",
    "    stat_names.append(stat_name.text)\n",
    "    \n",
    "for i, x in enumerate(soup.find_all('td', {'align': 'right'})):\n",
    "    if i % 2 != 0:\n",
    "        stat_values.append(x.text)\n",
    "        stat_values = [num.replace(\" \", \"\") for num in stat_values]\n",
    "        stat_values = [num.replace('\\n', '') for num in stat_values]"
   ]
  },
  {
   "cell_type": "markdown",
   "metadata": {},
   "source": [
    "**Now putting it all together into a scraper that will go into each team's URL**"
   ]
  },
  {
   "cell_type": "code",
   "execution_count": 233,
   "metadata": {},
   "outputs": [
    {
     "ename": "KeyboardInterrupt",
     "evalue": "",
     "output_type": "error",
     "traceback": [
      "\u001b[0;31m---------------------------------------------------------------------------\u001b[0m",
      "\u001b[0;31mTypeError\u001b[0m                                 Traceback (most recent call last)",
      "\u001b[0;32m/anaconda3/lib/python3.6/site-packages/urllib3/connectionpool.py\u001b[0m in \u001b[0;36m_make_request\u001b[0;34m(self, conn, method, url, timeout, chunked, **httplib_request_kw)\u001b[0m\n\u001b[1;32m    379\u001b[0m             \u001b[0;32mtry\u001b[0m\u001b[0;34m:\u001b[0m  \u001b[0;31m# Python 2.7, use buffering of HTTP responses\u001b[0m\u001b[0;34m\u001b[0m\u001b[0m\n\u001b[0;32m--> 380\u001b[0;31m                 \u001b[0mhttplib_response\u001b[0m \u001b[0;34m=\u001b[0m \u001b[0mconn\u001b[0m\u001b[0;34m.\u001b[0m\u001b[0mgetresponse\u001b[0m\u001b[0;34m(\u001b[0m\u001b[0mbuffering\u001b[0m\u001b[0;34m=\u001b[0m\u001b[0;32mTrue\u001b[0m\u001b[0;34m)\u001b[0m\u001b[0;34m\u001b[0m\u001b[0m\n\u001b[0m\u001b[1;32m    381\u001b[0m             \u001b[0;32mexcept\u001b[0m \u001b[0mTypeError\u001b[0m\u001b[0;34m:\u001b[0m  \u001b[0;31m# Python 2.6 and older, Python 3\u001b[0m\u001b[0;34m\u001b[0m\u001b[0m\n",
      "\u001b[0;31mTypeError\u001b[0m: getresponse() got an unexpected keyword argument 'buffering'",
      "\nDuring handling of the above exception, another exception occurred:\n",
      "\u001b[0;31mKeyboardInterrupt\u001b[0m                         Traceback (most recent call last)",
      "\u001b[0;32m<ipython-input-233-f57e509f526d>\u001b[0m in \u001b[0;36m<module>\u001b[0;34m()\u001b[0m\n\u001b[1;32m     27\u001b[0m         \u001b[0;32mreturn\u001b[0m \u001b[0mscrape_team_stats\u001b[0m\u001b[0;34m(\u001b[0m\u001b[0mmissed_url_list\u001b[0m\u001b[0;34m)\u001b[0m\u001b[0;34m\u001b[0m\u001b[0m\n\u001b[1;32m     28\u001b[0m \u001b[0;34m\u001b[0m\u001b[0m\n\u001b[0;32m---> 29\u001b[0;31m \u001b[0mscrape_team_stats\u001b[0m\u001b[0;34m(\u001b[0m\u001b[0mteam_urls\u001b[0m\u001b[0;34m)\u001b[0m\u001b[0;34m\u001b[0m\u001b[0m\n\u001b[0m",
      "\u001b[0;32m<ipython-input-233-f57e509f526d>\u001b[0m in \u001b[0;36mscrape_team_stats\u001b[0;34m(url_list)\u001b[0m\n\u001b[1;32m     25\u001b[0m         \u001b[0;32mreturn\u001b[0m \u001b[0mteam_stats\u001b[0m\u001b[0;34m\u001b[0m\u001b[0m\n\u001b[1;32m     26\u001b[0m     \u001b[0;32melse\u001b[0m\u001b[0;34m:\u001b[0m\u001b[0;34m\u001b[0m\u001b[0m\n\u001b[0;32m---> 27\u001b[0;31m         \u001b[0;32mreturn\u001b[0m \u001b[0mscrape_team_stats\u001b[0m\u001b[0;34m(\u001b[0m\u001b[0mmissed_url_list\u001b[0m\u001b[0;34m)\u001b[0m\u001b[0;34m\u001b[0m\u001b[0m\n\u001b[0m\u001b[1;32m     28\u001b[0m \u001b[0;34m\u001b[0m\u001b[0m\n\u001b[1;32m     29\u001b[0m \u001b[0mscrape_team_stats\u001b[0m\u001b[0;34m(\u001b[0m\u001b[0mteam_urls\u001b[0m\u001b[0;34m)\u001b[0m\u001b[0;34m\u001b[0m\u001b[0m\n",
      "\u001b[0;32m<ipython-input-233-f57e509f526d>\u001b[0m in \u001b[0;36mscrape_team_stats\u001b[0;34m(url_list)\u001b[0m\n\u001b[1;32m     25\u001b[0m         \u001b[0;32mreturn\u001b[0m \u001b[0mteam_stats\u001b[0m\u001b[0;34m\u001b[0m\u001b[0m\n\u001b[1;32m     26\u001b[0m     \u001b[0;32melse\u001b[0m\u001b[0;34m:\u001b[0m\u001b[0;34m\u001b[0m\u001b[0m\n\u001b[0;32m---> 27\u001b[0;31m         \u001b[0;32mreturn\u001b[0m \u001b[0mscrape_team_stats\u001b[0m\u001b[0;34m(\u001b[0m\u001b[0mmissed_url_list\u001b[0m\u001b[0;34m)\u001b[0m\u001b[0;34m\u001b[0m\u001b[0m\n\u001b[0m\u001b[1;32m     28\u001b[0m \u001b[0;34m\u001b[0m\u001b[0m\n\u001b[1;32m     29\u001b[0m \u001b[0mscrape_team_stats\u001b[0m\u001b[0;34m(\u001b[0m\u001b[0mteam_urls\u001b[0m\u001b[0;34m)\u001b[0m\u001b[0;34m\u001b[0m\u001b[0m\n",
      "\u001b[0;32m<ipython-input-233-f57e509f526d>\u001b[0m in \u001b[0;36mscrape_team_stats\u001b[0;34m(url_list)\u001b[0m\n\u001b[1;32m     25\u001b[0m         \u001b[0;32mreturn\u001b[0m \u001b[0mteam_stats\u001b[0m\u001b[0;34m\u001b[0m\u001b[0m\n\u001b[1;32m     26\u001b[0m     \u001b[0;32melse\u001b[0m\u001b[0;34m:\u001b[0m\u001b[0;34m\u001b[0m\u001b[0m\n\u001b[0;32m---> 27\u001b[0;31m         \u001b[0;32mreturn\u001b[0m \u001b[0mscrape_team_stats\u001b[0m\u001b[0;34m(\u001b[0m\u001b[0mmissed_url_list\u001b[0m\u001b[0;34m)\u001b[0m\u001b[0;34m\u001b[0m\u001b[0m\n\u001b[0m\u001b[1;32m     28\u001b[0m \u001b[0;34m\u001b[0m\u001b[0m\n\u001b[1;32m     29\u001b[0m \u001b[0mscrape_team_stats\u001b[0m\u001b[0;34m(\u001b[0m\u001b[0mteam_urls\u001b[0m\u001b[0;34m)\u001b[0m\u001b[0;34m\u001b[0m\u001b[0m\n",
      "\u001b[0;32m<ipython-input-233-f57e509f526d>\u001b[0m in \u001b[0;36mscrape_team_stats\u001b[0;34m(url_list)\u001b[0m\n\u001b[1;32m     25\u001b[0m         \u001b[0;32mreturn\u001b[0m \u001b[0mteam_stats\u001b[0m\u001b[0;34m\u001b[0m\u001b[0m\n\u001b[1;32m     26\u001b[0m     \u001b[0;32melse\u001b[0m\u001b[0;34m:\u001b[0m\u001b[0;34m\u001b[0m\u001b[0m\n\u001b[0;32m---> 27\u001b[0;31m         \u001b[0;32mreturn\u001b[0m \u001b[0mscrape_team_stats\u001b[0m\u001b[0;34m(\u001b[0m\u001b[0mmissed_url_list\u001b[0m\u001b[0;34m)\u001b[0m\u001b[0;34m\u001b[0m\u001b[0m\n\u001b[0m\u001b[1;32m     28\u001b[0m \u001b[0;34m\u001b[0m\u001b[0m\n\u001b[1;32m     29\u001b[0m \u001b[0mscrape_team_stats\u001b[0m\u001b[0;34m(\u001b[0m\u001b[0mteam_urls\u001b[0m\u001b[0;34m)\u001b[0m\u001b[0;34m\u001b[0m\u001b[0m\n",
      "\u001b[0;32m<ipython-input-233-f57e509f526d>\u001b[0m in \u001b[0;36mscrape_team_stats\u001b[0;34m(url_list)\u001b[0m\n\u001b[1;32m     25\u001b[0m         \u001b[0;32mreturn\u001b[0m \u001b[0mteam_stats\u001b[0m\u001b[0;34m\u001b[0m\u001b[0m\n\u001b[1;32m     26\u001b[0m     \u001b[0;32melse\u001b[0m\u001b[0;34m:\u001b[0m\u001b[0;34m\u001b[0m\u001b[0m\n\u001b[0;32m---> 27\u001b[0;31m         \u001b[0;32mreturn\u001b[0m \u001b[0mscrape_team_stats\u001b[0m\u001b[0;34m(\u001b[0m\u001b[0mmissed_url_list\u001b[0m\u001b[0;34m)\u001b[0m\u001b[0;34m\u001b[0m\u001b[0m\n\u001b[0m\u001b[1;32m     28\u001b[0m \u001b[0;34m\u001b[0m\u001b[0m\n\u001b[1;32m     29\u001b[0m \u001b[0mscrape_team_stats\u001b[0m\u001b[0;34m(\u001b[0m\u001b[0mteam_urls\u001b[0m\u001b[0;34m)\u001b[0m\u001b[0;34m\u001b[0m\u001b[0m\n",
      "\u001b[0;32m<ipython-input-233-f57e509f526d>\u001b[0m in \u001b[0;36mscrape_team_stats\u001b[0;34m(url_list)\u001b[0m\n\u001b[1;32m     25\u001b[0m         \u001b[0;32mreturn\u001b[0m \u001b[0mteam_stats\u001b[0m\u001b[0;34m\u001b[0m\u001b[0m\n\u001b[1;32m     26\u001b[0m     \u001b[0;32melse\u001b[0m\u001b[0;34m:\u001b[0m\u001b[0;34m\u001b[0m\u001b[0m\n\u001b[0;32m---> 27\u001b[0;31m         \u001b[0;32mreturn\u001b[0m \u001b[0mscrape_team_stats\u001b[0m\u001b[0;34m(\u001b[0m\u001b[0mmissed_url_list\u001b[0m\u001b[0;34m)\u001b[0m\u001b[0;34m\u001b[0m\u001b[0m\n\u001b[0m\u001b[1;32m     28\u001b[0m \u001b[0;34m\u001b[0m\u001b[0m\n\u001b[1;32m     29\u001b[0m \u001b[0mscrape_team_stats\u001b[0m\u001b[0;34m(\u001b[0m\u001b[0mteam_urls\u001b[0m\u001b[0;34m)\u001b[0m\u001b[0;34m\u001b[0m\u001b[0m\n",
      "\u001b[0;32m<ipython-input-233-f57e509f526d>\u001b[0m in \u001b[0;36mscrape_team_stats\u001b[0;34m(url_list)\u001b[0m\n\u001b[1;32m     25\u001b[0m         \u001b[0;32mreturn\u001b[0m \u001b[0mteam_stats\u001b[0m\u001b[0;34m\u001b[0m\u001b[0m\n\u001b[1;32m     26\u001b[0m     \u001b[0;32melse\u001b[0m\u001b[0;34m:\u001b[0m\u001b[0;34m\u001b[0m\u001b[0m\n\u001b[0;32m---> 27\u001b[0;31m         \u001b[0;32mreturn\u001b[0m \u001b[0mscrape_team_stats\u001b[0m\u001b[0;34m(\u001b[0m\u001b[0mmissed_url_list\u001b[0m\u001b[0;34m)\u001b[0m\u001b[0;34m\u001b[0m\u001b[0m\n\u001b[0m\u001b[1;32m     28\u001b[0m \u001b[0;34m\u001b[0m\u001b[0m\n\u001b[1;32m     29\u001b[0m \u001b[0mscrape_team_stats\u001b[0m\u001b[0;34m(\u001b[0m\u001b[0mteam_urls\u001b[0m\u001b[0;34m)\u001b[0m\u001b[0;34m\u001b[0m\u001b[0m\n",
      "\u001b[0;32m<ipython-input-233-f57e509f526d>\u001b[0m in \u001b[0;36mscrape_team_stats\u001b[0;34m(url_list)\u001b[0m\n\u001b[1;32m     25\u001b[0m         \u001b[0;32mreturn\u001b[0m \u001b[0mteam_stats\u001b[0m\u001b[0;34m\u001b[0m\u001b[0m\n\u001b[1;32m     26\u001b[0m     \u001b[0;32melse\u001b[0m\u001b[0;34m:\u001b[0m\u001b[0;34m\u001b[0m\u001b[0m\n\u001b[0;32m---> 27\u001b[0;31m         \u001b[0;32mreturn\u001b[0m \u001b[0mscrape_team_stats\u001b[0m\u001b[0;34m(\u001b[0m\u001b[0mmissed_url_list\u001b[0m\u001b[0;34m)\u001b[0m\u001b[0;34m\u001b[0m\u001b[0m\n\u001b[0m\u001b[1;32m     28\u001b[0m \u001b[0;34m\u001b[0m\u001b[0m\n\u001b[1;32m     29\u001b[0m \u001b[0mscrape_team_stats\u001b[0m\u001b[0;34m(\u001b[0m\u001b[0mteam_urls\u001b[0m\u001b[0;34m)\u001b[0m\u001b[0;34m\u001b[0m\u001b[0m\n",
      "\u001b[0;32m<ipython-input-233-f57e509f526d>\u001b[0m in \u001b[0;36mscrape_team_stats\u001b[0;34m(url_list)\u001b[0m\n\u001b[1;32m     25\u001b[0m         \u001b[0;32mreturn\u001b[0m \u001b[0mteam_stats\u001b[0m\u001b[0;34m\u001b[0m\u001b[0m\n\u001b[1;32m     26\u001b[0m     \u001b[0;32melse\u001b[0m\u001b[0;34m:\u001b[0m\u001b[0;34m\u001b[0m\u001b[0m\n\u001b[0;32m---> 27\u001b[0;31m         \u001b[0;32mreturn\u001b[0m \u001b[0mscrape_team_stats\u001b[0m\u001b[0;34m(\u001b[0m\u001b[0mmissed_url_list\u001b[0m\u001b[0;34m)\u001b[0m\u001b[0;34m\u001b[0m\u001b[0m\n\u001b[0m\u001b[1;32m     28\u001b[0m \u001b[0;34m\u001b[0m\u001b[0m\n\u001b[1;32m     29\u001b[0m \u001b[0mscrape_team_stats\u001b[0m\u001b[0;34m(\u001b[0m\u001b[0mteam_urls\u001b[0m\u001b[0;34m)\u001b[0m\u001b[0;34m\u001b[0m\u001b[0m\n",
      "\u001b[0;32m<ipython-input-233-f57e509f526d>\u001b[0m in \u001b[0;36mscrape_team_stats\u001b[0;34m(url_list)\u001b[0m\n\u001b[1;32m     25\u001b[0m         \u001b[0;32mreturn\u001b[0m \u001b[0mteam_stats\u001b[0m\u001b[0;34m\u001b[0m\u001b[0m\n\u001b[1;32m     26\u001b[0m     \u001b[0;32melse\u001b[0m\u001b[0;34m:\u001b[0m\u001b[0;34m\u001b[0m\u001b[0m\n\u001b[0;32m---> 27\u001b[0;31m         \u001b[0;32mreturn\u001b[0m \u001b[0mscrape_team_stats\u001b[0m\u001b[0;34m(\u001b[0m\u001b[0mmissed_url_list\u001b[0m\u001b[0;34m)\u001b[0m\u001b[0;34m\u001b[0m\u001b[0m\n\u001b[0m\u001b[1;32m     28\u001b[0m \u001b[0;34m\u001b[0m\u001b[0m\n\u001b[1;32m     29\u001b[0m \u001b[0mscrape_team_stats\u001b[0m\u001b[0;34m(\u001b[0m\u001b[0mteam_urls\u001b[0m\u001b[0;34m)\u001b[0m\u001b[0;34m\u001b[0m\u001b[0m\n",
      "\u001b[0;32m<ipython-input-233-f57e509f526d>\u001b[0m in \u001b[0;36mscrape_team_stats\u001b[0;34m(url_list)\u001b[0m\n\u001b[1;32m     25\u001b[0m         \u001b[0;32mreturn\u001b[0m \u001b[0mteam_stats\u001b[0m\u001b[0;34m\u001b[0m\u001b[0m\n\u001b[1;32m     26\u001b[0m     \u001b[0;32melse\u001b[0m\u001b[0;34m:\u001b[0m\u001b[0;34m\u001b[0m\u001b[0m\n\u001b[0;32m---> 27\u001b[0;31m         \u001b[0;32mreturn\u001b[0m \u001b[0mscrape_team_stats\u001b[0m\u001b[0;34m(\u001b[0m\u001b[0mmissed_url_list\u001b[0m\u001b[0;34m)\u001b[0m\u001b[0;34m\u001b[0m\u001b[0m\n\u001b[0m\u001b[1;32m     28\u001b[0m \u001b[0;34m\u001b[0m\u001b[0m\n\u001b[1;32m     29\u001b[0m \u001b[0mscrape_team_stats\u001b[0m\u001b[0;34m(\u001b[0m\u001b[0mteam_urls\u001b[0m\u001b[0;34m)\u001b[0m\u001b[0;34m\u001b[0m\u001b[0m\n",
      "\u001b[0;32m<ipython-input-233-f57e509f526d>\u001b[0m in \u001b[0;36mscrape_team_stats\u001b[0;34m(url_list)\u001b[0m\n\u001b[1;32m     25\u001b[0m         \u001b[0;32mreturn\u001b[0m \u001b[0mteam_stats\u001b[0m\u001b[0;34m\u001b[0m\u001b[0m\n\u001b[1;32m     26\u001b[0m     \u001b[0;32melse\u001b[0m\u001b[0;34m:\u001b[0m\u001b[0;34m\u001b[0m\u001b[0m\n\u001b[0;32m---> 27\u001b[0;31m         \u001b[0;32mreturn\u001b[0m \u001b[0mscrape_team_stats\u001b[0m\u001b[0;34m(\u001b[0m\u001b[0mmissed_url_list\u001b[0m\u001b[0;34m)\u001b[0m\u001b[0;34m\u001b[0m\u001b[0m\n\u001b[0m\u001b[1;32m     28\u001b[0m \u001b[0;34m\u001b[0m\u001b[0m\n\u001b[1;32m     29\u001b[0m \u001b[0mscrape_team_stats\u001b[0m\u001b[0;34m(\u001b[0m\u001b[0mteam_urls\u001b[0m\u001b[0;34m)\u001b[0m\u001b[0;34m\u001b[0m\u001b[0m\n",
      "\u001b[0;32m<ipython-input-233-f57e509f526d>\u001b[0m in \u001b[0;36mscrape_team_stats\u001b[0;34m(url_list)\u001b[0m\n\u001b[1;32m     25\u001b[0m         \u001b[0;32mreturn\u001b[0m \u001b[0mteam_stats\u001b[0m\u001b[0;34m\u001b[0m\u001b[0m\n\u001b[1;32m     26\u001b[0m     \u001b[0;32melse\u001b[0m\u001b[0;34m:\u001b[0m\u001b[0;34m\u001b[0m\u001b[0m\n\u001b[0;32m---> 27\u001b[0;31m         \u001b[0;32mreturn\u001b[0m \u001b[0mscrape_team_stats\u001b[0m\u001b[0;34m(\u001b[0m\u001b[0mmissed_url_list\u001b[0m\u001b[0;34m)\u001b[0m\u001b[0;34m\u001b[0m\u001b[0m\n\u001b[0m\u001b[1;32m     28\u001b[0m \u001b[0;34m\u001b[0m\u001b[0m\n\u001b[1;32m     29\u001b[0m \u001b[0mscrape_team_stats\u001b[0m\u001b[0;34m(\u001b[0m\u001b[0mteam_urls\u001b[0m\u001b[0;34m)\u001b[0m\u001b[0;34m\u001b[0m\u001b[0m\n",
      "\u001b[0;32m<ipython-input-233-f57e509f526d>\u001b[0m in \u001b[0;36mscrape_team_stats\u001b[0;34m(url_list)\u001b[0m\n\u001b[1;32m     25\u001b[0m         \u001b[0;32mreturn\u001b[0m \u001b[0mteam_stats\u001b[0m\u001b[0;34m\u001b[0m\u001b[0m\n\u001b[1;32m     26\u001b[0m     \u001b[0;32melse\u001b[0m\u001b[0;34m:\u001b[0m\u001b[0;34m\u001b[0m\u001b[0m\n\u001b[0;32m---> 27\u001b[0;31m         \u001b[0;32mreturn\u001b[0m \u001b[0mscrape_team_stats\u001b[0m\u001b[0;34m(\u001b[0m\u001b[0mmissed_url_list\u001b[0m\u001b[0;34m)\u001b[0m\u001b[0;34m\u001b[0m\u001b[0m\n\u001b[0m\u001b[1;32m     28\u001b[0m \u001b[0;34m\u001b[0m\u001b[0m\n\u001b[1;32m     29\u001b[0m \u001b[0mscrape_team_stats\u001b[0m\u001b[0;34m(\u001b[0m\u001b[0mteam_urls\u001b[0m\u001b[0;34m)\u001b[0m\u001b[0;34m\u001b[0m\u001b[0m\n",
      "\u001b[0;32m<ipython-input-233-f57e509f526d>\u001b[0m in \u001b[0;36mscrape_team_stats\u001b[0;34m(url_list)\u001b[0m\n\u001b[1;32m     25\u001b[0m         \u001b[0;32mreturn\u001b[0m \u001b[0mteam_stats\u001b[0m\u001b[0;34m\u001b[0m\u001b[0m\n\u001b[1;32m     26\u001b[0m     \u001b[0;32melse\u001b[0m\u001b[0;34m:\u001b[0m\u001b[0;34m\u001b[0m\u001b[0m\n\u001b[0;32m---> 27\u001b[0;31m         \u001b[0;32mreturn\u001b[0m \u001b[0mscrape_team_stats\u001b[0m\u001b[0;34m(\u001b[0m\u001b[0mmissed_url_list\u001b[0m\u001b[0;34m)\u001b[0m\u001b[0;34m\u001b[0m\u001b[0m\n\u001b[0m\u001b[1;32m     28\u001b[0m \u001b[0;34m\u001b[0m\u001b[0m\n\u001b[1;32m     29\u001b[0m \u001b[0mscrape_team_stats\u001b[0m\u001b[0;34m(\u001b[0m\u001b[0mteam_urls\u001b[0m\u001b[0;34m)\u001b[0m\u001b[0;34m\u001b[0m\u001b[0m\n",
      "\u001b[0;32m<ipython-input-233-f57e509f526d>\u001b[0m in \u001b[0;36mscrape_team_stats\u001b[0;34m(url_list)\u001b[0m\n\u001b[1;32m     25\u001b[0m         \u001b[0;32mreturn\u001b[0m \u001b[0mteam_stats\u001b[0m\u001b[0;34m\u001b[0m\u001b[0m\n\u001b[1;32m     26\u001b[0m     \u001b[0;32melse\u001b[0m\u001b[0;34m:\u001b[0m\u001b[0;34m\u001b[0m\u001b[0m\n\u001b[0;32m---> 27\u001b[0;31m         \u001b[0;32mreturn\u001b[0m \u001b[0mscrape_team_stats\u001b[0m\u001b[0;34m(\u001b[0m\u001b[0mmissed_url_list\u001b[0m\u001b[0;34m)\u001b[0m\u001b[0;34m\u001b[0m\u001b[0m\n\u001b[0m\u001b[1;32m     28\u001b[0m \u001b[0;34m\u001b[0m\u001b[0m\n\u001b[1;32m     29\u001b[0m \u001b[0mscrape_team_stats\u001b[0m\u001b[0;34m(\u001b[0m\u001b[0mteam_urls\u001b[0m\u001b[0;34m)\u001b[0m\u001b[0;34m\u001b[0m\u001b[0m\n",
      "\u001b[0;32m<ipython-input-233-f57e509f526d>\u001b[0m in \u001b[0;36mscrape_team_stats\u001b[0;34m(url_list)\u001b[0m\n\u001b[1;32m     25\u001b[0m         \u001b[0;32mreturn\u001b[0m \u001b[0mteam_stats\u001b[0m\u001b[0;34m\u001b[0m\u001b[0m\n\u001b[1;32m     26\u001b[0m     \u001b[0;32melse\u001b[0m\u001b[0;34m:\u001b[0m\u001b[0;34m\u001b[0m\u001b[0m\n\u001b[0;32m---> 27\u001b[0;31m         \u001b[0;32mreturn\u001b[0m \u001b[0mscrape_team_stats\u001b[0m\u001b[0;34m(\u001b[0m\u001b[0mmissed_url_list\u001b[0m\u001b[0;34m)\u001b[0m\u001b[0;34m\u001b[0m\u001b[0m\n\u001b[0m\u001b[1;32m     28\u001b[0m \u001b[0;34m\u001b[0m\u001b[0m\n\u001b[1;32m     29\u001b[0m \u001b[0mscrape_team_stats\u001b[0m\u001b[0;34m(\u001b[0m\u001b[0mteam_urls\u001b[0m\u001b[0;34m)\u001b[0m\u001b[0;34m\u001b[0m\u001b[0m\n",
      "\u001b[0;32m<ipython-input-233-f57e509f526d>\u001b[0m in \u001b[0;36mscrape_team_stats\u001b[0;34m(url_list)\u001b[0m\n\u001b[1;32m     25\u001b[0m         \u001b[0;32mreturn\u001b[0m \u001b[0mteam_stats\u001b[0m\u001b[0;34m\u001b[0m\u001b[0m\n\u001b[1;32m     26\u001b[0m     \u001b[0;32melse\u001b[0m\u001b[0;34m:\u001b[0m\u001b[0;34m\u001b[0m\u001b[0m\n\u001b[0;32m---> 27\u001b[0;31m         \u001b[0;32mreturn\u001b[0m \u001b[0mscrape_team_stats\u001b[0m\u001b[0;34m(\u001b[0m\u001b[0mmissed_url_list\u001b[0m\u001b[0;34m)\u001b[0m\u001b[0;34m\u001b[0m\u001b[0m\n\u001b[0m\u001b[1;32m     28\u001b[0m \u001b[0;34m\u001b[0m\u001b[0m\n\u001b[1;32m     29\u001b[0m \u001b[0mscrape_team_stats\u001b[0m\u001b[0;34m(\u001b[0m\u001b[0mteam_urls\u001b[0m\u001b[0;34m)\u001b[0m\u001b[0;34m\u001b[0m\u001b[0m\n",
      "\u001b[0;32m<ipython-input-233-f57e509f526d>\u001b[0m in \u001b[0;36mscrape_team_stats\u001b[0;34m(url_list)\u001b[0m\n\u001b[1;32m     25\u001b[0m         \u001b[0;32mreturn\u001b[0m \u001b[0mteam_stats\u001b[0m\u001b[0;34m\u001b[0m\u001b[0m\n\u001b[1;32m     26\u001b[0m     \u001b[0;32melse\u001b[0m\u001b[0;34m:\u001b[0m\u001b[0;34m\u001b[0m\u001b[0m\n\u001b[0;32m---> 27\u001b[0;31m         \u001b[0;32mreturn\u001b[0m \u001b[0mscrape_team_stats\u001b[0m\u001b[0;34m(\u001b[0m\u001b[0mmissed_url_list\u001b[0m\u001b[0;34m)\u001b[0m\u001b[0;34m\u001b[0m\u001b[0m\n\u001b[0m\u001b[1;32m     28\u001b[0m \u001b[0;34m\u001b[0m\u001b[0m\n\u001b[1;32m     29\u001b[0m \u001b[0mscrape_team_stats\u001b[0m\u001b[0;34m(\u001b[0m\u001b[0mteam_urls\u001b[0m\u001b[0;34m)\u001b[0m\u001b[0;34m\u001b[0m\u001b[0m\n",
      "\u001b[0;32m<ipython-input-233-f57e509f526d>\u001b[0m in \u001b[0;36mscrape_team_stats\u001b[0;34m(url_list)\u001b[0m\n\u001b[1;32m     25\u001b[0m         \u001b[0;32mreturn\u001b[0m \u001b[0mteam_stats\u001b[0m\u001b[0;34m\u001b[0m\u001b[0m\n\u001b[1;32m     26\u001b[0m     \u001b[0;32melse\u001b[0m\u001b[0;34m:\u001b[0m\u001b[0;34m\u001b[0m\u001b[0m\n\u001b[0;32m---> 27\u001b[0;31m         \u001b[0;32mreturn\u001b[0m \u001b[0mscrape_team_stats\u001b[0m\u001b[0;34m(\u001b[0m\u001b[0mmissed_url_list\u001b[0m\u001b[0;34m)\u001b[0m\u001b[0;34m\u001b[0m\u001b[0m\n\u001b[0m\u001b[1;32m     28\u001b[0m \u001b[0;34m\u001b[0m\u001b[0m\n\u001b[1;32m     29\u001b[0m \u001b[0mscrape_team_stats\u001b[0m\u001b[0;34m(\u001b[0m\u001b[0mteam_urls\u001b[0m\u001b[0;34m)\u001b[0m\u001b[0;34m\u001b[0m\u001b[0m\n",
      "\u001b[0;32m<ipython-input-233-f57e509f526d>\u001b[0m in \u001b[0;36mscrape_team_stats\u001b[0;34m(url_list)\u001b[0m\n\u001b[1;32m     25\u001b[0m         \u001b[0;32mreturn\u001b[0m \u001b[0mteam_stats\u001b[0m\u001b[0;34m\u001b[0m\u001b[0m\n\u001b[1;32m     26\u001b[0m     \u001b[0;32melse\u001b[0m\u001b[0;34m:\u001b[0m\u001b[0;34m\u001b[0m\u001b[0m\n\u001b[0;32m---> 27\u001b[0;31m         \u001b[0;32mreturn\u001b[0m \u001b[0mscrape_team_stats\u001b[0m\u001b[0;34m(\u001b[0m\u001b[0mmissed_url_list\u001b[0m\u001b[0;34m)\u001b[0m\u001b[0;34m\u001b[0m\u001b[0m\n\u001b[0m\u001b[1;32m     28\u001b[0m \u001b[0;34m\u001b[0m\u001b[0m\n\u001b[1;32m     29\u001b[0m \u001b[0mscrape_team_stats\u001b[0m\u001b[0;34m(\u001b[0m\u001b[0mteam_urls\u001b[0m\u001b[0;34m)\u001b[0m\u001b[0;34m\u001b[0m\u001b[0m\n",
      "\u001b[0;32m<ipython-input-233-f57e509f526d>\u001b[0m in \u001b[0;36mscrape_team_stats\u001b[0;34m(url_list)\u001b[0m\n\u001b[1;32m     25\u001b[0m         \u001b[0;32mreturn\u001b[0m \u001b[0mteam_stats\u001b[0m\u001b[0;34m\u001b[0m\u001b[0m\n\u001b[1;32m     26\u001b[0m     \u001b[0;32melse\u001b[0m\u001b[0;34m:\u001b[0m\u001b[0;34m\u001b[0m\u001b[0m\n\u001b[0;32m---> 27\u001b[0;31m         \u001b[0;32mreturn\u001b[0m \u001b[0mscrape_team_stats\u001b[0m\u001b[0;34m(\u001b[0m\u001b[0mmissed_url_list\u001b[0m\u001b[0;34m)\u001b[0m\u001b[0;34m\u001b[0m\u001b[0m\n\u001b[0m\u001b[1;32m     28\u001b[0m \u001b[0;34m\u001b[0m\u001b[0m\n\u001b[1;32m     29\u001b[0m \u001b[0mscrape_team_stats\u001b[0m\u001b[0;34m(\u001b[0m\u001b[0mteam_urls\u001b[0m\u001b[0;34m)\u001b[0m\u001b[0;34m\u001b[0m\u001b[0m\n",
      "\u001b[0;32m<ipython-input-233-f57e509f526d>\u001b[0m in \u001b[0;36mscrape_team_stats\u001b[0;34m(url_list)\u001b[0m\n\u001b[1;32m     25\u001b[0m         \u001b[0;32mreturn\u001b[0m \u001b[0mteam_stats\u001b[0m\u001b[0;34m\u001b[0m\u001b[0m\n\u001b[1;32m     26\u001b[0m     \u001b[0;32melse\u001b[0m\u001b[0;34m:\u001b[0m\u001b[0;34m\u001b[0m\u001b[0m\n\u001b[0;32m---> 27\u001b[0;31m         \u001b[0;32mreturn\u001b[0m \u001b[0mscrape_team_stats\u001b[0m\u001b[0;34m(\u001b[0m\u001b[0mmissed_url_list\u001b[0m\u001b[0;34m)\u001b[0m\u001b[0;34m\u001b[0m\u001b[0m\n\u001b[0m\u001b[1;32m     28\u001b[0m \u001b[0;34m\u001b[0m\u001b[0m\n\u001b[1;32m     29\u001b[0m \u001b[0mscrape_team_stats\u001b[0m\u001b[0;34m(\u001b[0m\u001b[0mteam_urls\u001b[0m\u001b[0;34m)\u001b[0m\u001b[0;34m\u001b[0m\u001b[0m\n",
      "\u001b[0;32m<ipython-input-233-f57e509f526d>\u001b[0m in \u001b[0;36mscrape_team_stats\u001b[0;34m(url_list)\u001b[0m\n\u001b[1;32m     25\u001b[0m         \u001b[0;32mreturn\u001b[0m \u001b[0mteam_stats\u001b[0m\u001b[0;34m\u001b[0m\u001b[0m\n\u001b[1;32m     26\u001b[0m     \u001b[0;32melse\u001b[0m\u001b[0;34m:\u001b[0m\u001b[0;34m\u001b[0m\u001b[0m\n\u001b[0;32m---> 27\u001b[0;31m         \u001b[0;32mreturn\u001b[0m \u001b[0mscrape_team_stats\u001b[0m\u001b[0;34m(\u001b[0m\u001b[0mmissed_url_list\u001b[0m\u001b[0;34m)\u001b[0m\u001b[0;34m\u001b[0m\u001b[0m\n\u001b[0m\u001b[1;32m     28\u001b[0m \u001b[0;34m\u001b[0m\u001b[0m\n\u001b[1;32m     29\u001b[0m \u001b[0mscrape_team_stats\u001b[0m\u001b[0;34m(\u001b[0m\u001b[0mteam_urls\u001b[0m\u001b[0;34m)\u001b[0m\u001b[0;34m\u001b[0m\u001b[0m\n",
      "\u001b[0;32m<ipython-input-233-f57e509f526d>\u001b[0m in \u001b[0;36mscrape_team_stats\u001b[0;34m(url_list)\u001b[0m\n\u001b[1;32m     25\u001b[0m         \u001b[0;32mreturn\u001b[0m \u001b[0mteam_stats\u001b[0m\u001b[0;34m\u001b[0m\u001b[0m\n\u001b[1;32m     26\u001b[0m     \u001b[0;32melse\u001b[0m\u001b[0;34m:\u001b[0m\u001b[0;34m\u001b[0m\u001b[0m\n\u001b[0;32m---> 27\u001b[0;31m         \u001b[0;32mreturn\u001b[0m \u001b[0mscrape_team_stats\u001b[0m\u001b[0;34m(\u001b[0m\u001b[0mmissed_url_list\u001b[0m\u001b[0;34m)\u001b[0m\u001b[0;34m\u001b[0m\u001b[0m\n\u001b[0m\u001b[1;32m     28\u001b[0m \u001b[0;34m\u001b[0m\u001b[0m\n\u001b[1;32m     29\u001b[0m \u001b[0mscrape_team_stats\u001b[0m\u001b[0;34m(\u001b[0m\u001b[0mteam_urls\u001b[0m\u001b[0;34m)\u001b[0m\u001b[0;34m\u001b[0m\u001b[0m\n",
      "\u001b[0;32m<ipython-input-233-f57e509f526d>\u001b[0m in \u001b[0;36mscrape_team_stats\u001b[0;34m(url_list)\u001b[0m\n\u001b[1;32m     25\u001b[0m         \u001b[0;32mreturn\u001b[0m \u001b[0mteam_stats\u001b[0m\u001b[0;34m\u001b[0m\u001b[0m\n\u001b[1;32m     26\u001b[0m     \u001b[0;32melse\u001b[0m\u001b[0;34m:\u001b[0m\u001b[0;34m\u001b[0m\u001b[0m\n\u001b[0;32m---> 27\u001b[0;31m         \u001b[0;32mreturn\u001b[0m \u001b[0mscrape_team_stats\u001b[0m\u001b[0;34m(\u001b[0m\u001b[0mmissed_url_list\u001b[0m\u001b[0;34m)\u001b[0m\u001b[0;34m\u001b[0m\u001b[0m\n\u001b[0m\u001b[1;32m     28\u001b[0m \u001b[0;34m\u001b[0m\u001b[0m\n\u001b[1;32m     29\u001b[0m \u001b[0mscrape_team_stats\u001b[0m\u001b[0;34m(\u001b[0m\u001b[0mteam_urls\u001b[0m\u001b[0;34m)\u001b[0m\u001b[0;34m\u001b[0m\u001b[0m\n",
      "\u001b[0;32m<ipython-input-233-f57e509f526d>\u001b[0m in \u001b[0;36mscrape_team_stats\u001b[0;34m(url_list)\u001b[0m\n\u001b[1;32m     25\u001b[0m         \u001b[0;32mreturn\u001b[0m \u001b[0mteam_stats\u001b[0m\u001b[0;34m\u001b[0m\u001b[0m\n\u001b[1;32m     26\u001b[0m     \u001b[0;32melse\u001b[0m\u001b[0;34m:\u001b[0m\u001b[0;34m\u001b[0m\u001b[0m\n\u001b[0;32m---> 27\u001b[0;31m         \u001b[0;32mreturn\u001b[0m \u001b[0mscrape_team_stats\u001b[0m\u001b[0;34m(\u001b[0m\u001b[0mmissed_url_list\u001b[0m\u001b[0;34m)\u001b[0m\u001b[0;34m\u001b[0m\u001b[0m\n\u001b[0m\u001b[1;32m     28\u001b[0m \u001b[0;34m\u001b[0m\u001b[0m\n\u001b[1;32m     29\u001b[0m \u001b[0mscrape_team_stats\u001b[0m\u001b[0;34m(\u001b[0m\u001b[0mteam_urls\u001b[0m\u001b[0;34m)\u001b[0m\u001b[0;34m\u001b[0m\u001b[0m\n",
      "\u001b[0;32m<ipython-input-233-f57e509f526d>\u001b[0m in \u001b[0;36mscrape_team_stats\u001b[0;34m(url_list)\u001b[0m\n\u001b[1;32m     25\u001b[0m         \u001b[0;32mreturn\u001b[0m \u001b[0mteam_stats\u001b[0m\u001b[0;34m\u001b[0m\u001b[0m\n\u001b[1;32m     26\u001b[0m     \u001b[0;32melse\u001b[0m\u001b[0;34m:\u001b[0m\u001b[0;34m\u001b[0m\u001b[0m\n\u001b[0;32m---> 27\u001b[0;31m         \u001b[0;32mreturn\u001b[0m \u001b[0mscrape_team_stats\u001b[0m\u001b[0;34m(\u001b[0m\u001b[0mmissed_url_list\u001b[0m\u001b[0;34m)\u001b[0m\u001b[0;34m\u001b[0m\u001b[0m\n\u001b[0m\u001b[1;32m     28\u001b[0m \u001b[0;34m\u001b[0m\u001b[0m\n\u001b[1;32m     29\u001b[0m \u001b[0mscrape_team_stats\u001b[0m\u001b[0;34m(\u001b[0m\u001b[0mteam_urls\u001b[0m\u001b[0;34m)\u001b[0m\u001b[0;34m\u001b[0m\u001b[0m\n",
      "\u001b[0;32m<ipython-input-233-f57e509f526d>\u001b[0m in \u001b[0;36mscrape_team_stats\u001b[0;34m(url_list)\u001b[0m\n\u001b[1;32m     25\u001b[0m         \u001b[0;32mreturn\u001b[0m \u001b[0mteam_stats\u001b[0m\u001b[0;34m\u001b[0m\u001b[0m\n\u001b[1;32m     26\u001b[0m     \u001b[0;32melse\u001b[0m\u001b[0;34m:\u001b[0m\u001b[0;34m\u001b[0m\u001b[0m\n\u001b[0;32m---> 27\u001b[0;31m         \u001b[0;32mreturn\u001b[0m \u001b[0mscrape_team_stats\u001b[0m\u001b[0;34m(\u001b[0m\u001b[0mmissed_url_list\u001b[0m\u001b[0;34m)\u001b[0m\u001b[0;34m\u001b[0m\u001b[0m\n\u001b[0m\u001b[1;32m     28\u001b[0m \u001b[0;34m\u001b[0m\u001b[0m\n\u001b[1;32m     29\u001b[0m \u001b[0mscrape_team_stats\u001b[0m\u001b[0;34m(\u001b[0m\u001b[0mteam_urls\u001b[0m\u001b[0;34m)\u001b[0m\u001b[0;34m\u001b[0m\u001b[0m\n",
      "\u001b[0;32m<ipython-input-233-f57e509f526d>\u001b[0m in \u001b[0;36mscrape_team_stats\u001b[0;34m(url_list)\u001b[0m\n\u001b[1;32m     25\u001b[0m         \u001b[0;32mreturn\u001b[0m \u001b[0mteam_stats\u001b[0m\u001b[0;34m\u001b[0m\u001b[0m\n\u001b[1;32m     26\u001b[0m     \u001b[0;32melse\u001b[0m\u001b[0;34m:\u001b[0m\u001b[0;34m\u001b[0m\u001b[0m\n\u001b[0;32m---> 27\u001b[0;31m         \u001b[0;32mreturn\u001b[0m \u001b[0mscrape_team_stats\u001b[0m\u001b[0;34m(\u001b[0m\u001b[0mmissed_url_list\u001b[0m\u001b[0;34m)\u001b[0m\u001b[0;34m\u001b[0m\u001b[0m\n\u001b[0m\u001b[1;32m     28\u001b[0m \u001b[0;34m\u001b[0m\u001b[0m\n\u001b[1;32m     29\u001b[0m \u001b[0mscrape_team_stats\u001b[0m\u001b[0;34m(\u001b[0m\u001b[0mteam_urls\u001b[0m\u001b[0;34m)\u001b[0m\u001b[0;34m\u001b[0m\u001b[0m\n",
      "\u001b[0;32m<ipython-input-233-f57e509f526d>\u001b[0m in \u001b[0;36mscrape_team_stats\u001b[0;34m(url_list)\u001b[0m\n\u001b[1;32m     25\u001b[0m         \u001b[0;32mreturn\u001b[0m \u001b[0mteam_stats\u001b[0m\u001b[0;34m\u001b[0m\u001b[0m\n\u001b[1;32m     26\u001b[0m     \u001b[0;32melse\u001b[0m\u001b[0;34m:\u001b[0m\u001b[0;34m\u001b[0m\u001b[0m\n\u001b[0;32m---> 27\u001b[0;31m         \u001b[0;32mreturn\u001b[0m \u001b[0mscrape_team_stats\u001b[0m\u001b[0;34m(\u001b[0m\u001b[0mmissed_url_list\u001b[0m\u001b[0;34m)\u001b[0m\u001b[0;34m\u001b[0m\u001b[0m\n\u001b[0m\u001b[1;32m     28\u001b[0m \u001b[0;34m\u001b[0m\u001b[0m\n\u001b[1;32m     29\u001b[0m \u001b[0mscrape_team_stats\u001b[0m\u001b[0;34m(\u001b[0m\u001b[0mteam_urls\u001b[0m\u001b[0;34m)\u001b[0m\u001b[0;34m\u001b[0m\u001b[0m\n",
      "\u001b[0;32m<ipython-input-233-f57e509f526d>\u001b[0m in \u001b[0;36mscrape_team_stats\u001b[0;34m(url_list)\u001b[0m\n\u001b[1;32m     25\u001b[0m         \u001b[0;32mreturn\u001b[0m \u001b[0mteam_stats\u001b[0m\u001b[0;34m\u001b[0m\u001b[0m\n\u001b[1;32m     26\u001b[0m     \u001b[0;32melse\u001b[0m\u001b[0;34m:\u001b[0m\u001b[0;34m\u001b[0m\u001b[0m\n\u001b[0;32m---> 27\u001b[0;31m         \u001b[0;32mreturn\u001b[0m \u001b[0mscrape_team_stats\u001b[0m\u001b[0;34m(\u001b[0m\u001b[0mmissed_url_list\u001b[0m\u001b[0;34m)\u001b[0m\u001b[0;34m\u001b[0m\u001b[0m\n\u001b[0m\u001b[1;32m     28\u001b[0m \u001b[0;34m\u001b[0m\u001b[0m\n\u001b[1;32m     29\u001b[0m \u001b[0mscrape_team_stats\u001b[0m\u001b[0;34m(\u001b[0m\u001b[0mteam_urls\u001b[0m\u001b[0;34m)\u001b[0m\u001b[0;34m\u001b[0m\u001b[0m\n",
      "\u001b[0;32m<ipython-input-233-f57e509f526d>\u001b[0m in \u001b[0;36mscrape_team_stats\u001b[0;34m(url_list)\u001b[0m\n\u001b[1;32m     25\u001b[0m         \u001b[0;32mreturn\u001b[0m \u001b[0mteam_stats\u001b[0m\u001b[0;34m\u001b[0m\u001b[0m\n\u001b[1;32m     26\u001b[0m     \u001b[0;32melse\u001b[0m\u001b[0;34m:\u001b[0m\u001b[0;34m\u001b[0m\u001b[0m\n\u001b[0;32m---> 27\u001b[0;31m         \u001b[0;32mreturn\u001b[0m \u001b[0mscrape_team_stats\u001b[0m\u001b[0;34m(\u001b[0m\u001b[0mmissed_url_list\u001b[0m\u001b[0;34m)\u001b[0m\u001b[0;34m\u001b[0m\u001b[0m\n\u001b[0m\u001b[1;32m     28\u001b[0m \u001b[0;34m\u001b[0m\u001b[0m\n\u001b[1;32m     29\u001b[0m \u001b[0mscrape_team_stats\u001b[0m\u001b[0;34m(\u001b[0m\u001b[0mteam_urls\u001b[0m\u001b[0;34m)\u001b[0m\u001b[0;34m\u001b[0m\u001b[0m\n",
      "\u001b[0;32m<ipython-input-233-f57e509f526d>\u001b[0m in \u001b[0;36mscrape_team_stats\u001b[0;34m(url_list)\u001b[0m\n\u001b[1;32m     25\u001b[0m         \u001b[0;32mreturn\u001b[0m \u001b[0mteam_stats\u001b[0m\u001b[0;34m\u001b[0m\u001b[0m\n\u001b[1;32m     26\u001b[0m     \u001b[0;32melse\u001b[0m\u001b[0;34m:\u001b[0m\u001b[0;34m\u001b[0m\u001b[0m\n\u001b[0;32m---> 27\u001b[0;31m         \u001b[0;32mreturn\u001b[0m \u001b[0mscrape_team_stats\u001b[0m\u001b[0;34m(\u001b[0m\u001b[0mmissed_url_list\u001b[0m\u001b[0;34m)\u001b[0m\u001b[0;34m\u001b[0m\u001b[0m\n\u001b[0m\u001b[1;32m     28\u001b[0m \u001b[0;34m\u001b[0m\u001b[0m\n\u001b[1;32m     29\u001b[0m \u001b[0mscrape_team_stats\u001b[0m\u001b[0;34m(\u001b[0m\u001b[0mteam_urls\u001b[0m\u001b[0;34m)\u001b[0m\u001b[0;34m\u001b[0m\u001b[0m\n",
      "\u001b[0;32m<ipython-input-233-f57e509f526d>\u001b[0m in \u001b[0;36mscrape_team_stats\u001b[0;34m(url_list)\u001b[0m\n\u001b[1;32m     25\u001b[0m         \u001b[0;32mreturn\u001b[0m \u001b[0mteam_stats\u001b[0m\u001b[0;34m\u001b[0m\u001b[0m\n\u001b[1;32m     26\u001b[0m     \u001b[0;32melse\u001b[0m\u001b[0;34m:\u001b[0m\u001b[0;34m\u001b[0m\u001b[0m\n\u001b[0;32m---> 27\u001b[0;31m         \u001b[0;32mreturn\u001b[0m \u001b[0mscrape_team_stats\u001b[0m\u001b[0;34m(\u001b[0m\u001b[0mmissed_url_list\u001b[0m\u001b[0;34m)\u001b[0m\u001b[0;34m\u001b[0m\u001b[0m\n\u001b[0m\u001b[1;32m     28\u001b[0m \u001b[0;34m\u001b[0m\u001b[0m\n\u001b[1;32m     29\u001b[0m \u001b[0mscrape_team_stats\u001b[0m\u001b[0;34m(\u001b[0m\u001b[0mteam_urls\u001b[0m\u001b[0;34m)\u001b[0m\u001b[0;34m\u001b[0m\u001b[0m\n",
      "\u001b[0;32m<ipython-input-233-f57e509f526d>\u001b[0m in \u001b[0;36mscrape_team_stats\u001b[0;34m(url_list)\u001b[0m\n\u001b[1;32m     25\u001b[0m         \u001b[0;32mreturn\u001b[0m \u001b[0mteam_stats\u001b[0m\u001b[0;34m\u001b[0m\u001b[0m\n\u001b[1;32m     26\u001b[0m     \u001b[0;32melse\u001b[0m\u001b[0;34m:\u001b[0m\u001b[0;34m\u001b[0m\u001b[0m\n\u001b[0;32m---> 27\u001b[0;31m         \u001b[0;32mreturn\u001b[0m \u001b[0mscrape_team_stats\u001b[0m\u001b[0;34m(\u001b[0m\u001b[0mmissed_url_list\u001b[0m\u001b[0;34m)\u001b[0m\u001b[0;34m\u001b[0m\u001b[0m\n\u001b[0m\u001b[1;32m     28\u001b[0m \u001b[0;34m\u001b[0m\u001b[0m\n\u001b[1;32m     29\u001b[0m \u001b[0mscrape_team_stats\u001b[0m\u001b[0;34m(\u001b[0m\u001b[0mteam_urls\u001b[0m\u001b[0;34m)\u001b[0m\u001b[0;34m\u001b[0m\u001b[0m\n",
      "\u001b[0;32m<ipython-input-233-f57e509f526d>\u001b[0m in \u001b[0;36mscrape_team_stats\u001b[0;34m(url_list)\u001b[0m\n\u001b[1;32m     25\u001b[0m         \u001b[0;32mreturn\u001b[0m \u001b[0mteam_stats\u001b[0m\u001b[0;34m\u001b[0m\u001b[0m\n\u001b[1;32m     26\u001b[0m     \u001b[0;32melse\u001b[0m\u001b[0;34m:\u001b[0m\u001b[0;34m\u001b[0m\u001b[0m\n\u001b[0;32m---> 27\u001b[0;31m         \u001b[0;32mreturn\u001b[0m \u001b[0mscrape_team_stats\u001b[0m\u001b[0;34m(\u001b[0m\u001b[0mmissed_url_list\u001b[0m\u001b[0;34m)\u001b[0m\u001b[0;34m\u001b[0m\u001b[0m\n\u001b[0m\u001b[1;32m     28\u001b[0m \u001b[0;34m\u001b[0m\u001b[0m\n\u001b[1;32m     29\u001b[0m \u001b[0mscrape_team_stats\u001b[0m\u001b[0;34m(\u001b[0m\u001b[0mteam_urls\u001b[0m\u001b[0;34m)\u001b[0m\u001b[0;34m\u001b[0m\u001b[0m\n",
      "\u001b[0;32m<ipython-input-233-f57e509f526d>\u001b[0m in \u001b[0;36mscrape_team_stats\u001b[0;34m(url_list)\u001b[0m\n\u001b[1;32m     25\u001b[0m         \u001b[0;32mreturn\u001b[0m \u001b[0mteam_stats\u001b[0m\u001b[0;34m\u001b[0m\u001b[0m\n\u001b[1;32m     26\u001b[0m     \u001b[0;32melse\u001b[0m\u001b[0;34m:\u001b[0m\u001b[0;34m\u001b[0m\u001b[0m\n\u001b[0;32m---> 27\u001b[0;31m         \u001b[0;32mreturn\u001b[0m \u001b[0mscrape_team_stats\u001b[0m\u001b[0;34m(\u001b[0m\u001b[0mmissed_url_list\u001b[0m\u001b[0;34m)\u001b[0m\u001b[0;34m\u001b[0m\u001b[0m\n\u001b[0m\u001b[1;32m     28\u001b[0m \u001b[0;34m\u001b[0m\u001b[0m\n\u001b[1;32m     29\u001b[0m \u001b[0mscrape_team_stats\u001b[0m\u001b[0;34m(\u001b[0m\u001b[0mteam_urls\u001b[0m\u001b[0;34m)\u001b[0m\u001b[0;34m\u001b[0m\u001b[0m\n",
      "\u001b[0;32m<ipython-input-233-f57e509f526d>\u001b[0m in \u001b[0;36mscrape_team_stats\u001b[0;34m(url_list)\u001b[0m\n\u001b[1;32m     25\u001b[0m         \u001b[0;32mreturn\u001b[0m \u001b[0mteam_stats\u001b[0m\u001b[0;34m\u001b[0m\u001b[0m\n\u001b[1;32m     26\u001b[0m     \u001b[0;32melse\u001b[0m\u001b[0;34m:\u001b[0m\u001b[0;34m\u001b[0m\u001b[0m\n\u001b[0;32m---> 27\u001b[0;31m         \u001b[0;32mreturn\u001b[0m \u001b[0mscrape_team_stats\u001b[0m\u001b[0;34m(\u001b[0m\u001b[0mmissed_url_list\u001b[0m\u001b[0;34m)\u001b[0m\u001b[0;34m\u001b[0m\u001b[0m\n\u001b[0m\u001b[1;32m     28\u001b[0m \u001b[0;34m\u001b[0m\u001b[0m\n\u001b[1;32m     29\u001b[0m \u001b[0mscrape_team_stats\u001b[0m\u001b[0;34m(\u001b[0m\u001b[0mteam_urls\u001b[0m\u001b[0;34m)\u001b[0m\u001b[0;34m\u001b[0m\u001b[0m\n",
      "\u001b[0;32m<ipython-input-233-f57e509f526d>\u001b[0m in \u001b[0;36mscrape_team_stats\u001b[0;34m(url_list)\u001b[0m\n\u001b[1;32m     25\u001b[0m         \u001b[0;32mreturn\u001b[0m \u001b[0mteam_stats\u001b[0m\u001b[0;34m\u001b[0m\u001b[0m\n\u001b[1;32m     26\u001b[0m     \u001b[0;32melse\u001b[0m\u001b[0;34m:\u001b[0m\u001b[0;34m\u001b[0m\u001b[0m\n\u001b[0;32m---> 27\u001b[0;31m         \u001b[0;32mreturn\u001b[0m \u001b[0mscrape_team_stats\u001b[0m\u001b[0;34m(\u001b[0m\u001b[0mmissed_url_list\u001b[0m\u001b[0;34m)\u001b[0m\u001b[0;34m\u001b[0m\u001b[0m\n\u001b[0m\u001b[1;32m     28\u001b[0m \u001b[0;34m\u001b[0m\u001b[0m\n\u001b[1;32m     29\u001b[0m \u001b[0mscrape_team_stats\u001b[0m\u001b[0;34m(\u001b[0m\u001b[0mteam_urls\u001b[0m\u001b[0;34m)\u001b[0m\u001b[0;34m\u001b[0m\u001b[0m\n",
      "\u001b[0;32m<ipython-input-233-f57e509f526d>\u001b[0m in \u001b[0;36mscrape_team_stats\u001b[0;34m(url_list)\u001b[0m\n\u001b[1;32m     25\u001b[0m         \u001b[0;32mreturn\u001b[0m \u001b[0mteam_stats\u001b[0m\u001b[0;34m\u001b[0m\u001b[0m\n\u001b[1;32m     26\u001b[0m     \u001b[0;32melse\u001b[0m\u001b[0;34m:\u001b[0m\u001b[0;34m\u001b[0m\u001b[0m\n\u001b[0;32m---> 27\u001b[0;31m         \u001b[0;32mreturn\u001b[0m \u001b[0mscrape_team_stats\u001b[0m\u001b[0;34m(\u001b[0m\u001b[0mmissed_url_list\u001b[0m\u001b[0;34m)\u001b[0m\u001b[0;34m\u001b[0m\u001b[0m\n\u001b[0m\u001b[1;32m     28\u001b[0m \u001b[0;34m\u001b[0m\u001b[0m\n\u001b[1;32m     29\u001b[0m \u001b[0mscrape_team_stats\u001b[0m\u001b[0;34m(\u001b[0m\u001b[0mteam_urls\u001b[0m\u001b[0;34m)\u001b[0m\u001b[0;34m\u001b[0m\u001b[0m\n",
      "\u001b[0;32m<ipython-input-233-f57e509f526d>\u001b[0m in \u001b[0;36mscrape_team_stats\u001b[0;34m(url_list)\u001b[0m\n\u001b[1;32m     25\u001b[0m         \u001b[0;32mreturn\u001b[0m \u001b[0mteam_stats\u001b[0m\u001b[0;34m\u001b[0m\u001b[0m\n\u001b[1;32m     26\u001b[0m     \u001b[0;32melse\u001b[0m\u001b[0;34m:\u001b[0m\u001b[0;34m\u001b[0m\u001b[0m\n\u001b[0;32m---> 27\u001b[0;31m         \u001b[0;32mreturn\u001b[0m \u001b[0mscrape_team_stats\u001b[0m\u001b[0;34m(\u001b[0m\u001b[0mmissed_url_list\u001b[0m\u001b[0;34m)\u001b[0m\u001b[0;34m\u001b[0m\u001b[0m\n\u001b[0m\u001b[1;32m     28\u001b[0m \u001b[0;34m\u001b[0m\u001b[0m\n\u001b[1;32m     29\u001b[0m \u001b[0mscrape_team_stats\u001b[0m\u001b[0;34m(\u001b[0m\u001b[0mteam_urls\u001b[0m\u001b[0;34m)\u001b[0m\u001b[0;34m\u001b[0m\u001b[0m\n",
      "\u001b[0;32m<ipython-input-233-f57e509f526d>\u001b[0m in \u001b[0;36mscrape_team_stats\u001b[0;34m(url_list)\u001b[0m\n\u001b[1;32m     25\u001b[0m         \u001b[0;32mreturn\u001b[0m \u001b[0mteam_stats\u001b[0m\u001b[0;34m\u001b[0m\u001b[0m\n\u001b[1;32m     26\u001b[0m     \u001b[0;32melse\u001b[0m\u001b[0;34m:\u001b[0m\u001b[0;34m\u001b[0m\u001b[0m\n\u001b[0;32m---> 27\u001b[0;31m         \u001b[0;32mreturn\u001b[0m \u001b[0mscrape_team_stats\u001b[0m\u001b[0;34m(\u001b[0m\u001b[0mmissed_url_list\u001b[0m\u001b[0;34m)\u001b[0m\u001b[0;34m\u001b[0m\u001b[0m\n\u001b[0m\u001b[1;32m     28\u001b[0m \u001b[0;34m\u001b[0m\u001b[0m\n\u001b[1;32m     29\u001b[0m \u001b[0mscrape_team_stats\u001b[0m\u001b[0;34m(\u001b[0m\u001b[0mteam_urls\u001b[0m\u001b[0;34m)\u001b[0m\u001b[0;34m\u001b[0m\u001b[0m\n",
      "\u001b[0;32m<ipython-input-233-f57e509f526d>\u001b[0m in \u001b[0;36mscrape_team_stats\u001b[0;34m(url_list)\u001b[0m\n\u001b[1;32m      8\u001b[0m             \u001b[0mstat_values\u001b[0m \u001b[0;34m=\u001b[0m \u001b[0;34m[\u001b[0m\u001b[0;34m]\u001b[0m\u001b[0;34m\u001b[0m\u001b[0m\n\u001b[1;32m      9\u001b[0m \u001b[0;34m\u001b[0m\u001b[0m\n\u001b[0;32m---> 10\u001b[0;31m             \u001b[0msoup\u001b[0m \u001b[0;34m=\u001b[0m \u001b[0mBeautifulSoup\u001b[0m\u001b[0;34m(\u001b[0m\u001b[0mrequests\u001b[0m\u001b[0;34m.\u001b[0m\u001b[0mget\u001b[0m\u001b[0;34m(\u001b[0m\u001b[0mteam\u001b[0m\u001b[0;34m)\u001b[0m\u001b[0;34m.\u001b[0m\u001b[0mcontent\u001b[0m\u001b[0;34m,\u001b[0m \u001b[0;34m'html.parser'\u001b[0m\u001b[0;34m)\u001b[0m\u001b[0;34m\u001b[0m\u001b[0m\n\u001b[0m\u001b[1;32m     11\u001b[0m \u001b[0;34m\u001b[0m\u001b[0m\n\u001b[1;32m     12\u001b[0m             \u001b[0;32mfor\u001b[0m \u001b[0mi\u001b[0m\u001b[0;34m,\u001b[0m \u001b[0mx\u001b[0m \u001b[0;32min\u001b[0m \u001b[0menumerate\u001b[0m\u001b[0;34m(\u001b[0m\u001b[0msoup\u001b[0m\u001b[0;34m.\u001b[0m\u001b[0mfind_all\u001b[0m\u001b[0;34m(\u001b[0m\u001b[0;34m'td'\u001b[0m\u001b[0;34m,\u001b[0m \u001b[0;34m{\u001b[0m\u001b[0;34m'align'\u001b[0m\u001b[0;34m:\u001b[0m \u001b[0;34m'right'\u001b[0m\u001b[0;34m}\u001b[0m\u001b[0;34m)\u001b[0m\u001b[0;34m)\u001b[0m\u001b[0;34m:\u001b[0m\u001b[0;34m\u001b[0m\u001b[0m\n",
      "\u001b[0;32m/anaconda3/lib/python3.6/site-packages/requests/api.py\u001b[0m in \u001b[0;36mget\u001b[0;34m(url, params, **kwargs)\u001b[0m\n\u001b[1;32m     70\u001b[0m \u001b[0;34m\u001b[0m\u001b[0m\n\u001b[1;32m     71\u001b[0m     \u001b[0mkwargs\u001b[0m\u001b[0;34m.\u001b[0m\u001b[0msetdefault\u001b[0m\u001b[0;34m(\u001b[0m\u001b[0;34m'allow_redirects'\u001b[0m\u001b[0;34m,\u001b[0m \u001b[0;32mTrue\u001b[0m\u001b[0;34m)\u001b[0m\u001b[0;34m\u001b[0m\u001b[0m\n\u001b[0;32m---> 72\u001b[0;31m     \u001b[0;32mreturn\u001b[0m \u001b[0mrequest\u001b[0m\u001b[0;34m(\u001b[0m\u001b[0;34m'get'\u001b[0m\u001b[0;34m,\u001b[0m \u001b[0murl\u001b[0m\u001b[0;34m,\u001b[0m \u001b[0mparams\u001b[0m\u001b[0;34m=\u001b[0m\u001b[0mparams\u001b[0m\u001b[0;34m,\u001b[0m \u001b[0;34m**\u001b[0m\u001b[0mkwargs\u001b[0m\u001b[0;34m)\u001b[0m\u001b[0;34m\u001b[0m\u001b[0m\n\u001b[0m\u001b[1;32m     73\u001b[0m \u001b[0;34m\u001b[0m\u001b[0m\n\u001b[1;32m     74\u001b[0m \u001b[0;34m\u001b[0m\u001b[0m\n",
      "\u001b[0;32m/anaconda3/lib/python3.6/site-packages/requests/api.py\u001b[0m in \u001b[0;36mrequest\u001b[0;34m(method, url, **kwargs)\u001b[0m\n\u001b[1;32m     56\u001b[0m     \u001b[0;31m# cases, and look like a memory leak in others.\u001b[0m\u001b[0;34m\u001b[0m\u001b[0;34m\u001b[0m\u001b[0m\n\u001b[1;32m     57\u001b[0m     \u001b[0;32mwith\u001b[0m \u001b[0msessions\u001b[0m\u001b[0;34m.\u001b[0m\u001b[0mSession\u001b[0m\u001b[0;34m(\u001b[0m\u001b[0;34m)\u001b[0m \u001b[0;32mas\u001b[0m \u001b[0msession\u001b[0m\u001b[0;34m:\u001b[0m\u001b[0;34m\u001b[0m\u001b[0m\n\u001b[0;32m---> 58\u001b[0;31m         \u001b[0;32mreturn\u001b[0m \u001b[0msession\u001b[0m\u001b[0;34m.\u001b[0m\u001b[0mrequest\u001b[0m\u001b[0;34m(\u001b[0m\u001b[0mmethod\u001b[0m\u001b[0;34m=\u001b[0m\u001b[0mmethod\u001b[0m\u001b[0;34m,\u001b[0m \u001b[0murl\u001b[0m\u001b[0;34m=\u001b[0m\u001b[0murl\u001b[0m\u001b[0;34m,\u001b[0m \u001b[0;34m**\u001b[0m\u001b[0mkwargs\u001b[0m\u001b[0;34m)\u001b[0m\u001b[0;34m\u001b[0m\u001b[0m\n\u001b[0m\u001b[1;32m     59\u001b[0m \u001b[0;34m\u001b[0m\u001b[0m\n\u001b[1;32m     60\u001b[0m \u001b[0;34m\u001b[0m\u001b[0m\n",
      "\u001b[0;32m/anaconda3/lib/python3.6/site-packages/requests/sessions.py\u001b[0m in \u001b[0;36mrequest\u001b[0;34m(self, method, url, params, data, headers, cookies, files, auth, timeout, allow_redirects, proxies, hooks, stream, verify, cert, json)\u001b[0m\n\u001b[1;32m    506\u001b[0m         }\n\u001b[1;32m    507\u001b[0m         \u001b[0msend_kwargs\u001b[0m\u001b[0;34m.\u001b[0m\u001b[0mupdate\u001b[0m\u001b[0;34m(\u001b[0m\u001b[0msettings\u001b[0m\u001b[0;34m)\u001b[0m\u001b[0;34m\u001b[0m\u001b[0m\n\u001b[0;32m--> 508\u001b[0;31m         \u001b[0mresp\u001b[0m \u001b[0;34m=\u001b[0m \u001b[0mself\u001b[0m\u001b[0;34m.\u001b[0m\u001b[0msend\u001b[0m\u001b[0;34m(\u001b[0m\u001b[0mprep\u001b[0m\u001b[0;34m,\u001b[0m \u001b[0;34m**\u001b[0m\u001b[0msend_kwargs\u001b[0m\u001b[0;34m)\u001b[0m\u001b[0;34m\u001b[0m\u001b[0m\n\u001b[0m\u001b[1;32m    509\u001b[0m \u001b[0;34m\u001b[0m\u001b[0m\n\u001b[1;32m    510\u001b[0m         \u001b[0;32mreturn\u001b[0m \u001b[0mresp\u001b[0m\u001b[0;34m\u001b[0m\u001b[0m\n",
      "\u001b[0;32m/anaconda3/lib/python3.6/site-packages/requests/sessions.py\u001b[0m in \u001b[0;36msend\u001b[0;34m(self, request, **kwargs)\u001b[0m\n\u001b[1;32m    616\u001b[0m \u001b[0;34m\u001b[0m\u001b[0m\n\u001b[1;32m    617\u001b[0m         \u001b[0;31m# Send the request\u001b[0m\u001b[0;34m\u001b[0m\u001b[0;34m\u001b[0m\u001b[0m\n\u001b[0;32m--> 618\u001b[0;31m         \u001b[0mr\u001b[0m \u001b[0;34m=\u001b[0m \u001b[0madapter\u001b[0m\u001b[0;34m.\u001b[0m\u001b[0msend\u001b[0m\u001b[0;34m(\u001b[0m\u001b[0mrequest\u001b[0m\u001b[0;34m,\u001b[0m \u001b[0;34m**\u001b[0m\u001b[0mkwargs\u001b[0m\u001b[0;34m)\u001b[0m\u001b[0;34m\u001b[0m\u001b[0m\n\u001b[0m\u001b[1;32m    619\u001b[0m \u001b[0;34m\u001b[0m\u001b[0m\n\u001b[1;32m    620\u001b[0m         \u001b[0;31m# Total elapsed time of the request (approximately)\u001b[0m\u001b[0;34m\u001b[0m\u001b[0;34m\u001b[0m\u001b[0m\n",
      "\u001b[0;32m/anaconda3/lib/python3.6/site-packages/requests/adapters.py\u001b[0m in \u001b[0;36msend\u001b[0;34m(self, request, stream, timeout, verify, cert, proxies)\u001b[0m\n\u001b[1;32m    438\u001b[0m                     \u001b[0mdecode_content\u001b[0m\u001b[0;34m=\u001b[0m\u001b[0;32mFalse\u001b[0m\u001b[0;34m,\u001b[0m\u001b[0;34m\u001b[0m\u001b[0m\n\u001b[1;32m    439\u001b[0m                     \u001b[0mretries\u001b[0m\u001b[0;34m=\u001b[0m\u001b[0mself\u001b[0m\u001b[0;34m.\u001b[0m\u001b[0mmax_retries\u001b[0m\u001b[0;34m,\u001b[0m\u001b[0;34m\u001b[0m\u001b[0m\n\u001b[0;32m--> 440\u001b[0;31m                     \u001b[0mtimeout\u001b[0m\u001b[0;34m=\u001b[0m\u001b[0mtimeout\u001b[0m\u001b[0;34m\u001b[0m\u001b[0m\n\u001b[0m\u001b[1;32m    441\u001b[0m                 )\n\u001b[1;32m    442\u001b[0m \u001b[0;34m\u001b[0m\u001b[0m\n",
      "\u001b[0;32m/anaconda3/lib/python3.6/site-packages/urllib3/connectionpool.py\u001b[0m in \u001b[0;36murlopen\u001b[0;34m(self, method, url, body, headers, retries, redirect, assert_same_host, timeout, pool_timeout, release_conn, chunked, body_pos, **response_kw)\u001b[0m\n\u001b[1;32m    599\u001b[0m                                                   \u001b[0mtimeout\u001b[0m\u001b[0;34m=\u001b[0m\u001b[0mtimeout_obj\u001b[0m\u001b[0;34m,\u001b[0m\u001b[0;34m\u001b[0m\u001b[0m\n\u001b[1;32m    600\u001b[0m                                                   \u001b[0mbody\u001b[0m\u001b[0;34m=\u001b[0m\u001b[0mbody\u001b[0m\u001b[0;34m,\u001b[0m \u001b[0mheaders\u001b[0m\u001b[0;34m=\u001b[0m\u001b[0mheaders\u001b[0m\u001b[0;34m,\u001b[0m\u001b[0;34m\u001b[0m\u001b[0m\n\u001b[0;32m--> 601\u001b[0;31m                                                   chunked=chunked)\n\u001b[0m\u001b[1;32m    602\u001b[0m \u001b[0;34m\u001b[0m\u001b[0m\n\u001b[1;32m    603\u001b[0m             \u001b[0;31m# If we're going to release the connection in ``finally:``, then\u001b[0m\u001b[0;34m\u001b[0m\u001b[0;34m\u001b[0m\u001b[0m\n",
      "\u001b[0;32m/anaconda3/lib/python3.6/site-packages/urllib3/connectionpool.py\u001b[0m in \u001b[0;36m_make_request\u001b[0;34m(self, conn, method, url, timeout, chunked, **httplib_request_kw)\u001b[0m\n\u001b[1;32m    381\u001b[0m             \u001b[0;32mexcept\u001b[0m \u001b[0mTypeError\u001b[0m\u001b[0;34m:\u001b[0m  \u001b[0;31m# Python 2.6 and older, Python 3\u001b[0m\u001b[0;34m\u001b[0m\u001b[0m\n\u001b[1;32m    382\u001b[0m                 \u001b[0;32mtry\u001b[0m\u001b[0;34m:\u001b[0m\u001b[0;34m\u001b[0m\u001b[0m\n\u001b[0;32m--> 383\u001b[0;31m                     \u001b[0mhttplib_response\u001b[0m \u001b[0;34m=\u001b[0m \u001b[0mconn\u001b[0m\u001b[0;34m.\u001b[0m\u001b[0mgetresponse\u001b[0m\u001b[0;34m(\u001b[0m\u001b[0;34m)\u001b[0m\u001b[0;34m\u001b[0m\u001b[0m\n\u001b[0m\u001b[1;32m    384\u001b[0m                 \u001b[0;32mexcept\u001b[0m \u001b[0mException\u001b[0m \u001b[0;32mas\u001b[0m \u001b[0me\u001b[0m\u001b[0;34m:\u001b[0m\u001b[0;34m\u001b[0m\u001b[0m\n\u001b[1;32m    385\u001b[0m                     \u001b[0;31m# Remove the TypeError from the exception chain in Python 3;\u001b[0m\u001b[0;34m\u001b[0m\u001b[0;34m\u001b[0m\u001b[0m\n",
      "\u001b[0;32m/anaconda3/lib/python3.6/http/client.py\u001b[0m in \u001b[0;36mgetresponse\u001b[0;34m(self)\u001b[0m\n\u001b[1;32m   1329\u001b[0m         \u001b[0;32mtry\u001b[0m\u001b[0;34m:\u001b[0m\u001b[0;34m\u001b[0m\u001b[0m\n\u001b[1;32m   1330\u001b[0m             \u001b[0;32mtry\u001b[0m\u001b[0;34m:\u001b[0m\u001b[0;34m\u001b[0m\u001b[0m\n\u001b[0;32m-> 1331\u001b[0;31m                 \u001b[0mresponse\u001b[0m\u001b[0;34m.\u001b[0m\u001b[0mbegin\u001b[0m\u001b[0;34m(\u001b[0m\u001b[0;34m)\u001b[0m\u001b[0;34m\u001b[0m\u001b[0m\n\u001b[0m\u001b[1;32m   1332\u001b[0m             \u001b[0;32mexcept\u001b[0m \u001b[0mConnectionError\u001b[0m\u001b[0;34m:\u001b[0m\u001b[0;34m\u001b[0m\u001b[0m\n\u001b[1;32m   1333\u001b[0m                 \u001b[0mself\u001b[0m\u001b[0;34m.\u001b[0m\u001b[0mclose\u001b[0m\u001b[0;34m(\u001b[0m\u001b[0;34m)\u001b[0m\u001b[0;34m\u001b[0m\u001b[0m\n",
      "\u001b[0;32m/anaconda3/lib/python3.6/http/client.py\u001b[0m in \u001b[0;36mbegin\u001b[0;34m(self)\u001b[0m\n\u001b[1;32m    295\u001b[0m         \u001b[0;31m# read until we get a non-100 response\u001b[0m\u001b[0;34m\u001b[0m\u001b[0;34m\u001b[0m\u001b[0m\n\u001b[1;32m    296\u001b[0m         \u001b[0;32mwhile\u001b[0m \u001b[0;32mTrue\u001b[0m\u001b[0;34m:\u001b[0m\u001b[0;34m\u001b[0m\u001b[0m\n\u001b[0;32m--> 297\u001b[0;31m             \u001b[0mversion\u001b[0m\u001b[0;34m,\u001b[0m \u001b[0mstatus\u001b[0m\u001b[0;34m,\u001b[0m \u001b[0mreason\u001b[0m \u001b[0;34m=\u001b[0m \u001b[0mself\u001b[0m\u001b[0;34m.\u001b[0m\u001b[0m_read_status\u001b[0m\u001b[0;34m(\u001b[0m\u001b[0;34m)\u001b[0m\u001b[0;34m\u001b[0m\u001b[0m\n\u001b[0m\u001b[1;32m    298\u001b[0m             \u001b[0;32mif\u001b[0m \u001b[0mstatus\u001b[0m \u001b[0;34m!=\u001b[0m \u001b[0mCONTINUE\u001b[0m\u001b[0;34m:\u001b[0m\u001b[0;34m\u001b[0m\u001b[0m\n\u001b[1;32m    299\u001b[0m                 \u001b[0;32mbreak\u001b[0m\u001b[0;34m\u001b[0m\u001b[0m\n",
      "\u001b[0;32m/anaconda3/lib/python3.6/http/client.py\u001b[0m in \u001b[0;36m_read_status\u001b[0;34m(self)\u001b[0m\n\u001b[1;32m    256\u001b[0m \u001b[0;34m\u001b[0m\u001b[0m\n\u001b[1;32m    257\u001b[0m     \u001b[0;32mdef\u001b[0m \u001b[0m_read_status\u001b[0m\u001b[0;34m(\u001b[0m\u001b[0mself\u001b[0m\u001b[0;34m)\u001b[0m\u001b[0;34m:\u001b[0m\u001b[0;34m\u001b[0m\u001b[0m\n\u001b[0;32m--> 258\u001b[0;31m         \u001b[0mline\u001b[0m \u001b[0;34m=\u001b[0m \u001b[0mstr\u001b[0m\u001b[0;34m(\u001b[0m\u001b[0mself\u001b[0m\u001b[0;34m.\u001b[0m\u001b[0mfp\u001b[0m\u001b[0;34m.\u001b[0m\u001b[0mreadline\u001b[0m\u001b[0;34m(\u001b[0m\u001b[0m_MAXLINE\u001b[0m \u001b[0;34m+\u001b[0m \u001b[0;36m1\u001b[0m\u001b[0;34m)\u001b[0m\u001b[0;34m,\u001b[0m \u001b[0;34m\"iso-8859-1\"\u001b[0m\u001b[0;34m)\u001b[0m\u001b[0;34m\u001b[0m\u001b[0m\n\u001b[0m\u001b[1;32m    259\u001b[0m         \u001b[0;32mif\u001b[0m \u001b[0mlen\u001b[0m\u001b[0;34m(\u001b[0m\u001b[0mline\u001b[0m\u001b[0;34m)\u001b[0m \u001b[0;34m>\u001b[0m \u001b[0m_MAXLINE\u001b[0m\u001b[0;34m:\u001b[0m\u001b[0;34m\u001b[0m\u001b[0m\n\u001b[1;32m    260\u001b[0m             \u001b[0;32mraise\u001b[0m \u001b[0mLineTooLong\u001b[0m\u001b[0;34m(\u001b[0m\u001b[0;34m\"status line\"\u001b[0m\u001b[0;34m)\u001b[0m\u001b[0;34m\u001b[0m\u001b[0m\n",
      "\u001b[0;32m/anaconda3/lib/python3.6/socket.py\u001b[0m in \u001b[0;36mreadinto\u001b[0;34m(self, b)\u001b[0m\n\u001b[1;32m    584\u001b[0m         \u001b[0;32mwhile\u001b[0m \u001b[0;32mTrue\u001b[0m\u001b[0;34m:\u001b[0m\u001b[0;34m\u001b[0m\u001b[0m\n\u001b[1;32m    585\u001b[0m             \u001b[0;32mtry\u001b[0m\u001b[0;34m:\u001b[0m\u001b[0;34m\u001b[0m\u001b[0m\n\u001b[0;32m--> 586\u001b[0;31m                 \u001b[0;32mreturn\u001b[0m \u001b[0mself\u001b[0m\u001b[0;34m.\u001b[0m\u001b[0m_sock\u001b[0m\u001b[0;34m.\u001b[0m\u001b[0mrecv_into\u001b[0m\u001b[0;34m(\u001b[0m\u001b[0mb\u001b[0m\u001b[0;34m)\u001b[0m\u001b[0;34m\u001b[0m\u001b[0m\n\u001b[0m\u001b[1;32m    587\u001b[0m             \u001b[0;32mexcept\u001b[0m \u001b[0mtimeout\u001b[0m\u001b[0;34m:\u001b[0m\u001b[0;34m\u001b[0m\u001b[0m\n\u001b[1;32m    588\u001b[0m                 \u001b[0mself\u001b[0m\u001b[0;34m.\u001b[0m\u001b[0m_timeout_occurred\u001b[0m \u001b[0;34m=\u001b[0m \u001b[0;32mTrue\u001b[0m\u001b[0;34m\u001b[0m\u001b[0m\n",
      "\u001b[0;31mKeyboardInterrupt\u001b[0m: "
     ]
    }
   ],
   "source": [
    "team_stats = []\n",
    "\n",
    "# starting_url = 'http://stats.ncaa.org/team/inst_team_list?academic_year=2017&conf_id=-1&division=1&sport_code=MBB'\n",
    "\n",
    "def scrape_team_stats(url_list):\n",
    "    missed_url_list = []\n",
    "    for team in url_list:\n",
    "        \n",
    "        stat_values = []\n",
    "\n",
    "        soup = BeautifulSoup(requests.get(team).content, 'html.parser')\n",
    "\n",
    "        for i, x in enumerate(soup.find_all('td', {'align': 'right'})):\n",
    "            if i % 2 != 0:\n",
    "                stat_values.append(x.text)\n",
    "                stat_values = [num.replace(\" \", \"\") for num in stat_values]\n",
    "                stat_values = [num.replace('\\n', '') for num in stat_values]\n",
    "\n",
    "        if stat_values != []:\n",
    "            stat_values.append(team)\n",
    "            team_stats.append(stat_values)\n",
    "        else:\n",
    "            missed_url_list.append(team)\n",
    "                \n",
    "    if len(missed_url_list) == 0:\n",
    "        return team_stats\n",
    "    else:\n",
    "        return scrape_team_stats(missed_url_list)\n",
    "            \n",
    "scrape_team_stats(team_urls)"
   ]
  },
  {
   "cell_type": "markdown",
   "metadata": {},
   "source": [
    "**Don't forget to make a \"difficulty by seed\" feature!!!**\n",
    "\n",
    "Very interesting to think about the difficulty of the path to the final that way, though I would've probably tried to weigh it by the probability that your team will face that seed in the next round instead of just assuming you will face the higher seed.\n",
    "\n",
    "i mean use bayes - instead of saying the 5 auto plays the 4 next round say they get 12*probability 5 will win + 5* probability 12 will win"
   ]
  },
  {
   "cell_type": "code",
   "execution_count": null,
   "metadata": {},
   "outputs": [],
   "source": []
  }
 ],
 "metadata": {
  "kernelspec": {
   "display_name": "Python 3",
   "language": "python",
   "name": "python3"
  },
  "language_info": {
   "codemirror_mode": {
    "name": "ipython",
    "version": 3
   },
   "file_extension": ".py",
   "mimetype": "text/x-python",
   "name": "python",
   "nbconvert_exporter": "python",
   "pygments_lexer": "ipython3",
   "version": "3.6.3"
  }
 },
 "nbformat": 4,
 "nbformat_minor": 2
}
